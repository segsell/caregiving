{
 "cells": [
  {
   "cell_type": "code",
   "execution_count": 2,
   "id": "5c0fabf0",
   "metadata": {},
   "outputs": [],
   "source": [
    "import numpy as np\n",
    "import jax.numpy as jnp\n",
    "import jax\n",
    "from itertools import product\n",
    "\n",
    "\n",
    "from typing import Dict\n",
    "from typing import Tuple"
   ]
  },
  {
   "cell_type": "markdown",
   "id": "0a160d86",
   "metadata": {},
   "source": [
    "# 1. State Space"
   ]
  },
  {
   "cell_type": "code",
   "execution_count": null,
   "id": "0a98842b",
   "metadata": {},
   "outputs": [],
   "source": [
    "def create_state_space(options: Dict[str, int]) -> Tuple[np.ndarray, np.ndarray]:\n",
    "    n_periods = options[\"n_periods\"]\n",
    "    n_lagged_choices = options[\n",
    "        \"n_discrete_choices\"\n",
    "    ]  # lagged_choice is a state variable\n",
    "    n_exog_states = options[\"n_exog_states\"]\n",
    "\n",
    "    full_time_wage_offer = [\"n_discrete_choices\"]\n",
    "    part_time_wage_offer = [\"n_discrete_choices\"]\n",
    "    care_demand_probability = [\"n_discrete_choices\"]\n",
    "\n",
    "    n_married = [\"n_discrete_choices\"]\n",
    "    n_mother_alive = [\"n_discrete_choices\"]\n",
    "    n_father_alive = [\"n_discrete_choices\"]\n",
    "    n_mother_age = [\"n_discrete_choices\"]\n",
    "    n_father_age = [\"n_discrete_choices\"]\n",
    "    n_mother_health = [\"n_discrete_choices\"]\n",
    "    n_father_health = [\"n_discrete_choices\"]\n",
    "    n_dist_to_parents = [\"n_discrete_choices\"]\n",
    "    n_sibling_present = [\"n_discrete_choices\"]  # or sister only\n",
    "\n",
    "    shape = (\n",
    "        n_periods,\n",
    "        n_married,\n",
    "        n_mother_alive,\n",
    "        n_mother_age,\n",
    "        n_mother_health,\n",
    "        n_father_alive,\n",
    "        n_father_age,\n",
    "        n_father_health,\n",
    "        n_dist_to_parents,\n",
    "        n_sibling_present,\n",
    "        #\n",
    "        n_lagged_choices,\n",
    "        n_exog_states,\n",
    "    )  # 15\n",
    "\n",
    "    map_state_to_index = np.full(shape, -9999, dtype=np.int64)\n",
    "    _state_space = []\n",
    "\n",
    "    i = 0\n",
    "    for period in range(n_periods):\n",
    "        for lagged_choice in range(n_lagged_choices):\n",
    "                for married in [0, 1]:\n",
    "                    for mother_alive in [0, 1]:\n",
    "                        for father_alive in [0, 1]:\n",
    "                            for mother_age in range(n_mother_age):\n",
    "                                for father_age in range(n_father_age):\n",
    "                                    for mother_health in range(\n",
    "                                        mother_health\n",
    "                                    ):\n",
    "                                        for father_health in range(\n",
    "                                            father_health\n",
    "                                        ):\n",
    "                                            for dist_to_parents in range(\n",
    "                                                n_dist_to_parents\n",
    "                                            ):\n",
    "                                                for sibling_present in [\n",
    "                                                    0,\n",
    "                                                    1,\n",
    "                                                ]:\n",
    "                                                    #\n",
    "                                                    for (\n",
    "                                                        exog_process\n",
    "                                                    ) in range(\n",
    "                                                        n_exog_states\n",
    "                                                    ):\n",
    "                                                        map_state_to_index[\n",
    "                                                            period,\n",
    "                                                            work_experience,\n",
    "                                                            years_since_retirement,\n",
    "                                                            caregiving_years,\n",
    "                                                            education_level,\n",
    "                                                            married,\n",
    "                                                            mother_alive,\n",
    "                                                            mother_age,\n",
    "                                                            mother_health,\n",
    "                                                            father_alive,\n",
    "                                                            father_age,\n",
    "                                                            father_health,\n",
    "                                                            dist_to_parents,\n",
    "                                                            sibling_present,\n",
    "                                                            #                                                                        lagged_choice,\n",
    "                                                            lagged_choice,\n",
    "                                                            exog_process,\n",
    "                                                        ] =\n",
    "                                                        row = [\n",
    "                                                            period,\n",
    "                                                            work_experience,\n",
    "                                                            years_since_retirement,\n",
    "                                                            caregiving_years,\n",
    "                                                            education_level,\n",
    "                                                            married,\n",
    "                                                            mother_alive,\n",
    "                                                            mother_age,\n",
    "                                                            mother_health,\n",
    "                                                            father_alive,\n",
    "                                                            father_age,\n",
    "                                                            father_health,\n",
    "                                                            dist_to_parents,\n",
    "                                                            sibling_present,\n",
    "                                                            #                                                                        lagged_choice,\n",
    "                                                            lagged_choice,\n",
    "                                                            exog_process,\n",
    "                                                        ]\n",
    "                                                        _state_space.append(\n",
    "                                                            row\n",
    "                                                    \n",
    "                                                        i += 1\n",
    "\n",
    "    state_space = np.array(_state_space, dtype=np.int64)\n",
    "\n",
    "    return state_space, map_state_to_index"
   ]
  },
  {
   "cell_type": "code",
   "execution_count": 3,
   "id": "97df74c3",
   "metadata": {},
   "outputs": [],
   "source": [
    "def sparsity_condtion():\n",
    "    return"
   ]
  },
  {
   "cell_type": "code",
   "execution_count": null,
   "id": "b221ffdb",
   "metadata": {},
   "outputs": [],
   "source": [
    "def update_endog_state():"
   ]
  },
  {
   "cell_type": "code",
   "execution_count": null,
   "id": "b5669ef2",
   "metadata": {},
   "outputs": [],
   "source": []
  },
  {
   "cell_type": "markdown",
   "id": "9aeef95d",
   "metadata": {},
   "source": [
    "# 2. Choices"
   ]
  },
  {
   "cell_type": "markdown",
   "id": "473a4b8c",
   "metadata": {},
   "source": [
    "### Labor choices (3)\n",
    "\n",
    "- no work\n",
    "- part-time\n",
    "- full-time\n",
    "\n",
    "\n",
    "### Caregiving choices (6)\n",
    "\n",
    "- light informal + no formal\n",
    "- light informal + formal\n",
    "- intensive informal + no_formal\n",
    "- intensive informal + formal\n",
    "- no informal + formal\n",
    "- no informal + no formal (no care)"
   ]
  },
  {
   "cell_type": "markdown",
   "id": "e0fb1687",
   "metadata": {},
   "source": [
    "The outside care option (neither organize\n",
    "formal care nor organize formal care once care demand arises) captures that siblings, the more healthy\n",
    "parent or others organize or provide care to the parent. BFischer, p. 13"
   ]
  },
  {
   "cell_type": "code",
   "execution_count": 4,
   "id": "04994947",
   "metadata": {},
   "outputs": [
    {
     "data": {
      "text/plain": [
       "{0: ['no_work', 'no_informal_no_formal'],\n",
       " 1: ['no_work', 'no_informal_formal'],\n",
       " 2: ['no_work', 'light_informal_no_formal'],\n",
       " 3: ['no_work', 'light_informal_formal'],\n",
       " 4: ['no_work', 'intensive_informal_no_formal'],\n",
       " 5: ['no_work', 'intensive_informal_formal'],\n",
       " 6: ['part_time', 'no_informal_no_formal'],\n",
       " 7: ['part_time', 'no_informal_formal'],\n",
       " 8: ['part_time', 'light_informal_no_formal'],\n",
       " 9: ['part_time', 'light_informal_formal'],\n",
       " 10: ['part_time', 'intensive_informal_no_formal'],\n",
       " 11: ['part_time', 'intensive_informal_formal'],\n",
       " 12: ['full_time', 'no_informal_no_formal'],\n",
       " 13: ['full_time', 'no_informal_formal'],\n",
       " 14: ['full_time', 'light_informal_no_formal'],\n",
       " 15: ['full_time', 'light_informal_formal'],\n",
       " 16: ['full_time', 'intensive_informal_no_formal'],\n",
       " 17: ['full_time', 'intensive_informal_formal']}"
      ]
     },
     "execution_count": 4,
     "metadata": {},
     "output_type": "execute_result"
    }
   ],
   "source": [
    "labor = [\"no_work\", \"part_time\", \"full_time\"]\n",
    "caregiving = [\n",
    "    \"no_informal_no_formal\",\n",
    "    \"no_informal_formal\",\n",
    "    \"light_informal_no_formal\",\n",
    "    \"light_informal_formal\",\n",
    "    \"intensive_informal_no_formal\",\n",
    "    \"intensive_informal_formal\",\n",
    "]\n",
    "\n",
    "combinations_dict = {}\n",
    "\n",
    "for i, labor_element in enumerate(labor):\n",
    "    for j, caregiving_element in enumerate(caregiving):\n",
    "        key = i * len(caregiving) + j  # Generating unique keys\n",
    "        value = [labor_element, caregiving_element]\n",
    "        combinations_dict[key] = value\n",
    "        \n",
    "combinations_dict"
   ]
  },
  {
   "cell_type": "code",
   "execution_count": 5,
   "id": "e6862aed",
   "metadata": {},
   "outputs": [],
   "source": [
    "formal = [\n",
    "    combinations_dict[1],\n",
    "    combinations_dict[3],\n",
    "    combinations_dict[5],\n",
    "    combinations_dict[7],\n",
    "    combinations_dict[9],\n",
    "    combinations_dict[11],\n",
    "    combinations_dict[13],\n",
    "    combinations_dict[15],\n",
    "    combinations_dict[17],\n",
    "    #combinations_dict[19],\n",
    "    #combinations_dict[21],\n",
    "    #combinations_dict[23],\n",
    "]\n",
    "\n",
    "light_informal = [\n",
    "    combinations_dict[2],\n",
    "    combinations_dict[3],\n",
    "    combinations_dict[8],\n",
    "    combinations_dict[9],\n",
    "    combinations_dict[14],\n",
    "    combinations_dict[15],\n",
    "    #combinations_dict[20],\n",
    "    #combinations_dict[21],\n",
    "]\n",
    "\n",
    "intensive_informal = [\n",
    "    combinations_dict[4],\n",
    "    combinations_dict[5],\n",
    "    combinations_dict[10],\n",
    "    combinations_dict[11],\n",
    "    combinations_dict[16],\n",
    "    combinations_dict[17],\n",
    "    #combinations_dict[22],\n",
    "    #combinations_dict[23],    \n",
    "]"
   ]
  },
  {
   "cell_type": "code",
   "execution_count": 6,
   "id": "e757e4b5",
   "metadata": {},
   "outputs": [
    {
     "data": {
      "text/plain": [
       "[['no_work', 'no_informal_formal'],\n",
       " ['no_work', 'light_informal_formal'],\n",
       " ['no_work', 'intensive_informal_formal'],\n",
       " ['part_time', 'no_informal_formal'],\n",
       " ['part_time', 'light_informal_formal'],\n",
       " ['part_time', 'intensive_informal_formal'],\n",
       " ['full_time', 'no_informal_formal'],\n",
       " ['full_time', 'light_informal_formal'],\n",
       " ['full_time', 'intensive_informal_formal']]"
      ]
     },
     "execution_count": 6,
     "metadata": {},
     "output_type": "execute_result"
    }
   ],
   "source": [
    "formal"
   ]
  },
  {
   "cell_type": "code",
   "execution_count": 7,
   "id": "268b926c",
   "metadata": {},
   "outputs": [
    {
     "data": {
      "text/plain": [
       "[['no_work', 'light_informal_no_formal'],\n",
       " ['no_work', 'light_informal_formal'],\n",
       " ['part_time', 'light_informal_no_formal'],\n",
       " ['part_time', 'light_informal_formal'],\n",
       " ['full_time', 'light_informal_no_formal'],\n",
       " ['full_time', 'light_informal_formal']]"
      ]
     },
     "execution_count": 7,
     "metadata": {},
     "output_type": "execute_result"
    }
   ],
   "source": [
    "light_informal"
   ]
  },
  {
   "cell_type": "code",
   "execution_count": 8,
   "id": "e5b3be2f",
   "metadata": {},
   "outputs": [
    {
     "data": {
      "text/plain": [
       "[['no_work', 'intensive_informal_no_formal'],\n",
       " ['no_work', 'intensive_informal_formal'],\n",
       " ['part_time', 'intensive_informal_no_formal'],\n",
       " ['part_time', 'intensive_informal_formal'],\n",
       " ['full_time', 'intensive_informal_no_formal'],\n",
       " ['full_time', 'intensive_informal_formal']]"
      ]
     },
     "execution_count": 8,
     "metadata": {},
     "output_type": "execute_result"
    }
   ],
   "source": [
    "intensive_informal"
   ]
  },
  {
   "cell_type": "code",
   "execution_count": null,
   "id": "4c19f25e",
   "metadata": {},
   "outputs": [],
   "source": []
  },
  {
   "cell_type": "code",
   "execution_count": null,
   "id": "1716cc7d",
   "metadata": {},
   "outputs": [],
   "source": []
  },
  {
   "cell_type": "code",
   "execution_count": null,
   "id": "56bdf18b",
   "metadata": {},
   "outputs": [],
   "source": []
  },
  {
   "cell_type": "code",
   "execution_count": null,
   "id": "db1142fc",
   "metadata": {},
   "outputs": [],
   "source": []
  },
  {
   "cell_type": "code",
   "execution_count": 15,
   "id": "5b2e86bd",
   "metadata": {},
   "outputs": [],
   "source": [
    "formal_care = (choice % 2 == 1) # uneven numbers mark formal care\n",
    "light_informal_care = (choice in [2, 3, 8, 9, 14, 15])\n",
    "intensive_informal_care = (choice in [4, 5, 10, 11, 16, 17])\n",
    "\n",
    "no_work = (choice in [0, 1, 2, 3, 4, 5])\n",
    "part_time = (choice in [6, 7, 8, 9, 10, 11])\n",
    "full_time = (choice in [12, 13, 14, 15, 16, 17])"
   ]
  },
  {
   "cell_type": "code",
   "execution_count": null,
   "id": "849936f3",
   "metadata": {},
   "outputs": [],
   "source": []
  },
  {
   "cell_type": "code",
   "execution_count": 13,
   "id": "01538788",
   "metadata": {},
   "outputs": [],
   "source": [
    "def test_choice(choice):\n",
    "    formal_care = (choice % 2 == 1) # uneven numbers mark formal care\n",
    "    light_informal_care = (choice in [2, 3, 8, 9, 14, 15])\n",
    "    intensive_informal_care = (choice in [4, 5, 10, 11, 16, 17])\n",
    "    \n",
    "    # light and intensive can never be true at the same time: axis (1, 2)\n",
    "    \n",
    "    return light_informal_care, intensive_informal_care, formal_care"
   ]
  },
  {
   "cell_type": "code",
   "execution_count": 14,
   "id": "24028576",
   "metadata": {},
   "outputs": [
    {
     "name": "stdout",
     "output_type": "stream",
     "text": [
      "(False, False, False)\n",
      "(False, False, True)\n",
      "(True, False, False)\n",
      "(True, False, True)\n",
      "(False, True, False)\n",
      "(False, True, True)\n",
      "(False, False, False)\n",
      "(False, False, True)\n",
      "(True, False, False)\n",
      "(True, False, True)\n",
      "(False, True, False)\n",
      "(False, True, True)\n",
      "(False, False, False)\n",
      "(False, False, True)\n",
      "(True, False, False)\n",
      "(True, False, True)\n",
      "(False, True, False)\n",
      "(False, True, True)\n"
     ]
    }
   ],
   "source": [
    "n_choices = 18\n",
    "\n",
    "for choice in range(n_choices):\n",
    "    print(test_choice(choice))"
   ]
  },
  {
   "cell_type": "code",
   "execution_count": 12,
   "id": "50decccf",
   "metadata": {},
   "outputs": [
    {
     "data": {
      "text/plain": [
       "{0: ['no_work', 'no_informal_no_formal'],\n",
       " 1: ['no_work', 'no_informal_formal'],\n",
       " 2: ['no_work', 'light_informal_no_formal'],\n",
       " 3: ['no_work', 'light_informal_formal'],\n",
       " 4: ['no_work', 'intensive_informal_no_formal'],\n",
       " 5: ['no_work', 'intensive_informal_formal'],\n",
       " 6: ['part_time', 'no_informal_no_formal'],\n",
       " 7: ['part_time', 'no_informal_formal'],\n",
       " 8: ['part_time', 'light_informal_no_formal'],\n",
       " 9: ['part_time', 'light_informal_formal'],\n",
       " 10: ['part_time', 'intensive_informal_no_formal'],\n",
       " 11: ['part_time', 'intensive_informal_formal'],\n",
       " 12: ['full_time', 'no_informal_no_formal'],\n",
       " 13: ['full_time', 'no_informal_formal'],\n",
       " 14: ['full_time', 'light_informal_no_formal'],\n",
       " 15: ['full_time', 'light_informal_formal'],\n",
       " 16: ['full_time', 'intensive_informal_no_formal'],\n",
       " 17: ['full_time', 'intensive_informal_formal']}"
      ]
     },
     "execution_count": 12,
     "metadata": {},
     "output_type": "execute_result"
    }
   ],
   "source": [
    "combinations_dict"
   ]
  },
  {
   "cell_type": "code",
   "execution_count": null,
   "id": "a47b3746",
   "metadata": {},
   "outputs": [],
   "source": []
  },
  {
   "cell_type": "code",
   "execution_count": null,
   "id": "560bb12a",
   "metadata": {},
   "outputs": [],
   "source": []
  },
  {
   "cell_type": "code",
   "execution_count": null,
   "id": "7d773069",
   "metadata": {},
   "outputs": [],
   "source": []
  },
  {
   "cell_type": "code",
   "execution_count": null,
   "id": "6256e651",
   "metadata": {},
   "outputs": [],
   "source": []
  },
  {
   "cell_type": "code",
   "execution_count": 20,
   "id": "ca6f0c05",
   "metadata": {},
   "outputs": [],
   "source": [
    "MIN_AGE = 50"
   ]
  },
  {
   "cell_type": "code",
   "execution_count": null,
   "id": "b2016946",
   "metadata": {},
   "outputs": [],
   "source": [
    "def utility_func_crra(consumption: jnp.array, choice: int, params: dict) -> jnp.array:\n",
    "    \"\"\"Computes the agent's current utility based on a CRRA utility function.\n",
    "\n",
    "    Args:\n",
    "        consumption (jnp.array): Level of the agent's consumption.\n",
    "            Array of shape (i) (n_quad_stochastic * n_grid_wealth,)\n",
    "            when called by :func:`~dcgm.call_egm_step.map_exog_to_endog_grid`\n",
    "            and :func:`~dcgm.call_egm_step.get_next_period_value`, or\n",
    "            (ii) of shape (n_grid_wealth,) when called by\n",
    "            :func:`~dcgm.call_egm_step.get_current_period_value`.\n",
    "        choice (int): Choice of the agent, e.g. 0 = \"retirement\", 1 = \"working\".\n",
    "        params (dict): Dictionary containing model parameters.\n",
    "            Relevant here is the CRRA coefficient theta.\n",
    "\n",
    "    Returns:\n",
    "        utility (jnp.array): Agent's utility . Array of shape\n",
    "            (n_quad_stochastic * n_grid_wealth,) or (n_grid_wealth,).\n",
    "\n",
    "    \"\"\"\n",
    "    theta = params[\"theta\"]\n",
    "\n",
    "    age = period  # + 50 # 55\n",
    "\n",
    "    care_demand = 0\n",
    "    unobserved_type = 0\n",
    "\n",
    "    formal_care = choice % 2 == 1  # uneven numbers mark formal care\n",
    "    light_informal_care = choice in [2, 3, 8, 9, 14, 15, 20, 21]\n",
    "    intensive_informal_care = choice in [4, 5, 10, 11, 16, 17, 22, 23]\n",
    "    any_informal_care = light_informal_care | intensive_informal_care\n",
    "\n",
    "    working_hours = part_time * 20 + full_time * 40\n",
    "    informal_caregiving_hours = light_informal_care * 7 + intensive_informal_care * 21\n",
    "    leisure_hours = 24 * 7 - working_hours - informal_caregiving_hours\n",
    "    # multiply to monthly level\n",
    "\n",
    "    utility_consumption = (consumption ** (1 - theta) - 1) / (1 - theta)\n",
    "    utility_leisure = (\n",
    "        params[\"utility_constant\"] + params[\"utility_age\"] * (age - MIN_AGE)\n",
    "    ) * np.log(leisure_hours)\n",
    "\n",
    "    utility = (\n",
    "        utility_consumption\n",
    "        - (choice >= 6) * params[\"theta\"]  # choice: part-time or full-time\n",
    "        + utility_leisure\n",
    "        + care_demand * ()\n",
    "        ## utility from caregiving\n",
    "        + (\n",
    "            params[\"utility_light_informal\"] * light_informal_care\n",
    "            + params[\"utility_intensive_informal\"] * intensive_informal_care\n",
    "            + params[\"utility_formal\"] * formal_care\n",
    "            + params[\"utility_informal_and_formal\"]\n",
    "            * (formal_care & (light_informal_care | intensive_informal_care))\n",
    "        )\n",
    "    )\n",
    "\n",
    "    return utility"
   ]
  },
  {
   "cell_type": "code",
   "execution_count": 18,
   "id": "340d3d40",
   "metadata": {},
   "outputs": [],
   "source": [
    "l = True\n",
    "i = False\n",
    "l = False\n",
    "\n",
    "a = l | i\n",
    "a"
   ]
  },
  {
   "cell_type": "code",
   "execution_count": null,
   "id": "4aa99f08",
   "metadata": {},
   "outputs": [],
   "source": []
  },
  {
   "cell_type": "code",
   "execution_count": null,
   "id": "104e2361",
   "metadata": {},
   "outputs": [],
   "source": []
  },
  {
   "cell_type": "code",
   "execution_count": 38,
   "id": "0202f2ab",
   "metadata": {},
   "outputs": [],
   "source": [
    "no_care = [0, 6, 12]\n",
    "all_choices = list(np.arange(18))\n",
    "care = [choice for choice in all_choices if choice not in no_care]"
   ]
  },
  {
   "cell_type": "code",
   "execution_count": 39,
   "id": "3dd51d95",
   "metadata": {},
   "outputs": [
    {
     "data": {
      "text/plain": [
       "[1, 2, 3, 4, 5, 7, 8, 9, 10, 11, 13, 14, 15, 16, 17]"
      ]
     },
     "execution_count": 39,
     "metadata": {},
     "output_type": "execute_result"
    }
   ],
   "source": [
    "care"
   ]
  },
  {
   "cell_type": "code",
   "execution_count": null,
   "id": "2505ee0d",
   "metadata": {},
   "outputs": [],
   "source": []
  },
  {
   "cell_type": "code",
   "execution_count": null,
   "id": "fd4a6f24",
   "metadata": {},
   "outputs": [],
   "source": []
  },
  {
   "cell_type": "code",
   "execution_count": null,
   "id": "12b046ae",
   "metadata": {},
   "outputs": [],
   "source": [
    "def get_state_specific_feasible_choice_set(\n",
    "    lagged_choice, mother_age, father_age, part_time_offer, full_time_offer, options\n",
    "):\n",
    "\n",
    "    # formal_care = choice % 2 == 1  # uneven numbers mark formal care\n",
    "    # light_informal_care = [2, 3, 8, 9, 14, 15]\n",
    "    # intensive_informal_care =[4, 5, 10, 11, 16, 17]\n",
    "    no_care = [0, 6, 12]\n",
    "    care = [choice for choice in all_choices if choice not in no_care]\n",
    "\n",
    "    no_work = [0, 1, 2, 3, 4, 5]\n",
    "    work = [6, 7, 8, 9, 10, 11, 12, 13, 14, 15, 16, 17]\n",
    "    part_time = [6, 7, 8, 9, 10, 11]\n",
    "    full_time = [12, 13, 14, 15, 16, 17]\n",
    "\n",
    "    # state_vec including exog?\n",
    "    feasible_choice_set = list(np.arange(options[\"n_discrete_choices\"]))\n",
    "\n",
    "    # care demand\n",
    "    if mother_alive or father_alive:\n",
    "        feasible_choice_set = [i for i in feasible_choice_set if i in care]\n",
    "    else:\n",
    "        feasible_choice_set = [i for i in feasible_choice_set if i in no_care]\n",
    "\n",
    "    # job offer\n",
    "    if not (full_time_offer or part_time_offer):\n",
    "        feasible_choice_set = [i for i in feasible_choice_set if i in no_work]\n",
    "    elif full_time_offer or part_time_offer:\n",
    "        feasible_choice_set = [i for i in feasible_choice_set if i in work]\n",
    "    elif part_time_offer and not full_time_offer:\n",
    "        feasible_choice_set = [i for i in feasible_choice_set if i in part_time]\n",
    "    elif not part_time_offer and full_time_offer:\n",
    "        feasible_choice_set = [i for i in feasible_choice_set if i in full_time]\n",
    "\n",
    "    return np.array(feasible_choice_set)"
   ]
  },
  {
   "cell_type": "code",
   "execution_count": 40,
   "id": "92822559",
   "metadata": {},
   "outputs": [
    {
     "data": {
      "text/plain": [
       "[0, 1, 2, 3, 4, 5, 6, 7, 8, 9, 10, 11, 12, 13, 14, 15, 16, 17]"
      ]
     },
     "execution_count": 40,
     "metadata": {},
     "output_type": "execute_result"
    }
   ],
   "source": [
    "feasible_choice_set = list(np.arange(18))\n",
    "feasible_choice_set"
   ]
  },
  {
   "cell_type": "code",
   "execution_count": null,
   "id": "886b0774",
   "metadata": {},
   "outputs": [],
   "source": []
  },
  {
   "cell_type": "code",
   "execution_count": null,
   "id": "be49e98b",
   "metadata": {},
   "outputs": [],
   "source": []
  },
  {
   "cell_type": "code",
   "execution_count": 21,
   "id": "034c50fa",
   "metadata": {},
   "outputs": [],
   "source": [
    "RETIREMENT_AGE = 65"
   ]
  },
  {
   "cell_type": "code",
   "execution_count": null,
   "id": "1fef06e1",
   "metadata": {},
   "outputs": [],
   "source": [
    "no_work = (choice in [0, 1, 2, 3, 4, 5])\n",
    "part_time = (choice in [6, 7, 8, 9, 10, 11])\n",
    "full_time = (choice in [12, 13, 14, 15, 16, 17])\n",
    "\n",
    "light_informal_care = choice in [2, 3, 8, 9, 14, 15, 20, 21]\n",
    "intensive_informal_care = choice in [4, 5, 10, 11, 16, 17, 22, 23]\n",
    "any_informal_care = light_informal_care | intensive_informal_care"
   ]
  },
  {
   "cell_type": "code",
   "execution_count": 83,
   "id": "9078811e",
   "metadata": {},
   "outputs": [
    {
     "data": {
      "text/plain": [
       "[2, 3, 4, 5, 8, 9, 10, 11, 14, 15, 16, 17, 20, 21, 22, 23]"
      ]
     },
     "execution_count": 83,
     "metadata": {},
     "output_type": "execute_result"
    }
   ],
   "source": [
    "l = [2, 3, 8, 9, 14, 15, 20, 21] + [4, 5, 10, 11, 16, 17, 22, 23]\n",
    "l.sort()\n",
    "l"
   ]
  },
  {
   "cell_type": "code",
   "execution_count": 84,
   "id": "f426066b",
   "metadata": {},
   "outputs": [],
   "source": [
    "def is_not_working(lagged_choice):\n",
    "    return lagged_choice in [0, 1, 2, 3, 4, 5]\n",
    "\n",
    "\n",
    "def is_part_time(lagged_choice):\n",
    "    return lagged_choice in [6, 7, 8, 9, 10, 11]\n",
    "\n",
    "\n",
    "def is_full_time(lagged_choice):\n",
    "    return lagged_choice in [12, 13, 14, 15, 16, 17]\n",
    "\n",
    "\n",
    "def is_formal_care(lagged_choice):\n",
    "    return lagged_choice % 2 == 1\n",
    "\n",
    "\n",
    "def is_informal_care(lagged_choice):\n",
    "    return lagged_choice in [2, 3, 4, 5, 8, 9, 10, 11, 14, 15, 16, 17, 20, 21, 22, 23]"
   ]
  },
  {
   "cell_type": "code",
   "execution_count": 30,
   "id": "9a23c142",
   "metadata": {},
   "outputs": [
    {
     "data": {
      "text/plain": [
       "True"
      ]
     },
     "execution_count": 30,
     "metadata": {},
     "output_type": "execute_result"
    }
   ],
   "source": [
    "is_full_time(15)"
   ]
  },
  {
   "cell_type": "code",
   "execution_count": null,
   "id": "154224af",
   "metadata": {},
   "outputs": [],
   "source": []
  },
  {
   "cell_type": "code",
   "execution_count": null,
   "id": "07cf31e3",
   "metadata": {},
   "outputs": [],
   "source": []
  },
  {
   "cell_type": "code",
   "execution_count": null,
   "id": "8b7861c3",
   "metadata": {},
   "outputs": [],
   "source": [
    "def probability_full_time_offer(state_vec, params):\n",
    "    logit = (\n",
    "        params[\"full_time_constant\"]\n",
    "        + params[\"full_time_not_working_last_period\"] * (choice == 0)\n",
    "        + params[\"full_time_above_retirement_age\"] * (age >= RETIREMENT_AGE)\n",
    "        + params[\"full_time_high_education\"] * high_educ\n",
    "    )\n",
    "    \n",
    "    prob = np.exp(logit) / (1 + np.exp(logit))\n",
    "    \n",
    "    return prob"
   ]
  },
  {
   "cell_type": "code",
   "execution_count": null,
   "id": "9e70fc13",
   "metadata": {},
   "outputs": [],
   "source": [
    "def probability_part_time_offer(state_vec, params):\n",
    "    logit = (\n",
    "        params[\"part_time_constant\"]\n",
    "        + params[\"part_time_not_working_last_period\"] * (choice == 0)\n",
    "        + params[\"part_time_above_retirement_age\"] * (age >= RETIREMENT_AGE)\n",
    "        + params[\"part_time_high_education\"] * high_educ\n",
    "    )\n",
    "\n",
    "    prob = np.exp(logit) / (1 + np.exp(logit))\n",
    "\n",
    "    return prob"
   ]
  },
  {
   "cell_type": "code",
   "execution_count": null,
   "id": "57bc2be4",
   "metadata": {},
   "outputs": [],
   "source": []
  },
  {
   "cell_type": "code",
   "execution_count": null,
   "id": "245618f0",
   "metadata": {},
   "outputs": [],
   "source": []
  },
  {
   "cell_type": "markdown",
   "id": "2840a4b8",
   "metadata": {},
   "source": [
    "## Budget constraint"
   ]
  },
  {
   "cell_type": "code",
   "execution_count": null,
   "id": "8aeacdef",
   "metadata": {},
   "outputs": [],
   "source": [
    "non_working_benefits = 800"
   ]
  },
  {
   "cell_type": "code",
   "execution_count": null,
   "id": "ca896207",
   "metadata": {},
   "outputs": [],
   "source": [
    "def budget_constraint(\n",
    "    period: int,\n",
    "    married: int,\n",
    "    high_educ: int,\n",
    "    lagged_choice: int,\n",
    "    savings_end_of_previous_period: float,\n",
    "    income_shock_previous_period: float,\n",
    "    options: Dict[str, Any],\n",
    "    params: Dict[str, float],\n",
    ") -> float:\n",
    "\n",
    "    # already done in preprocessing\n",
    "    # model_params = options[\"model_params\"]\n",
    "\n",
    "    # weekly\n",
    "    working_hours = is_part_time(lagged_choice) * 20 + is_full_time(lagged_choice) * 40\n",
    "\n",
    "    wage_from_previous_period = _calc_stochastic_wage(\n",
    "        period=period,\n",
    "        lagged_choice=lagged_choice,\n",
    "        wage_shock=income_shock_previous_period,\n",
    "        min_age=options[\"min_age\"],\n",
    "        constant=params[\"constant\"],\n",
    "        exp=params[\"exp\"],\n",
    "        exp_squared=params[\"exp_squared\"],\n",
    "    )\n",
    "\n",
    "    wealth_beginning_of_period = (\n",
    "        wage_from_previous_period * working_hours\n",
    "        #+ non_labor_income(age, high_educ, options)\n",
    "        #+ spousal_income(period, age, high_educ, options) * married\n",
    "        + options[\"unemployment_and_retirement_benefit\"] * is_not_working(lagged_choice)\n",
    "        + options[\"informal_care_benefits\"] * is_informal_care(lagged_choice)\n",
    "        - options[\"formal_care_costs\"] * is_formal_care(lagged_choice)\n",
    "        + (1 + options[\"interest_rate\"]) * savings_end_of_previous_period\n",
    "    )\n",
    "\n",
    "    # needed at all?\n",
    "    # wealth_beginning_of_period = jnp.maximum(\n",
    "    #     wealth_beginning_of_period, options[\"consumption_floor\"]\n",
    "    # )\n",
    "\n",
    "    return wealth_beginning_of_period"
   ]
  },
  {
   "cell_type": "code",
   "execution_count": null,
   "id": "9a919b99",
   "metadata": {},
   "outputs": [],
   "source": [
    "@jax.jit\n",
    "def _calc_stochastic_wage(\n",
    "    period: int,\n",
    "    high_educ: bool,\n",
    "    lagged_choice: int,\n",
    "    wage_shock: float,\n",
    "    min_age: int,\n",
    "    params: Dict[str, float],\n",
    ") -> float:\n",
    "    \"\"\"Computes the current level of deterministic and stochastic income.\n",
    "\n",
    "    Note that income is paid at the end of the current period, i.e. after\n",
    "    the (potential) labor supply choice has been made. This is equivalent to\n",
    "    allowing income to be dependent on a lagged choice of labor supply.\n",
    "    The agent starts working in period t = 0.\n",
    "    Relevant for the wage equation (deterministic income) are age-dependent\n",
    "    coefficients of work experience:\n",
    "    labor_income = constant + alpha_1 * age + alpha_2 * age**2\n",
    "    They include a constant as well as two coefficients on age and age squared,\n",
    "    respectively. Note that the last one (alpha_2) typically has a negative sign.\n",
    "\n",
    "    Args:\n",
    "        state (jnp.ndarray): 1d array of shape (n_state_variables,) denoting\n",
    "            the current child state.\n",
    "        wage_shock (float): Stochastic shock on labor income;\n",
    "            may or may not be normally distributed. This float represents one\n",
    "            particular realization of the income_shock_draws carried over from\n",
    "            the previous period.\n",
    "        params (dict): Dictionary containing model parameters.\n",
    "            Relevant here are the coefficients of the wage equation.\n",
    "        options (dict): Options dictionary.\n",
    "\n",
    "    Returns:\n",
    "        stochastic_income (float): The potential end of period income. It consists of a\n",
    "            deterministic component, i.e. age-dependent labor income,\n",
    "            and a stochastic shock.\n",
    "\n",
    "    \"\"\"\n",
    "    # For simplicity, assume current_age - min_age = experience\n",
    "    age = period + min_age\n",
    "\n",
    "    # Determinisctic component of income depending on experience:\n",
    "    # constant + alpha_1 * age + alpha_2 * age**2\n",
    "    # exp_coeffs = jnp.array([constant, exp, exp_squared])\n",
    "    # labor_income = exp_coeffs @ (age ** jnp.arange(len(exp_coeffs)))\n",
    "    # working_income = jnp.exp(labor_income + wage_shock)\n",
    "\n",
    "    log_wage = (\n",
    "        params[\"wage_constant\"]\n",
    "        + params[\"wage_age\"] * age\n",
    "        + params[\"wage_age_squared\"] * age ** 2\n",
    "        + params[\"wage_high_educ\"] * high_educ\n",
    "        + params[\"wage_part_time\"] * is_part_time(lagged_choice)\n",
    "        + params[\"wage_not_working\"] * is_not_working(lagged_choice)\n",
    "    )\n",
    "\n",
    "    return np.exp(log_wage + wage_shock)"
   ]
  },
  {
   "cell_type": "code",
   "execution_count": null,
   "id": "af6a571a",
   "metadata": {},
   "outputs": [],
   "source": [
    "def log_wage_offer(period, lagged_choice, wage_shock, min_age, params):\n",
    "\n",
    "    log_wage = (\n",
    "        params[\"wage_constant\"]\n",
    "        + params[\"wage_age\"] * age\n",
    "        + params[\"wage_age_squared\"] * age ** 2\n",
    "        + params[\"wage_high_educ\"] * high_educ\n",
    "        + params[\"wage_part_time\"] * is_part_time(lagged_choice)\n",
    "        + params[\"wage_not_working\"] * is_not_working(lagged_choice)\n",
    "    )\n",
    "\n",
    "    return log_wage"
   ]
  },
  {
   "cell_type": "code",
   "execution_count": null,
   "id": "9f350ac5",
   "metadata": {},
   "outputs": [],
   "source": []
  },
  {
   "cell_type": "markdown",
   "id": "fac9861f",
   "metadata": {},
   "source": [
    "### Non-labor income"
   ]
  },
  {
   "cell_type": "code",
   "execution_count": 67,
   "id": "8860603c",
   "metadata": {},
   "outputs": [],
   "source": [
    "def non_labor_income(period, age, high_educ, params, options):\n",
    "    log_income = (\n",
    "        options[\"non_labor_inc_constant\"]\n",
    "        + options[\"non_labor_inc_above_retirement_age\"] * (age >= RETIREMENT_AGE)\n",
    "        + options[\"non_labor_inc_high_educ\"] * high_educ\n",
    "        + options[\"non_labor_inc_age\"] * age\n",
    "        + options[\"non_labor_inc_age_squared\"] * age ** 2\n",
    "        #+ options[\"non_labor_year_fixed_effect\"] * (period + 2004)\n",
    "    )\n",
    "    \n",
    "    return log_income"
   ]
  },
  {
   "cell_type": "code",
   "execution_count": 68,
   "id": "a88af987",
   "metadata": {},
   "outputs": [],
   "source": [
    "options_non_labor = {\n",
    "    \"non_labor_inc_constant\": 7.883,\n",
    "    \"non_labor_inc_high_educ\": 0.752,\n",
    "    \"non_labor_inc_age\": -0.147,\n",
    "    \"non_labor_inc_age_squared\": 0.00184,\n",
    "    \"non_labor_inc_above_retirement_age\": 0.00264,\n",
    "    \"non_labor_married\": 0.497,\n",
    "    #\"non_labor_year_fixed_effect\": 0.0210\n",
    "}"
   ]
  },
  {
   "cell_type": "markdown",
   "id": "81ce792b",
   "metadata": {},
   "source": [
    "### Spousal income"
   ]
  },
  {
   "cell_type": "code",
   "execution_count": 73,
   "id": "f46ec716",
   "metadata": {},
   "outputs": [],
   "source": [
    "def spousal_income(period, age, high_educ, params, options):\n",
    "    log_income = (\n",
    "        options[\"spousal_inc_constant\"]\n",
    "        + options[\"spousal_inc_above_retirement_age\"] * (age >= RETIREMENT_AGE)\n",
    "        + options[\"spousal_inc_high_educ\"] * high_educ\n",
    "        + options[\"spousal_inc_age\"] * age\n",
    "        + options[\"spousal_inc_age_squared\"] * age ** 2\n",
    "        + options[\"spousal_labor_year_fixed_effect\"] * (period + 2004)\n",
    "    )\n",
    "    \n",
    "    return log_income"
   ]
  },
  {
   "cell_type": "code",
   "execution_count": 74,
   "id": "c9f9410d",
   "metadata": {},
   "outputs": [],
   "source": [
    "options_spousal = {\n",
    "    \"spousal_inc_constant\": -35.27,\n",
    "    \"spousal_inc_high_educ\": 0.358,\n",
    "    \"spousal_inc_age\": 0.117,\n",
    "    \"spousal_inc_age_squared\": -0.00129,\n",
    "    \"spousal_inc_above_retirement_age\": -0.00548,\n",
    "    \"spousal_labor_year_fixed_effect\": 0.0210\n",
    "}"
   ]
  },
  {
   "cell_type": "code",
   "execution_count": 78,
   "id": "e2cdb757",
   "metadata": {},
   "outputs": [
    {
     "data": {
      "text/plain": [
       "9.714999999999996"
      ]
     },
     "execution_count": 78,
     "metadata": {},
     "output_type": "execute_result"
    }
   ],
   "source": [
    "spousal_income(period=25, age=60, high_educ=0, params={}, options=options_spousal)"
   ]
  },
  {
   "cell_type": "code",
   "execution_count": 72,
   "id": "47aa77e3",
   "metadata": {},
   "outputs": [
    {
     "data": {
      "text/plain": [
       "49.552640000000004"
      ]
     },
     "execution_count": 72,
     "metadata": {},
     "output_type": "execute_result"
    }
   ],
   "source": [
    "non_labor_income(period=5, age=70, high_educ=1, params={}, options=options_non_labor)"
   ]
  },
  {
   "cell_type": "code",
   "execution_count": 79,
   "id": "a2b01045",
   "metadata": {},
   "outputs": [
    {
     "data": {
      "text/plain": [
       "413.7931034482759"
      ]
     },
     "execution_count": 79,
     "metadata": {},
     "output_type": "execute_result"
    }
   ],
   "source": [
    "1800 / 4.35"
   ]
  },
  {
   "cell_type": "code",
   "execution_count": null,
   "id": "fe5cb066",
   "metadata": {},
   "outputs": [],
   "source": []
  }
 ],
 "metadata": {
  "kernelspec": {
   "display_name": "Python 3 (ipykernel)",
   "language": "python",
   "name": "python3"
  },
  "language_info": {
   "codemirror_mode": {
    "name": "ipython",
    "version": 3
   },
   "file_extension": ".py",
   "mimetype": "text/x-python",
   "name": "python",
   "nbconvert_exporter": "python",
   "pygments_lexer": "ipython3",
   "version": "3.10.13"
  }
 },
 "nbformat": 4,
 "nbformat_minor": 5
}
