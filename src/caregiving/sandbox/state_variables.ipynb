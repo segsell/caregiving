{
 "cells": [
  {
   "cell_type": "markdown",
   "id": "edf6aabe",
   "metadata": {},
   "source": [
    "# Discrete State variables"
   ]
  },
  {
   "cell_type": "markdown",
   "id": "bf19e3d0",
   "metadata": {},
   "source": [
    "###### states which are interpolated\n",
    "- labor market experience (0, 30)\n",
    "- years in retirement (0, 6)\n",
    "- years in intensive care (0, 5)\n",
    "- father age (70, 90)\n",
    "- mother age (70, 90)\n",
    "###### states which are not interpolated\n",
    "- individuals’ type (1, 2)\n",
    "- father died last period (0, 1)\n",
    "- mother died last period (0, 1)\n",
    "- father alive (0, 1)\n",
    "- mother alive (0, 1)\n",
    "- health of father (1, 2, 3)\n",
    "- health of mother (1, 2, 3)\n",
    "- existence of siblings (0, 1) --> **change to existence of sister?**\n",
    "- parents live close by (0, 1)\n",
    "- married (0, 1)\n",
    "- education (low, high)"
   ]
  },
  {
   "cell_type": "code",
   "execution_count": null,
   "id": "d40cc06a",
   "metadata": {},
   "outputs": [],
   "source": []
  }
 ],
 "metadata": {
  "kernelspec": {
   "display_name": "Python 3 (ipykernel)",
   "language": "python",
   "name": "python3"
  },
  "language_info": {
   "codemirror_mode": {
    "name": "ipython",
    "version": 3
   },
   "file_extension": ".py",
   "mimetype": "text/x-python",
   "name": "python",
   "nbconvert_exporter": "python",
   "pygments_lexer": "ipython3",
   "version": "3.10.12"
  }
 },
 "nbformat": 4,
 "nbformat_minor": 5
}
