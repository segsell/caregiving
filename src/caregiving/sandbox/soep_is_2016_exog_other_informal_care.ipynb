{
 "cells": [
  {
   "cell_type": "code",
   "execution_count": 1,
   "id": "c5dfd16f",
   "metadata": {},
   "outputs": [],
   "source": [
    "import pandas as pd\n",
    "import numpy as np"
   ]
  },
  {
   "cell_type": "code",
   "execution_count": 2,
   "id": "b7215878",
   "metadata": {},
   "outputs": [],
   "source": [
    "def table(df_col):\n",
    "    return pd.crosstab(df_col, columns=\"Count\")[\"Count\"]"
   ]
  },
  {
   "cell_type": "code",
   "execution_count": 3,
   "id": "768e538e",
   "metadata": {},
   "outputs": [],
   "source": [
    "KEINE_ANGABE = -1\n",
    "\n",
    "MALE = 1\n",
    "FEMALE = 2\n",
    "\n",
    "SPOUSE = 1\n",
    "MOTHER_OR_FATHER = 2\n",
    "MOTHER_OR_FATHER_IN_LAW = 3"
   ]
  },
  {
   "cell_type": "code",
   "execution_count": 4,
   "id": "d82f308c",
   "metadata": {},
   "outputs": [],
   "source": [
    "PATH = \"/home/sebastian/Documents/SOEP_v38/soep-is.2021_stata_en/\"\n",
    "file = \"inno.dta\""
   ]
  },
  {
   "cell_type": "code",
   "execution_count": 5,
   "id": "629f0570",
   "metadata": {},
   "outputs": [],
   "source": [
    "inno = pd.read_stata(PATH + file, convert_categoricals=False)"
   ]
  },
  {
   "cell_type": "code",
   "execution_count": 6,
   "id": "cbd175b4",
   "metadata": {},
   "outputs": [],
   "source": [
    "p = pd.read_stata(PATH + \"p.dta\", convert_categoricals=False)"
   ]
  },
  {
   "cell_type": "code",
   "execution_count": 15,
   "id": "67667ce1",
   "metadata": {},
   "outputs": [
    {
     "data": {
      "text/plain": [
       "Index(['cid', 'hid', 'pid', 'syear', 'sample1', 'hlk0005', 'intid', 'iyear',\n",
       "       'pmonin', 'ptagin',\n",
       "       ...\n",
       "       'pbeh6', 'palkoft', 'palkanz', 'prauche', 'prauchl', 'pveg', 'psozpfl',\n",
       "       'paz11_n', 'ppol_n2', 'pfamst_n'],\n",
       "      dtype='object', length=1580)"
      ]
     },
     "execution_count": 15,
     "metadata": {},
     "output_type": "execute_result"
    }
   ],
   "source": [
    "p.columns"
   ]
  },
  {
   "cell_type": "code",
   "execution_count": 7,
   "id": "a8372e82",
   "metadata": {},
   "outputs": [
    {
     "data": {
      "text/plain": [
       "Index(['cid', 'hid', 'pid', 'syear', 'im_drm_pre', 'im_drm', 'im_js',\n",
       "       'ivornaa01', 'ivornaa02', 'ivornab01',\n",
       "       ...\n",
       "       'pts_dkleidka', 'pts_dkoerp1', 'pts_dkoerp2', 'pts_dkoerp3',\n",
       "       'pts_dkoerp4', 'pts_dkoerp5', 'pts_dkoerpka', 'im_igi', 'igi01',\n",
       "       'igi02'],\n",
       "      dtype='object', length=5240)"
      ]
     },
     "execution_count": 7,
     "metadata": {},
     "output_type": "execute_result"
    }
   ],
   "source": [
    "inno.columns"
   ]
  },
  {
   "cell_type": "code",
   "execution_count": 8,
   "id": "b3311940",
   "metadata": {},
   "outputs": [
    {
     "data": {
      "text/plain": [
       "0       -5.0\n",
       "1        3.0\n",
       "2       -5.0\n",
       "3        2.0\n",
       "4       -5.0\n",
       "        ... \n",
       "72963    3.0\n",
       "72964    3.0\n",
       "72965   -5.0\n",
       "72966   -5.0\n",
       "72967   -8.0\n",
       "Name: ple0004, Length: 72968, dtype: float64"
      ]
     },
     "execution_count": 8,
     "metadata": {},
     "output_type": "execute_result"
    }
   ],
   "source": [
    "p[\"ple0004\"]"
   ]
  },
  {
   "cell_type": "code",
   "execution_count": 9,
   "id": "4b70efca",
   "metadata": {},
   "outputs": [
    {
     "data": {
      "text/plain": [
       "(47290, 5240)"
      ]
     },
     "execution_count": 9,
     "metadata": {},
     "output_type": "execute_result"
    }
   ],
   "source": [
    "inno.shape"
   ]
  },
  {
   "cell_type": "code",
   "execution_count": 10,
   "id": "a1150838",
   "metadata": {},
   "outputs": [
    {
     "data": {
      "text/html": [
       "<div>\n",
       "<style scoped>\n",
       "    .dataframe tbody tr th:only-of-type {\n",
       "        vertical-align: middle;\n",
       "    }\n",
       "\n",
       "    .dataframe tbody tr th {\n",
       "        vertical-align: top;\n",
       "    }\n",
       "\n",
       "    .dataframe thead th {\n",
       "        text-align: right;\n",
       "    }\n",
       "</style>\n",
       "<table border=\"1\" class=\"dataframe\">\n",
       "  <thead>\n",
       "    <tr style=\"text-align: right;\">\n",
       "      <th></th>\n",
       "      <th>cid</th>\n",
       "      <th>hid</th>\n",
       "      <th>pid</th>\n",
       "      <th>syear</th>\n",
       "      <th>im_drm_pre</th>\n",
       "      <th>im_drm</th>\n",
       "      <th>im_js</th>\n",
       "      <th>ivornaa01</th>\n",
       "      <th>ivornaa02</th>\n",
       "      <th>ivornab01</th>\n",
       "      <th>...</th>\n",
       "      <th>pts_dkleidka</th>\n",
       "      <th>pts_dkoerp1</th>\n",
       "      <th>pts_dkoerp2</th>\n",
       "      <th>pts_dkoerp3</th>\n",
       "      <th>pts_dkoerp4</th>\n",
       "      <th>pts_dkoerp5</th>\n",
       "      <th>pts_dkoerpka</th>\n",
       "      <th>im_igi</th>\n",
       "      <th>igi01</th>\n",
       "      <th>igi02</th>\n",
       "    </tr>\n",
       "  </thead>\n",
       "  <tbody>\n",
       "    <tr>\n",
       "      <th>0</th>\n",
       "      <td>213543</td>\n",
       "      <td>115380</td>\n",
       "      <td>1153802</td>\n",
       "      <td>2012</td>\n",
       "      <td>0</td>\n",
       "      <td>1</td>\n",
       "      <td>0</td>\n",
       "      <td>-5</td>\n",
       "      <td>-5</td>\n",
       "      <td>-5</td>\n",
       "      <td>...</td>\n",
       "      <td>-5</td>\n",
       "      <td>-5</td>\n",
       "      <td>-5</td>\n",
       "      <td>-5</td>\n",
       "      <td>-5</td>\n",
       "      <td>-5</td>\n",
       "      <td>-5</td>\n",
       "      <td>0</td>\n",
       "      <td>-5</td>\n",
       "      <td>-5</td>\n",
       "    </tr>\n",
       "    <tr>\n",
       "      <th>1</th>\n",
       "      <td>213543</td>\n",
       "      <td>115380</td>\n",
       "      <td>1153802</td>\n",
       "      <td>2013</td>\n",
       "      <td>0</td>\n",
       "      <td>1</td>\n",
       "      <td>0</td>\n",
       "      <td>-5</td>\n",
       "      <td>-5</td>\n",
       "      <td>-5</td>\n",
       "      <td>...</td>\n",
       "      <td>-5</td>\n",
       "      <td>-5</td>\n",
       "      <td>-5</td>\n",
       "      <td>-5</td>\n",
       "      <td>-5</td>\n",
       "      <td>-5</td>\n",
       "      <td>-5</td>\n",
       "      <td>0</td>\n",
       "      <td>-5</td>\n",
       "      <td>-5</td>\n",
       "    </tr>\n",
       "    <tr>\n",
       "      <th>2</th>\n",
       "      <td>213543</td>\n",
       "      <td>115380</td>\n",
       "      <td>1153802</td>\n",
       "      <td>2014</td>\n",
       "      <td>0</td>\n",
       "      <td>1</td>\n",
       "      <td>1</td>\n",
       "      <td>3</td>\n",
       "      <td>3</td>\n",
       "      <td>4</td>\n",
       "      <td>...</td>\n",
       "      <td>-5</td>\n",
       "      <td>-5</td>\n",
       "      <td>-5</td>\n",
       "      <td>-5</td>\n",
       "      <td>-5</td>\n",
       "      <td>-5</td>\n",
       "      <td>-5</td>\n",
       "      <td>0</td>\n",
       "      <td>-5</td>\n",
       "      <td>-5</td>\n",
       "    </tr>\n",
       "    <tr>\n",
       "      <th>3</th>\n",
       "      <td>213543</td>\n",
       "      <td>115380</td>\n",
       "      <td>1153802</td>\n",
       "      <td>2015</td>\n",
       "      <td>0</td>\n",
       "      <td>1</td>\n",
       "      <td>0</td>\n",
       "      <td>-5</td>\n",
       "      <td>-5</td>\n",
       "      <td>-5</td>\n",
       "      <td>...</td>\n",
       "      <td>-5</td>\n",
       "      <td>-5</td>\n",
       "      <td>-5</td>\n",
       "      <td>-5</td>\n",
       "      <td>-5</td>\n",
       "      <td>-5</td>\n",
       "      <td>-5</td>\n",
       "      <td>0</td>\n",
       "      <td>-5</td>\n",
       "      <td>-5</td>\n",
       "    </tr>\n",
       "    <tr>\n",
       "      <th>4</th>\n",
       "      <td>213543</td>\n",
       "      <td>115380</td>\n",
       "      <td>1153802</td>\n",
       "      <td>2016</td>\n",
       "      <td>0</td>\n",
       "      <td>0</td>\n",
       "      <td>0</td>\n",
       "      <td>-5</td>\n",
       "      <td>-5</td>\n",
       "      <td>-5</td>\n",
       "      <td>...</td>\n",
       "      <td>-5</td>\n",
       "      <td>-5</td>\n",
       "      <td>-5</td>\n",
       "      <td>-5</td>\n",
       "      <td>-5</td>\n",
       "      <td>-5</td>\n",
       "      <td>-5</td>\n",
       "      <td>0</td>\n",
       "      <td>-5</td>\n",
       "      <td>-5</td>\n",
       "    </tr>\n",
       "  </tbody>\n",
       "</table>\n",
       "<p>5 rows × 5240 columns</p>\n",
       "</div>"
      ],
      "text/plain": [
       "      cid     hid      pid  syear  im_drm_pre  im_drm  im_js  ivornaa01  \\\n",
       "0  213543  115380  1153802   2012           0       1      0         -5   \n",
       "1  213543  115380  1153802   2013           0       1      0         -5   \n",
       "2  213543  115380  1153802   2014           0       1      1          3   \n",
       "3  213543  115380  1153802   2015           0       1      0         -5   \n",
       "4  213543  115380  1153802   2016           0       0      0         -5   \n",
       "\n",
       "   ivornaa02  ivornab01  ...  pts_dkleidka  pts_dkoerp1  pts_dkoerp2  \\\n",
       "0         -5         -5  ...            -5           -5           -5   \n",
       "1         -5         -5  ...            -5           -5           -5   \n",
       "2          3          4  ...            -5           -5           -5   \n",
       "3         -5         -5  ...            -5           -5           -5   \n",
       "4         -5         -5  ...            -5           -5           -5   \n",
       "\n",
       "   pts_dkoerp3  pts_dkoerp4  pts_dkoerp5  pts_dkoerpka  im_igi  igi01  igi02  \n",
       "0           -5           -5           -5            -5       0     -5     -5  \n",
       "1           -5           -5           -5            -5       0     -5     -5  \n",
       "2           -5           -5           -5            -5       0     -5     -5  \n",
       "3           -5           -5           -5            -5       0     -5     -5  \n",
       "4           -5           -5           -5            -5       0     -5     -5  \n",
       "\n",
       "[5 rows x 5240 columns]"
      ]
     },
     "execution_count": 10,
     "metadata": {},
     "output_type": "execute_result"
    }
   ],
   "source": [
    "inno.head()"
   ]
  },
  {
   "cell_type": "code",
   "execution_count": 11,
   "id": "0ceb75cb",
   "metadata": {},
   "outputs": [],
   "source": [
    "# ip01: Do you know anyone (friends, family) who is in need of long-term care\n",
    "# ip02: Who is this?\n",
    "# ip03: Sex of this person?\n",
    "\n",
    "# ip06: Do you care this person?\n",
    "# ip07: How many hours a day do you care this person?\n",
    "\n",
    "# ip08: Help from others (except you)?\n",
    "# ip09: Who is the \"other\" care provider? E.g. friends, relatives, professional care service etc.\n",
    "\n",
    "\n",
    "# ip10: Any other person you know (friends, family) that needs LTC?"
   ]
  },
  {
   "cell_type": "code",
   "execution_count": 12,
   "id": "d680f605",
   "metadata": {},
   "outputs": [],
   "source": [
    "# inno.loc[inno[\"ip03\"].notna(), \"ip03\"].describe()"
   ]
  },
  {
   "cell_type": "code",
   "execution_count": 13,
   "id": "8d0edd56",
   "metadata": {},
   "outputs": [
    {
     "data": {
      "text/plain": [
       "ip01\n",
       "-5    43422\n",
       "-1        7\n",
       " 1      942\n",
       " 2     2919\n",
       "Name: Count, dtype: int64"
      ]
     },
     "execution_count": 13,
     "metadata": {},
     "output_type": "execute_result"
    }
   ],
   "source": [
    "table(inno[\"ip01\"])  # 1 is YES"
   ]
  },
  {
   "cell_type": "code",
   "execution_count": 59,
   "id": "0b4b1ab1",
   "metadata": {},
   "outputs": [
    {
     "data": {
      "text/plain": [
       "ip03\n",
       "-5    43422\n",
       "-2     2926\n",
       "-1        2\n",
       " 1      358\n",
       " 2      582\n",
       "Name: Count, dtype: int64"
      ]
     },
     "execution_count": 59,
     "metadata": {},
     "output_type": "execute_result"
    }
   ],
   "source": [
    "table(inno[\"ip03\"])  # 1 male, 2 female"
   ]
  },
  {
   "cell_type": "code",
   "execution_count": 61,
   "id": "ad2b3409",
   "metadata": {},
   "outputs": [
    {
     "data": {
      "text/plain": [
       "ip02\n",
       "-5    43422\n",
       "-2     2926\n",
       "-1        2\n",
       " 1       65\n",
       " 2      222\n",
       " 3      114\n",
       " 4      100\n",
       " 5        6\n",
       " 6       39\n",
       " 7      223\n",
       " 8      171\n",
       "Name: Count, dtype: int64"
      ]
     },
     "execution_count": 61,
     "metadata": {},
     "output_type": "execute_result"
    }
   ],
   "source": [
    "table(inno[\"ip02\"])  # 2 parent, 3 parent in law, 4 grandparent, 7 other relative"
   ]
  },
  {
   "cell_type": "code",
   "execution_count": 14,
   "id": "3f5ca6f8",
   "metadata": {},
   "outputs": [
    {
     "data": {
      "text/plain": [
       "ip05\n",
       "-5    43422\n",
       "-2     2926\n",
       " 1      114\n",
       " 2      569\n",
       " 3      259\n",
       "Name: Count, dtype: int64"
      ]
     },
     "execution_count": 14,
     "metadata": {},
     "output_type": "execute_result"
    }
   ],
   "source": [
    "table(inno[\"ip05\"])  # residence of LTC patient"
   ]
  },
  {
   "cell_type": "code",
   "execution_count": 71,
   "id": "68bcd31b",
   "metadata": {},
   "outputs": [
    {
     "data": {
      "text/plain": [
       "ip06\n",
       "-5    43422\n",
       "-2     2926\n",
       " 1      327\n",
       " 2      615\n",
       "Name: Count, dtype: int64"
      ]
     },
     "execution_count": 71,
     "metadata": {},
     "output_type": "execute_result"
    }
   ],
   "source": [
    "table(inno[\"ip06\"])  # do you care for this person 1 yes, 2 no"
   ]
  },
  {
   "cell_type": "code",
   "execution_count": 75,
   "id": "56b82554",
   "metadata": {},
   "outputs": [
    {
     "data": {
      "text/plain": [
       "ip08\n",
       "-5    43422\n",
       "-2     2926\n",
       " 1      703\n",
       " 2      223\n",
       " 3       16\n",
       "Name: Count, dtype: int64"
      ]
     },
     "execution_count": 75,
     "metadata": {},
     "output_type": "execute_result"
    }
   ],
   "source": [
    "table(inno[\"ip08\"])  # care from someone else? 1 yes, 2 no, 3 don't know"
   ]
  },
  {
   "cell_type": "code",
   "execution_count": 84,
   "id": "1d2e3d49",
   "metadata": {},
   "outputs": [
    {
     "data": {
      "text/plain": [
       "ip08\n",
       "-5    43422\n",
       "-2     2926\n",
       " 1      703\n",
       " 2      223\n",
       " 3       16\n",
       "Name: Count, dtype: int64"
      ]
     },
     "execution_count": 84,
     "metadata": {},
     "output_type": "execute_result"
    }
   ],
   "source": [
    "table(inno[\"ip08\"])"
   ]
  },
  {
   "cell_type": "code",
   "execution_count": 90,
   "id": "ae175460",
   "metadata": {},
   "outputs": [
    {
     "data": {
      "text/plain": [
       "ip08a1\n",
       "-5    43422\n",
       "-2     3437\n",
       "-1        2\n",
       " 1      429\n",
       "Name: Count, dtype: int64"
      ]
     },
     "execution_count": 90,
     "metadata": {},
     "output_type": "execute_result"
    }
   ],
   "source": [
    "table(inno[\"ip08a1\"])"
   ]
  },
  {
   "cell_type": "code",
   "execution_count": 91,
   "id": "75fe57dc",
   "metadata": {},
   "outputs": [
    {
     "data": {
      "text/plain": [
       "ip08a1_2\n",
       "-5    43422\n",
       "-2     3811\n",
       " 1       57\n",
       "Name: Count, dtype: int64"
      ]
     },
     "execution_count": 91,
     "metadata": {},
     "output_type": "execute_result"
    }
   ],
   "source": [
    "table(inno[\"ip08a1_2\"])"
   ]
  },
  {
   "cell_type": "code",
   "execution_count": 92,
   "id": "fedb5478",
   "metadata": {},
   "outputs": [
    {
     "data": {
      "text/plain": [
       "ip08a1_3\n",
       "-5    43422\n",
       "-2     3857\n",
       " 1       11\n",
       "Name: Count, dtype: int64"
      ]
     },
     "execution_count": 92,
     "metadata": {},
     "output_type": "execute_result"
    }
   ],
   "source": [
    "table(inno[\"ip08a1_3\"])"
   ]
  },
  {
   "cell_type": "code",
   "execution_count": 93,
   "id": "ecd0a102",
   "metadata": {},
   "outputs": [
    {
     "data": {
      "text/plain": [
       "ip08a1_4\n",
       "-5    43422\n",
       "-2     3867\n",
       " 1        1\n",
       "Name: Count, dtype: int64"
      ]
     },
     "execution_count": 93,
     "metadata": {},
     "output_type": "execute_result"
    }
   ],
   "source": [
    "table(inno[\"ip08a1_4\"])"
   ]
  },
  {
   "cell_type": "code",
   "execution_count": 110,
   "id": "d43bbacf",
   "metadata": {},
   "outputs": [
    {
     "data": {
      "text/plain": [
       "['ip01',\n",
       " 'ip02',\n",
       " 'ip03',\n",
       " 'ip04',\n",
       " 'ip04a',\n",
       " 'ip05',\n",
       " 'ip06',\n",
       " 'ip07w',\n",
       " 'ip07sa',\n",
       " 'ip07so',\n",
       " 'ip08',\n",
       " 'ip08a1',\n",
       " 'ip08a2',\n",
       " 'ip08a3',\n",
       " 'ip08a4',\n",
       " 'ip08a5',\n",
       " 'ip08wn',\n",
       " 'ip10',\n",
       " 'ip02_2',\n",
       " 'ip03_2',\n",
       " 'ip04_2',\n",
       " 'ip04a_2',\n",
       " 'ip05_2',\n",
       " 'ip06_2',\n",
       " 'ip07w_2',\n",
       " 'ip07sa_2',\n",
       " 'ip07so_2',\n",
       " 'ip08_2',\n",
       " 'ip08a1_2',\n",
       " 'ip08a2_2',\n",
       " 'ip08a3_2',\n",
       " 'ip08a4_2',\n",
       " 'ip08a5_2',\n",
       " 'ip08wn_2',\n",
       " 'ip10_2',\n",
       " 'ip02_3',\n",
       " 'ip03_3',\n",
       " 'ip04_3',\n",
       " 'ip04a_3',\n",
       " 'ip05_3',\n",
       " 'ip06_3',\n",
       " 'ip07w_3',\n",
       " 'ip07sa_3',\n",
       " 'ip07so_3',\n",
       " 'ip08_3',\n",
       " 'ip08a1_3',\n",
       " 'ip08a2_3',\n",
       " 'ip08a3_3',\n",
       " 'ip08a4_3',\n",
       " 'ip08a5_3',\n",
       " 'ip08wn_3',\n",
       " 'ip10_3',\n",
       " 'ip02_4',\n",
       " 'ip03_4',\n",
       " 'ip04_4',\n",
       " 'ip04a_4',\n",
       " 'ip05_4',\n",
       " 'ip06_4',\n",
       " 'ip07w_4',\n",
       " 'ip07sa_4',\n",
       " 'ip07so_4',\n",
       " 'ip08_4',\n",
       " 'ip08a1_4',\n",
       " 'ip08a2_4',\n",
       " 'ip08a3_4',\n",
       " 'ip08a4_4',\n",
       " 'ip08a5_4',\n",
       " 'ip08wn_4',\n",
       " 'ip10_4']"
      ]
     },
     "execution_count": 110,
     "metadata": {},
     "output_type": "execute_result"
    }
   ],
   "source": [
    "cols = [col for col in inno if col.startswith(\"ip\")]\n",
    "cols"
   ]
  },
  {
   "cell_type": "code",
   "execution_count": 83,
   "id": "0c968e2c",
   "metadata": {},
   "outputs": [
    {
     "data": {
      "text/plain": [
       "['ip08',\n",
       " 'ip08a1',\n",
       " 'ip08a2',\n",
       " 'ip08a3',\n",
       " 'ip08a4',\n",
       " 'ip08a5',\n",
       " 'ip08wn',\n",
       " 'ip08_2',\n",
       " 'ip08a1_2',\n",
       " 'ip08a2_2',\n",
       " 'ip08a3_2',\n",
       " 'ip08a4_2',\n",
       " 'ip08a5_2',\n",
       " 'ip08wn_2',\n",
       " 'ip08_3',\n",
       " 'ip08a1_3',\n",
       " 'ip08a2_3',\n",
       " 'ip08a3_3',\n",
       " 'ip08a4_3',\n",
       " 'ip08a5_3',\n",
       " 'ip08wn_3',\n",
       " 'ip08_4',\n",
       " 'ip08a1_4',\n",
       " 'ip08a2_4',\n",
       " 'ip08a3_4',\n",
       " 'ip08a4_4',\n",
       " 'ip08a5_4',\n",
       " 'ip08wn_4']"
      ]
     },
     "execution_count": 83,
     "metadata": {},
     "output_type": "execute_result"
    }
   ],
   "source": [
    "cols = [col for col in inno if col.startswith(\"ip08\")]\n",
    "cols"
   ]
  },
  {
   "cell_type": "code",
   "execution_count": 82,
   "id": "1fa959fc",
   "metadata": {},
   "outputs": [
    {
     "data": {
      "text/plain": [
       "['ip08',\n",
       " 'ip08a1',\n",
       " 'ip08a2',\n",
       " 'ip08a3',\n",
       " 'ip08a4',\n",
       " 'ip08a5',\n",
       " 'ip08wn',\n",
       " 'ip08_2',\n",
       " 'ip08a1_2',\n",
       " 'ip08a2_2',\n",
       " 'ip08a3_2',\n",
       " 'ip08a4_2',\n",
       " 'ip08a5_2',\n",
       " 'ip08wn_2',\n",
       " 'ip08_3',\n",
       " 'ip08a1_3',\n",
       " 'ip08a2_3',\n",
       " 'ip08a3_3',\n",
       " 'ip08a4_3',\n",
       " 'ip08a5_3',\n",
       " 'ip08wn_3',\n",
       " 'ip08_4',\n",
       " 'ip08a1_4',\n",
       " 'ip08a2_4',\n",
       " 'ip08a3_4',\n",
       " 'ip08a4_4',\n",
       " 'ip08a5_4',\n",
       " 'ip08wn_4']"
      ]
     },
     "execution_count": 82,
     "metadata": {},
     "output_type": "execute_result"
    }
   ],
   "source": []
  },
  {
   "cell_type": "code",
   "execution_count": 109,
   "id": "21ac6359",
   "metadata": {},
   "outputs": [
    {
     "ename": "KeyError",
     "evalue": "'ip02b'",
     "output_type": "error",
     "traceback": [
      "\u001b[0;31m---------------------------------------------------------------------------\u001b[0m",
      "\u001b[0;31mKeyError\u001b[0m                                  Traceback (most recent call last)",
      "File \u001b[0;32m~/miniconda3/envs/elder_care/lib/python3.10/site-packages/pandas/core/indexes/base.py:3805\u001b[0m, in \u001b[0;36mIndex.get_loc\u001b[0;34m(self, key)\u001b[0m\n\u001b[1;32m   3804\u001b[0m \u001b[38;5;28;01mtry\u001b[39;00m:\n\u001b[0;32m-> 3805\u001b[0m     \u001b[38;5;28;01mreturn\u001b[39;00m \u001b[38;5;28;43mself\u001b[39;49m\u001b[38;5;241;43m.\u001b[39;49m\u001b[43m_engine\u001b[49m\u001b[38;5;241;43m.\u001b[39;49m\u001b[43mget_loc\u001b[49m\u001b[43m(\u001b[49m\u001b[43mcasted_key\u001b[49m\u001b[43m)\u001b[49m\n\u001b[1;32m   3806\u001b[0m \u001b[38;5;28;01mexcept\u001b[39;00m \u001b[38;5;167;01mKeyError\u001b[39;00m \u001b[38;5;28;01mas\u001b[39;00m err:\n",
      "File \u001b[0;32mindex.pyx:167\u001b[0m, in \u001b[0;36mpandas._libs.index.IndexEngine.get_loc\u001b[0;34m()\u001b[0m\n",
      "File \u001b[0;32mindex.pyx:196\u001b[0m, in \u001b[0;36mpandas._libs.index.IndexEngine.get_loc\u001b[0;34m()\u001b[0m\n",
      "File \u001b[0;32mpandas/_libs/hashtable_class_helper.pxi:7081\u001b[0m, in \u001b[0;36mpandas._libs.hashtable.PyObjectHashTable.get_item\u001b[0;34m()\u001b[0m\n",
      "File \u001b[0;32mpandas/_libs/hashtable_class_helper.pxi:7089\u001b[0m, in \u001b[0;36mpandas._libs.hashtable.PyObjectHashTable.get_item\u001b[0;34m()\u001b[0m\n",
      "\u001b[0;31mKeyError\u001b[0m: 'ip02b'",
      "\nThe above exception was the direct cause of the following exception:\n",
      "\u001b[0;31mKeyError\u001b[0m                                  Traceback (most recent call last)",
      "Cell \u001b[0;32mIn[109], line 1\u001b[0m\n\u001b[0;32m----> 1\u001b[0m \u001b[43mdat\u001b[49m\u001b[43m[\u001b[49m\u001b[38;5;124;43m\"\u001b[39;49m\u001b[38;5;124;43mip02b\u001b[39;49m\u001b[38;5;124;43m\"\u001b[39;49m\u001b[43m]\u001b[49m\n",
      "File \u001b[0;32m~/miniconda3/envs/elder_care/lib/python3.10/site-packages/pandas/core/frame.py:4102\u001b[0m, in \u001b[0;36mDataFrame.__getitem__\u001b[0;34m(self, key)\u001b[0m\n\u001b[1;32m   4100\u001b[0m \u001b[38;5;28;01mif\u001b[39;00m \u001b[38;5;28mself\u001b[39m\u001b[38;5;241m.\u001b[39mcolumns\u001b[38;5;241m.\u001b[39mnlevels \u001b[38;5;241m>\u001b[39m \u001b[38;5;241m1\u001b[39m:\n\u001b[1;32m   4101\u001b[0m     \u001b[38;5;28;01mreturn\u001b[39;00m \u001b[38;5;28mself\u001b[39m\u001b[38;5;241m.\u001b[39m_getitem_multilevel(key)\n\u001b[0;32m-> 4102\u001b[0m indexer \u001b[38;5;241m=\u001b[39m \u001b[38;5;28;43mself\u001b[39;49m\u001b[38;5;241;43m.\u001b[39;49m\u001b[43mcolumns\u001b[49m\u001b[38;5;241;43m.\u001b[39;49m\u001b[43mget_loc\u001b[49m\u001b[43m(\u001b[49m\u001b[43mkey\u001b[49m\u001b[43m)\u001b[49m\n\u001b[1;32m   4103\u001b[0m \u001b[38;5;28;01mif\u001b[39;00m is_integer(indexer):\n\u001b[1;32m   4104\u001b[0m     indexer \u001b[38;5;241m=\u001b[39m [indexer]\n",
      "File \u001b[0;32m~/miniconda3/envs/elder_care/lib/python3.10/site-packages/pandas/core/indexes/base.py:3812\u001b[0m, in \u001b[0;36mIndex.get_loc\u001b[0;34m(self, key)\u001b[0m\n\u001b[1;32m   3807\u001b[0m     \u001b[38;5;28;01mif\u001b[39;00m \u001b[38;5;28misinstance\u001b[39m(casted_key, \u001b[38;5;28mslice\u001b[39m) \u001b[38;5;129;01mor\u001b[39;00m (\n\u001b[1;32m   3808\u001b[0m         \u001b[38;5;28misinstance\u001b[39m(casted_key, abc\u001b[38;5;241m.\u001b[39mIterable)\n\u001b[1;32m   3809\u001b[0m         \u001b[38;5;129;01mand\u001b[39;00m \u001b[38;5;28many\u001b[39m(\u001b[38;5;28misinstance\u001b[39m(x, \u001b[38;5;28mslice\u001b[39m) \u001b[38;5;28;01mfor\u001b[39;00m x \u001b[38;5;129;01min\u001b[39;00m casted_key)\n\u001b[1;32m   3810\u001b[0m     ):\n\u001b[1;32m   3811\u001b[0m         \u001b[38;5;28;01mraise\u001b[39;00m InvalidIndexError(key)\n\u001b[0;32m-> 3812\u001b[0m     \u001b[38;5;28;01mraise\u001b[39;00m \u001b[38;5;167;01mKeyError\u001b[39;00m(key) \u001b[38;5;28;01mfrom\u001b[39;00m \u001b[38;5;21;01merr\u001b[39;00m\n\u001b[1;32m   3813\u001b[0m \u001b[38;5;28;01mexcept\u001b[39;00m \u001b[38;5;167;01mTypeError\u001b[39;00m:\n\u001b[1;32m   3814\u001b[0m     \u001b[38;5;66;03m# If we have a listlike key, _check_indexing_error will raise\u001b[39;00m\n\u001b[1;32m   3815\u001b[0m     \u001b[38;5;66;03m#  InvalidIndexError. Otherwise we fall through and re-raise\u001b[39;00m\n\u001b[1;32m   3816\u001b[0m     \u001b[38;5;66;03m#  the TypeError.\u001b[39;00m\n\u001b[1;32m   3817\u001b[0m     \u001b[38;5;28mself\u001b[39m\u001b[38;5;241m.\u001b[39m_check_indexing_error(key)\n",
      "\u001b[0;31mKeyError\u001b[0m: 'ip02b'"
     ]
    }
   ],
   "source": [
    "dat[\"ip02b\"]"
   ]
  },
  {
   "cell_type": "markdown",
   "id": "64908839",
   "metadata": {},
   "source": [
    "### Conditional means/shares of all pids who have a parent or parent-in-law that needs LTC, who is not cared for by the respondent"
   ]
  },
  {
   "cell_type": "code",
   "execution_count": 94,
   "id": "4f5d9bb1",
   "metadata": {},
   "outputs": [
    {
     "data": {
      "text/html": [
       "<div>\n",
       "<style scoped>\n",
       "    .dataframe tbody tr th:only-of-type {\n",
       "        vertical-align: middle;\n",
       "    }\n",
       "\n",
       "    .dataframe tbody tr th {\n",
       "        vertical-align: top;\n",
       "    }\n",
       "\n",
       "    .dataframe thead th {\n",
       "        text-align: right;\n",
       "    }\n",
       "</style>\n",
       "<table border=\"1\" class=\"dataframe\">\n",
       "  <thead>\n",
       "    <tr style=\"text-align: right;\">\n",
       "      <th></th>\n",
       "      <th>cid</th>\n",
       "      <th>hid</th>\n",
       "      <th>pid</th>\n",
       "      <th>syear</th>\n",
       "      <th>im_drm_pre</th>\n",
       "      <th>im_drm</th>\n",
       "      <th>im_js</th>\n",
       "      <th>ivornaa01</th>\n",
       "      <th>ivornaa02</th>\n",
       "      <th>ivornab01</th>\n",
       "      <th>...</th>\n",
       "      <th>pts_dkleidka</th>\n",
       "      <th>pts_dkoerp1</th>\n",
       "      <th>pts_dkoerp2</th>\n",
       "      <th>pts_dkoerp3</th>\n",
       "      <th>pts_dkoerp4</th>\n",
       "      <th>pts_dkoerp5</th>\n",
       "      <th>pts_dkoerpka</th>\n",
       "      <th>im_igi</th>\n",
       "      <th>igi01</th>\n",
       "      <th>igi02</th>\n",
       "    </tr>\n",
       "  </thead>\n",
       "  <tbody>\n",
       "    <tr>\n",
       "      <th>526</th>\n",
       "      <td>201251</td>\n",
       "      <td>201251</td>\n",
       "      <td>2012501</td>\n",
       "      <td>2016</td>\n",
       "      <td>0</td>\n",
       "      <td>0</td>\n",
       "      <td>0</td>\n",
       "      <td>-5</td>\n",
       "      <td>-5</td>\n",
       "      <td>-5</td>\n",
       "      <td>...</td>\n",
       "      <td>-5</td>\n",
       "      <td>-5</td>\n",
       "      <td>-5</td>\n",
       "      <td>-5</td>\n",
       "      <td>-5</td>\n",
       "      <td>-5</td>\n",
       "      <td>-5</td>\n",
       "      <td>0</td>\n",
       "      <td>-5</td>\n",
       "      <td>-5</td>\n",
       "    </tr>\n",
       "    <tr>\n",
       "      <th>627</th>\n",
       "      <td>201758</td>\n",
       "      <td>201758</td>\n",
       "      <td>2017503</td>\n",
       "      <td>2016</td>\n",
       "      <td>0</td>\n",
       "      <td>0</td>\n",
       "      <td>0</td>\n",
       "      <td>-5</td>\n",
       "      <td>-5</td>\n",
       "      <td>-5</td>\n",
       "      <td>...</td>\n",
       "      <td>-5</td>\n",
       "      <td>-5</td>\n",
       "      <td>-5</td>\n",
       "      <td>-5</td>\n",
       "      <td>-5</td>\n",
       "      <td>-5</td>\n",
       "      <td>-5</td>\n",
       "      <td>0</td>\n",
       "      <td>-5</td>\n",
       "      <td>-5</td>\n",
       "    </tr>\n",
       "    <tr>\n",
       "      <th>967</th>\n",
       "      <td>204307</td>\n",
       "      <td>204307</td>\n",
       "      <td>2043002</td>\n",
       "      <td>2016</td>\n",
       "      <td>0</td>\n",
       "      <td>0</td>\n",
       "      <td>0</td>\n",
       "      <td>-5</td>\n",
       "      <td>-5</td>\n",
       "      <td>-5</td>\n",
       "      <td>...</td>\n",
       "      <td>-5</td>\n",
       "      <td>-5</td>\n",
       "      <td>-5</td>\n",
       "      <td>-5</td>\n",
       "      <td>-5</td>\n",
       "      <td>-5</td>\n",
       "      <td>-5</td>\n",
       "      <td>0</td>\n",
       "      <td>-5</td>\n",
       "      <td>-5</td>\n",
       "    </tr>\n",
       "    <tr>\n",
       "      <th>1329</th>\n",
       "      <td>207276</td>\n",
       "      <td>207276</td>\n",
       "      <td>2072701</td>\n",
       "      <td>2016</td>\n",
       "      <td>0</td>\n",
       "      <td>0</td>\n",
       "      <td>0</td>\n",
       "      <td>-5</td>\n",
       "      <td>-5</td>\n",
       "      <td>-5</td>\n",
       "      <td>...</td>\n",
       "      <td>-5</td>\n",
       "      <td>-5</td>\n",
       "      <td>-5</td>\n",
       "      <td>-5</td>\n",
       "      <td>-5</td>\n",
       "      <td>-5</td>\n",
       "      <td>-5</td>\n",
       "      <td>0</td>\n",
       "      <td>-5</td>\n",
       "      <td>-5</td>\n",
       "    </tr>\n",
       "    <tr>\n",
       "      <th>1338</th>\n",
       "      <td>207276</td>\n",
       "      <td>207276</td>\n",
       "      <td>2072702</td>\n",
       "      <td>2016</td>\n",
       "      <td>0</td>\n",
       "      <td>0</td>\n",
       "      <td>0</td>\n",
       "      <td>-5</td>\n",
       "      <td>-5</td>\n",
       "      <td>-5</td>\n",
       "      <td>...</td>\n",
       "      <td>-5</td>\n",
       "      <td>-5</td>\n",
       "      <td>-5</td>\n",
       "      <td>-5</td>\n",
       "      <td>-5</td>\n",
       "      <td>-5</td>\n",
       "      <td>-5</td>\n",
       "      <td>0</td>\n",
       "      <td>-5</td>\n",
       "      <td>-5</td>\n",
       "    </tr>\n",
       "    <tr>\n",
       "      <th>...</th>\n",
       "      <td>...</td>\n",
       "      <td>...</td>\n",
       "      <td>...</td>\n",
       "      <td>...</td>\n",
       "      <td>...</td>\n",
       "      <td>...</td>\n",
       "      <td>...</td>\n",
       "      <td>...</td>\n",
       "      <td>...</td>\n",
       "      <td>...</td>\n",
       "      <td>...</td>\n",
       "      <td>...</td>\n",
       "      <td>...</td>\n",
       "      <td>...</td>\n",
       "      <td>...</td>\n",
       "      <td>...</td>\n",
       "      <td>...</td>\n",
       "      <td>...</td>\n",
       "      <td>...</td>\n",
       "      <td>...</td>\n",
       "      <td>...</td>\n",
       "    </tr>\n",
       "    <tr>\n",
       "      <th>35114</th>\n",
       "      <td>4088234</td>\n",
       "      <td>4088234</td>\n",
       "      <td>40882302</td>\n",
       "      <td>2016</td>\n",
       "      <td>0</td>\n",
       "      <td>0</td>\n",
       "      <td>0</td>\n",
       "      <td>-5</td>\n",
       "      <td>-5</td>\n",
       "      <td>-5</td>\n",
       "      <td>...</td>\n",
       "      <td>-5</td>\n",
       "      <td>-5</td>\n",
       "      <td>-5</td>\n",
       "      <td>-5</td>\n",
       "      <td>-5</td>\n",
       "      <td>-5</td>\n",
       "      <td>-5</td>\n",
       "      <td>0</td>\n",
       "      <td>-5</td>\n",
       "      <td>-5</td>\n",
       "    </tr>\n",
       "    <tr>\n",
       "      <th>35255</th>\n",
       "      <td>4089370</td>\n",
       "      <td>4089370</td>\n",
       "      <td>40893701</td>\n",
       "      <td>2016</td>\n",
       "      <td>0</td>\n",
       "      <td>0</td>\n",
       "      <td>0</td>\n",
       "      <td>-5</td>\n",
       "      <td>-5</td>\n",
       "      <td>-5</td>\n",
       "      <td>...</td>\n",
       "      <td>-5</td>\n",
       "      <td>-5</td>\n",
       "      <td>-5</td>\n",
       "      <td>-5</td>\n",
       "      <td>-5</td>\n",
       "      <td>-5</td>\n",
       "      <td>-5</td>\n",
       "      <td>0</td>\n",
       "      <td>-5</td>\n",
       "      <td>-5</td>\n",
       "    </tr>\n",
       "    <tr>\n",
       "      <th>35287</th>\n",
       "      <td>4089443</td>\n",
       "      <td>4089443</td>\n",
       "      <td>40894401</td>\n",
       "      <td>2016</td>\n",
       "      <td>0</td>\n",
       "      <td>0</td>\n",
       "      <td>0</td>\n",
       "      <td>-5</td>\n",
       "      <td>-5</td>\n",
       "      <td>-5</td>\n",
       "      <td>...</td>\n",
       "      <td>-5</td>\n",
       "      <td>-5</td>\n",
       "      <td>-5</td>\n",
       "      <td>-5</td>\n",
       "      <td>-5</td>\n",
       "      <td>-5</td>\n",
       "      <td>-5</td>\n",
       "      <td>0</td>\n",
       "      <td>-5</td>\n",
       "      <td>-5</td>\n",
       "    </tr>\n",
       "    <tr>\n",
       "      <th>35318</th>\n",
       "      <td>4089702</td>\n",
       "      <td>4089702</td>\n",
       "      <td>40897001</td>\n",
       "      <td>2016</td>\n",
       "      <td>0</td>\n",
       "      <td>0</td>\n",
       "      <td>0</td>\n",
       "      <td>-5</td>\n",
       "      <td>-5</td>\n",
       "      <td>-5</td>\n",
       "      <td>...</td>\n",
       "      <td>-5</td>\n",
       "      <td>-5</td>\n",
       "      <td>-5</td>\n",
       "      <td>-5</td>\n",
       "      <td>-5</td>\n",
       "      <td>-5</td>\n",
       "      <td>-5</td>\n",
       "      <td>0</td>\n",
       "      <td>-5</td>\n",
       "      <td>-5</td>\n",
       "    </tr>\n",
       "    <tr>\n",
       "      <th>35326</th>\n",
       "      <td>4089702</td>\n",
       "      <td>4089702</td>\n",
       "      <td>40897002</td>\n",
       "      <td>2016</td>\n",
       "      <td>0</td>\n",
       "      <td>0</td>\n",
       "      <td>0</td>\n",
       "      <td>-5</td>\n",
       "      <td>-5</td>\n",
       "      <td>-5</td>\n",
       "      <td>...</td>\n",
       "      <td>-5</td>\n",
       "      <td>-5</td>\n",
       "      <td>-5</td>\n",
       "      <td>-5</td>\n",
       "      <td>-5</td>\n",
       "      <td>-5</td>\n",
       "      <td>-5</td>\n",
       "      <td>0</td>\n",
       "      <td>-5</td>\n",
       "      <td>-5</td>\n",
       "    </tr>\n",
       "  </tbody>\n",
       "</table>\n",
       "<p>336 rows × 5240 columns</p>\n",
       "</div>"
      ],
      "text/plain": [
       "           cid      hid       pid  syear  im_drm_pre  im_drm  im_js  \\\n",
       "526     201251   201251   2012501   2016           0       0      0   \n",
       "627     201758   201758   2017503   2016           0       0      0   \n",
       "967     204307   204307   2043002   2016           0       0      0   \n",
       "1329    207276   207276   2072701   2016           0       0      0   \n",
       "1338    207276   207276   2072702   2016           0       0      0   \n",
       "...        ...      ...       ...    ...         ...     ...    ...   \n",
       "35114  4088234  4088234  40882302   2016           0       0      0   \n",
       "35255  4089370  4089370  40893701   2016           0       0      0   \n",
       "35287  4089443  4089443  40894401   2016           0       0      0   \n",
       "35318  4089702  4089702  40897001   2016           0       0      0   \n",
       "35326  4089702  4089702  40897002   2016           0       0      0   \n",
       "\n",
       "       ivornaa01  ivornaa02  ivornab01  ...  pts_dkleidka  pts_dkoerp1  \\\n",
       "526           -5         -5         -5  ...            -5           -5   \n",
       "627           -5         -5         -5  ...            -5           -5   \n",
       "967           -5         -5         -5  ...            -5           -5   \n",
       "1329          -5         -5         -5  ...            -5           -5   \n",
       "1338          -5         -5         -5  ...            -5           -5   \n",
       "...          ...        ...        ...  ...           ...          ...   \n",
       "35114         -5         -5         -5  ...            -5           -5   \n",
       "35255         -5         -5         -5  ...            -5           -5   \n",
       "35287         -5         -5         -5  ...            -5           -5   \n",
       "35318         -5         -5         -5  ...            -5           -5   \n",
       "35326         -5         -5         -5  ...            -5           -5   \n",
       "\n",
       "       pts_dkoerp2  pts_dkoerp3  pts_dkoerp4  pts_dkoerp5  pts_dkoerpka  \\\n",
       "526             -5           -5           -5           -5            -5   \n",
       "627             -5           -5           -5           -5            -5   \n",
       "967             -5           -5           -5           -5            -5   \n",
       "1329            -5           -5           -5           -5            -5   \n",
       "1338            -5           -5           -5           -5            -5   \n",
       "...            ...          ...          ...          ...           ...   \n",
       "35114           -5           -5           -5           -5            -5   \n",
       "35255           -5           -5           -5           -5            -5   \n",
       "35287           -5           -5           -5           -5            -5   \n",
       "35318           -5           -5           -5           -5            -5   \n",
       "35326           -5           -5           -5           -5            -5   \n",
       "\n",
       "       im_igi  igi01  igi02  \n",
       "526         0     -5     -5  \n",
       "627         0     -5     -5  \n",
       "967         0     -5     -5  \n",
       "1329        0     -5     -5  \n",
       "1338        0     -5     -5  \n",
       "...       ...    ...    ...  \n",
       "35114       0     -5     -5  \n",
       "35255       0     -5     -5  \n",
       "35287       0     -5     -5  \n",
       "35318       0     -5     -5  \n",
       "35326       0     -5     -5  \n",
       "\n",
       "[336 rows x 5240 columns]"
      ]
     },
     "execution_count": 94,
     "metadata": {},
     "output_type": "execute_result"
    }
   ],
   "source": [
    "inno.loc[\n",
    "    ((inno[\"ip02\"] == MOTHER_OR_FATHER) | (inno[\"ip02\"] == MOTHER_OR_FATHER_IN_LAW))\n",
    "]"
   ]
  },
  {
   "cell_type": "code",
   "execution_count": 111,
   "id": "f7fb8280",
   "metadata": {},
   "outputs": [
    {
     "data": {
      "text/plain": [
       "ip06\n",
       "1    169\n",
       "2    167\n",
       "Name: Count, dtype: int64"
      ]
     },
     "execution_count": 111,
     "metadata": {},
     "output_type": "execute_result"
    }
   ],
   "source": [
    "table(\n",
    "    inno.loc[\n",
    "        (\n",
    "            (inno[\"ip02\"] == MOTHER_OR_FATHER)\n",
    "            | (inno[\"ip02\"] == MOTHER_OR_FATHER_IN_LAW)\n",
    "        ),\n",
    "        \"ip06\",\n",
    "    ],\n",
    ")"
   ]
  },
  {
   "cell_type": "markdown",
   "id": "0e5fc296",
   "metadata": {},
   "source": [
    "### but is cared for by another relative versus professional care"
   ]
  },
  {
   "cell_type": "code",
   "execution_count": 113,
   "id": "902ca4c4",
   "metadata": {},
   "outputs": [
    {
     "data": {
      "text/plain": [
       "ip08a1\n",
       "-2    93\n",
       " 1    74\n",
       "Name: Count, dtype: int64"
      ]
     },
     "execution_count": 113,
     "metadata": {},
     "output_type": "execute_result"
    }
   ],
   "source": [
    "table(\n",
    "    inno.loc[\n",
    "        ((inno[\"ip02\"] == MOTHER_OR_FATHER) | (inno[\"ip02\"] == MOTHER_OR_FATHER_IN_LAW))\n",
    "        & (inno[\"ip06\"] == 2),\n",
    "        \"ip08a1\",\n",
    "    ],\n",
    ")"
   ]
  },
  {
   "cell_type": "code",
   "execution_count": 120,
   "id": "5a18910d",
   "metadata": {},
   "outputs": [
    {
     "data": {
      "text/plain": [
       "68"
      ]
     },
     "execution_count": 120,
     "metadata": {},
     "output_type": "execute_result"
    }
   ],
   "source": [
    "(\n",
    "    table(\n",
    "        inno.loc[\n",
    "            (\n",
    "                (inno[\"ip02\"] == MOTHER_OR_FATHER)\n",
    "                | (inno[\"ip02\"] == MOTHER_OR_FATHER_IN_LAW)\n",
    "            )\n",
    "            & (inno[\"ip06\"] == 2),\n",
    "            \"ip08a2\",\n",
    "        ],\n",
    "    )[1]\n",
    "    + table(\n",
    "        inno.loc[\n",
    "            (\n",
    "                (inno[\"ip02\"] == MOTHER_OR_FATHER)\n",
    "                | (inno[\"ip02\"] == MOTHER_OR_FATHER_IN_LAW)\n",
    "            )\n",
    "            & (inno[\"ip06\"] == 2),\n",
    "            \"ip08a3\",\n",
    "        ],\n",
    "    )[1]\n",
    ")"
   ]
  },
  {
   "cell_type": "code",
   "execution_count": 121,
   "id": "f668521b",
   "metadata": {},
   "outputs": [
    {
     "data": {
      "text/plain": [
       "142"
      ]
     },
     "execution_count": 121,
     "metadata": {},
     "output_type": "execute_result"
    }
   ],
   "source": [
    "74 + 68"
   ]
  },
  {
   "cell_type": "code",
   "execution_count": 114,
   "id": "78d243b4",
   "metadata": {},
   "outputs": [
    {
     "data": {
      "text/plain": [
       "0.4431137724550898"
      ]
     },
     "execution_count": 114,
     "metadata": {},
     "output_type": "execute_result"
    }
   ],
   "source": [
    "74 / 167"
   ]
  },
  {
   "cell_type": "code",
   "execution_count": null,
   "id": "d90316f7",
   "metadata": {},
   "outputs": [],
   "source": [
    "inno.loc[\n",
    "    ((inno[\"ip02\"] == MOTHER_OR_FATHER) | (inno[\"ip02\"] == MOTHER_OR_FATHER_IN_LAW))\n",
    "    & (inno[\"ip02\"] == MOTHER_OR_FATHER)\n",
    "]"
   ]
  },
  {
   "cell_type": "markdown",
   "id": "ba04dfc5",
   "metadata": {},
   "source": [
    "## Alternative 1 - Exogenous Process for OTHER informal care by relatives or friends:\n",
    "\n",
    "- Condition on gender of respondent\n",
    "- separate by presence of siblings (if sibling is a state variable)\n",
    "- simplified exogenous bargaining game\n",
    "\n",
    "- Assume bargaining among siblings? And or/parents? Who makes the first choice?\n",
    "\n",
    "- exogenous process: probability of outside informal care (unconditional on own informal care): if yes, agent can provide no care\n",
    "--> Can identify through soep-is moment **[1 conditional mean]** _\"Share of people choosing own informal care when exogenous outside informal care is also available\"_\n",
    "\n",
    "\n",
    "\n",
    "- formal (institutional) care always possible\n",
    "- if a relative + care service or only relative on her own provides informal care, does not matter for choice of the agent\n",
    "- interpretation: other siblings and relatives make the first choice: \n",
    "\"Would the be willing to provide informal care\"\n",
    "\n",
    "- The agent (\"daughter\"), then decides on her formal care provision\n",
    "--> can identify moment through soep-is **[1 conditional mean]** _\"Share of people choosing formal care when exogenous outside informal care is NOT available\"_\n",
    "\n",
    "- daughter is in \"last_restort\" situation: forced to make an \"active\" care (i.e. \"no care\" not an option) decision if no one else is willing to provide informal care\n",
    "\n",
    "- if we observe an agent (i.e. daughter) NOT selecting any care (not informal, not formal) it means that someone else provides informal care\n",
    "\n",
    "- exogenous process"
   ]
  },
  {
   "cell_type": "markdown",
   "id": "9378544d",
   "metadata": {},
   "source": [
    "### Further\n",
    "\n",
    "- separate labor-caregiving moments for light and intensive care\n",
    "- light care = combination care: informal care in conjunction with care service\n",
    "- drop people (from sample and from moments) that provide care for someone else than a parent (parent-in-law), i.e. people with a sick child or a spouse in bad health\n",
    "- weight those remaining people in the sample --> generate weighted moments (:\n",
    "--> weight by calculating propensity. \n",
    "- Logit regression in SHARE: Dummy of parental informal care (at least weekly) on age, high_educ, lagged choice full-time, lagged choice part-time (STATE Variables)\n",
    "- then multiply observations in SOEP accordingly before constructing moments\n",
    "\n",
    "- can't find \"child is ill\" variable. Drop all observatins (or pid) with care-dependent person in own household?\n",
    "--> how many adult children live with their parents? ...\n",
    "- can use SHARE to also predict if a caregiver provides care to another relative (including child) - 8% - or someone else --> downweight\n",
    "- need to correct sample weight at the end: Sum of all weights (=easy, simple colsum of weights). Then sum over all WEIGHTED values in the column of interest (e.g. labor dummies of NW/PT/FT), which is then divided by the total sum of weights used\n",
    "--> Taken together, conditional on being an informal caregiver (in SHARE), how likely is it that you provide care to a parent or parent-in-law: Add new column with that propensity in SOEP (=weight) for the CAREGIVERS only! Non caregivers receive naturally zero weight\n",
    "\n",
    "### Caregiving moments\n",
    "1. own informal (light, intensive): population SHARES informal care (light, intensive) by 5-year age bins from SOEP\n",
    "2. Combination care = light informal (see above)\n",
    "3. Formal care (nursing home): Logit parameters"
   ]
  },
  {
   "cell_type": "markdown",
   "id": "18c078af",
   "metadata": {},
   "source": [
    "## Check empirics/plot!\n",
    "\n",
    "- simulate exogenous process of parental health trajectories: expect hump shape over agent's age\n",
    "- DIW Wochenbericht: Informal caregiving over agent's age --> no hump shape actually! Increasing up to age 70, then drop. Check yearly or finer binned caregiving profile in the data\n",
    "- BUUUT! DIW plot contains also spousal caregiving! More reason to check on my SOEP sample of healthy spouses"
   ]
  },
  {
   "cell_type": "code",
   "execution_count": null,
   "id": "b9ce1f74",
   "metadata": {},
   "outputs": [],
   "source": []
  }
 ],
 "metadata": {
  "kernelspec": {
   "display_name": "Python 3 (ipykernel)",
   "language": "python",
   "name": "python3"
  },
  "language_info": {
   "codemirror_mode": {
    "name": "ipython",
    "version": 3
   },
   "file_extension": ".py",
   "mimetype": "text/x-python",
   "name": "python",
   "nbconvert_exporter": "python",
   "pygments_lexer": "ipython3",
   "version": "3.12.9"
  }
 },
 "nbformat": 4,
 "nbformat_minor": 5
}
