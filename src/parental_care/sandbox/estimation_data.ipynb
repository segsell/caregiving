{
 "cells": [
  {
   "cell_type": "code",
   "execution_count": 174,
   "id": "4cdb76d7-8927-4e49-bce4-99feda056cc7",
   "metadata": {},
   "outputs": [],
   "source": [
    "import pandas as pd\n",
    "import numpy as np\n",
    "import re\n",
    "\n",
    "from parental_care.config import BLD\n",
    "from parental_care.config import SRC"
   ]
  },
  {
   "cell_type": "code",
   "execution_count": 2,
   "id": "5a833f1f",
   "metadata": {},
   "outputs": [],
   "source": [
    "def filter_nested_dict(original_dict, keys_to_remove):\n",
    "    return {\n",
    "        key: [value for value in values if value not in keys_to_remove.get(key, [])]\n",
    "        if key in keys_to_remove\n",
    "        else values\n",
    "        for key, values in original_dict.items()\n",
    "    }"
   ]
  },
  {
   "cell_type": "code",
   "execution_count": 3,
   "id": "d0341ee2",
   "metadata": {},
   "outputs": [],
   "source": [
    "def process_wave(wave_number, data_modules):\n",
    "    wave_data = {}\n",
    "\n",
    "    for module in data_modules.keys():\n",
    "        print(f\"module: {module}\")\n",
    "        module_file = (\n",
    "            SRC / f\"data/sharew{wave_number}/sharew{wave_number}_rel8-0-0_{module}.dta\"\n",
    "        )\n",
    "\n",
    "        # Read and filter\n",
    "        if module == \"re\" and wave_number == 7:\n",
    "            wave_module = pd.read_stata(module_file, convert_categoricals=False)\n",
    "            wave_module = wave_module[wave_module[\"country\"] == 12]\n",
    "\n",
    "            #lookup = {\n",
    "            #    f\"re{var[2:]}\": f\"sl{var[2:]}\"\n",
    "            #    for var in data_modules[\"re\"]\n",
    "            #    if var.startswith(\"sl\")\n",
    "            #}\n",
    "            lookup = {\n",
    "                f\"{var[3:]}\": f\"{var}\"\n",
    "                for var in data_modules[\"re\"]\n",
    "                if var.startswith(\"sl\")\n",
    "            }\n",
    "        else:\n",
    "            wave_module = pd.read_stata(module_file, convert_categoricals=True)\n",
    "            wave_module = wave_module[wave_module[\"country\"] == \"Germany\"]\n",
    "\n",
    "            lookup = {\n",
    "                \"sp009_1sp\": \"sp009_1\",\n",
    "                \"sp009_2sp\": \"sp009_2\",\n",
    "                \"sp009_3sp\": \"sp009_3\",\n",
    "                \"sp019d2sp\": \"sp019d2\",\n",
    "                \"sp019d3sp\": \"sp019d3\",\n",
    "                \"sp019d4sp\": \"sp019d4\",\n",
    "                \"sp019d5sp\": \"sp019d5\",\n",
    "                \"sp019d6sp\": \"sp019d6\",\n",
    "                \"sp019d7sp\": \"sp019d7\",\n",
    "            }\n",
    "\n",
    "        # Rename columns using the dictionary\n",
    "        wave_module.rename(columns=lookup, inplace=True)\n",
    "\n",
    "        module_vars = [\"mergeid\"] + data_modules[module]\n",
    "\n",
    "        # Select columns\n",
    "        wave_module = wave_module[module_vars]\n",
    "\n",
    "        wave_data[module] = wave_module\n",
    "\n",
    "        print(wave_module.shape)\n",
    "\n",
    "    add_wealth_data = \"gv_imputations\" in data_modules\n",
    "    merged_data = wave_data[\"cv_r\"]\n",
    "\n",
    "    data_modules.pop(\"cv_r\")\n",
    "    data_modules.pop(\"gv_imputations\", None)\n",
    "\n",
    "    for module_key in data_modules.keys():\n",
    "        merged_data = merged_data.merge(\n",
    "            wave_data[module_key], on=\"mergeid\", how=\"outer\"\n",
    "        )\n",
    "\n",
    "    if add_wealth_data:\n",
    "        merged_data = merged_data.merge(\n",
    "            wave_data[\"gv_imputations\"], on=\"mergeid\", how=\"left\"\n",
    "        )\n",
    "\n",
    "    merged_data[\"wave\"] = wave_number\n",
    "\n",
    "    return merged_data"
   ]
  },
  {
   "cell_type": "code",
   "execution_count": null,
   "id": "646734e5",
   "metadata": {},
   "outputs": [],
   "source": []
  },
  {
   "cell_type": "code",
   "execution_count": 4,
   "id": "1d288e03-bd53-48f2-86cc-39e6390ab231",
   "metadata": {},
   "outputs": [],
   "source": [
    "all_variables = {\n",
    "    \"cv_r\": [\n",
    "        \"int_year\",\n",
    "        \"int_month\",\n",
    "        \"gender\",\n",
    "        \"mobirth\",\n",
    "        \"yrbirth\",\n",
    "        \"age_int\",\n",
    "        \"hhsize\",\n",
    "    ],\n",
    "    \"dn\": [\n",
    "        \"dn002_\",\n",
    "        \"dn003_\",\n",
    "        \"dn010_\",\n",
    "        \"dn041_\",\n",
    "        \"dn009_\",\n",
    "        \"dn014_\",\n",
    "        \"dn015_\",\n",
    "        \"dn016_\",\n",
    "        \"dn026_1\",\n",
    "        \"dn026_2\",\n",
    "        \"dn033_1\",\n",
    "        \"dn033_2\",\n",
    "        \"dn028_1\",\n",
    "        \"dn028_2\",\n",
    "        \"dn030_1\",\n",
    "        \"dn030_2\",\n",
    "        \"dn127_1\",\n",
    "        \"dn127_2\",\n",
    "        \"dn032_1\",\n",
    "        \"dn032_2\",\n",
    "        \"dn012d1\",\n",
    "        \"dn012d2\",\n",
    "        \"dn012d3\",\n",
    "        \"dn012d4\",\n",
    "        \"dn012d5\",\n",
    "        \"dn012d6\",\n",
    "        \"dn012d7\",\n",
    "        \"dn012d8\",\n",
    "        \"dn012d9\",\n",
    "        \"dn012d10\",\n",
    "        \"dn012d11\",\n",
    "        \"dn012d12\",\n",
    "        \"dn012d13\",\n",
    "        \"dn012d14\",\n",
    "        \"dn012d15\",\n",
    "        \"dn012d16\",\n",
    "        \"dn012d17\",\n",
    "        \"dn012d18\",\n",
    "        \"dn012d19\",\n",
    "        \"dn012d20\",\n",
    "        #\"dn012d95\",\n",
    "        \"dn012dno\",\n",
    "        \"dn012dot\",\n",
    "    ],\n",
    "    \"ep\": [\n",
    "        \"ep005_\",\n",
    "        \"ep002_\",\n",
    "        \"ep328_\",\n",
    "        \"ep329_\",\n",
    "        \"ep213_1\",\n",
    "        #\"ep213_2\",\n",
    "        #\"ep213_3\",\n",
    "        #\"ep213_4\",\n",
    "        #\"ep213_5\",\n",
    "        #\"ep213_6\",\n",
    "        #\"ep213_7\",\n",
    "        #\"ep213_8\",\n",
    "        #\"ep213_9\",\n",
    "        #\"ep213_10\",\n",
    "        #\"ep213_11\",\n",
    "        #\"ep213_12\",\n",
    "        #\"ep213_13\",\n",
    "        #\"ep213_14\",\n",
    "        #\"ep213_15\",\n",
    "        #\"ep213_16\",\n",
    "    ],\n",
    "    \"sp\": [\n",
    "        \"sp008_\",\n",
    "        \"sp018_\",\n",
    "        \"sp009_1\",\n",
    "        \"sp009_2\",\n",
    "        \"sp009_3\",\n",
    "        \"sp010d1_1\",\n",
    "        \"sp010d1_2\",\n",
    "        \"sp010d1_3\",\n",
    "        \"sp011_1\",\n",
    "        \"sp011_2\",\n",
    "        \"sp011_3\",\n",
    "        \"sp019d2\",\n",
    "        \"sp019d3\",\n",
    "        \"sp019d4\",\n",
    "        \"sp019d5\",\n",
    "        \"sp019d6\",\n",
    "        \"sp019d7\",\n",
    "    ],\n",
    "    \"gv_isced\": [\"isced1997_r\"],\n",
    "    #\"gv_imputations\": [\n",
    "    #    \"hnetw\"\n",
    "    #],  # household net worth = total gross financial assets + total real assets - total libailities\n",
    "    \"ch\": [\"ch001_\"],\n",
    "}"
   ]
  },
  {
   "cell_type": "code",
   "execution_count": 5,
   "id": "c4c9de15",
   "metadata": {},
   "outputs": [],
   "source": [
    "keys_to_remove_wave1 = {\n",
    "    \"dn\": [\n",
    "        \"dn041_\",\n",
    "        \"dn127_1\",\n",
    "        \"dn127_2\",\n",
    "        \"dn012d15\",\n",
    "        \"dn012d16\",\n",
    "        \"dn012d17\",\n",
    "        \"dn012d18\",\n",
    "        \"dn012d19\",\n",
    "        \"dn012d20\",\n",
    "    ],\n",
    "    \"ep\": [\n",
    "        \"ep328_\",\n",
    "        \"ep329_\",\n",
    "        \"ep213_12\",\n",
    "        \"ep213_13\",\n",
    "        \"ep213_14\",\n",
    "        \"ep213_15\",\n",
    "        \"ep213_16\",\n",
    "    ],\n",
    "}\n",
    "\n",
    "keys_to_remove_wave2 = {\n",
    "    \"dn\": [\n",
    "        \"dn127_1\",\n",
    "        \"dn127_2\",\n",
    "        \"dn012d15\",\n",
    "        \"dn012d16\",\n",
    "        \"dn012d17\",\n",
    "        \"dn012d18\",\n",
    "        \"dn012d19\",\n",
    "        \"dn012d20\",\n",
    "    ],\n",
    "}\n",
    "\n",
    "\n",
    "keys_to_remove_wave4 = {\n",
    "    \"dn\": [\n",
    "        \"dn127_1\",\n",
    "        \"dn127_2\",\n",
    "        \"dn012d14\",\n",
    "        \"dn012d15\",\n",
    "        \"dn012d16\",\n",
    "        \"dn012d17\",\n",
    "        \"dn012d18\",\n",
    "        \"dn012d19\",\n",
    "        \"dn012d20\",\n",
    "    ],\n",
    "    \"sp\": [\n",
    "        \"sp010d1_1\",\n",
    "        \"sp010d1_2\",\n",
    "        \"sp010d1_3\",\n",
    "    ],\n",
    "}\n",
    "\n",
    "\n",
    "keys_to_remove_wave5 = {\n",
    "    \"dn\": [\n",
    "        \"dn127_1\",\n",
    "        \"dn127_2\",\n",
    "        \"dn012d20\",\n",
    "        \"dn012dno\",\n",
    "    ],\n",
    "    \"sp\": [\n",
    "        \"sp010d1_1\",\n",
    "        \"sp010d1_2\",\n",
    "        \"sp010d1_3\",\n",
    "    ],\n",
    "}\n",
    "\n",
    "keys_to_remove_wave6 = {\n",
    "    \"dn\": [\n",
    "        \"dn012dno\",\n",
    "    ],\n",
    "    \"ep\": [\"ep213_14\", \"ep213_15\", \"ep213_16\"],\n",
    "}\n",
    "\n",
    "keys_to_remove_wave7 = {\n",
    "    \"dn\": [\n",
    "        \"dn012dno\",\n",
    "    ],\n",
    "    \"ep\": [\"ep213_14\", \"ep213_15\", \"ep213_16\"],\n",
    "    \"re\": [\n",
    "        \"sl_re018_1\",\n",
    "        \"sl_re018_2\",\n",
    "        \"sl_re018_3\",\n",
    "        \"sl_re018_4\",\n",
    "        \"sl_re018_5\",\n",
    "        \"sl_re018_6\",\n",
    "        \"sl_re018_7\",\n",
    "        \"sl_re020_1\",\n",
    "        \"sl_re020_2\",\n",
    "        \"sl_re020_3\",\n",
    "        \"sl_re020_4\",\n",
    "        \"sl_re020_5\",\n",
    "        \"sl_re020_6\",\n",
    "        \"sl_re020_7\",\n",
    "    ],\n",
    "}\n",
    "\n",
    "keys_to_remove_wave8 = {\n",
    "    \"dn\": [\n",
    "        \"dn012dno\",\n",
    "    ],\n",
    "    \"ep\": [\"ep213_14\", \"ep213_15\", \"ep213_16\"],\n",
    "}"
   ]
  },
  {
   "cell_type": "code",
   "execution_count": 6,
   "id": "d7d0622e",
   "metadata": {},
   "outputs": [],
   "source": [
    "# Retrospective waves\n",
    "re_vars = (\n",
    "    [f\"sl_re011_{i}\" for i in range(1, 21)]\n",
    "    + [f\"sl_re016_{i}\" for i in range(1, 21)]\n",
    "    + [f\"sl_re026_{i}\" for i in range(1, 21)]\n",
    "    + [f\"sl_re018_{i}\" for i in range(1, 8)]\n",
    "    + [f\"sl_re020_{i}\" for i in range(1, 8)]\n",
    ")\n",
    "\n",
    "# Data modules for wave 3\n",
    "variables_wave3 = {\n",
    "    \"cv_r\": [\n",
    "        \"int_year\",\n",
    "        \"int_month\",\n",
    "        \"gender\",\n",
    "        \"mobirth\",\n",
    "        \"yrbirth\",\n",
    "        \"age_int\",\n",
    "        \"hhsize\",\n",
    "    ],\n",
    "    \"re\": re_vars,\n",
    "}\n",
    "\n",
    "# Separate modules for partly retrospective wave 7\n",
    "variables_wave7 = filter_nested_dict(all_variables | {\"re\": re_vars}, keys_to_remove_wave7) "
   ]
  },
  {
   "cell_type": "code",
   "execution_count": 7,
   "id": "c98645e4",
   "metadata": {},
   "outputs": [],
   "source": [
    "variables_wave1 = filter_nested_dict(all_variables, keys_to_remove_wave1)\n",
    "variables_wave2 = filter_nested_dict(all_variables, keys_to_remove_wave2)\n",
    "variables_wave4 = filter_nested_dict(all_variables, keys_to_remove_wave4)\n",
    "variables_wave5 = filter_nested_dict(all_variables, keys_to_remove_wave5)\n",
    "variables_wave6 = filter_nested_dict(all_variables, keys_to_remove_wave6)\n",
    "variables_wave8 = filter_nested_dict(all_variables, keys_to_remove_wave8)"
   ]
  },
  {
   "cell_type": "code",
   "execution_count": null,
   "id": "bb9348fa",
   "metadata": {},
   "outputs": [],
   "source": []
  },
  {
   "cell_type": "code",
   "execution_count": 8,
   "id": "90505186",
   "metadata": {},
   "outputs": [
    {
     "name": "stdout",
     "output_type": "stream",
     "text": [
      "module: cv_r\n",
      "(3920, 8)\n",
      "module: dn\n",
      "(2995, 34)\n",
      "module: ep\n",
      "(2995, 4)\n",
      "module: sp\n",
      "(2995, 18)\n",
      "module: gv_isced\n",
      "(2995, 2)\n",
      "module: ch\n",
      "(2995, 2)\n",
      "module: cv_r\n",
      "(3504, 8)\n",
      "module: dn\n",
      "(2628, 35)\n",
      "module: ep\n",
      "(2628, 6)\n",
      "module: sp\n",
      "(2628, 18)\n",
      "module: gv_isced\n",
      "(2628, 2)\n",
      "module: ch\n",
      "(2628, 2)\n",
      "module: cv_r\n",
      "(2501, 8)\n",
      "module: re\n",
      "(1918, 75)\n",
      "module: cv_r\n",
      "(2146, 8)\n",
      "module: dn\n",
      "(1619, 34)\n",
      "module: ep\n",
      "(1619, 6)\n",
      "module: sp\n",
      "(1619, 15)\n",
      "module: gv_isced\n",
      "(1619, 2)\n",
      "module: ch\n",
      "(1619, 2)\n",
      "module: cv_r\n",
      "(7674, 8)\n",
      "module: dn\n",
      "(5750, 39)\n",
      "module: ep\n",
      "(5750, 6)\n",
      "module: sp\n",
      "(5750, 15)\n",
      "module: gv_isced\n",
      "(5750, 2)\n",
      "module: ch\n",
      "(5750, 2)\n",
      "module: cv_r\n",
      "(5787, 8)\n",
      "module: dn\n",
      "(4411, 42)\n",
      "module: ep\n",
      "(4411, 6)\n",
      "module: sp\n",
      "(4411, 18)\n",
      "module: gv_isced\n",
      "(4411, 2)\n",
      "module: ch\n",
      "(4411, 2)\n",
      "module: cv_r\n",
      "(4928, 8)\n",
      "module: dn\n",
      "(3820, 42)\n",
      "module: ep\n",
      "(3820, 6)\n",
      "module: sp\n",
      "(3820, 18)\n",
      "module: gv_isced\n",
      "(3820, 2)\n",
      "module: ch\n",
      "(3820, 2)\n",
      "module: re\n",
      "(3820, 61)\n",
      "module: cv_r\n",
      "(4202, 8)\n",
      "module: dn\n",
      "(2878, 42)\n",
      "module: ep\n",
      "(2878, 6)\n",
      "module: sp\n",
      "(2878, 18)\n",
      "module: gv_isced\n",
      "(2878, 2)\n",
      "module: ch\n",
      "(2878, 2)\n"
     ]
    }
   ],
   "source": [
    "wave1 = process_wave(wave_number=1, data_modules=variables_wave1)\n",
    "wave2 = process_wave(wave_number=2, data_modules=variables_wave2)\n",
    "wave3 = process_wave(wave_number=3, data_modules=variables_wave3)\n",
    "wave4 = process_wave(wave_number=4, data_modules=variables_wave4)\n",
    "wave5 = process_wave(wave_number=5, data_modules=variables_wave5)\n",
    "wave6 = process_wave(wave_number=6, data_modules=variables_wave6)\n",
    "wave7 = process_wave(wave_number=7, data_modules=variables_wave7)\n",
    "wave8 = process_wave(wave_number=8, data_modules=variables_wave8)"
   ]
  },
  {
   "cell_type": "code",
   "execution_count": 87,
   "id": "64712285",
   "metadata": {},
   "outputs": [],
   "source": []
  },
  {
   "cell_type": "code",
   "execution_count": 102,
   "id": "64e600ec",
   "metadata": {},
   "outputs": [],
   "source": [
    "waves_list = [wave1, wave2, wave3, wave4, wave5, wave6, wave7, wave8]\n",
    "\n",
    "# Drop all nan rows\n",
    "for i, df in enumerate(waves_list):\n",
    "    waves_list[i] = df.dropna(how='all', axis=0, inplace=False)\n",
    "    #waves_list[i] = df.dropna(axis=1, how='all')"
   ]
  },
  {
   "cell_type": "code",
   "execution_count": 103,
   "id": "7ce42af5",
   "metadata": {},
   "outputs": [],
   "source": [
    "def merge_wave_datasets(wave_datasets):\n",
    "    # Combine the data frames in wave_datasets into one data frame\n",
    "    #     combined_data = pd.concat(wave_datasets)\n",
    "    combined_data = pd.concat(wave_datasets, axis=0, ignore_index=True)\n",
    "\n",
    "    # Filter out rows where the 'int_year' column is not equal to -9\n",
    "    #combined_data = combined_data[combined_data[\"int_year\"] != -9]\n",
    "    combined_data = combined_data[combined_data[\"int_year\"] != \"Not applicable\"]\n",
    "\n",
    "    # Sort the data frame by 'mergeid' and 'int_year'\n",
    "    combined_data = combined_data.sort_values(by=[\"mergeid\", \"int_year\"])\n",
    "\n",
    "    return combined_data"
   ]
  },
  {
   "cell_type": "code",
   "execution_count": 104,
   "id": "35cf28f7",
   "metadata": {},
   "outputs": [
    {
     "name": "stderr",
     "output_type": "stream",
     "text": [
      "/tmp/ipykernel_18560/3547024282.py:4: FutureWarning: The behavior of DataFrame concatenation with empty or all-NA entries is deprecated. In a future version, this will no longer exclude empty or all-NA columns when determining the result dtypes. To retain the old behavior, exclude the relevant entries before the concat operation.\n",
      "  combined_data = pd.concat(wave_datasets, axis=0, ignore_index=True)\n"
     ]
    }
   ],
   "source": [
    "data = merge_wave_datasets(waves_list)"
   ]
  },
  {
   "cell_type": "code",
   "execution_count": 105,
   "id": "3ed5c2c6",
   "metadata": {},
   "outputs": [
    {
     "data": {
      "text/plain": [
       "(26593, 149)"
      ]
     },
     "execution_count": 105,
     "metadata": {},
     "output_type": "execute_result"
    }
   ],
   "source": [
    "data.shape"
   ]
  },
  {
   "cell_type": "code",
   "execution_count": 106,
   "id": "0446f200",
   "metadata": {},
   "outputs": [
    {
     "data": {
      "text/plain": [
       "26590"
      ]
     },
     "execution_count": 106,
     "metadata": {},
     "output_type": "execute_result"
    }
   ],
   "source": [
    "sum(pd.crosstab(data[\"int_year\"], columns='Count')[\"Count\"])"
   ]
  },
  {
   "cell_type": "code",
   "execution_count": null,
   "id": "a52ac68b",
   "metadata": {},
   "outputs": [],
   "source": []
  },
  {
   "cell_type": "code",
   "execution_count": 107,
   "id": "7dc0d932",
   "metadata": {},
   "outputs": [
    {
     "data": {
      "text/plain": [
       "149"
      ]
     },
     "execution_count": 107,
     "metadata": {},
     "output_type": "execute_result"
    }
   ],
   "source": [
    "len(list(data))"
   ]
  },
  {
   "cell_type": "code",
   "execution_count": 108,
   "id": "ff5f0ef9",
   "metadata": {},
   "outputs": [],
   "source": [
    "nan_dropped = [\n",
    "    \"mergeid\",\n",
    "    \"int_year\",\n",
    "    \"int_month\",\n",
    "    \"gender\",\n",
    "    \"mobirth\",\n",
    "    \"yrbirth\",\n",
    "    \"age_int\",\n",
    "    \"hhsize\",\n",
    "    \"dn002_\",\n",
    "    \"dn003_\",\n",
    "    \"dn010_\",\n",
    "    \"dn009_\",\n",
    "    \"dn014_\",\n",
    "    \"dn015_\",\n",
    "    \"dn016_\",\n",
    "    \"dn026_1\",\n",
    "    \"dn026_2\",\n",
    "    \"dn033_1\",\n",
    "    \"dn033_2\",\n",
    "    \"dn028_1\",\n",
    "    \"dn028_2\",\n",
    "    \"dn030_1\",\n",
    "    \"dn030_2\",\n",
    "    \"dn032_1\",\n",
    "    \"dn032_2\",\n",
    "    \"dn012d1\",\n",
    "    \"dn012d2\",\n",
    "    \"dn012d3\",\n",
    "    \"dn012d4\",\n",
    "    \"dn012d5\",\n",
    "    \"dn012d6\",\n",
    "    \"dn012d7\",\n",
    "    \"dn012d8\",\n",
    "    \"dn012d9\",\n",
    "    \"dn012d10\",\n",
    "    \"dn012d11\",\n",
    "    \"dn012d12\",\n",
    "    \"dn012d13\",\n",
    "    \"dn012d14\",\n",
    "    \"dn012dno\",\n",
    "    \"dn012dot\",\n",
    "    \"ep005_\",\n",
    "    \"ep002_\",\n",
    "    \"ep213_1\",\n",
    "    \"sp008_\",\n",
    "    \"sp018_\",\n",
    "    \"sp009_1\",\n",
    "    \"sp009_2\",\n",
    "    \"sp009_3\",\n",
    "    \"sp010d1_1\",\n",
    "    \"sp010d1_2\",\n",
    "    \"sp010d1_3\",\n",
    "    \"sp011_1\",\n",
    "    \"sp011_2\",\n",
    "    \"sp011_3\",\n",
    "    \"sp019d2\",\n",
    "    \"sp019d3\",\n",
    "    \"sp019d4\",\n",
    "    \"sp019d5\",\n",
    "    \"sp019d6\",\n",
    "    \"sp019d7\",\n",
    "    \"isced1997_r\",\n",
    "    \"ch001_\",\n",
    "    \"wave\",\n",
    "    \"dn041_\",\n",
    "    \"ep328_\",\n",
    "    \"ep329_\",\n",
    "    \"sl_re011_1\",\n",
    "    \"sl_re011_2\",\n",
    "    \"sl_re011_3\",\n",
    "    \"sl_re011_4\",\n",
    "    \"sl_re011_5\",\n",
    "    \"sl_re011_6\",\n",
    "    \"sl_re011_7\",\n",
    "    \"sl_re011_8\",\n",
    "    \"sl_re011_9\",\n",
    "    \"sl_re011_10\",\n",
    "    \"sl_re011_11\",\n",
    "    \"sl_re016_1\",\n",
    "    \"sl_re016_2\",\n",
    "    \"sl_re016_3\",\n",
    "    \"sl_re016_4\",\n",
    "    \"sl_re016_5\",\n",
    "    \"sl_re016_6\",\n",
    "    \"sl_re016_7\",\n",
    "    \"sl_re016_8\",\n",
    "    \"sl_re016_9\",\n",
    "    \"sl_re016_10\",\n",
    "    \"sl_re016_11\",\n",
    "    \"sl_re026_1\",\n",
    "    \"sl_re026_2\",\n",
    "    \"sl_re026_3\",\n",
    "    \"sl_re026_4\",\n",
    "    \"sl_re026_5\",\n",
    "    \"sl_re026_6\",\n",
    "    \"sl_re026_7\",\n",
    "    \"sl_re026_8\",\n",
    "    \"sl_re026_9\",\n",
    "    \"sl_re026_10\",\n",
    "    \"sl_re026_11\",\n",
    "    \"sl_re018_1\",\n",
    "    \"sl_re018_2\",\n",
    "    \"sl_re018_3\",\n",
    "    \"sl_re018_4\",\n",
    "    \"sl_re018_5\",\n",
    "    \"sl_re018_6\",\n",
    "    \"sl_re018_7\",\n",
    "    \"sl_re020_1\",\n",
    "    \"sl_re020_2\",\n",
    "    \"sl_re020_3\",\n",
    "    \"sl_re020_4\",\n",
    "    \"sl_re020_5\",\n",
    "    \"sl_re020_6\",\n",
    "    \"sl_re020_7\",\n",
    "    \"dn012d15\",\n",
    "    \"dn012d16\",\n",
    "    \"dn012d17\",\n",
    "    \"dn012d18\",\n",
    "    \"dn012d19\",\n",
    "    \"dn127_1\",\n",
    "    \"dn127_2\",\n",
    "    \"dn012d20\",\n",
    "    \"sl_re011_12\",\n",
    "    \"sl_re011_13\",\n",
    "    \"sl_re016_12\",\n",
    "    \"sl_re016_13\",\n",
    "    \"sl_re026_12\",\n",
    "    \"sl_re026_13\",\n",
    "]"
   ]
  },
  {
   "cell_type": "code",
   "execution_count": 111,
   "id": "426996d2",
   "metadata": {},
   "outputs": [],
   "source": [
    "set_empty_cols = {\n",
    "    \"sl_re011_14\",\n",
    "    \"sl_re011_15\",\n",
    "    \"sl_re011_16\",\n",
    "    \"sl_re011_17\",\n",
    "    \"sl_re011_18\",\n",
    "    \"sl_re011_19\",\n",
    "    \"sl_re011_20\",\n",
    "    \"sl_re016_14\",\n",
    "    \"sl_re016_15\",\n",
    "    \"sl_re016_16\",\n",
    "    \"sl_re016_17\",\n",
    "    \"sl_re016_18\",\n",
    "    \"sl_re016_19\",\n",
    "    \"sl_re016_20\",\n",
    "    \"sl_re026_14\",\n",
    "    \"sl_re026_15\",\n",
    "    \"sl_re026_16\",\n",
    "    \"sl_re026_17\",\n",
    "    \"sl_re026_18\",\n",
    "    \"sl_re026_19\",\n",
    "    \"sl_re026_20\",\n",
    "}"
   ]
  },
  {
   "cell_type": "code",
   "execution_count": 99,
   "id": "236424de",
   "metadata": {},
   "outputs": [
    {
     "data": {
      "text/plain": [
       "['mergeid',\n",
       " 'int_year',\n",
       " 'int_month',\n",
       " 'gender',\n",
       " 'mobirth',\n",
       " 'yrbirth',\n",
       " 'age_int',\n",
       " 'hhsize',\n",
       " 'dn002_',\n",
       " 'dn003_',\n",
       " 'dn010_',\n",
       " 'dn009_',\n",
       " 'dn014_',\n",
       " 'dn015_',\n",
       " 'dn016_',\n",
       " 'dn026_1',\n",
       " 'dn026_2',\n",
       " 'dn033_1',\n",
       " 'dn033_2',\n",
       " 'dn028_1',\n",
       " 'dn028_2',\n",
       " 'dn030_1',\n",
       " 'dn030_2',\n",
       " 'dn032_1',\n",
       " 'dn032_2',\n",
       " 'dn012d1',\n",
       " 'dn012d2',\n",
       " 'dn012d3',\n",
       " 'dn012d4',\n",
       " 'dn012d5',\n",
       " 'dn012d6',\n",
       " 'dn012d7',\n",
       " 'dn012d8',\n",
       " 'dn012d9',\n",
       " 'dn012d10',\n",
       " 'dn012d11',\n",
       " 'dn012d12',\n",
       " 'dn012d13',\n",
       " 'dn012d14',\n",
       " 'dn012d15',\n",
       " 'dn012d16',\n",
       " 'dn012d17',\n",
       " 'dn012d18',\n",
       " 'dn012d19',\n",
       " 'dn012d20',\n",
       " 'dn012dno',\n",
       " 'dn012dot',\n",
       " 'ep005_',\n",
       " 'ep002_',\n",
       " 'ep213_1',\n",
       " 'sp008_',\n",
       " 'sp018_',\n",
       " 'sp009_1',\n",
       " 'sp009_2',\n",
       " 'sp009_3',\n",
       " 'sp010d1_1',\n",
       " 'sp010d1_2',\n",
       " 'sp010d1_3',\n",
       " 'sp011_1',\n",
       " 'sp011_2',\n",
       " 'sp011_3',\n",
       " 'sp019d2',\n",
       " 'sp019d3',\n",
       " 'sp019d4',\n",
       " 'sp019d5',\n",
       " 'sp019d6',\n",
       " 'sp019d7',\n",
       " 'isced1997_r',\n",
       " 'ch001_',\n",
       " 'wave',\n",
       " 'dn041_',\n",
       " 'ep328_',\n",
       " 'ep329_',\n",
       " 'sl_re011_1',\n",
       " 'sl_re011_2',\n",
       " 'sl_re011_3',\n",
       " 'sl_re011_4',\n",
       " 'sl_re011_5',\n",
       " 'sl_re011_6',\n",
       " 'sl_re011_7',\n",
       " 'sl_re011_8',\n",
       " 'sl_re011_9',\n",
       " 'sl_re011_10',\n",
       " 'sl_re011_11',\n",
       " 'sl_re011_12',\n",
       " 'sl_re011_13',\n",
       " 'sl_re011_14',\n",
       " 'sl_re011_15',\n",
       " 'sl_re011_16',\n",
       " 'sl_re011_17',\n",
       " 'sl_re011_18',\n",
       " 'sl_re011_19',\n",
       " 'sl_re011_20',\n",
       " 'sl_re016_1',\n",
       " 'sl_re016_2',\n",
       " 'sl_re016_3',\n",
       " 'sl_re016_4',\n",
       " 'sl_re016_5',\n",
       " 'sl_re016_6',\n",
       " 'sl_re016_7',\n",
       " 'sl_re016_8',\n",
       " 'sl_re016_9',\n",
       " 'sl_re016_10',\n",
       " 'sl_re016_11',\n",
       " 'sl_re016_12',\n",
       " 'sl_re016_13',\n",
       " 'sl_re016_14',\n",
       " 'sl_re016_15',\n",
       " 'sl_re016_16',\n",
       " 'sl_re016_17',\n",
       " 'sl_re016_18',\n",
       " 'sl_re016_19',\n",
       " 'sl_re016_20',\n",
       " 'sl_re026_1',\n",
       " 'sl_re026_2',\n",
       " 'sl_re026_3',\n",
       " 'sl_re026_4',\n",
       " 'sl_re026_5',\n",
       " 'sl_re026_6',\n",
       " 'sl_re026_7',\n",
       " 'sl_re026_8',\n",
       " 'sl_re026_9',\n",
       " 'sl_re026_10',\n",
       " 'sl_re026_11',\n",
       " 'sl_re026_12',\n",
       " 'sl_re026_13',\n",
       " 'sl_re026_14',\n",
       " 'sl_re026_15',\n",
       " 'sl_re026_16',\n",
       " 'sl_re026_17',\n",
       " 'sl_re026_18',\n",
       " 'sl_re026_19',\n",
       " 'sl_re026_20',\n",
       " 'sl_re018_1',\n",
       " 'sl_re018_2',\n",
       " 'sl_re018_3',\n",
       " 'sl_re018_4',\n",
       " 'sl_re018_5',\n",
       " 'sl_re018_6',\n",
       " 'sl_re018_7',\n",
       " 'sl_re020_1',\n",
       " 'sl_re020_2',\n",
       " 'sl_re020_3',\n",
       " 'sl_re020_4',\n",
       " 'sl_re020_5',\n",
       " 'sl_re020_6',\n",
       " 'sl_re020_7',\n",
       " 'dn127_1',\n",
       " 'dn127_2',\n",
       " 'dn012d20']"
      ]
     },
     "execution_count": 99,
     "metadata": {},
     "output_type": "execute_result"
    }
   ],
   "source": [
    "r_list"
   ]
  },
  {
   "cell_type": "code",
   "execution_count": null,
   "id": "6157eef6",
   "metadata": {},
   "outputs": [],
   "source": []
  },
  {
   "cell_type": "code",
   "execution_count": 208,
   "id": "4d3bb9d8",
   "metadata": {},
   "outputs": [],
   "source": [
    "def table(df_col):\n",
    "    return pd.crosstab(df_col, columns='Count')[\"Count\"]"
   ]
  },
  {
   "cell_type": "markdown",
   "id": "82e7cefe",
   "metadata": {},
   "source": [
    "# 2) Data preparation"
   ]
  },
  {
   "cell_type": "markdown",
   "id": "0e6bf04c",
   "metadata": {},
   "source": [
    "## Discrete state variables\n",
    "\n",
    "###### states which are interpolated\n",
    "- labor market experience (0, 30)\n",
    "- years in retirement (0, 6)\n",
    "- years in intensive care (0, 5)\n",
    "- father age (70, 90)\n",
    "- mother age (70, 90)\n",
    "###### states which are not interpolated\n",
    "- individuals’ type (1, 2)\n",
    "- father died last period (0, 1)\n",
    "- mother died last period (0, 1)\n",
    "- father alive (0, 1)\n",
    "- mother alive (0, 1)\n",
    "- health of father (1, 2, 3)\n",
    "- health of mother (1, 2, 3)\n",
    "- existence of siblings (0, 1) --> **change to existence of sister?**\n",
    "- parents live close by (0, 1)\n",
    "- married (0, 1)\n",
    "- education (low, high)"
   ]
  },
  {
   "cell_type": "code",
   "execution_count": 295,
   "id": "004215ee",
   "metadata": {},
   "outputs": [
    {
     "data": {
      "text/plain": [
       "(14153, 149)"
      ]
     },
     "execution_count": 295,
     "metadata": {},
     "output_type": "execute_result"
    }
   ],
   "source": [
    "# only females\n",
    "dat = data.copy()\n",
    "\n",
    "# Filter for females\n",
    "dat = dat[dat['gender'] == \"Female\"]\n",
    "dat.shape"
   ]
  },
  {
   "cell_type": "code",
   "execution_count": 296,
   "id": "5d9d9598",
   "metadata": {},
   "outputs": [
    {
     "data": {
      "text/plain": [
       "count             4726\n",
       "unique               4\n",
       "top       Not selected\n",
       "freq              3256\n",
       "Name: dn012d1, dtype: object"
      ]
     },
     "execution_count": 296,
     "metadata": {},
     "output_type": "execute_result"
    }
   ],
   "source": [
    "dat[\"dn012d1\"].describe()"
   ]
  },
  {
   "cell_type": "code",
   "execution_count": 297,
   "id": "5163cb90",
   "metadata": {},
   "outputs": [
    {
     "data": {
      "text/plain": [
       "dn012d1\n",
       "Refusal            1\n",
       "Don't know         2\n",
       "Not selected    3256\n",
       "Selected        1467\n",
       "Name: Count, dtype: int64"
      ]
     },
     "execution_count": 297,
     "metadata": {},
     "output_type": "execute_result"
    }
   ],
   "source": [
    "table(dat[\"dn012d1\"])"
   ]
  },
  {
   "cell_type": "code",
   "execution_count": null,
   "id": "8e0eb715",
   "metadata": {},
   "outputs": [],
   "source": []
  },
  {
   "cell_type": "code",
   "execution_count": 298,
   "id": "3ee60ef1",
   "metadata": {},
   "outputs": [],
   "source": [
    "# Create a mapping dictionary from month names to integers\n",
    "month_mapping = {\n",
    "    'January': 1,\n",
    "    'February': 2,\n",
    "    'March': 3,\n",
    "    'April': 4,\n",
    "    'May': 5,\n",
    "    'June': 6,\n",
    "    'July': 7,\n",
    "    'August': 8,\n",
    "    'September': 9,\n",
    "    'October': 10,\n",
    "    'November': 11,\n",
    "    'December': 12\n",
    "}\n",
    "\n",
    "# Convert 'int_month' and 'mobirth' columns to integers\n",
    "dat['int_month'] = dat['int_month'].map(month_mapping)\n",
    "dat['mobirth'] = dat['mobirth'].map(month_mapping)"
   ]
  },
  {
   "cell_type": "code",
   "execution_count": 299,
   "id": "3ab4fae6",
   "metadata": {},
   "outputs": [],
   "source": [
    "dat[\"age\"] = np.where(\n",
    "    dat[\"int_month\"] >= dat[\"mobirth\"],\n",
    "    dat[\"int_year\"] - dat[\"yrbirth\"],\n",
    "    dat[\"int_year\"] - dat[\"yrbirth\"] - 1,\n",
    ")"
   ]
  },
  {
   "cell_type": "code",
   "execution_count": 300,
   "id": "a2679f06",
   "metadata": {},
   "outputs": [
    {
     "data": {
      "text/plain": [
       "1          80\n",
       "2          51\n",
       "3920     53.0\n",
       "7424     56.0\n",
       "9925     58.0\n",
       "         ... \n",
       "34659      71\n",
       "19742    61.0\n",
       "25530    64.0\n",
       "30458    66.0\n",
       "34660      68\n",
       "Name: age, Length: 14153, dtype: object"
      ]
     },
     "execution_count": 300,
     "metadata": {},
     "output_type": "execute_result"
    }
   ],
   "source": [
    "dat[\"age\"]"
   ]
  },
  {
   "cell_type": "code",
   "execution_count": 301,
   "id": "18cd99a0",
   "metadata": {},
   "outputs": [],
   "source": [
    "# Rename the 'dn041_' column to 'years_educ'\n",
    "dat.rename(columns={'dn041_': 'years_educ'}, inplace=True)"
   ]
  },
  {
   "cell_type": "code",
   "execution_count": 302,
   "id": "c01d3a06",
   "metadata": {},
   "outputs": [
    {
     "data": {
      "text/plain": [
       "years_educ\n",
       "0.0                              6\n",
       "1.0                              7\n",
       "2.0                             27\n",
       "3.0                             60\n",
       "4.0                             11\n",
       "5.0                             26\n",
       "6.0                             26\n",
       "7.0                             31\n",
       "8.0                            388\n",
       "9.0                            157\n",
       "10.0                           305\n",
       "11.0                           727\n",
       "12.0                           679\n",
       "13.0                           499\n",
       "14.0                           230\n",
       "15.0                           214\n",
       "16.0                           189\n",
       "17.0                           117\n",
       "18.0                            90\n",
       "19.0                            57\n",
       "20.0                            42\n",
       "21.0                            23\n",
       "22.0                            14\n",
       "23.0                            15\n",
       "24.0                             1\n",
       "25.0                             8\n",
       "1953.0                           1\n",
       "1970.0                           1\n",
       "Don't know                       9\n",
       "Implausible/suspected wrong     15\n",
       "Refusal                          1\n",
       "Name: Count, dtype: int64"
      ]
     },
     "execution_count": 302,
     "metadata": {},
     "output_type": "execute_result"
    }
   ],
   "source": [
    "table(dat[\"years_educ\"])"
   ]
  },
  {
   "cell_type": "code",
   "execution_count": 303,
   "id": "a6673335",
   "metadata": {},
   "outputs": [],
   "source": [
    "# Use errors='coerce' to convert non-numeric values to NaN\n",
    "dat['years_educ'] = pd.to_numeric(dat['years_educ'], errors='coerce')\n",
    "\n",
    "# Use boolean indexing to drop rows with NaN values in 'years_educ'\n",
    "dat = dat.dropna(subset=['years_educ'])"
   ]
  },
  {
   "cell_type": "code",
   "execution_count": 304,
   "id": "24bb522d",
   "metadata": {},
   "outputs": [],
   "source": [
    "dat = dat[(dat['years_educ'] <= 25) | dat['years_educ'].isna()]"
   ]
  },
  {
   "cell_type": "code",
   "execution_count": 305,
   "id": "2f3b4f2d",
   "metadata": {},
   "outputs": [
    {
     "data": {
      "text/plain": [
       "(3949, 150)"
      ]
     },
     "execution_count": 305,
     "metadata": {},
     "output_type": "execute_result"
    }
   ],
   "source": [
    "dat.shape"
   ]
  },
  {
   "cell_type": "code",
   "execution_count": 306,
   "id": "dbb76f94",
   "metadata": {},
   "outputs": [],
   "source": [
    "# Replace negative values in 'years_educ' with NaN and create 'high_educ' column\n",
    "# dat['years_educ'] = np.where(dat['years_educ'] < 0, np.nan, dat['years_educ'])\n",
    "dat['high_educ'] = np.where(dat['years_educ'] >= 15, 1, 0)"
   ]
  },
  {
   "cell_type": "code",
   "execution_count": 307,
   "id": "ca648eb2",
   "metadata": {},
   "outputs": [
    {
     "data": {
      "text/plain": [
       "(3949, 151)"
      ]
     },
     "execution_count": 307,
     "metadata": {},
     "output_type": "execute_result"
    }
   ],
   "source": [
    "dat.shape"
   ]
  },
  {
   "cell_type": "code",
   "execution_count": 308,
   "id": "9aabdf5e",
   "metadata": {},
   "outputs": [
    {
     "data": {
      "text/plain": [
       "dn012d1\n",
       "Refusal            1\n",
       "Don't know         2\n",
       "Not selected    2360\n",
       "Selected         720\n",
       "Name: Count, dtype: int64"
      ]
     },
     "execution_count": 308,
     "metadata": {},
     "output_type": "execute_result"
    }
   ],
   "source": [
    "table(dat[\"dn012d1\"])"
   ]
  },
  {
   "cell_type": "code",
   "execution_count": 309,
   "id": "53f69c1b",
   "metadata": {},
   "outputs": [],
   "source": [
    "# Create a list of further education columns\n",
    "further_educ = [\n",
    "    \"dn012d1\",\n",
    "    \"dn012d2\",\n",
    "    \"dn012d3\",\n",
    "    \"dn012d4\",\n",
    "    \"dn012d5\",\n",
    "    \"dn012d6\",\n",
    "    \"dn012d7\",\n",
    "    \"dn012d8\",\n",
    "    \"dn012d9\",\n",
    "    \"dn012d10\",\n",
    "    \"dn012d11\",\n",
    "    \"dn012d12\",\n",
    "    \"dn012d13\",\n",
    "    \"dn012d14\",\n",
    "    \"dn012d15\",\n",
    "    \"dn012d16\",\n",
    "    \"dn012d17\",\n",
    "    \"dn012d18\",\n",
    "    \"dn012d19\",\n",
    "    \"dn012d20\",\n",
    "    #'dn012d95' # currently in education --> not needed\n",
    "]"
   ]
  },
  {
   "cell_type": "code",
   "execution_count": 310,
   "id": "bb828f71",
   "metadata": {},
   "outputs": [
    {
     "name": "stdout",
     "output_type": "stream",
     "text": [
      "dn012d1\n",
      "Refusal            1\n",
      "Don't know         2\n",
      "Not selected    2360\n",
      "Selected         720\n",
      "Name: Count, dtype: int64\n",
      "dn012d2\n",
      "Refusal            1\n",
      "Don't know         2\n",
      "Not selected    2925\n",
      "Selected         155\n",
      "Name: Count, dtype: int64\n",
      "dn012d3\n",
      "Refusal            1\n",
      "Don't know         2\n",
      "Not selected    2950\n",
      "Selected         130\n",
      "Name: Count, dtype: int64\n",
      "dn012d4\n",
      "Refusal            1\n",
      "Don't know         2\n",
      "Not selected    2851\n",
      "Selected         229\n",
      "Name: Count, dtype: int64\n",
      "dn012d5\n",
      "Refusal            1\n",
      "Don't know         2\n",
      "Not selected    3004\n",
      "Selected          76\n",
      "Name: Count, dtype: int64\n",
      "dn012d6\n",
      "Refusal            1\n",
      "Don't know         2\n",
      "Not selected    2514\n",
      "Selected         566\n",
      "Name: Count, dtype: int64\n",
      "dn012d7\n",
      "Refusal            1\n",
      "Don't know         2\n",
      "Not selected    2384\n",
      "Selected         696\n",
      "Name: Count, dtype: int64\n",
      "dn012d8\n",
      "Refusal            1\n",
      "Don't know         2\n",
      "Not selected    2964\n",
      "Selected         116\n",
      "Name: Count, dtype: int64\n",
      "dn012d9\n",
      "Don't know         2\n",
      "Not selected    2979\n",
      "Refusal            1\n",
      "Selected         101\n",
      "Name: Count, dtype: int64\n",
      "dn012d10\n",
      "Don't know         2\n",
      "Not selected    2989\n",
      "Refusal            1\n",
      "Selected          91\n",
      "Name: Count, dtype: int64\n",
      "dn012d11\n",
      "Refusal            1\n",
      "Don't know         2\n",
      "Not selected    3017\n",
      "Selected          63\n",
      "Name: Count, dtype: int64\n",
      "dn012d12\n",
      "Refusal            1\n",
      "Don't know         2\n",
      "Not selected    3048\n",
      "Selected          32\n",
      "Name: Count, dtype: int64\n",
      "dn012d13\n",
      "Refusal            1\n",
      "Don't know         2\n",
      "Not selected    3061\n",
      "Selected          19\n",
      "Name: Count, dtype: int64\n",
      "dn012d14\n",
      "Don't know         2\n",
      "Not selected    3003\n",
      "Refusal            1\n",
      "Selected          67\n",
      "Name: Count, dtype: int64\n",
      "dn012d15\n",
      "Refusal            1\n",
      "Don't know         2\n",
      "Not selected    2505\n",
      "Selected          15\n",
      "Name: Count, dtype: int64\n",
      "dn012d16\n",
      "Refusal            1\n",
      "Don't know         2\n",
      "Not selected    2499\n",
      "Selected          21\n",
      "Name: Count, dtype: int64\n",
      "dn012d17\n",
      "Refusal            1\n",
      "Don't know         2\n",
      "Not selected    2503\n",
      "Selected          17\n",
      "Name: Count, dtype: int64\n",
      "dn012d18\n",
      "Refusal            1\n",
      "Don't know         2\n",
      "Not selected    2390\n",
      "Selected         130\n",
      "Name: Count, dtype: int64\n",
      "dn012d19\n",
      "Refusal            1\n",
      "Don't know         2\n",
      "Not selected    2505\n",
      "Selected          15\n",
      "Name: Count, dtype: int64\n",
      "dn012d20\n",
      "Not selected    107\n",
      "Name: Count, dtype: int64\n"
     ]
    }
   ],
   "source": [
    "for var in further_educ:\n",
    "    print(table(dat[var]))"
   ]
  },
  {
   "cell_type": "code",
   "execution_count": 311,
   "id": "370b1b57",
   "metadata": {},
   "outputs": [
    {
     "data": {
      "text/plain": [
       "dn012dno\n",
       "Not selected    440\n",
       "Selected        120\n",
       "Name: Count, dtype: int64"
      ]
     },
     "execution_count": 311,
     "metadata": {},
     "output_type": "execute_result"
    }
   ],
   "source": [
    "table(dat['dn012dno'])"
   ]
  },
  {
   "cell_type": "code",
   "execution_count": 312,
   "id": "d6254667",
   "metadata": {},
   "outputs": [
    {
     "data": {
      "text/plain": [
       "dn012dot\n",
       "Refusal            1\n",
       "Don't know         2\n",
       "Not selected    3069\n",
       "Selected          11\n",
       "Name: Count, dtype: int64"
      ]
     },
     "execution_count": 312,
     "metadata": {},
     "output_type": "execute_result"
    }
   ],
   "source": [
    "table(dat['dn012dot'])"
   ]
  },
  {
   "cell_type": "code",
   "execution_count": 313,
   "id": "4a61e5ba",
   "metadata": {},
   "outputs": [
    {
     "data": {
      "text/plain": [
       "3"
      ]
     },
     "execution_count": 313,
     "metadata": {},
     "output_type": "execute_result"
    }
   ],
   "source": [
    "((dat[\"dn012dot\"] == \"Refusal\") | (dat[\"dn012dot\"] == \"Don't know\")).sum()"
   ]
  },
  {
   "cell_type": "code",
   "execution_count": 314,
   "id": "f6260f3e",
   "metadata": {},
   "outputs": [
    {
     "data": {
      "text/plain": [
       "dn012d1\n",
       "Refusal            1\n",
       "Don't know         2\n",
       "Not selected    2360\n",
       "Selected         720\n",
       "Name: Count, dtype: int64"
      ]
     },
     "execution_count": 314,
     "metadata": {},
     "output_type": "execute_result"
    }
   ],
   "source": [
    "table(dat[\"dn012d1\"])"
   ]
  },
  {
   "cell_type": "code",
   "execution_count": 317,
   "id": "4e7aa5ff",
   "metadata": {},
   "outputs": [],
   "source": [
    "# Process each 'further_educ' column\n",
    "for educ in further_educ:\n",
    "    dat[educ] = np.where(\n",
    "        (dat[educ] != \"Selected\") & (dat[educ] != \"Not selected\"), np.nan, dat[educ]\n",
    "    )\n",
    "    #number = int(re.search(r\"\\d+\", educ).group())\n",
    "    dat[educ] = np.where(dat[educ] == \"Selected\", 1, dat[educ])\n",
    "    dat[educ] = np.where(dat[educ] == \"Not selected\", 0, dat[educ])"
   ]
  },
  {
   "cell_type": "code",
   "execution_count": 318,
   "id": "227f1543",
   "metadata": {},
   "outputs": [
    {
     "data": {
      "text/plain": [
       "3842"
      ]
     },
     "execution_count": 318,
     "metadata": {},
     "output_type": "execute_result"
    }
   ],
   "source": [
    "dat[\"dn012d20\"].isna().sum()"
   ]
  },
  {
   "cell_type": "code",
   "execution_count": 321,
   "id": "d4dbc8dc",
   "metadata": {},
   "outputs": [
    {
     "name": "stdout",
     "output_type": "stream",
     "text": [
      "720\n",
      "155\n",
      "130\n",
      "229\n",
      "76\n",
      "566\n",
      "696\n",
      "116\n",
      "101\n",
      "91\n",
      "63\n",
      "32\n",
      "19\n",
      "67\n",
      "15\n",
      "21\n",
      "17\n",
      "130\n",
      "15\n",
      "0\n"
     ]
    }
   ],
   "source": [
    "for var in further_educ:\n",
    "    print(dat[var].sum())"
   ]
  },
  {
   "cell_type": "code",
   "execution_count": null,
   "id": "0c877180",
   "metadata": {},
   "outputs": [],
   "source": []
  },
  {
   "cell_type": "code",
   "execution_count": 285,
   "id": "02f0a5a7",
   "metadata": {},
   "outputs": [],
   "source": [
    "# Process 'dn012dno' and 'dn012dot' columns\n",
    "# dat[\"dn012dno\"] = np.where(dat[\"dn012dno\"] == \"Not selected\", np.nan, dat[\"dn012dno\"])\n",
    "dat[\"dn012dot\"] = np.where(\n",
    "    (dat[\"dn012dot\"] == \"Refusal\") | (dat[\"dn012dot\"] == \"Don't know\"),\n",
    "    np.nan,\n",
    "    dat[\"dn012dot\"],\n",
    ")\n",
    "dat[\"dn012dno\"] = np.where(dat[\"dn012dno\"] == \"Not selected\", 0, dat[\"dn012dno\"])\n",
    "dat[\"dn012dno\"] = np.where(dat[\"dn012dno\"] == \"Selected\", 1, dat[\"dn012dno\"])"
   ]
  },
  {
   "cell_type": "code",
   "execution_count": 287,
   "id": "6dfda2a1",
   "metadata": {},
   "outputs": [],
   "source": [
    "#dat[list(dat.filter(like='dn012'))] = dat.filter(like='dn012').apply(pd.to_numeric)"
   ]
  },
  {
   "cell_type": "code",
   "execution_count": 326,
   "id": "505ab0a6",
   "metadata": {},
   "outputs": [],
   "source": [
    "def find_max_suffix(row):\n",
    "    max_suffix = 0\n",
    "    for col in further_educ:\n",
    "        if row[col] == 1:\n",
    "            suffix = int(col.split('dn012d')[-1])\n",
    "            max_suffix = max(max_suffix, suffix)\n",
    "    return max_suffix if max_suffix > 0 else np.nan\n",
    "\n",
    "dat['further_educ_max'] = dat.apply(find_max_suffix, axis=1)"
   ]
  },
  {
   "cell_type": "code",
   "execution_count": 327,
   "id": "375652c1",
   "metadata": {},
   "outputs": [
    {
     "data": {
      "text/plain": [
       "further_educ_max\n",
       "1.0     675\n",
       "2.0     124\n",
       "3.0     114\n",
       "4.0     193\n",
       "5.0      70\n",
       "6.0     493\n",
       "7.0     638\n",
       "8.0     105\n",
       "9.0      96\n",
       "10.0     86\n",
       "11.0     57\n",
       "12.0     30\n",
       "13.0     17\n",
       "14.0     64\n",
       "15.0     13\n",
       "16.0     19\n",
       "17.0     17\n",
       "18.0    125\n",
       "19.0     15\n",
       "Name: Count, dtype: int64"
      ]
     },
     "execution_count": 327,
     "metadata": {},
     "output_type": "execute_result"
    }
   ],
   "source": [
    "table(dat[\"further_educ_max\"])"
   ]
  },
  {
   "cell_type": "code",
   "execution_count": 328,
   "id": "e429162a",
   "metadata": {},
   "outputs": [
    {
     "data": {
      "text/plain": [
       "(3949, 152)"
      ]
     },
     "execution_count": 328,
     "metadata": {},
     "output_type": "execute_result"
    }
   ],
   "source": [
    "dat.shape"
   ]
  },
  {
   "cell_type": "code",
   "execution_count": 331,
   "id": "137ef763",
   "metadata": {},
   "outputs": [],
   "source": [
    "dat[\"high_educ_012\"] = (\n",
    "    (\n",
    "        (dat[\"wave\"].isin([1, 2, 4]) & (dat[\"further_educ_max\"] >= 3))\n",
    "        | (dat[\"wave\"].between(5, 7) & (dat[\"further_educ_max\"] >= 10))\n",
    "    )\n",
    "    .astype(int)\n",
    "    .where(dat[\"wave\"] != 3, None)\n",
    ")"
   ]
  },
  {
   "cell_type": "code",
   "execution_count": 332,
   "id": "17351d95",
   "metadata": {},
   "outputs": [
    {
     "data": {
      "text/plain": [
       "high_educ_012\n",
       "0    3398\n",
       "1     551\n",
       "Name: Count, dtype: int64"
      ]
     },
     "execution_count": 332,
     "metadata": {},
     "output_type": "execute_result"
    }
   ],
   "source": [
    "table(dat[\"high_educ_012\"])"
   ]
  },
  {
   "cell_type": "code",
   "execution_count": 333,
   "id": "eca64098",
   "metadata": {},
   "outputs": [],
   "source": [
    "# Create a new column \"high_educ_comb\" based on conditions\n",
    "dat['high_educ_comb'] = ((dat['high_educ'] == 1) | (dat['high_educ_012'] == 1)).astype(int)"
   ]
  },
  {
   "cell_type": "code",
   "execution_count": 334,
   "id": "1b936a2a",
   "metadata": {},
   "outputs": [
    {
     "data": {
      "text/plain": [
       "high_educ_comb\n",
       "0    3018\n",
       "1     931\n",
       "Name: count, dtype: int64"
      ]
     },
     "execution_count": 334,
     "metadata": {},
     "output_type": "execute_result"
    }
   ],
   "source": [
    "# Count the occurrences of each value in the \"high_educ_comb\" column\n",
    "dat['high_educ_comb'].value_counts()"
   ]
  },
  {
   "cell_type": "code",
   "execution_count": 337,
   "id": "8b68431f",
   "metadata": {},
   "outputs": [
    {
     "data": {
      "text/plain": [
       "ep005_\n",
       "Refusal                                                                 1\n",
       "Don't know                                                              1\n",
       "Retired                                                              1613\n",
       "Employed or self-employed (including working for family business)    1412\n",
       "Unemployed                                                            161\n",
       "Permanently sick or disabled                                          110\n",
       "Homemaker                                                             555\n",
       "Other                                                                  41\n",
       "Name: Count, dtype: int64"
      ]
     },
     "execution_count": 337,
     "metadata": {},
     "output_type": "execute_result"
    }
   ],
   "source": [
    "table(dat[\"ep005_\"])"
   ]
  },
  {
   "cell_type": "code",
   "execution_count": 338,
   "id": "ace1cdc9",
   "metadata": {
    "scrolled": true
   },
   "outputs": [
    {
     "data": {
      "text/plain": [
       "ep329_\n",
       "1919.0         1\n",
       "1948.0         1\n",
       "1952.0         1\n",
       "1955.0         1\n",
       "1959.0         1\n",
       "              ..\n",
       "2016.0         1\n",
       "2018.0         2\n",
       "2019.0         2\n",
       "Don't know    26\n",
       "Refusal        9\n",
       "Name: Count, Length: 63, dtype: int64"
      ]
     },
     "execution_count": 338,
     "metadata": {},
     "output_type": "execute_result"
    }
   ],
   "source": [
    "table(dat[\"ep329_\"])"
   ]
  },
  {
   "cell_type": "code",
   "execution_count": 342,
   "id": "1f422eeb",
   "metadata": {},
   "outputs": [],
   "source": [
    "dat[\"ep005_\"] = np.where(\n",
    "    (dat[\"ep005_\"] == \"Refusal\") | (dat[\"ep005_\"] == \"Don't know\"),\n",
    "    np.nan,\n",
    "    dat[\"ep005_\"],\n",
    ")"
   ]
  },
  {
   "cell_type": "code",
   "execution_count": 343,
   "id": "dd5f0247",
   "metadata": {},
   "outputs": [
    {
     "data": {
      "text/plain": [
       "ep005_\n",
       "Employed or self-employed (including working for family business)    1412\n",
       "Homemaker                                                             555\n",
       "Other                                                                  41\n",
       "Permanently sick or disabled                                          110\n",
       "Retired                                                              1613\n",
       "Unemployed                                                            161\n",
       "Name: Count, dtype: int64"
      ]
     },
     "execution_count": 343,
     "metadata": {},
     "output_type": "execute_result"
    }
   ],
   "source": [
    "table(dat[\"ep005_\"])"
   ]
  },
  {
   "cell_type": "code",
   "execution_count": 344,
   "id": "7b8a57b7",
   "metadata": {},
   "outputs": [],
   "source": [
    "dat[\"retired\"] = np.where(\n",
    "    (dat[\"ep005_\"] == \"Retired\") | (~dat[\"ep329_\"].isna()),\n",
    "    1,\n",
    "    np.where(\n",
    "        (dat[\"ep005_\"].isna())\n",
    "        & (dat[\"ep329_\"].isna()),\n",
    "        np.nan,\n",
    "        0,\n",
    "    ),\n",
    ")"
   ]
  },
  {
   "cell_type": "code",
   "execution_count": 345,
   "id": "2b104352",
   "metadata": {},
   "outputs": [
    {
     "data": {
      "text/plain": [
       "retired\n",
       "0.0    2279\n",
       "1.0    1613\n",
       "Name: Count, dtype: int64"
      ]
     },
     "execution_count": 345,
     "metadata": {},
     "output_type": "execute_result"
    }
   ],
   "source": [
    "table(dat[\"retired\"])"
   ]
  },
  {
   "cell_type": "code",
   "execution_count": 335,
   "id": "4735cfb8",
   "metadata": {},
   "outputs": [],
   "source": [
    "#dat['dn012_max'] = dat.filter(like='dn012').max(skipna=True)"
   ]
  },
  {
   "cell_type": "code",
   "execution_count": 346,
   "id": "a8a8fe3d",
   "metadata": {},
   "outputs": [
    {
     "data": {
      "text/plain": [
       "ep329_\n",
       "1919.0         1\n",
       "1948.0         1\n",
       "1952.0         1\n",
       "1955.0         1\n",
       "1959.0         1\n",
       "              ..\n",
       "2016.0         1\n",
       "2018.0         2\n",
       "2019.0         2\n",
       "Don't know    26\n",
       "Refusal        9\n",
       "Name: Count, Length: 63, dtype: int64"
      ]
     },
     "execution_count": 346,
     "metadata": {},
     "output_type": "execute_result"
    }
   ],
   "source": [
    "table(dat['ep329_'])"
   ]
  },
  {
   "cell_type": "code",
   "execution_count": 347,
   "id": "ccdefcbc",
   "metadata": {},
   "outputs": [
    {
     "data": {
      "text/plain": [
       "ep328_\n",
       "Refusal        7\n",
       "Don't know    31\n",
       "January       96\n",
       "February      54\n",
       "March         74\n",
       "April         70\n",
       "May           60\n",
       "June          60\n",
       "July          79\n",
       "August        70\n",
       "September     81\n",
       "October       70\n",
       "November      59\n",
       "December      49\n",
       "Name: Count, dtype: int64"
      ]
     },
     "execution_count": 347,
     "metadata": {},
     "output_type": "execute_result"
    }
   ],
   "source": [
    "table(dat['ep328_'])"
   ]
  },
  {
   "cell_type": "code",
   "execution_count": 352,
   "id": "2c51c08d",
   "metadata": {},
   "outputs": [
    {
     "data": {
      "text/plain": [
       "ep329_\n",
       "1919.0     1\n",
       "1948.0     1\n",
       "1952.0     1\n",
       "1955.0     1\n",
       "1959.0     1\n",
       "          ..\n",
       "2013.0    17\n",
       "2014.0     2\n",
       "2016.0     1\n",
       "2018.0     2\n",
       "2019.0     2\n",
       "Name: Count, Length: 61, dtype: int64"
      ]
     },
     "execution_count": 352,
     "metadata": {},
     "output_type": "execute_result"
    }
   ],
   "source": [
    "table(dat['ep329_'])"
   ]
  },
  {
   "cell_type": "code",
   "execution_count": 353,
   "id": "1fd400e1",
   "metadata": {},
   "outputs": [
    {
     "data": {
      "text/plain": [
       "3920     2006.0\n",
       "12073      2013\n",
       "12075      2013\n",
       "12077      2013\n",
       "12078      2013\n",
       "          ...  \n",
       "19732      2013\n",
       "19736      2013\n",
       "7421     2007.0\n",
       "7423     2006.0\n",
       "19742      2013\n",
       "Name: int_year, Length: 3949, dtype: object"
      ]
     },
     "execution_count": 353,
     "metadata": {},
     "output_type": "execute_result"
    }
   ],
   "source": [
    "dat[\"int_year\"]"
   ]
  },
  {
   "cell_type": "code",
   "execution_count": 348,
   "id": "407be834",
   "metadata": {},
   "outputs": [],
   "source": [
    "dat[\"ep329_\"] = np.where(\n",
    "    (dat[\"ep329_\"] == \"Refusal\") | (dat[\"ep329_\"] == \"Don't know\"),\n",
    "    np.nan,\n",
    "    dat[\"ep329_\"],\n",
    ")\n",
    "dat[\"ep328_\"] = np.where(\n",
    "    (dat[\"ep328_\"] == \"Refusal\") | (dat[\"ep328_\"] == \"Don't know\"),\n",
    "    np.nan,\n",
    "    dat[\"ep328_\"],\n",
    ")"
   ]
  },
  {
   "cell_type": "code",
   "execution_count": 349,
   "id": "261ba715",
   "metadata": {},
   "outputs": [],
   "source": [
    "dat[\"years_since_retirement\"] = np.where(\n",
    "    (dat[\"retired\"] == 1) | (~dat[\"ep329_\"].isna()),\n",
    "    dat[\"int_year\"] - dat[\"ep329_\"],\n",
    "    np.where(dat[\"retired\"] == 0, 0, np.nan),\n",
    ")"
   ]
  },
  {
   "cell_type": "code",
   "execution_count": 351,
   "id": "db1b1f26",
   "metadata": {},
   "outputs": [
    {
     "data": {
      "text/plain": [
       "3920     0.0\n",
       "12073    0.0\n",
       "12075    0.0\n",
       "12077    0.0\n",
       "12078    0.0\n",
       "        ... \n",
       "19732    0.0\n",
       "19736    0.0\n",
       "7421     0.0\n",
       "7423     0.0\n",
       "19742    0.0\n",
       "Name: years_since_retirement, Length: 3949, dtype: object"
      ]
     },
     "execution_count": 351,
     "metadata": {},
     "output_type": "execute_result"
    }
   ],
   "source": [
    "dat[\"years_since_retirement\"]"
   ]
  },
  {
   "cell_type": "code",
   "execution_count": null,
   "id": "7088dc7c",
   "metadata": {},
   "outputs": [],
   "source": []
  },
  {
   "cell_type": "code",
   "execution_count": 354,
   "id": "dfbf47cc",
   "metadata": {},
   "outputs": [],
   "source": [
    "# Translate the R code to Python with categorical data\n",
    "dat[\"married\"] = np.where(\n",
    "    dat[\"dn014_\"].isin(\n",
    "        [\n",
    "            \"Married and living together with spouse\",\n",
    "            \"Married, living separated from spouse\",\n",
    "        ]\n",
    "    ),\n",
    "    1,\n",
    "    np.where(\n",
    "        dat[\"dn014_\"].isin(\n",
    "            [\"Registered partnership\", \"Never married\", \"Divorced\", \"Widowed\"]\n",
    "        ),\n",
    "        0,\n",
    "        np.nan,\n",
    "    ),\n",
    ")\n",
    "\n",
    "dat[\"in_partnership\"] = np.where(\n",
    "    dat[\"dn014_\"].isin(\n",
    "        [\"Married and living together with spouse\", \"Registered partnership\"]\n",
    "    ),\n",
    "    1,\n",
    "    np.where(\n",
    "        dat[\"dn014_\"].isin(\n",
    "            [\n",
    "                \"Married, living separated from spouse\",\n",
    "                \"Never married\",\n",
    "                \"Divorced\",\n",
    "                \"Widowed\",\n",
    "            ]\n",
    "        ),\n",
    "        0,\n",
    "        np.nan,\n",
    "    ),\n",
    ")\n",
    "\n",
    "dat[\"has_partner\"] = np.where(\n",
    "    (dat[\"married\"] == 1) | (dat[\"in_partnership\"] == 1), 1, 0\n",
    ")\n",
    "\n",
    "# Note: The Python code now considers \"dn014_\" as a categorical variable and maps its values before performing the operations."
   ]
  },
  {
   "cell_type": "code",
   "execution_count": 355,
   "id": "f8d984a9",
   "metadata": {},
   "outputs": [
    {
     "data": {
      "text/plain": [
       "has_partner\n",
       "0    1677\n",
       "1    2272\n",
       "Name: Count, dtype: int64"
      ]
     },
     "execution_count": 355,
     "metadata": {},
     "output_type": "execute_result"
    }
   ],
   "source": [
    "table(dat[\"has_partner\"])"
   ]
  },
  {
   "cell_type": "code",
   "execution_count": 356,
   "id": "59a758d6",
   "metadata": {},
   "outputs": [
    {
     "data": {
      "text/plain": [
       "married\n",
       "0.0     866\n",
       "1.0    2255\n",
       "Name: Count, dtype: int64"
      ]
     },
     "execution_count": 356,
     "metadata": {},
     "output_type": "execute_result"
    }
   ],
   "source": [
    "table(dat[\"married\"])"
   ]
  },
  {
   "cell_type": "code",
   "execution_count": null,
   "id": "77c347f7",
   "metadata": {},
   "outputs": [],
   "source": []
  }
 ],
 "metadata": {
  "kernelspec": {
   "display_name": "Python 3 (ipykernel)",
   "language": "python",
   "name": "python3"
  },
  "language_info": {
   "codemirror_mode": {
    "name": "ipython",
    "version": 3
   },
   "file_extension": ".py",
   "mimetype": "text/x-python",
   "name": "python",
   "nbconvert_exporter": "python",
   "pygments_lexer": "ipython3",
   "version": "3.10.12"
  }
 },
 "nbformat": 4,
 "nbformat_minor": 5
}
