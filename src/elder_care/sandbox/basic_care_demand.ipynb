{
 "cells": [
  {
   "cell_type": "code",
   "execution_count": 7,
   "id": "5e0b1a1c",
   "metadata": {},
   "outputs": [],
   "source": [
    "import numpy as np\n",
    "import jax.numpy as jnp\n",
    "import jax"
   ]
  },
  {
   "cell_type": "code",
   "execution_count": 45,
   "id": "d1ffc393",
   "metadata": {},
   "outputs": [],
   "source": [
    "def prob_survival_mother(period, options):\n",
    "    \"\"\"Predicts the survival probability based on logit parameters.\n",
    "\n",
    "    coefs_male = np.array(\n",
    "        [11.561515476144223, -0.11058331994203506, -1.0998977981246952e-05],\n",
    "    )\n",
    "    coefs_female = np.array(\n",
    "        [17.01934835131644, -0.21245937682111807, 0.00047537366767865137],\n",
    "    )\n",
    "\n",
    "    if sex.lower() == \"male\":\n",
    "        coefs = coefs_male\n",
    "    elif sex.lower() == \"female\":\n",
    "        coefs = coefs_female\n",
    "\n",
    "    logit = coefs[0] + coefs[1] * age + coefs[2] * (age**2)\n",
    "\n",
    "    Parameters:\n",
    "        age (int): The age of the individual. Age >= 65.\n",
    "        sex (str): The gender of the individual ('male' or 'female').\n",
    "\n",
    "    Returns:\n",
    "        float: Predicted binary survival probability.\n",
    "\n",
    "    \"\"\"\n",
    "    mother_age = period + options[\"mother_min_age\"]\n",
    "\n",
    "    logit = (\n",
    "        options[\"survival_probability_mother_constant\"]\n",
    "        + options[\"survival_probability_mother_age\"] * mother_age\n",
    "        + options[\"survival_probability_mother_age_squared\"] * (mother_age**2)\n",
    "    )\n",
    "    prob_survival = 1 / (1 + jnp.exp(-logit))\n",
    "\n",
    "    return jnp.array([1 - prob_survival, prob_survival])\n",
    "\n",
    "\n",
    "def prob_survival_father(period, options):\n",
    "    \"\"\"Predicts the survival probability based on logit parameters.\n",
    "\n",
    "    coefs_male = np.array(\n",
    "        [11.561515476144223, -0.11058331994203506, -1.0998977981246952e-05],\n",
    "    )\n",
    "    coefs_female = np.array(\n",
    "        [17.01934835131644, -0.21245937682111807, 0.00047537366767865137],\n",
    "    )\n",
    "\n",
    "    if sex.lower() == \"male\":\n",
    "        coefs = coefs_male\n",
    "    elif sex.lower() == \"female\":\n",
    "        coefs = coefs_female\n",
    "\n",
    "    logit = coefs[0] + coefs[1] * age + coefs[2] * (age**2)\n",
    "\n",
    "    Parameters:\n",
    "        age (int): The age of the individual. Age >= 65.\n",
    "        sex (str): The gender of the individual ('male' or 'female').\n",
    "\n",
    "    Returns:\n",
    "        float: Predicted binary survival probability.\n",
    "\n",
    "    \"\"\"\n",
    "    father_age = period + options[\"father_min_age\"]\n",
    "\n",
    "    logit = (\n",
    "        options[\"survival_probability_father_constant\"]\n",
    "        + options[\"survival_probability_father_age\"] * father_age\n",
    "        + options[\"survival_probability_father_age_squared\"] * (father_age**2)\n",
    "    )\n",
    "    prob_survival = 1 / (1 + jnp.exp(-logit))\n",
    "\n",
    "    return jnp.array([1 - prob_survival, prob_survival])"
   ]
  },
  {
   "cell_type": "code",
   "execution_count": 78,
   "id": "829635df",
   "metadata": {},
   "outputs": [],
   "source": [
    "def prob_exog_care_demand(\n",
    "    period,\n",
    "    mother_alive,\n",
    "    father_alive,\n",
    "    options,\n",
    "):\n",
    "    \"\"\"Create nested exogenous care demand probabilities.\n",
    "\n",
    "    Compute based on parent alive. Otherwise zero.\n",
    "    Done outside?!\n",
    "\n",
    "    Nested exogenous transitions:\n",
    "    - First, a parent's health state is determined by their age and lagged health state.\n",
    "\n",
    "    Args:\n",
    "        parental_age (int): Age of parent.\n",
    "        parent_alive (int): Binary indicator of whether parent is alive.\n",
    "        good_health (int): Binary indicator of good health.\n",
    "        medium_health (int): Binary indicator of medium health.\n",
    "        bad_health (int): Binary indicator of bad health.\n",
    "        params (dict): Dictionary of parameters.\n",
    "\n",
    "    Returns:\n",
    "        jnp.ndarray: Array of shape (2,) representing the probabilities of\n",
    "            no care demand and care demand, respectively.\n",
    "\n",
    "    \"\"\"\n",
    "    mother_survival_prob = prob_survival_mother(period, options)\n",
    "    father_survival_prob = prob_survival_father(period, options)\n",
    "\n",
    "    # ===============================================================\n",
    "\n",
    "    # single mother\n",
    "    prob_care_single_mother = _exog_care_demand_mother(\n",
    "        period=period,\n",
    "        options=options,\n",
    "    )\n",
    "\n",
    "    _mother_trans_probs_care_demand = jnp.array(prob_care_single_mother)\n",
    "\n",
    "    # single father\n",
    "    prob_care_single_father = _exog_care_demand_father(\n",
    "        period=period,\n",
    "        options=options,\n",
    "    )\n",
    "\n",
    "    _father_trans_probs_care_demand = jnp.array(prob_care_single_father)\n",
    "\n",
    "    # couple\n",
    "    prob_care_couple = _exog_care_demand_couple(\n",
    "        period=period,\n",
    "        options=options,\n",
    "    )\n",
    "\n",
    "    _couple_trans_probs_care_demand = jnp.array(prob_care_couple)\n",
    "\n",
    "    # Non-zero probability of care demand only if parent is alive,\n",
    "    # weighted by the parent's survival probability\n",
    "    mother_single_prob_care_demand = (\n",
    "        mother_survival_prob * mother_alive * (1 - father_alive)\n",
    "    ) * _mother_trans_probs_care_demand\n",
    "\n",
    "    father_single_prob_care_demand = (\n",
    "        father_survival_prob * father_alive * (1 - mother_alive)\n",
    "    ) * _father_trans_probs_care_demand\n",
    "\n",
    "    couple_prob_care_demand = (\n",
    "        father_survival_prob * father_alive * mother_survival_prob * mother_alive\n",
    "    ) * _couple_trans_probs_care_demand\n",
    "\n",
    "    prob_care_demand = (\n",
    "        mother_single_prob_care_demand[1]\n",
    "        + father_single_prob_care_demand[1]\n",
    "        + couple_prob_care_demand[1]\n",
    "    )\n",
    "\n",
    "    #return mother_single_prob_care_demand, father_single_prob_care_demand, couple_prob_care_demand\n",
    "    return jnp.array([1 - prob_care_demand, prob_care_demand])\n",
    "\n"
   ]
  },
  {
   "cell_type": "code",
   "execution_count": 79,
   "id": "2d37e27d",
   "metadata": {},
   "outputs": [],
   "source": [
    "def _exog_care_demand_mother(period, options):\n",
    "    \"\"\"Compute scalar care demand probability.\n",
    "\n",
    "    Returns:\n",
    "        float: Probability of needing care given health state.\n",
    "\n",
    "    \"\"\"\n",
    "    mother_age = period + options[\"mother_min_age\"]\n",
    "\n",
    "    logit = (\n",
    "        options[\"exog_care_single_mother_constant\"]\n",
    "        + options[\"exog_care_single_mother_age\"] * mother_age\n",
    "        + options[\"exog_care_single_mother_age_squared\"] * (mother_age**2)\n",
    "    )\n",
    "    return 1 / (1 + np.exp(-logit))\n",
    "\n",
    "\n",
    "def _exog_care_demand_father(period, options):\n",
    "    \"\"\"Compute scalar care demand probability.\n",
    "\n",
    "    Returns:\n",
    "        float: Probability of needing care given health state.\n",
    "\n",
    "    \"\"\"\n",
    "    father_age = period + options[\"father_min_age\"]\n",
    "\n",
    "    logit = (\n",
    "        options[\"exog_care_single_father_constant\"]\n",
    "        + options[\"exog_care_single_father_age\"] * father_age\n",
    "        + options[\"exog_care_single_father_age_squared\"] * (father_age**2)\n",
    "    )\n",
    "    return 1 / (1 + np.exp(-logit))\n",
    "\n",
    "\n",
    "def _exog_care_demand_couple(period, options):\n",
    "    \"\"\"Compute scalar care demand probability.\n",
    "\n",
    "    Returns:\n",
    "        float: Probability of needing care given health state.\n",
    "\n",
    "    \"\"\"\n",
    "    mother_age = period + options[\"mother_min_age\"]\n",
    "    father_age = period + options[\"father_min_age\"]\n",
    "\n",
    "    logit = (\n",
    "        options[\"exog_care_couple_constant\"]\n",
    "        + options[\"exog_care_couple_mother_age\"] * mother_age\n",
    "        + options[\"exog_care_couple_mother_age_squared\"] * (mother_age**2)\n",
    "        + options[\"exog_care_couple_father_age\"] * father_age\n",
    "        + options[\"exog_care_couple_father_age_squared\"] * (father_age**2)\n",
    "    )\n",
    "    return 1 / (1 + np.exp(-logit))"
   ]
  },
  {
   "cell_type": "code",
   "execution_count": null,
   "id": "3e4c485e",
   "metadata": {},
   "outputs": [],
   "source": []
  },
  {
   "cell_type": "code",
   "execution_count": 80,
   "id": "e66705b7",
   "metadata": {},
   "outputs": [],
   "source": [
    "model_params = {\n",
    "    \"quadrature_points_stochastic\": 5,\n",
    "    \"n_choices\": 12,\n",
    "    # \"min_age\": MIN_AGE,\n",
    "    # \"max_age\": MAX_AGE,\n",
    "    \"mother_min_age\": 70,\n",
    "    \"father_min_age\": 70,\n",
    "    # annual\n",
    "    \"consumption_floor\": 400 * 12,\n",
    "    \"unemployment_benefits\": 500 * 12,\n",
    "    \"informal_care_benefits\": 444.0466\n",
    "    * 12,  # 0.4239 * 316 + 0.2793 * 545 + 728 *0.1405 + 901 * 0.0617\n",
    "    \"formal_care_costs\": 118.10658099999999\n",
    "    * 12,  # >>> 79.31 * 0.0944 + 0.4239 * 70.77 + 0.2793 * 176.16 + 224.26 *0.1401\n",
    "    \"interest_rate\": 0.04,  # Adda et al (2017)\n",
    "    # ===================\n",
    "    # EXOGENOUS PROCESSES\n",
    "    # ===================\n",
    "    # survival probability\n",
    "    \"survival_probability_mother_constant\": 17.01934835131644,\n",
    "    \"survival_probability_mother_age\": -0.21245937682111807,\n",
    "    \"survival_probability_mother_age_squared\": 0.00047537366767865137,\n",
    "    \"survival_probability_father_constant\": 11.561515476144223,\n",
    "    \"survival_probability_father_age\": -0.11058331994203506,\n",
    "    \"survival_probability_father_age_squared\": -1.0998977981246952e-05,\n",
    "    # health\n",
    "    \"mother_medium_health\": {\n",
    "        \"medium_health_age\": 0.0304,\n",
    "        \"medium_health_age_squared\": -1.31e-05,\n",
    "        \"medium_health_lagged_good_health\": -1.155,\n",
    "        \"medium_health_lagged_medium_health\": 0.736,\n",
    "        \"medium_health_lagged_bad_health\": 1.434,\n",
    "        \"medium_health_constant\": -1.550,\n",
    "    },\n",
    "    \"mother_bad_health\": {\n",
    "        \"bad_health_age\": 0.196,\n",
    "        \"bad_health_age_squared\": -0.000885,\n",
    "        \"bad_health_lagged_good_health\": -2.558,\n",
    "        \"bad_health_lagged_medium_health\": -0.109,\n",
    "        \"bad_health_lagged_bad_health\": 2.663,\n",
    "        \"bad_health_constant\": -9.220,\n",
    "    },\n",
    "    \"father_medium_health\": {\n",
    "        \"medium_health_age\": 0.176,\n",
    "        \"medium_health_age_squared\": -0.000968,\n",
    "        \"medium_health_lagged_good_health\": -1.047,\n",
    "        \"medium_health_lagged_medium_health\": 1.016,\n",
    "        \"medium_health_lagged_bad_health\": 1.743,\n",
    "        \"medium_health_constant\": -7.374,\n",
    "    },\n",
    "    \"father_bad_health\": {\n",
    "        \"bad_health_age\": 0.260,\n",
    "        \"bad_health_age_squared\": -0.00134,\n",
    "        \"bad_health_lagged_good_health\": -2.472,\n",
    "        \"bad_health_lagged_medium_health\": 0.115,\n",
    "        \"bad_health_lagged_bad_health\": 3.067,\n",
    "        \"bad_health_constant\": -11.89,\n",
    "    },\n",
    "    # TODO: care demand\n",
    "    \"exog_care_single_mother_constant\": 22.322551,\n",
    "    \"exog_care_single_mother_age\": -0.661611,\n",
    "    \"exog_care_single_mother_age_squared\": 0.004840,\n",
    "    \"exog_care_single_father_constant\": 16.950484,\n",
    "    \"exog_care_single_father_age\": -0.541042,\n",
    "    \"exog_care_single_father_age_squared\": 0.004136,\n",
    "    \"exog_care_couple_constant\": 22.518664,\n",
    "    \"exog_care_couple_mother_age\": -0.622648,\n",
    "    \"exog_care_couple_mother_age_squared\": 0.004346,\n",
    "    \"exog_care_couple_father_age\": -0.068347,\n",
    "    \"exog_care_couple_father_age_squared\": 0.000769,\n",
    "}"
   ]
  },
  {
   "cell_type": "code",
   "execution_count": null,
   "id": "e2776c30",
   "metadata": {},
   "outputs": [],
   "source": []
  },
  {
   "cell_type": "code",
   "execution_count": 81,
   "id": "d48da422",
   "metadata": {},
   "outputs": [
    {
     "data": {
      "text/plain": [
       "(0.852997120909907, 0.8788474672693936)"
      ]
     },
     "execution_count": 81,
     "metadata": {},
     "output_type": "execute_result"
    }
   ],
   "source": [
    "# Test\n",
    "period = 20\n",
    "mother_survival_prob = prob_survival_mother(period, options=model_params)\n",
    "father_survival_prob = prob_survival_father(period, options=model_params)\n",
    "_exog_care_demand_father(period=period, options=model_params), _exog_care_demand_mother(\n",
    "    period=period, options=model_params,\n",
    ")"
   ]
  },
  {
   "cell_type": "code",
   "execution_count": 82,
   "id": "8350c91d",
   "metadata": {},
   "outputs": [
    {
     "data": {
      "text/plain": [
       "(Array(0.82052743, dtype=float32), Array(0.8517675, dtype=float32))"
      ]
     },
     "execution_count": 82,
     "metadata": {},
     "output_type": "execute_result"
    }
   ],
   "source": [
    "father_survival_prob[1], mother_survival_prob[1]"
   ]
  },
  {
   "cell_type": "code",
   "execution_count": 83,
   "id": "37ebe455",
   "metadata": {},
   "outputs": [
    {
     "data": {
      "text/plain": [
       "0.8532865426853096"
      ]
     },
     "execution_count": 83,
     "metadata": {},
     "output_type": "execute_result"
    }
   ],
   "source": [
    "_exog_care_demand_couple(period=period, options=model_params)"
   ]
  },
  {
   "cell_type": "code",
   "execution_count": 86,
   "id": "51d6258b",
   "metadata": {},
   "outputs": [
    {
     "data": {
      "text/plain": [
       "Array([0.5011158, 0.4988842], dtype=float32)"
      ]
     },
     "execution_count": 86,
     "metadata": {},
     "output_type": "execute_result"
    }
   ],
   "source": [
    "prob_exog_care_demand(period=10, mother_alive=0, father_alive=1, options=model_params)"
   ]
  },
  {
   "cell_type": "code",
   "execution_count": 87,
   "id": "0decf4cc",
   "metadata": {},
   "outputs": [
    {
     "data": {
      "text/plain": [
       "Array([1., 0.], dtype=float32)"
      ]
     },
     "execution_count": 87,
     "metadata": {},
     "output_type": "execute_result"
    }
   ],
   "source": [
    "prob_exog_care_demand(period=10, mother_alive=0, father_alive=0, options=model_params)"
   ]
  },
  {
   "cell_type": "code",
   "execution_count": null,
   "id": "9b7958ff",
   "metadata": {},
   "outputs": [],
   "source": []
  },
  {
   "cell_type": "markdown",
   "id": "8f3d4ebf",
   "metadata": {},
   "source": [
    "## State transition and feasible choice set"
   ]
  },
  {
   "cell_type": "code",
   "execution_count": 39,
   "id": "faff7444",
   "metadata": {},
   "outputs": [
    {
     "ename": "NameError",
     "evalue": "name 'prob_part_time_offer' is not defined",
     "output_type": "error",
     "traceback": [
      "\u001b[0;31m---------------------------------------------------------------------------\u001b[0m",
      "\u001b[0;31mNameError\u001b[0m                                 Traceback (most recent call last)",
      "Cell \u001b[0;32mIn[39], line 13\u001b[0m\n\u001b[1;32m      1\u001b[0m options \u001b[38;5;241m=\u001b[39m {\n\u001b[1;32m      2\u001b[0m     \u001b[38;5;124m\"\u001b[39m\u001b[38;5;124mstate_space\u001b[39m\u001b[38;5;124m\"\u001b[39m: {\n\u001b[1;32m      3\u001b[0m         \u001b[38;5;124m\"\u001b[39m\u001b[38;5;124mn_periods\u001b[39m\u001b[38;5;124m\"\u001b[39m: \u001b[38;5;241m20\u001b[39m,\n\u001b[1;32m      4\u001b[0m         \u001b[38;5;124m\"\u001b[39m\u001b[38;5;124mn_choices\u001b[39m\u001b[38;5;124m\"\u001b[39m: \u001b[38;5;241m12\u001b[39m,\n\u001b[1;32m      5\u001b[0m         \u001b[38;5;124m\"\u001b[39m\u001b[38;5;124mchoices\u001b[39m\u001b[38;5;124m\"\u001b[39m: np\u001b[38;5;241m.\u001b[39marange(\u001b[38;5;241m12\u001b[39m),\n\u001b[1;32m      6\u001b[0m         \u001b[38;5;124m\"\u001b[39m\u001b[38;5;124mendogenous_states\u001b[39m\u001b[38;5;124m\"\u001b[39m: {\n\u001b[1;32m      7\u001b[0m             \u001b[38;5;124m\"\u001b[39m\u001b[38;5;124mmarried\u001b[39m\u001b[38;5;124m\"\u001b[39m: np\u001b[38;5;241m.\u001b[39marange(\u001b[38;5;241m2\u001b[39m),\n\u001b[1;32m      8\u001b[0m             \u001b[38;5;124m\"\u001b[39m\u001b[38;5;124mhas_sibling\u001b[39m\u001b[38;5;124m\"\u001b[39m: np\u001b[38;5;241m.\u001b[39marange(\u001b[38;5;241m2\u001b[39m),\n\u001b[1;32m      9\u001b[0m         },\n\u001b[1;32m     10\u001b[0m         \u001b[38;5;124m\"\u001b[39m\u001b[38;5;124mexogenous_processes\u001b[39m\u001b[38;5;124m\"\u001b[39m: {\n\u001b[1;32m     11\u001b[0m             \u001b[38;5;124m\"\u001b[39m\u001b[38;5;124mpart_time_offer\u001b[39m\u001b[38;5;124m\"\u001b[39m: {\n\u001b[1;32m     12\u001b[0m                 \u001b[38;5;124m\"\u001b[39m\u001b[38;5;124mstates\u001b[39m\u001b[38;5;124m\"\u001b[39m: np\u001b[38;5;241m.\u001b[39marange(\u001b[38;5;241m2\u001b[39m),\n\u001b[0;32m---> 13\u001b[0m                 \u001b[38;5;124m\"\u001b[39m\u001b[38;5;124mtransition\u001b[39m\u001b[38;5;124m\"\u001b[39m: \u001b[43mprob_part_time_offer\u001b[49m,\n\u001b[1;32m     14\u001b[0m             },\n\u001b[1;32m     15\u001b[0m             \u001b[38;5;124m\"\u001b[39m\u001b[38;5;124mfull_time_offer\u001b[39m\u001b[38;5;124m\"\u001b[39m: {\n\u001b[1;32m     16\u001b[0m                 \u001b[38;5;124m\"\u001b[39m\u001b[38;5;124mstates\u001b[39m\u001b[38;5;124m\"\u001b[39m: np\u001b[38;5;241m.\u001b[39marange(\u001b[38;5;241m2\u001b[39m),\n\u001b[1;32m     17\u001b[0m                 \u001b[38;5;124m\"\u001b[39m\u001b[38;5;124mtransition\u001b[39m\u001b[38;5;124m\"\u001b[39m: prob_full_time_offer,\n\u001b[1;32m     18\u001b[0m             },\n\u001b[1;32m     19\u001b[0m             \u001b[38;5;124m\"\u001b[39m\u001b[38;5;124mcare_demand\u001b[39m\u001b[38;5;124m\"\u001b[39m: {\n\u001b[1;32m     20\u001b[0m                 \u001b[38;5;124m\"\u001b[39m\u001b[38;5;124mstates\u001b[39m\u001b[38;5;124m\"\u001b[39m: np\u001b[38;5;241m.\u001b[39marange(\u001b[38;5;241m2\u001b[39m),\n\u001b[1;32m     21\u001b[0m                 \u001b[38;5;124m\"\u001b[39m\u001b[38;5;124mtransition\u001b[39m\u001b[38;5;124m\"\u001b[39m: prob_exog_care_demand,\n\u001b[1;32m     22\u001b[0m             },\n\u001b[1;32m     23\u001b[0m             \u001b[38;5;124m\"\u001b[39m\u001b[38;5;124mmother_alive\u001b[39m\u001b[38;5;124m\"\u001b[39m: {\n\u001b[1;32m     24\u001b[0m                 \u001b[38;5;124m\"\u001b[39m\u001b[38;5;124mstates\u001b[39m\u001b[38;5;124m\"\u001b[39m: np\u001b[38;5;241m.\u001b[39marange(\u001b[38;5;241m2\u001b[39m),\n\u001b[1;32m     25\u001b[0m                 \u001b[38;5;124m\"\u001b[39m\u001b[38;5;124mtransition\u001b[39m\u001b[38;5;124m\"\u001b[39m: prob_survival_mother,\n\u001b[1;32m     26\u001b[0m             },\n\u001b[1;32m     27\u001b[0m             \u001b[38;5;124m\"\u001b[39m\u001b[38;5;124mfather_alive\u001b[39m\u001b[38;5;124m\"\u001b[39m: {\n\u001b[1;32m     28\u001b[0m                 \u001b[38;5;124m\"\u001b[39m\u001b[38;5;124mstates\u001b[39m\u001b[38;5;124m\"\u001b[39m: np\u001b[38;5;241m.\u001b[39marange(\u001b[38;5;241m2\u001b[39m),\n\u001b[1;32m     29\u001b[0m                 \u001b[38;5;124m\"\u001b[39m\u001b[38;5;124mtransition\u001b[39m\u001b[38;5;124m\"\u001b[39m: prob_survival_father,\n\u001b[1;32m     30\u001b[0m             },\n\u001b[1;32m     31\u001b[0m             \u001b[38;5;66;03m# \"mother_health\": {\u001b[39;00m\n\u001b[1;32m     32\u001b[0m             \u001b[38;5;66;03m#    \"states\": np.arange(3),\u001b[39;00m\n\u001b[1;32m     33\u001b[0m             \u001b[38;5;66;03m#    \"transition\": exog_health_transition_mother,\u001b[39;00m\n\u001b[1;32m     34\u001b[0m             \u001b[38;5;66;03m# },\u001b[39;00m\n\u001b[1;32m     35\u001b[0m             \u001b[38;5;66;03m# \"father_health\": {\u001b[39;00m\n\u001b[1;32m     36\u001b[0m             \u001b[38;5;66;03m#    \"states\": np.arange(3),\u001b[39;00m\n\u001b[1;32m     37\u001b[0m             \u001b[38;5;66;03m#    \"transition\": exog_health_transition_father,\u001b[39;00m\n\u001b[1;32m     38\u001b[0m             \u001b[38;5;66;03m# },\u001b[39;00m\n\u001b[1;32m     39\u001b[0m         },\n\u001b[1;32m     40\u001b[0m     },\n\u001b[1;32m     41\u001b[0m }\n",
      "\u001b[0;31mNameError\u001b[0m: name 'prob_part_time_offer' is not defined"
     ]
    }
   ],
   "source": [
    "options = {\n",
    "    \"state_space\": {\n",
    "        \"n_periods\": 20,\n",
    "        \"n_choices\": 12,\n",
    "        \"choices\": np.arange(12),\n",
    "        \"endogenous_states\": {\n",
    "            \"married\": np.arange(2),\n",
    "            \"has_sibling\": np.arange(2),\n",
    "        },\n",
    "        \"exogenous_processes\": {\n",
    "            \"part_time_offer\": {\n",
    "                \"states\": np.arange(2),\n",
    "                \"transition\": prob_part_time_offer,\n",
    "            },\n",
    "            \"full_time_offer\": {\n",
    "                \"states\": np.arange(2),\n",
    "                \"transition\": prob_full_time_offer,\n",
    "            },\n",
    "            \"care_demand\": {\n",
    "                \"states\": np.arange(2),\n",
    "                \"transition\": prob_exog_care_demand,\n",
    "            },\n",
    "            \"mother_alive\": {\n",
    "                \"states\": np.arange(2),\n",
    "                \"transition\": prob_survival_mother,\n",
    "            },\n",
    "            \"father_alive\": {\n",
    "                \"states\": np.arange(2),\n",
    "                \"transition\": prob_survival_father,\n",
    "            },\n",
    "            # \"mother_health\": {\n",
    "            #    \"states\": np.arange(3),\n",
    "            #    \"transition\": exog_health_transition_mother,\n",
    "            # },\n",
    "            # \"father_health\": {\n",
    "            #    \"states\": np.arange(3),\n",
    "            #    \"transition\": exog_health_transition_father,\n",
    "            # },\n",
    "        },\n",
    "    },\n",
    "}"
   ]
  },
  {
   "cell_type": "code",
   "execution_count": 40,
   "id": "2bd81881",
   "metadata": {},
   "outputs": [],
   "source": [
    "def update_endog_state(\n",
    "    period,\n",
    "    choice,\n",
    "    married,\n",
    "    has_sibling,\n",
    "    options,\n",
    "):\n",
    "    next_state = {}\n",
    "\n",
    "    next_state[\"period\"] = period + 1\n",
    "    next_state[\"lagged_choice\"] = choice\n",
    "\n",
    "    next_state[\"married\"] = married\n",
    "    next_state[\"has_sibling\"] = has_sibling\n",
    "\n",
    "    # next_state[\"mother_age\"] = options[\"mother_min_age\"] + mother_age + 1\n",
    "    # next_state[\"father_age\"] = options[\"father_min_age\"] + father_age + 1\n",
    "\n",
    "    # alive based on exog state\n",
    "    # health based on exog state\n",
    "\n",
    "    return next_state\n",
    "\n",
    "\n",
    "def get_state_specific_feasible_choice_set(\n",
    "    part_time_offer,\n",
    "    full_time_offer,\n",
    "    mother_alive,\n",
    "    father_alive,\n",
    "    care_demand,\n",
    "    options,\n",
    "):\n",
    "    \"\"\"No need to be jax compatible.\"\"\"\n",
    "    # formal_care = choice % 2 == 1  # uneven numbers mark formal care\n",
    "    # light_informal_care = [2, 3, 8, 9, 14, 15]\n",
    "    # intensive_informal_care =[4, 5, 10, 11, 16, 17]\n",
    "    # NO_CARE = NO_CARE\n",
    "    # CARE = [choice for choice in all_choices if choice not in NO_CARE]\n",
    "\n",
    "    # state_vec including exog?\n",
    "    feasible_choice_set = list(np.arange(options[\"n_choices\"]))\n",
    "\n",
    "    # care demand\n",
    "    # if mother_alive or father_alive:\n",
    "    if care_demand:\n",
    "        feasible_choice_set = [i for i in feasible_choice_set if i in CARE]\n",
    "    else:\n",
    "        feasible_choice_set = [i for i in feasible_choice_set if i in NO_CARE]\n",
    "\n",
    "    # job offer\n",
    "    if (full_time_offer == True) | (part_time_offer == True):\n",
    "        feasible_choice_set = [i for i in feasible_choice_set if i in WORK]\n",
    "    elif (full_time_offer == False) & (part_time_offer == True):\n",
    "        feasible_choice_set = [i for i in feasible_choice_set if i in PART_TIME]\n",
    "    elif (full_time_offer == False) & (part_time_offer == False):\n",
    "        feasible_choice_set = [i for i in feasible_choice_set if i in FULL_TIME]\n",
    "    else:\n",
    "        # (full_time_offer == False) & (part_time_offer == False)\n",
    "        feasible_choice_set = [i for i in feasible_choice_set if i in NO_WORK]\n",
    "\n",
    "    return np.array(feasible_choice_set)"
   ]
  },
  {
   "cell_type": "code",
   "execution_count": null,
   "id": "f7d6eab8",
   "metadata": {},
   "outputs": [],
   "source": []
  },
  {
   "cell_type": "code",
   "execution_count": null,
   "id": "943cec5d",
   "metadata": {},
   "outputs": [],
   "source": []
  },
  {
   "cell_type": "markdown",
   "id": "8ed23f50",
   "metadata": {},
   "source": [
    "## Try rng"
   ]
  },
  {
   "cell_type": "code",
   "execution_count": 8,
   "id": "0e8bbb67",
   "metadata": {},
   "outputs": [],
   "source": [
    "def draw_random_array(seed, n_agents, values, probabilities):\n",
    "    \"\"\"Draw a random array with given probabilities.\n",
    "\n",
    "    Usage:\n",
    "\n",
    "    seed = 2024\n",
    "    n_agents = 10_000\n",
    "\n",
    "    # Parameters\n",
    "    values = jnp.array([-1, 0, 1, 2])  # Values to choose from\n",
    "    probabilities = jnp.array([0.3, 0.3, 0.2, 0.2])  # Corresponding probabilities\n",
    "\n",
    "    table(pd.DataFrame(random_array)[0]) / 1000\n",
    "\n",
    "    \"\"\"\n",
    "    key = jax.random.PRNGKey(seed)\n",
    "    return jax.random.choice(key, values, shape=(n_agents,), p=probabilities)"
   ]
  },
  {
   "cell_type": "code",
   "execution_count": 28,
   "id": "13c8bf6e",
   "metadata": {},
   "outputs": [],
   "source": [
    "seed = 2024\n",
    "n_agents = 10_000\n",
    "n_choices = 12\n",
    "max_iter = 2_000"
   ]
  },
  {
   "cell_type": "code",
   "execution_count": 29,
   "id": "6bb35dc8",
   "metadata": {},
   "outputs": [
    {
     "data": {
      "text/plain": [
       "Array(0.70379996, dtype=float32)"
      ]
     },
     "execution_count": 29,
     "metadata": {},
     "output_type": "execute_result"
    }
   ],
   "source": [
    "draw_random_array(\n",
    "    seed=seed - 1,\n",
    "    n_agents=n_agents,\n",
    "    values=jnp.array([0, 1]),\n",
    "    probabilities=jnp.array([0.3, 0.7]),\n",
    ").astype(np.int16).mean()"
   ]
  },
  {
   "cell_type": "code",
   "execution_count": 32,
   "id": "74c7644f",
   "metadata": {},
   "outputs": [
    {
     "data": {
      "text/plain": [
       "Array([[2747046042, 3946412319],\n",
       "       [ 456906278, 1557099613],\n",
       "       [2891578254, 2601165911],\n",
       "       ...,\n",
       "       [ 121031298, 1228053634],\n",
       "       [1331106446, 1419707387],\n",
       "       [3752188396, 4285775511]], dtype=uint32)"
      ]
     },
     "execution_count": 32,
     "metadata": {},
     "output_type": "execute_result"
    }
   ],
   "source": []
  },
  {
   "cell_type": "code",
   "execution_count": 34,
   "id": "54837d66",
   "metadata": {},
   "outputs": [
    {
     "data": {
      "text/plain": [
       "Array([   0, 2024], dtype=uint32)"
      ]
     },
     "execution_count": 34,
     "metadata": {},
     "output_type": "execute_result"
    }
   ],
   "source": [
    "key = jax.random.PRNGKey(seed)\n",
    "key"
   ]
  },
  {
   "cell_type": "code",
   "execution_count": 38,
   "id": "56517e83",
   "metadata": {},
   "outputs": [],
   "source": [
    "iter_specific_keys = jax.random.split(jax.random.PRNGKey(seed), num=max_iter)"
   ]
  },
  {
   "cell_type": "code",
   "execution_count": null,
   "id": "55949c05",
   "metadata": {},
   "outputs": [],
   "source": []
  },
  {
   "cell_type": "markdown",
   "id": "fd04ab20",
   "metadata": {},
   "source": [
    "## Put together"
   ]
  },
  {
   "cell_type": "code",
   "execution_count": null,
   "id": "c9b72104",
   "metadata": {},
   "outputs": [],
   "source": [
    "initial_states = {\n",
    "    \"period\": jnp.zeros(n_agents, dtype=np.int16),\n",
    "    \"lagged_choice\": draw_random_array(\n",
    "        seed=seed - 1,\n",
    "        n_agents=n_agents,\n",
    "        values=jnp.arange(n_choices),\n",
    "        probabilities=lagged_choice_probs,\n",
    "    ).astype(np.int16),\n",
    "    \"married\": draw_random_array(\n",
    "        seed=seed - 2,\n",
    "        n_agents=n_agents,\n",
    "        values=jnp.array([0, 1]),\n",
    "        probabilities=married,\n",
    "    ).astype(np.int16),\n",
    "    \"has_sibling\": draw_random_array(\n",
    "        seed=seed - 3,\n",
    "        n_agents=n_agents,\n",
    "        values=jnp.array([0, 1]),\n",
    "        probabilities=has_sibling,\n",
    "    ).astype(np.int16),\n",
    "    # exogenous states\n",
    "    \"part_time_offer\": jnp.ones(n_agents, dtype=np.int16),\n",
    "    \"full_time_offer\": jnp.ones(n_agents, dtype=np.int16),\n",
    "    \"care_demand\": jnp.zeros(n_agents, dtype=np.int16),\n",
    "    \"mother_alive\": draw_random_array(\n",
    "        seed=seed - 6,\n",
    "        n_agents=n_agents,\n",
    "        values=jnp.array([0, 1]),\n",
    "        probabilities=mother_alive,\n",
    "    ).astype(np.int16),\n",
    "    \"father_alive\": draw_random_array(\n",
    "        seed=seed - 7,\n",
    "        n_agents=n_agents,\n",
    "        values=jnp.array([0, 1]),\n",
    "        probabilities=father_alive,\n",
    "    ).astype(np.int16),\n",
    "}"
   ]
  },
  {
   "cell_type": "code",
   "execution_count": null,
   "id": "bb9ba913",
   "metadata": {},
   "outputs": [],
   "source": [
    "col_weights = jnp.eye(len(emp_moments))\n",
    "\n",
    "\n",
    "def criterion_solve_and_simulate(params, n_agents=10_000, seed=2024):\n",
    "\n",
    "    value, policy_left, policy_right, endog_grid = solve_func(params)\n",
    "\n",
    "    result = simulate_all_periods(\n",
    "        states_initial=initial_states,\n",
    "        resources_initial=initial_resources,\n",
    "        n_periods=options[\"state_space\"][\"n_periods\"],\n",
    "        params=params,\n",
    "        state_space_names=state_space_names,\n",
    "        seed=seed,\n",
    "        endog_grid_solved=endog_grid,\n",
    "        value_solved=value,\n",
    "        policy_left_solved=policy_left,\n",
    "        policy_right_solved=policy_right,\n",
    "        map_state_choice_to_index=jnp.array(map_state_choice_to_index),\n",
    "        choice_range=jnp.arange(map_state_choice_to_index.shape[-1], dtype=jnp.int16),\n",
    "        compute_exog_transition_vec=model_funcs[\"compute_exog_transition_vec\"],\n",
    "        compute_utility=model_funcs[\"compute_utility\"],\n",
    "        compute_beginning_of_period_resources=model_funcs[\n",
    "            \"compute_beginning_of_period_resources\"\n",
    "        ],\n",
    "        exog_state_mapping=exog_state_mapping,\n",
    "        update_endog_state_by_state_and_choice=update_endog_state_by_state_and_choice,\n",
    "        compute_utility_final_period=model_funcs[\"compute_utility_final\"],\n",
    "    )\n",
    "\n",
    "    df = create_simulation_df(result, options=options, params=params)\n",
    "    sim_moments = simulate_moments(df)\n",
    "\n",
    "    err = sim_moments - emp_moments\n",
    "    crit_val = np.dot(np.dot(err.T, col_weights), err)\n",
    "\n",
    "    deviations = moms_model - np.array(moms_data)\n",
    "    root_contribs = deviations @ chol_weights\n",
    "\n",
    "    return {\"root_contributions\": root_contribs, \"value\": crit_val}"
   ]
  }
 ],
 "metadata": {
  "kernelspec": {
   "display_name": "Python 3 (ipykernel)",
   "language": "python",
   "name": "python3"
  },
  "language_info": {
   "codemirror_mode": {
    "name": "ipython",
    "version": 3
   },
   "file_extension": ".py",
   "mimetype": "text/x-python",
   "name": "python",
   "nbconvert_exporter": "python",
   "pygments_lexer": "ipython3",
   "version": "3.10.13"
  }
 },
 "nbformat": 4,
 "nbformat_minor": 5
}
