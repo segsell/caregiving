{
 "cells": [
  {
   "cell_type": "code",
   "execution_count": 232,
   "id": "b5d07b74",
   "metadata": {},
   "outputs": [],
   "source": [
    "import numpy as np\n",
    "import jax.numpy as jnp\n",
    "\n",
    "import pandas as pd\n",
    "\n",
    "import estimagic as em\n",
    "\n",
    "rng = np.random.default_rng(seed=0)"
   ]
  },
  {
   "cell_type": "code",
   "execution_count": 267,
   "id": "6549fba7",
   "metadata": {},
   "outputs": [],
   "source": [
    "options = {\n",
    "    # Set the number of points at which criterion is evaluated\n",
    "    # in the exploration phase\n",
    "    \"n_samples\": 10 * len(start_params_arr),\n",
    "    # Pass in a DataFrame or array with a custom sample\n",
    "    # for the exploration phase.\n",
    "    \"sample\": None,\n",
    "    # Determine number of optimizations, relative to n_samples\n",
    "    \"share_optimizations\": 0.1,\n",
    "    # Determine distribution from which sample is drawn\n",
    "    \"sampling_distribution\": \"uniform\",\n",
    "    # Determine sampling method. Allowed: [\"sobol\", \"random\",\n",
    "    # \"halton\", \"hammersley\", \"korobov\", \"latin_hypercube\"]\n",
    "    \"sampling_method\": \"sobol\",\n",
    "    # Determine how start parameters for local optimizations are\n",
    "    # calculated. Allowed: [\"tiktak\", \"linear\"] or a custom\n",
    "    # function with arguments iteration, n_iterations, min_weight,\n",
    "    # and max_weight\n",
    "    \"mixing_weight_method\": \"tiktak\",\n",
    "    # Determine bounds on mixing weights.\n",
    "    \"mixing_weight_bounds\": (0.1, 0.995),\n",
    "    # Determine after how many re-discoveries of the currently best\n",
    "    # local optimum the multistart optimization converges.\n",
    "    \"convergence.max_discoveries\": 2,\n",
    "    # Determine the maximum relative distance two parameter vectors\n",
    "    # can have to be considered equal for convergence purposes:\n",
    "    \"convergence.relative_params_tolerance\": 0.01,\n",
    "    # Determine how many cores are used\n",
    "    \"n_cores\": 1,\n",
    "    # Determine which batch_evaluator is used:\n",
    "    \"batch_evaluator\": \"joblib\",\n",
    "    # Determine the batch size. It must be larger than n_cores.\n",
    "    # Setting the batch size larger than n_cores allows to reproduce\n",
    "    # the exact results of a highly parallel optimization on a smaller\n",
    "    # machine.\n",
    "    \"batch_size\": 1,\n",
    "    # Set the random seed:\n",
    "    \"seed\": None,\n",
    "    # Set how errors are handled during the exploration phase:\n",
    "    \"exploration_error_handling\": \"continue\",\n",
    "    # Set how errors are handled during the optimization phase:\n",
    "    \"optimization_error_handling\": \"continue\",\n",
    "}"
   ]
  },
  {
   "cell_type": "code",
   "execution_count": 268,
   "id": "92464e9b",
   "metadata": {},
   "outputs": [],
   "source": [
    "# 1)\n",
    "# simulate data\n",
    "# calculate moments\n",
    "\n",
    "# -> empirical_moments"
   ]
  },
  {
   "cell_type": "code",
   "execution_count": 269,
   "id": "5e0aea36",
   "metadata": {},
   "outputs": [],
   "source": [
    "def simulate_data(params, n_draws, rng):\n",
    "    x = rng.normal(0, 1, size=n_draws)\n",
    "    e = rng.normal(0, params.loc[\"sd\", \"value\"], size=n_draws)\n",
    "    y = params.loc[\"intercept\", \"value\"] + params.loc[\"slope\", \"value\"] * x + e\n",
    "    return pd.DataFrame({\"y\": y, \"x\": x})"
   ]
  },
  {
   "cell_type": "code",
   "execution_count": 270,
   "id": "d98cf3b8",
   "metadata": {},
   "outputs": [],
   "source": [
    "true_params = pd.DataFrame(\n",
    "    data=[[2, -np.inf], [-1, -np.inf], [1, 1e-10]],\n",
    "    columns=[\"value\", \"lower_bound\"],\n",
    "    index=[\"intercept\", \"slope\", \"sd\"],\n",
    ")\n",
    "\n",
    "data = simulate_data(true_params, n_draws=100, rng=rng)"
   ]
  },
  {
   "cell_type": "code",
   "execution_count": 271,
   "id": "8d2759a1",
   "metadata": {},
   "outputs": [],
   "source": [
    "def calculate_moments(sample):\n",
    "    moments = {\n",
    "        \"y_mean\": sample[\"y\"].mean(),\n",
    "        \"x_mean\": sample[\"x\"].mean(),\n",
    "        \"yx_mean\": (sample[\"y\"] * sample[\"x\"]).mean(),\n",
    "        \"y_sqrd_mean\": (sample[\"y\"] ** 2).mean(),\n",
    "        \"x_sqrd_mean\": (sample[\"x\"] ** 2).mean(),\n",
    "    }\n",
    "    return pd.Series(moments)"
   ]
  },
  {
   "cell_type": "code",
   "execution_count": 272,
   "id": "d1a5ca81",
   "metadata": {},
   "outputs": [
    {
     "data": {
      "text/plain": [
       "y_mean         1.711286\n",
       "x_mean         0.164741\n",
       "yx_mean       -0.937229\n",
       "y_sqrd_mean    5.058530\n",
       "x_sqrd_mean    1.069038\n",
       "dtype: float64"
      ]
     },
     "execution_count": 272,
     "metadata": {},
     "output_type": "execute_result"
    }
   ],
   "source": [
    "empirical_moments = calculate_moments(data)\n",
    "empirical_moments"
   ]
  },
  {
   "cell_type": "code",
   "execution_count": 273,
   "id": "403b3fc1",
   "metadata": {},
   "outputs": [],
   "source": [
    "# Calculate the covariance matrix of empirical moments"
   ]
  },
  {
   "cell_type": "code",
   "execution_count": 274,
   "id": "5f82b592",
   "metadata": {},
   "outputs": [
    {
     "data": {
      "text/html": [
       "<div>\n",
       "<style scoped>\n",
       "    .dataframe tbody tr th:only-of-type {\n",
       "        vertical-align: middle;\n",
       "    }\n",
       "\n",
       "    .dataframe tbody tr th {\n",
       "        vertical-align: top;\n",
       "    }\n",
       "\n",
       "    .dataframe thead th {\n",
       "        text-align: right;\n",
       "    }\n",
       "</style>\n",
       "<table border=\"1\" class=\"dataframe\">\n",
       "  <thead>\n",
       "    <tr style=\"text-align: right;\">\n",
       "      <th></th>\n",
       "      <th>y_mean</th>\n",
       "      <th>x_mean</th>\n",
       "      <th>yx_mean</th>\n",
       "      <th>y_sqrd_mean</th>\n",
       "      <th>x_sqrd_mean</th>\n",
       "    </tr>\n",
       "  </thead>\n",
       "  <tbody>\n",
       "    <tr>\n",
       "      <th>y_mean</th>\n",
       "      <td>0.021136</td>\n",
       "      <td>-0.012654</td>\n",
       "      <td>-0.017510</td>\n",
       "      <td>0.066389</td>\n",
       "      <td>-0.003913</td>\n",
       "    </tr>\n",
       "    <tr>\n",
       "      <th>x_mean</th>\n",
       "      <td>-0.012654</td>\n",
       "      <td>0.011097</td>\n",
       "      <td>0.016591</td>\n",
       "      <td>-0.041215</td>\n",
       "      <td>0.004074</td>\n",
       "    </tr>\n",
       "    <tr>\n",
       "      <th>yx_mean</th>\n",
       "      <td>-0.017510</td>\n",
       "      <td>0.016591</td>\n",
       "      <td>0.057599</td>\n",
       "      <td>-0.102624</td>\n",
       "      <td>-0.016305</td>\n",
       "    </tr>\n",
       "    <tr>\n",
       "      <th>y_sqrd_mean</th>\n",
       "      <td>0.066389</td>\n",
       "      <td>-0.041215</td>\n",
       "      <td>-0.102624</td>\n",
       "      <td>0.286520</td>\n",
       "      <td>0.012780</td>\n",
       "    </tr>\n",
       "    <tr>\n",
       "      <th>x_sqrd_mean</th>\n",
       "      <td>-0.003913</td>\n",
       "      <td>0.004074</td>\n",
       "      <td>-0.016305</td>\n",
       "      <td>0.012780</td>\n",
       "      <td>0.020863</td>\n",
       "    </tr>\n",
       "  </tbody>\n",
       "</table>\n",
       "</div>"
      ],
      "text/plain": [
       "               y_mean    x_mean   yx_mean  y_sqrd_mean  x_sqrd_mean\n",
       "y_mean       0.021136 -0.012654 -0.017510     0.066389    -0.003913\n",
       "x_mean      -0.012654  0.011097  0.016591    -0.041215     0.004074\n",
       "yx_mean     -0.017510  0.016591  0.057599    -0.102624    -0.016305\n",
       "y_sqrd_mean  0.066389 -0.041215 -0.102624     0.286520     0.012780\n",
       "x_sqrd_mean -0.003913  0.004074 -0.016305     0.012780     0.020863"
      ]
     },
     "execution_count": 274,
     "metadata": {},
     "output_type": "execute_result"
    }
   ],
   "source": [
    "moments_cov = em.get_moments_cov(\n",
    "    data,\n",
    "    calculate_moments,\n",
    "    bootstrap_kwargs={\"n_draws\": 5_000, \"seed\": 0},\n",
    ")\n",
    "\n",
    "moments_cov"
   ]
  },
  {
   "cell_type": "code",
   "execution_count": 275,
   "id": "d6fb7a49",
   "metadata": {},
   "outputs": [],
   "source": [
    "# Define a function to calculate simulated moments"
   ]
  },
  {
   "cell_type": "code",
   "execution_count": 276,
   "id": "93044151",
   "metadata": {},
   "outputs": [],
   "source": [
    "def simulate_moments(params, n_draws=10_000, seed=0):\n",
    "    rng = np.random.default_rng(seed)\n",
    "    sim_data = simulate_data(params, n_draws, rng)\n",
    "    sim_moments = calculate_moments(sim_data)\n",
    "    return sim_moments"
   ]
  },
  {
   "cell_type": "code",
   "execution_count": 277,
   "id": "705c0d68",
   "metadata": {},
   "outputs": [
    {
     "data": {
      "text/plain": [
       "y_mean         1.996739\n",
       "x_mean         0.006312\n",
       "yx_mean       -0.997919\n",
       "y_sqrd_mean    5.999877\n",
       "x_sqrd_mean    0.996197\n",
       "dtype: float64"
      ]
     },
     "execution_count": 277,
     "metadata": {},
     "output_type": "execute_result"
    }
   ],
   "source": [
    "simulate_moments(true_params)"
   ]
  },
  {
   "cell_type": "code",
   "execution_count": 278,
   "id": "00d90e1a",
   "metadata": {},
   "outputs": [
    {
     "data": {
      "text/plain": [
       "y_mean         1.996739\n",
       "x_mean         0.006312\n",
       "yx_mean       -0.997919\n",
       "y_sqrd_mean    5.999877\n",
       "x_sqrd_mean    0.996197\n",
       "dtype: float64"
      ]
     },
     "execution_count": 278,
     "metadata": {},
     "output_type": "execute_result"
    }
   ],
   "source": [
    "moms_data = simulate_moments(true_params)\n",
    "moms_data"
   ]
  },
  {
   "cell_type": "code",
   "execution_count": 279,
   "id": "87eaeeff",
   "metadata": {},
   "outputs": [],
   "source": [
    "# 5. Estimate the model parameters"
   ]
  },
  {
   "cell_type": "code",
   "execution_count": 280,
   "id": "d03b6b66",
   "metadata": {},
   "outputs": [],
   "source": [
    "true_params = pd.DataFrame(\n",
    "    data=[[2, -np.inf], [-1, -np.inf], [1, 1e-10]],\n",
    "    columns=[\"value\", \"lower_bound\"],\n",
    "    index=[\"intercept\", \"slope\", \"sd\"],\n",
    ")"
   ]
  },
  {
   "cell_type": "code",
   "execution_count": 281,
   "id": "ff472616",
   "metadata": {},
   "outputs": [
    {
     "data": {
      "text/html": [
       "<div>\n",
       "<style scoped>\n",
       "    .dataframe tbody tr th:only-of-type {\n",
       "        vertical-align: middle;\n",
       "    }\n",
       "\n",
       "    .dataframe tbody tr th {\n",
       "        vertical-align: top;\n",
       "    }\n",
       "\n",
       "    .dataframe thead th {\n",
       "        text-align: right;\n",
       "    }\n",
       "</style>\n",
       "<table border=\"1\" class=\"dataframe\">\n",
       "  <thead>\n",
       "    <tr style=\"text-align: right;\">\n",
       "      <th></th>\n",
       "      <th>value</th>\n",
       "      <th>lower_bound</th>\n",
       "    </tr>\n",
       "  </thead>\n",
       "  <tbody>\n",
       "    <tr>\n",
       "      <th>intercept</th>\n",
       "      <td>2</td>\n",
       "      <td>-inf</td>\n",
       "    </tr>\n",
       "    <tr>\n",
       "      <th>slope</th>\n",
       "      <td>-1</td>\n",
       "      <td>-inf</td>\n",
       "    </tr>\n",
       "    <tr>\n",
       "      <th>sd</th>\n",
       "      <td>1</td>\n",
       "      <td>1.000000e-10</td>\n",
       "    </tr>\n",
       "  </tbody>\n",
       "</table>\n",
       "</div>"
      ],
      "text/plain": [
       "           value   lower_bound\n",
       "intercept      2          -inf\n",
       "slope         -1          -inf\n",
       "sd             1  1.000000e-10"
      ]
     },
     "execution_count": 281,
     "metadata": {},
     "output_type": "execute_result"
    }
   ],
   "source": [
    "true_params"
   ]
  },
  {
   "cell_type": "code",
   "execution_count": 282,
   "id": "f165ecd7",
   "metadata": {},
   "outputs": [
    {
     "data": {
      "text/html": [
       "<div>\n",
       "<style scoped>\n",
       "    .dataframe tbody tr th:only-of-type {\n",
       "        vertical-align: middle;\n",
       "    }\n",
       "\n",
       "    .dataframe tbody tr th {\n",
       "        vertical-align: top;\n",
       "    }\n",
       "\n",
       "    .dataframe thead th {\n",
       "        text-align: right;\n",
       "    }\n",
       "</style>\n",
       "<table border=\"1\" class=\"dataframe\">\n",
       "  <thead>\n",
       "    <tr style=\"text-align: right;\">\n",
       "      <th></th>\n",
       "      <th>value</th>\n",
       "      <th>lower_bound</th>\n",
       "    </tr>\n",
       "  </thead>\n",
       "  <tbody>\n",
       "    <tr>\n",
       "      <th>intercept</th>\n",
       "      <td>100</td>\n",
       "      <td>-inf</td>\n",
       "    </tr>\n",
       "    <tr>\n",
       "      <th>slope</th>\n",
       "      <td>100</td>\n",
       "      <td>-inf</td>\n",
       "    </tr>\n",
       "    <tr>\n",
       "      <th>sd</th>\n",
       "      <td>100</td>\n",
       "      <td>1.000000e-10</td>\n",
       "    </tr>\n",
       "  </tbody>\n",
       "</table>\n",
       "</div>"
      ],
      "text/plain": [
       "           value   lower_bound\n",
       "intercept    100          -inf\n",
       "slope        100          -inf\n",
       "sd           100  1.000000e-10"
      ]
     },
     "execution_count": 282,
     "metadata": {},
     "output_type": "execute_result"
    }
   ],
   "source": [
    "true_params.assign(value=[100, 100, 100])"
   ]
  },
  {
   "cell_type": "code",
   "execution_count": 283,
   "id": "ae98f1b2",
   "metadata": {},
   "outputs": [],
   "source": [
    "start_params = true_params.assign(value=[100, 100, 100])"
   ]
  },
  {
   "cell_type": "code",
   "execution_count": 284,
   "id": "18b908c2",
   "metadata": {},
   "outputs": [
    {
     "data": {
      "text/html": [
       "<div>\n",
       "<style scoped>\n",
       "    .dataframe tbody tr th:only-of-type {\n",
       "        vertical-align: middle;\n",
       "    }\n",
       "\n",
       "    .dataframe tbody tr th {\n",
       "        vertical-align: top;\n",
       "    }\n",
       "\n",
       "    .dataframe thead th {\n",
       "        text-align: right;\n",
       "    }\n",
       "</style>\n",
       "<table border=\"1\" class=\"dataframe\">\n",
       "  <thead>\n",
       "    <tr style=\"text-align: right;\">\n",
       "      <th></th>\n",
       "      <th>y_mean</th>\n",
       "      <th>x_mean</th>\n",
       "      <th>yx_mean</th>\n",
       "      <th>y_sqrd_mean</th>\n",
       "      <th>x_sqrd_mean</th>\n",
       "    </tr>\n",
       "  </thead>\n",
       "  <tbody>\n",
       "    <tr>\n",
       "      <th>y_mean</th>\n",
       "      <td>0.021136</td>\n",
       "      <td>-0.012654</td>\n",
       "      <td>-0.017510</td>\n",
       "      <td>0.066389</td>\n",
       "      <td>-0.003913</td>\n",
       "    </tr>\n",
       "    <tr>\n",
       "      <th>x_mean</th>\n",
       "      <td>-0.012654</td>\n",
       "      <td>0.011097</td>\n",
       "      <td>0.016591</td>\n",
       "      <td>-0.041215</td>\n",
       "      <td>0.004074</td>\n",
       "    </tr>\n",
       "    <tr>\n",
       "      <th>yx_mean</th>\n",
       "      <td>-0.017510</td>\n",
       "      <td>0.016591</td>\n",
       "      <td>0.057599</td>\n",
       "      <td>-0.102624</td>\n",
       "      <td>-0.016305</td>\n",
       "    </tr>\n",
       "    <tr>\n",
       "      <th>y_sqrd_mean</th>\n",
       "      <td>0.066389</td>\n",
       "      <td>-0.041215</td>\n",
       "      <td>-0.102624</td>\n",
       "      <td>0.286520</td>\n",
       "      <td>0.012780</td>\n",
       "    </tr>\n",
       "    <tr>\n",
       "      <th>x_sqrd_mean</th>\n",
       "      <td>-0.003913</td>\n",
       "      <td>0.004074</td>\n",
       "      <td>-0.016305</td>\n",
       "      <td>0.012780</td>\n",
       "      <td>0.020863</td>\n",
       "    </tr>\n",
       "  </tbody>\n",
       "</table>\n",
       "</div>"
      ],
      "text/plain": [
       "               y_mean    x_mean   yx_mean  y_sqrd_mean  x_sqrd_mean\n",
       "y_mean       0.021136 -0.012654 -0.017510     0.066389    -0.003913\n",
       "x_mean      -0.012654  0.011097  0.016591    -0.041215     0.004074\n",
       "yx_mean     -0.017510  0.016591  0.057599    -0.102624    -0.016305\n",
       "y_sqrd_mean  0.066389 -0.041215 -0.102624     0.286520     0.012780\n",
       "x_sqrd_mean -0.003913  0.004074 -0.016305     0.012780     0.020863"
      ]
     },
     "execution_count": 284,
     "metadata": {},
     "output_type": "execute_result"
    }
   ],
   "source": [
    "moments_cov"
   ]
  },
  {
   "cell_type": "code",
   "execution_count": 285,
   "id": "fe59565d",
   "metadata": {},
   "outputs": [
    {
     "data": {
      "text/html": [
       "<div>\n",
       "<style scoped>\n",
       "    .dataframe tbody tr th:only-of-type {\n",
       "        vertical-align: middle;\n",
       "    }\n",
       "\n",
       "    .dataframe tbody tr th {\n",
       "        vertical-align: top;\n",
       "    }\n",
       "\n",
       "    .dataframe thead th {\n",
       "        text-align: right;\n",
       "    }\n",
       "</style>\n",
       "<table border=\"1\" class=\"dataframe\">\n",
       "  <thead>\n",
       "    <tr style=\"text-align: right;\">\n",
       "      <th></th>\n",
       "      <th>y_mean</th>\n",
       "      <th>x_mean</th>\n",
       "      <th>yx_mean</th>\n",
       "      <th>y_sqrd_mean</th>\n",
       "      <th>x_sqrd_mean</th>\n",
       "    </tr>\n",
       "  </thead>\n",
       "  <tbody>\n",
       "    <tr>\n",
       "      <th>y_mean</th>\n",
       "      <td>0.021136</td>\n",
       "      <td>-0.012654</td>\n",
       "      <td>-0.017510</td>\n",
       "      <td>0.066389</td>\n",
       "      <td>-0.003913</td>\n",
       "    </tr>\n",
       "    <tr>\n",
       "      <th>x_mean</th>\n",
       "      <td>-0.012654</td>\n",
       "      <td>0.011097</td>\n",
       "      <td>0.016591</td>\n",
       "      <td>-0.041215</td>\n",
       "      <td>0.004074</td>\n",
       "    </tr>\n",
       "    <tr>\n",
       "      <th>yx_mean</th>\n",
       "      <td>-0.017510</td>\n",
       "      <td>0.016591</td>\n",
       "      <td>0.057599</td>\n",
       "      <td>-0.102624</td>\n",
       "      <td>-0.016305</td>\n",
       "    </tr>\n",
       "    <tr>\n",
       "      <th>y_sqrd_mean</th>\n",
       "      <td>0.066389</td>\n",
       "      <td>-0.041215</td>\n",
       "      <td>-0.102624</td>\n",
       "      <td>0.286520</td>\n",
       "      <td>0.012780</td>\n",
       "    </tr>\n",
       "    <tr>\n",
       "      <th>x_sqrd_mean</th>\n",
       "      <td>-0.003913</td>\n",
       "      <td>0.004074</td>\n",
       "      <td>-0.016305</td>\n",
       "      <td>0.012780</td>\n",
       "      <td>0.020863</td>\n",
       "    </tr>\n",
       "  </tbody>\n",
       "</table>\n",
       "</div>"
      ],
      "text/plain": [
       "               y_mean    x_mean   yx_mean  y_sqrd_mean  x_sqrd_mean\n",
       "y_mean       0.021136 -0.012654 -0.017510     0.066389    -0.003913\n",
       "x_mean      -0.012654  0.011097  0.016591    -0.041215     0.004074\n",
       "yx_mean     -0.017510  0.016591  0.057599    -0.102624    -0.016305\n",
       "y_sqrd_mean  0.066389 -0.041215 -0.102624     0.286520     0.012780\n",
       "x_sqrd_mean -0.003913  0.004074 -0.016305     0.012780     0.020863"
      ]
     },
     "execution_count": 285,
     "metadata": {},
     "output_type": "execute_result"
    }
   ],
   "source": [
    "moments_cov"
   ]
  },
  {
   "cell_type": "code",
   "execution_count": 286,
   "id": "07a54b96",
   "metadata": {},
   "outputs": [],
   "source": [
    "res = em.estimate_msm(\n",
    "    simulate_moments,\n",
    "    empirical_moments,\n",
    "    np.eye(5),\n",
    "    start_params,\n",
    "    optimize_options=\"tranquilo\",\n",
    ")"
   ]
  },
  {
   "cell_type": "code",
   "execution_count": 287,
   "id": "fb7d10c2",
   "metadata": {},
   "outputs": [
    {
     "data": {
      "text/html": [
       "<div>\n",
       "<style scoped>\n",
       "    .dataframe tbody tr th:only-of-type {\n",
       "        vertical-align: middle;\n",
       "    }\n",
       "\n",
       "    .dataframe tbody tr th {\n",
       "        vertical-align: top;\n",
       "    }\n",
       "\n",
       "    .dataframe thead th {\n",
       "        text-align: right;\n",
       "    }\n",
       "</style>\n",
       "<table border=\"1\" class=\"dataframe\">\n",
       "  <thead>\n",
       "    <tr style=\"text-align: right;\">\n",
       "      <th></th>\n",
       "      <th>value</th>\n",
       "      <th>lower_bound</th>\n",
       "    </tr>\n",
       "  </thead>\n",
       "  <tbody>\n",
       "    <tr>\n",
       "      <th>intercept</th>\n",
       "      <td>2</td>\n",
       "      <td>-inf</td>\n",
       "    </tr>\n",
       "    <tr>\n",
       "      <th>slope</th>\n",
       "      <td>-1</td>\n",
       "      <td>-inf</td>\n",
       "    </tr>\n",
       "    <tr>\n",
       "      <th>sd</th>\n",
       "      <td>1</td>\n",
       "      <td>1.000000e-10</td>\n",
       "    </tr>\n",
       "  </tbody>\n",
       "</table>\n",
       "</div>"
      ],
      "text/plain": [
       "           value   lower_bound\n",
       "intercept      2          -inf\n",
       "slope         -1          -inf\n",
       "sd             1  1.000000e-10"
      ]
     },
     "execution_count": 287,
     "metadata": {},
     "output_type": "execute_result"
    }
   ],
   "source": [
    "true_params"
   ]
  },
  {
   "cell_type": "code",
   "execution_count": 288,
   "id": "3ebc2fdf",
   "metadata": {},
   "outputs": [
    {
     "data": {
      "text/html": [
       "<div>\n",
       "<style scoped>\n",
       "    .dataframe tbody tr th:only-of-type {\n",
       "        vertical-align: middle;\n",
       "    }\n",
       "\n",
       "    .dataframe tbody tr th {\n",
       "        vertical-align: top;\n",
       "    }\n",
       "\n",
       "    .dataframe thead th {\n",
       "        text-align: right;\n",
       "    }\n",
       "</style>\n",
       "<table border=\"1\" class=\"dataframe\">\n",
       "  <thead>\n",
       "    <tr style=\"text-align: right;\">\n",
       "      <th></th>\n",
       "      <th>value</th>\n",
       "      <th>standard_error</th>\n",
       "      <th>ci_lower</th>\n",
       "      <th>ci_upper</th>\n",
       "      <th>p_value</th>\n",
       "      <th>free</th>\n",
       "      <th>stars</th>\n",
       "    </tr>\n",
       "  </thead>\n",
       "  <tbody>\n",
       "    <tr>\n",
       "      <th>intercept</th>\n",
       "      <td>1.713937</td>\n",
       "      <td>1.004983</td>\n",
       "      <td>-0.255793</td>\n",
       "      <td>3.683667</td>\n",
       "      <td>0.088112</td>\n",
       "      <td>True</td>\n",
       "      <td>*</td>\n",
       "    </tr>\n",
       "    <tr>\n",
       "      <th>slope</th>\n",
       "      <td>-0.935571</td>\n",
       "      <td>1.016750</td>\n",
       "      <td>-2.928365</td>\n",
       "      <td>1.057223</td>\n",
       "      <td>0.357490</td>\n",
       "      <td>True</td>\n",
       "      <td></td>\n",
       "    </tr>\n",
       "    <tr>\n",
       "      <th>sd</th>\n",
       "      <td>1.114670</td>\n",
       "      <td>1.840120</td>\n",
       "      <td>-2.491899</td>\n",
       "      <td>4.721239</td>\n",
       "      <td>0.544675</td>\n",
       "      <td>True</td>\n",
       "      <td></td>\n",
       "    </tr>\n",
       "  </tbody>\n",
       "</table>\n",
       "</div>"
      ],
      "text/plain": [
       "              value  standard_error  ci_lower  ci_upper   p_value  free stars\n",
       "intercept  1.713937        1.004983 -0.255793  3.683667  0.088112  True     *\n",
       "slope     -0.935571        1.016750 -2.928365  1.057223  0.357490  True      \n",
       "sd         1.114670        1.840120 -2.491899  4.721239  0.544675  True      "
      ]
     },
     "execution_count": 288,
     "metadata": {},
     "output_type": "execute_result"
    }
   ],
   "source": [
    "res.summary()"
   ]
  },
  {
   "cell_type": "code",
   "execution_count": null,
   "id": "101e1d45",
   "metadata": {},
   "outputs": [],
   "source": []
  },
  {
   "cell_type": "code",
   "execution_count": 289,
   "id": "d0f73c2b",
   "metadata": {},
   "outputs": [
    {
     "data": {
      "text/html": [
       "<div>\n",
       "<style scoped>\n",
       "    .dataframe tbody tr th:only-of-type {\n",
       "        vertical-align: middle;\n",
       "    }\n",
       "\n",
       "    .dataframe tbody tr th {\n",
       "        vertical-align: top;\n",
       "    }\n",
       "\n",
       "    .dataframe thead th {\n",
       "        text-align: right;\n",
       "    }\n",
       "</style>\n",
       "<table border=\"1\" class=\"dataframe\">\n",
       "  <thead>\n",
       "    <tr style=\"text-align: right;\">\n",
       "      <th></th>\n",
       "      <th>value</th>\n",
       "      <th>standard_error</th>\n",
       "      <th>ci_lower</th>\n",
       "      <th>ci_upper</th>\n",
       "      <th>p_value</th>\n",
       "      <th>free</th>\n",
       "      <th>stars</th>\n",
       "    </tr>\n",
       "  </thead>\n",
       "  <tbody>\n",
       "    <tr>\n",
       "      <th>intercept</th>\n",
       "      <td>1.713937</td>\n",
       "      <td>1.004983</td>\n",
       "      <td>-0.255793</td>\n",
       "      <td>3.683667</td>\n",
       "      <td>0.088112</td>\n",
       "      <td>True</td>\n",
       "      <td>*</td>\n",
       "    </tr>\n",
       "    <tr>\n",
       "      <th>slope</th>\n",
       "      <td>-0.935571</td>\n",
       "      <td>1.016750</td>\n",
       "      <td>-2.928365</td>\n",
       "      <td>1.057223</td>\n",
       "      <td>0.357490</td>\n",
       "      <td>True</td>\n",
       "      <td></td>\n",
       "    </tr>\n",
       "    <tr>\n",
       "      <th>sd</th>\n",
       "      <td>1.114670</td>\n",
       "      <td>1.840120</td>\n",
       "      <td>-2.491899</td>\n",
       "      <td>4.721239</td>\n",
       "      <td>0.544675</td>\n",
       "      <td>True</td>\n",
       "      <td></td>\n",
       "    </tr>\n",
       "  </tbody>\n",
       "</table>\n",
       "</div>"
      ],
      "text/plain": [
       "              value  standard_error  ci_lower  ci_upper   p_value  free stars\n",
       "intercept  1.713937        1.004983 -0.255793  3.683667  0.088112  True     *\n",
       "slope     -0.935571        1.016750 -2.928365  1.057223  0.357490  True      \n",
       "sd         1.114670        1.840120 -2.491899  4.721239  0.544675  True      "
      ]
     },
     "execution_count": 289,
     "metadata": {},
     "output_type": "execute_result"
    }
   ],
   "source": [
    "res.summary()"
   ]
  },
  {
   "cell_type": "code",
   "execution_count": 290,
   "id": "d18cf38b",
   "metadata": {},
   "outputs": [],
   "source": [
    "def simulate_moments(params, n_draws=10_000, seed=0):\n",
    "    rng = np.random.default_rng(seed)\n",
    "    sim_data = simulate_data(params, n_draws, rng)\n",
    "    sim_moments = calculate_moments(sim_data)\n",
    "    return sim_moments"
   ]
  },
  {
   "cell_type": "code",
   "execution_count": 291,
   "id": "a35bef4d",
   "metadata": {},
   "outputs": [],
   "source": [
    "rng = np.random.default_rng(seed=0)\n",
    "sim_data = simulate_data(params=true_params, n_draws=10_000, rng=rng)\n",
    "sim_moments = calculate_moments(sim_data)"
   ]
  },
  {
   "cell_type": "code",
   "execution_count": 292,
   "id": "6e7a1adc",
   "metadata": {},
   "outputs": [
    {
     "data": {
      "text/plain": [
       "Array([ 1.9967391 ,  0.00631189, -0.99791896,  5.9998775 ,  0.9961973 ],      dtype=float32)"
      ]
     },
     "execution_count": 292,
     "metadata": {},
     "output_type": "execute_result"
    }
   ],
   "source": [
    "jnp.array(sim_moments)"
   ]
  },
  {
   "cell_type": "code",
   "execution_count": null,
   "id": "566ea99c",
   "metadata": {},
   "outputs": [],
   "source": []
  },
  {
   "cell_type": "code",
   "execution_count": 293,
   "id": "06f86553",
   "metadata": {},
   "outputs": [],
   "source": [
    "W_hat = np.eye(5)"
   ]
  },
  {
   "cell_type": "code",
   "execution_count": 294,
   "id": "12ac44a5",
   "metadata": {},
   "outputs": [],
   "source": [
    "def simulate_simple(params, n_draws=10_000, seed=0):\n",
    "    rng = np.random.default_rng(seed)\n",
    "    sim_data = simulate_data(params, n_draws, rng)\n",
    "    sim_moments = calculate_moments(sim_data)\n",
    "    moms_model = np.array(sim_moments)\n",
    "\n",
    "    # moms_data =\n",
    "\n",
    "    err = moms_model - np.array(moms_data)\n",
    "    crit_val = np.dot(np.dot(err.T, W_hat), err)\n",
    "\n",
    "    chol_weights = W_hat\n",
    "    deviations = moms_model - np.array(moms_data)\n",
    "    root_contribs = deviations @ chol_weights\n",
    "\n",
    "    # return root_contribs\n",
    "    return {\"root_contributions\": root_contribs, \"value\": crit_val}"
   ]
  },
  {
   "cell_type": "code",
   "execution_count": 295,
   "id": "fa389ee8",
   "metadata": {},
   "outputs": [
    {
     "data": {
      "text/plain": [
       "{'root_contributions': array([   98.93954859,     0.        ,    99.81428543, 29736.64679207,\n",
       "            0.        ]),\n",
       " 'value': 884287914.3622243}"
      ]
     },
     "execution_count": 295,
     "metadata": {},
     "output_type": "execute_result"
    }
   ],
   "source": [
    "crit = simulate_simple(start_params)\n",
    "crit"
   ]
  },
  {
   "cell_type": "code",
   "execution_count": 303,
   "id": "0d155da7",
   "metadata": {},
   "outputs": [],
   "source": [
    "start_params_zero = start_params.assign(value=[10, 10, 100])"
   ]
  },
  {
   "cell_type": "code",
   "execution_count": 304,
   "id": "e51bdc4e",
   "metadata": {},
   "outputs": [],
   "source": [
    "start_params_zero_bound = start_params_zero.assign(lower_bound=[-100, -100, 0.1])\n",
    "start_params_zero_bound[\"upper_bound\"] = [100, 100, 1_000]"
   ]
  },
  {
   "cell_type": "code",
   "execution_count": 305,
   "id": "c5816797",
   "metadata": {},
   "outputs": [
    {
     "data": {
      "text/html": [
       "<div>\n",
       "<style scoped>\n",
       "    .dataframe tbody tr th:only-of-type {\n",
       "        vertical-align: middle;\n",
       "    }\n",
       "\n",
       "    .dataframe tbody tr th {\n",
       "        vertical-align: top;\n",
       "    }\n",
       "\n",
       "    .dataframe thead th {\n",
       "        text-align: right;\n",
       "    }\n",
       "</style>\n",
       "<table border=\"1\" class=\"dataframe\">\n",
       "  <thead>\n",
       "    <tr style=\"text-align: right;\">\n",
       "      <th></th>\n",
       "      <th>value</th>\n",
       "      <th>lower_bound</th>\n",
       "      <th>upper_bound</th>\n",
       "    </tr>\n",
       "  </thead>\n",
       "  <tbody>\n",
       "    <tr>\n",
       "      <th>intercept</th>\n",
       "      <td>10</td>\n",
       "      <td>-100.0</td>\n",
       "      <td>100</td>\n",
       "    </tr>\n",
       "    <tr>\n",
       "      <th>slope</th>\n",
       "      <td>10</td>\n",
       "      <td>-100.0</td>\n",
       "      <td>100</td>\n",
       "    </tr>\n",
       "    <tr>\n",
       "      <th>sd</th>\n",
       "      <td>100</td>\n",
       "      <td>0.1</td>\n",
       "      <td>1000</td>\n",
       "    </tr>\n",
       "  </tbody>\n",
       "</table>\n",
       "</div>"
      ],
      "text/plain": [
       "           value  lower_bound  upper_bound\n",
       "intercept     10       -100.0          100\n",
       "slope         10       -100.0          100\n",
       "sd           100          0.1         1000"
      ]
     },
     "execution_count": 305,
     "metadata": {},
     "output_type": "execute_result"
    }
   ],
   "source": [
    "start_params_zero_bound"
   ]
  },
  {
   "cell_type": "code",
   "execution_count": 306,
   "id": "ad1334b1",
   "metadata": {},
   "outputs": [],
   "source": [
    "algo_options = {\n",
    "    \"convergence.relative_criterion_tolerance\": 1e-12,\n",
    "    \"stopping.max_iterations\": 100,\n",
    "}"
   ]
  },
  {
   "cell_type": "code",
   "execution_count": 307,
   "id": "665e7d20",
   "metadata": {},
   "outputs": [],
   "source": [
    "out = em.minimize(\n",
    "    criterion=simulate_simple,\n",
    "    params=start_params_zero_bound,\n",
    "    # algorithm=\"scipy_lbfgsb\",\n",
    "    algorithm=\"tranquilo_ls\",\n",
    "    algo_options=algo_options,\n",
    "    multistart=True,\n",
    "    multistart_options=options,\n",
    ")"
   ]
  },
  {
   "cell_type": "code",
   "execution_count": 308,
   "id": "5c5fa97b",
   "metadata": {},
   "outputs": [
    {
     "data": {
      "text/html": [
       "<div>\n",
       "<style scoped>\n",
       "    .dataframe tbody tr th:only-of-type {\n",
       "        vertical-align: middle;\n",
       "    }\n",
       "\n",
       "    .dataframe tbody tr th {\n",
       "        vertical-align: top;\n",
       "    }\n",
       "\n",
       "    .dataframe thead th {\n",
       "        text-align: right;\n",
       "    }\n",
       "</style>\n",
       "<table border=\"1\" class=\"dataframe\">\n",
       "  <thead>\n",
       "    <tr style=\"text-align: right;\">\n",
       "      <th></th>\n",
       "      <th>value</th>\n",
       "      <th>lower_bound</th>\n",
       "      <th>upper_bound</th>\n",
       "    </tr>\n",
       "  </thead>\n",
       "  <tbody>\n",
       "    <tr>\n",
       "      <th>intercept</th>\n",
       "      <td>2.0</td>\n",
       "      <td>-100.0</td>\n",
       "      <td>100</td>\n",
       "    </tr>\n",
       "    <tr>\n",
       "      <th>slope</th>\n",
       "      <td>-1.0</td>\n",
       "      <td>-100.0</td>\n",
       "      <td>100</td>\n",
       "    </tr>\n",
       "    <tr>\n",
       "      <th>sd</th>\n",
       "      <td>1.0</td>\n",
       "      <td>0.1</td>\n",
       "      <td>1000</td>\n",
       "    </tr>\n",
       "  </tbody>\n",
       "</table>\n",
       "</div>"
      ],
      "text/plain": [
       "           value  lower_bound  upper_bound\n",
       "intercept    2.0       -100.0          100\n",
       "slope       -1.0       -100.0          100\n",
       "sd           1.0          0.1         1000"
      ]
     },
     "execution_count": 308,
     "metadata": {},
     "output_type": "execute_result"
    }
   ],
   "source": [
    "out.params"
   ]
  },
  {
   "cell_type": "code",
   "execution_count": 310,
   "id": "0225efdc",
   "metadata": {},
   "outputs": [
    {
     "data": {
      "text/plain": [
       "array([-100. , -100. ,    0.1])"
      ]
     },
     "execution_count": 310,
     "metadata": {},
     "output_type": "execute_result"
    }
   ],
   "source": [
    "np.array(start_params_zero_bound[\"lower_bound\"])"
   ]
  },
  {
   "cell_type": "code",
   "execution_count": 314,
   "id": "a1ff8546",
   "metadata": {},
   "outputs": [
    {
     "data": {
      "text/plain": [
       "array([ 10,  10, 100])"
      ]
     },
     "execution_count": 314,
     "metadata": {},
     "output_type": "execute_result"
    }
   ],
   "source": [
    "np.array(start_params_zero_bound[\"value\"])"
   ]
  },
  {
   "cell_type": "code",
   "execution_count": 317,
   "id": "113a4102",
   "metadata": {},
   "outputs": [],
   "source": [
    "out = em.minimize(\n",
    "    criterion=simulate_simple,\n",
    "    params=start_params_zero_bound,\n",
    "    # lower_bounds=start_params_zero_bound[\"lower_bound\"],\n",
    "    # upper_bounds=start_params_zero_bound[\"upper_bound\"],\n",
    "    # algorithm=\"scipy_lbfgsb\",\n",
    "    algorithm=\"tranquilo_ls\",\n",
    "    algo_options=algo_options,\n",
    "    multistart=True,\n",
    "    multistart_options=options,\n",
    ")"
   ]
  },
  {
   "cell_type": "code",
   "execution_count": 318,
   "id": "ec2e915c",
   "metadata": {},
   "outputs": [
    {
     "data": {
      "text/html": [
       "<div>\n",
       "<style scoped>\n",
       "    .dataframe tbody tr th:only-of-type {\n",
       "        vertical-align: middle;\n",
       "    }\n",
       "\n",
       "    .dataframe tbody tr th {\n",
       "        vertical-align: top;\n",
       "    }\n",
       "\n",
       "    .dataframe thead th {\n",
       "        text-align: right;\n",
       "    }\n",
       "</style>\n",
       "<table border=\"1\" class=\"dataframe\">\n",
       "  <thead>\n",
       "    <tr style=\"text-align: right;\">\n",
       "      <th></th>\n",
       "      <th>value</th>\n",
       "      <th>lower_bound</th>\n",
       "      <th>upper_bound</th>\n",
       "    </tr>\n",
       "  </thead>\n",
       "  <tbody>\n",
       "    <tr>\n",
       "      <th>intercept</th>\n",
       "      <td>2.0</td>\n",
       "      <td>-100.0</td>\n",
       "      <td>100</td>\n",
       "    </tr>\n",
       "    <tr>\n",
       "      <th>slope</th>\n",
       "      <td>-1.0</td>\n",
       "      <td>-100.0</td>\n",
       "      <td>100</td>\n",
       "    </tr>\n",
       "    <tr>\n",
       "      <th>sd</th>\n",
       "      <td>1.0</td>\n",
       "      <td>0.1</td>\n",
       "      <td>1000</td>\n",
       "    </tr>\n",
       "  </tbody>\n",
       "</table>\n",
       "</div>"
      ],
      "text/plain": [
       "           value  lower_bound  upper_bound\n",
       "intercept    2.0       -100.0          100\n",
       "slope       -1.0       -100.0          100\n",
       "sd           1.0          0.1         1000"
      ]
     },
     "execution_count": 318,
     "metadata": {},
     "output_type": "execute_result"
    }
   ],
   "source": [
    "out.params"
   ]
  },
  {
   "cell_type": "code",
   "execution_count": 190,
   "id": "445095ac",
   "metadata": {},
   "outputs": [
    {
     "name": "stderr",
     "output_type": "stream",
     "text": [
      "/home/sebastian/miniconda3/envs/elder_care/lib/python3.10/site-packages/estimagic/optimization/optimize_result.py:131: FutureWarning: DataFrame.applymap has been deprecated. Use DataFrame.map instead.\n",
      "  table = report[columns].applymap(_format_float).astype(str)\n"
     ]
    },
    {
     "data": {
      "text/plain": [
       "Minimize with 3 free parameters terminated.\n",
       "\n",
       "The value of criterion improved from 101055319.8559496 to 5.342975928336405e-19.\n",
       "\n",
       "The multistart_tranquilo_ls algorithm reported: Relative criterion change smaller than tolerance.\n",
       "\n",
       "Independent of the convergence criteria used by multistart_tranquilo_ls, the strength of convergence can be assessed by the following criteria:\n",
       "\n",
       "                             one_step     five_steps \n",
       "relative_criterion_change  9.428e-15***  9.428e-15***\n",
       "relative_params_change     1.592e-08*    1.592e-08*  \n",
       "absolute_criterion_change  9.428e-16***  9.428e-16***\n",
       "absolute_params_change     1.592e-08*    1.592e-08*  \n",
       "\n",
       "(***: change <= 1e-10, **: change <= 1e-8, *: change <= 1e-5. Change refers to a change between accepted steps. The first column only considers the last step. The second column considers the last five steps.)"
      ]
     },
     "execution_count": 190,
     "metadata": {},
     "output_type": "execute_result"
    }
   ],
   "source": [
    "out"
   ]
  },
  {
   "cell_type": "code",
   "execution_count": 230,
   "id": "5b9b20af",
   "metadata": {},
   "outputs": [],
   "source": [
    "res = em.estimate_msm(\n",
    "    simulate_moments,\n",
    "    empirical_moments,\n",
    "    np.eye(5),\n",
    "    params=start_params_zero_bound,\n",
    "    optimize_options={\n",
    "        \"algorithm\": \"tranquilo_ls\",\n",
    "        \"algo_options\": algo_options,\n",
    "        \"multistart\": True,\n",
    "        \"multistart_options\": options,\n",
    "    },\n",
    ")"
   ]
  },
  {
   "cell_type": "code",
   "execution_count": 231,
   "id": "55e9bc17",
   "metadata": {},
   "outputs": [
    {
     "data": {
      "text/html": [
       "<div>\n",
       "<style scoped>\n",
       "    .dataframe tbody tr th:only-of-type {\n",
       "        vertical-align: middle;\n",
       "    }\n",
       "\n",
       "    .dataframe tbody tr th {\n",
       "        vertical-align: top;\n",
       "    }\n",
       "\n",
       "    .dataframe thead th {\n",
       "        text-align: right;\n",
       "    }\n",
       "</style>\n",
       "<table border=\"1\" class=\"dataframe\">\n",
       "  <thead>\n",
       "    <tr style=\"text-align: right;\">\n",
       "      <th></th>\n",
       "      <th>value</th>\n",
       "      <th>lower_bound</th>\n",
       "      <th>upper_bound</th>\n",
       "    </tr>\n",
       "  </thead>\n",
       "  <tbody>\n",
       "    <tr>\n",
       "      <th>intercept</th>\n",
       "      <td>1.713790</td>\n",
       "      <td>-100.0</td>\n",
       "      <td>100</td>\n",
       "    </tr>\n",
       "    <tr>\n",
       "      <th>slope</th>\n",
       "      <td>-0.935611</td>\n",
       "      <td>-100.0</td>\n",
       "      <td>100</td>\n",
       "    </tr>\n",
       "    <tr>\n",
       "      <th>sd</th>\n",
       "      <td>1.114875</td>\n",
       "      <td>0.1</td>\n",
       "      <td>1000</td>\n",
       "    </tr>\n",
       "  </tbody>\n",
       "</table>\n",
       "</div>"
      ],
      "text/plain": [
       "              value  lower_bound  upper_bound\n",
       "intercept  1.713790       -100.0          100\n",
       "slope     -0.935611       -100.0          100\n",
       "sd         1.114875          0.1         1000"
      ]
     },
     "execution_count": 231,
     "metadata": {},
     "output_type": "execute_result"
    }
   ],
   "source": [
    "res.params"
   ]
  },
  {
   "cell_type": "code",
   "execution_count": null,
   "id": "4bb33552",
   "metadata": {},
   "outputs": [],
   "source": []
  },
  {
   "cell_type": "code",
   "execution_count": null,
   "id": "bdb0185b",
   "metadata": {},
   "outputs": [],
   "source": []
  },
  {
   "cell_type": "code",
   "execution_count": 156,
   "id": "c05fa086",
   "metadata": {},
   "outputs": [
    {
     "data": {
      "text/html": [
       "<div>\n",
       "<style scoped>\n",
       "    .dataframe tbody tr th:only-of-type {\n",
       "        vertical-align: middle;\n",
       "    }\n",
       "\n",
       "    .dataframe tbody tr th {\n",
       "        vertical-align: top;\n",
       "    }\n",
       "\n",
       "    .dataframe thead th {\n",
       "        text-align: right;\n",
       "    }\n",
       "</style>\n",
       "<table border=\"1\" class=\"dataframe\">\n",
       "  <thead>\n",
       "    <tr style=\"text-align: right;\">\n",
       "      <th></th>\n",
       "      <th>value</th>\n",
       "      <th>lower_bound</th>\n",
       "    </tr>\n",
       "  </thead>\n",
       "  <tbody>\n",
       "    <tr>\n",
       "      <th>intercept</th>\n",
       "      <td>2</td>\n",
       "      <td>-inf</td>\n",
       "    </tr>\n",
       "    <tr>\n",
       "      <th>slope</th>\n",
       "      <td>-1</td>\n",
       "      <td>-inf</td>\n",
       "    </tr>\n",
       "    <tr>\n",
       "      <th>sd</th>\n",
       "      <td>1</td>\n",
       "      <td>1.000000e-10</td>\n",
       "    </tr>\n",
       "  </tbody>\n",
       "</table>\n",
       "</div>"
      ],
      "text/plain": [
       "           value   lower_bound\n",
       "intercept      2          -inf\n",
       "slope         -1          -inf\n",
       "sd             1  1.000000e-10"
      ]
     },
     "execution_count": 156,
     "metadata": {},
     "output_type": "execute_result"
    }
   ],
   "source": [
    "true_params"
   ]
  },
  {
   "cell_type": "code",
   "execution_count": null,
   "id": "2fadfad3",
   "metadata": {},
   "outputs": [],
   "source": []
  },
  {
   "cell_type": "code",
   "execution_count": null,
   "id": "3a1c172c",
   "metadata": {},
   "outputs": [],
   "source": []
  },
  {
   "cell_type": "code",
   "execution_count": null,
   "id": "d955f029",
   "metadata": {},
   "outputs": [],
   "source": []
  },
  {
   "cell_type": "code",
   "execution_count": 90,
   "id": "23113f9a",
   "metadata": {},
   "outputs": [],
   "source": [
    "start_params_arr = np.array(start_params)[:, 0]"
   ]
  },
  {
   "cell_type": "code",
   "execution_count": 101,
   "id": "03e8bf99",
   "metadata": {},
   "outputs": [],
   "source": [
    "start_params_bound = start_params.assign(lower_bound=[-100, -100, -100])\n",
    "start_params_bound[\"upper_bound\"] = [1_000, 1_000, 1_000]"
   ]
  },
  {
   "cell_type": "code",
   "execution_count": 102,
   "id": "64e5028d",
   "metadata": {},
   "outputs": [
    {
     "data": {
      "text/html": [
       "<div>\n",
       "<style scoped>\n",
       "    .dataframe tbody tr th:only-of-type {\n",
       "        vertical-align: middle;\n",
       "    }\n",
       "\n",
       "    .dataframe tbody tr th {\n",
       "        vertical-align: top;\n",
       "    }\n",
       "\n",
       "    .dataframe thead th {\n",
       "        text-align: right;\n",
       "    }\n",
       "</style>\n",
       "<table border=\"1\" class=\"dataframe\">\n",
       "  <thead>\n",
       "    <tr style=\"text-align: right;\">\n",
       "      <th></th>\n",
       "      <th>value</th>\n",
       "      <th>lower_bound</th>\n",
       "      <th>upper_bound</th>\n",
       "    </tr>\n",
       "  </thead>\n",
       "  <tbody>\n",
       "    <tr>\n",
       "      <th>intercept</th>\n",
       "      <td>100</td>\n",
       "      <td>-100</td>\n",
       "      <td>1000</td>\n",
       "    </tr>\n",
       "    <tr>\n",
       "      <th>slope</th>\n",
       "      <td>100</td>\n",
       "      <td>-100</td>\n",
       "      <td>1000</td>\n",
       "    </tr>\n",
       "    <tr>\n",
       "      <th>sd</th>\n",
       "      <td>100</td>\n",
       "      <td>-100</td>\n",
       "      <td>1000</td>\n",
       "    </tr>\n",
       "  </tbody>\n",
       "</table>\n",
       "</div>"
      ],
      "text/plain": [
       "           value  lower_bound  upper_bound\n",
       "intercept    100         -100         1000\n",
       "slope        100         -100         1000\n",
       "sd           100         -100         1000"
      ]
     },
     "execution_count": 102,
     "metadata": {},
     "output_type": "execute_result"
    }
   ],
   "source": [
    "start_params_bound"
   ]
  },
  {
   "cell_type": "code",
   "execution_count": 107,
   "id": "4f5c0d22",
   "metadata": {},
   "outputs": [],
   "source": []
  },
  {
   "cell_type": "markdown",
   "id": "52e903a7",
   "metadata": {},
   "source": [
    "#### def simulate_moments(params, n_draws=10_000, seed=0)\n",
    "\n",
    "endog, value, policy_left, policy_right = solve_partial()\n",
    "\n",
    "dict = simulate()\n",
    "\n",
    "df = custom_create_simulation_df()\n",
    "\n",
    "moments = custom_create_simulated_moments(df) # or turned into jnp.array before"
   ]
  },
  {
   "cell_type": "code",
   "execution_count": null,
   "id": "31f94e10",
   "metadata": {},
   "outputs": [],
   "source": []
  }
 ],
 "metadata": {
  "kernelspec": {
   "display_name": "Python 3 (ipykernel)",
   "language": "python",
   "name": "python3"
  },
  "language_info": {
   "codemirror_mode": {
    "name": "ipython",
    "version": 3
   },
   "file_extension": ".py",
   "mimetype": "text/x-python",
   "name": "python",
   "nbconvert_exporter": "python",
   "pygments_lexer": "ipython3",
   "version": "3.10.13"
  }
 },
 "nbformat": 4,
 "nbformat_minor": 5
}
