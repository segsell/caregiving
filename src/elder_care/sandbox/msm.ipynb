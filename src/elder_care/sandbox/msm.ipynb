{
 "cells": [
  {
   "cell_type": "code",
   "execution_count": 1,
   "id": "b5d07b74",
   "metadata": {},
   "outputs": [
    {
     "name": "stderr",
     "output_type": "stream",
     "text": [
      "/tmp/ipykernel_28979/1771416802.py:4: DeprecationWarning: \n",
      "Pyarrow will become a required dependency of pandas in the next major release of pandas (pandas 3.0),\n",
      "(to allow more performant data types, such as the Arrow string type, and better interoperability with other libraries)\n",
      "but was not found to be installed on your system.\n",
      "If this would cause problems for you,\n",
      "please provide us feedback at https://github.com/pandas-dev/pandas/issues/54466\n",
      "        \n",
      "  import pandas as pd\n"
     ]
    }
   ],
   "source": [
    "import numpy as np\n",
    "import jax.numpy as jnp\n",
    "\n",
    "import pandas as pd\n",
    "\n",
    "import estimagic as em\n",
    "\n",
    "rng = np.random.default_rng(seed=0)"
   ]
  },
  {
   "cell_type": "code",
   "execution_count": 215,
   "id": "6549fba7",
   "metadata": {},
   "outputs": [],
   "source": [
    "options = {\n",
    "    # Set the number of points at which criterion is evaluated\n",
    "    # in the exploration phase\n",
    "    \"n_samples\": 10 * len(start_params_arr),\n",
    "    # Pass in a DataFrame or array with a custom sample\n",
    "    # for the exploration phase.\n",
    "    \"sample\": None,\n",
    "    # Determine number of optimizations, relative to n_samples\n",
    "    \"share_optimizations\": 0.1,\n",
    "    # Determine distribution from which sample is drawn\n",
    "    \"sampling_distribution\": \"uniform\",\n",
    "    # Determine sampling method. Allowed: [\"sobol\", \"random\",\n",
    "    # \"halton\", \"hammersley\", \"korobov\", \"latin_hypercube\"]\n",
    "    \"sampling_method\": \"sobol\",\n",
    "    # Determine how start parameters for local optimizations are\n",
    "    # calculated. Allowed: [\"tiktak\", \"linear\"] or a custom\n",
    "    # function with arguments iteration, n_iterations, min_weight,\n",
    "    # and max_weight\n",
    "    \"mixing_weight_method\": \"tiktak\",\n",
    "    # Determine bounds on mixing weights.\n",
    "    \"mixing_weight_bounds\": (0.1, 0.995),\n",
    "    # Determine after how many re-discoveries of the currently best\n",
    "    # local optimum the multistart optimization converges.\n",
    "    \"convergence.max_discoveries\": 2,\n",
    "    # Determine the maximum relative distance two parameter vectors\n",
    "    # can have to be considered equal for convergence purposes:\n",
    "    \"convergence.relative_params_tolerance\": 0.01,\n",
    "    # Determine how many cores are used\n",
    "    \"n_cores\": 2,\n",
    "    # Determine which batch_evaluator is used:\n",
    "    \"batch_evaluator\": \"joblib\",\n",
    "    # Determine the batch size. It must be larger than n_cores.\n",
    "    # Setting the batch size larger than n_cores allows to reproduce\n",
    "    # the exact results of a highly parallel optimization on a smaller\n",
    "    # machine.\n",
    "    \"batch_size\": 4,\n",
    "    # Set the random seed:\n",
    "    \"seed\": None,\n",
    "    # Set how errors are handled during the exploration phase:\n",
    "    \"exploration_error_handling\": \"continue\",\n",
    "    # Set how errors are handled during the optimization phase:\n",
    "    \"optimization_error_handling\": \"continue\",\n",
    "}"
   ]
  },
  {
   "cell_type": "code",
   "execution_count": 209,
   "id": "92464e9b",
   "metadata": {},
   "outputs": [],
   "source": [
    "# 1)\n",
    "# simulate data \n",
    "# calculate moments\n",
    "\n",
    "# -> empirical_moments"
   ]
  },
  {
   "cell_type": "code",
   "execution_count": 210,
   "id": "5e0aea36",
   "metadata": {},
   "outputs": [],
   "source": [
    "def simulate_data(params, n_draws, rng):\n",
    "    x = rng.normal(0, 1, size=n_draws)\n",
    "    e = rng.normal(0, params.loc[\"sd\", \"value\"], size=n_draws)\n",
    "    y = params.loc[\"intercept\", \"value\"] + params.loc[\"slope\", \"value\"] * x + e\n",
    "    return pd.DataFrame({\"y\": y, \"x\": x})"
   ]
  },
  {
   "cell_type": "code",
   "execution_count": 211,
   "id": "d98cf3b8",
   "metadata": {},
   "outputs": [],
   "source": [
    "true_params = pd.DataFrame(\n",
    "    data=[[2, -np.inf], [-1, -np.inf], [1, 1e-10]],\n",
    "    columns=[\"value\", \"lower_bound\"],\n",
    "    index=[\"intercept\", \"slope\", \"sd\"],\n",
    ")\n",
    "\n",
    "data = simulate_data(true_params, n_draws=100, rng=rng)"
   ]
  },
  {
   "cell_type": "code",
   "execution_count": 212,
   "id": "8d2759a1",
   "metadata": {},
   "outputs": [],
   "source": [
    "def calculate_moments(sample):\n",
    "    moments = {\n",
    "        \"y_mean\": sample[\"y\"].mean(),\n",
    "        \"x_mean\": sample[\"x\"].mean(),\n",
    "        \"yx_mean\": (sample[\"y\"] * sample[\"x\"]).mean(),\n",
    "        \"y_sqrd_mean\": (sample[\"y\"] ** 2).mean(),\n",
    "        \"x_sqrd_mean\": (sample[\"x\"] ** 2).mean(),\n",
    "    }\n",
    "    return pd.Series(moments)"
   ]
  },
  {
   "cell_type": "code",
   "execution_count": 213,
   "id": "d1a5ca81",
   "metadata": {},
   "outputs": [
    {
     "data": {
      "text/plain": [
       "y_mean         1.711286\n",
       "x_mean         0.164741\n",
       "yx_mean       -0.937229\n",
       "y_sqrd_mean    5.058530\n",
       "x_sqrd_mean    1.069038\n",
       "dtype: float64"
      ]
     },
     "execution_count": 213,
     "metadata": {},
     "output_type": "execute_result"
    }
   ],
   "source": [
    "empirical_moments = calculate_moments(data)\n",
    "empirical_moments"
   ]
  },
  {
   "cell_type": "code",
   "execution_count": 7,
   "id": "403b3fc1",
   "metadata": {},
   "outputs": [],
   "source": [
    "# Calculate the covariance matrix of empirical moments"
   ]
  },
  {
   "cell_type": "code",
   "execution_count": 8,
   "id": "5f82b592",
   "metadata": {},
   "outputs": [
    {
     "data": {
      "text/html": [
       "<div>\n",
       "<style scoped>\n",
       "    .dataframe tbody tr th:only-of-type {\n",
       "        vertical-align: middle;\n",
       "    }\n",
       "\n",
       "    .dataframe tbody tr th {\n",
       "        vertical-align: top;\n",
       "    }\n",
       "\n",
       "    .dataframe thead th {\n",
       "        text-align: right;\n",
       "    }\n",
       "</style>\n",
       "<table border=\"1\" class=\"dataframe\">\n",
       "  <thead>\n",
       "    <tr style=\"text-align: right;\">\n",
       "      <th></th>\n",
       "      <th>y_mean</th>\n",
       "      <th>x_mean</th>\n",
       "      <th>yx_mean</th>\n",
       "      <th>y_sqrd_mean</th>\n",
       "      <th>x_sqrd_mean</th>\n",
       "    </tr>\n",
       "  </thead>\n",
       "  <tbody>\n",
       "    <tr>\n",
       "      <th>y_mean</th>\n",
       "      <td>0.016990</td>\n",
       "      <td>-0.008036</td>\n",
       "      <td>-0.012758</td>\n",
       "      <td>0.056742</td>\n",
       "      <td>-0.001232</td>\n",
       "    </tr>\n",
       "    <tr>\n",
       "      <th>x_mean</th>\n",
       "      <td>-0.008036</td>\n",
       "      <td>0.008401</td>\n",
       "      <td>0.015476</td>\n",
       "      <td>-0.029308</td>\n",
       "      <td>0.001385</td>\n",
       "    </tr>\n",
       "    <tr>\n",
       "      <th>yx_mean</th>\n",
       "      <td>-0.012758</td>\n",
       "      <td>0.015476</td>\n",
       "      <td>0.050458</td>\n",
       "      <td>-0.074388</td>\n",
       "      <td>-0.011105</td>\n",
       "    </tr>\n",
       "    <tr>\n",
       "      <th>y_sqrd_mean</th>\n",
       "      <td>0.056742</td>\n",
       "      <td>-0.029308</td>\n",
       "      <td>-0.074388</td>\n",
       "      <td>0.238695</td>\n",
       "      <td>0.009082</td>\n",
       "    </tr>\n",
       "    <tr>\n",
       "      <th>x_sqrd_mean</th>\n",
       "      <td>-0.001232</td>\n",
       "      <td>0.001385</td>\n",
       "      <td>-0.011105</td>\n",
       "      <td>0.009082</td>\n",
       "      <td>0.012331</td>\n",
       "    </tr>\n",
       "  </tbody>\n",
       "</table>\n",
       "</div>"
      ],
      "text/plain": [
       "               y_mean    x_mean   yx_mean  y_sqrd_mean  x_sqrd_mean\n",
       "y_mean       0.016990 -0.008036 -0.012758     0.056742    -0.001232\n",
       "x_mean      -0.008036  0.008401  0.015476    -0.029308     0.001385\n",
       "yx_mean     -0.012758  0.015476  0.050458    -0.074388    -0.011105\n",
       "y_sqrd_mean  0.056742 -0.029308 -0.074388     0.238695     0.009082\n",
       "x_sqrd_mean -0.001232  0.001385 -0.011105     0.009082     0.012331"
      ]
     },
     "execution_count": 8,
     "metadata": {},
     "output_type": "execute_result"
    }
   ],
   "source": [
    "moments_cov = em.get_moments_cov(\n",
    "    data, calculate_moments, bootstrap_kwargs={\"n_draws\": 5_000, \"seed\": 0}\n",
    ")\n",
    "\n",
    "moments_cov"
   ]
  },
  {
   "cell_type": "code",
   "execution_count": 9,
   "id": "d6fb7a49",
   "metadata": {},
   "outputs": [],
   "source": [
    "# Define a function to calculate simulated moments"
   ]
  },
  {
   "cell_type": "code",
   "execution_count": 10,
   "id": "93044151",
   "metadata": {},
   "outputs": [],
   "source": [
    "def simulate_moments(params, n_draws=10_000, seed=0):\n",
    "    rng = np.random.default_rng(seed)\n",
    "    sim_data = simulate_data(params, n_draws, rng)\n",
    "    sim_moments = calculate_moments(sim_data)\n",
    "    return sim_moments"
   ]
  },
  {
   "cell_type": "code",
   "execution_count": 35,
   "id": "705c0d68",
   "metadata": {},
   "outputs": [
    {
     "data": {
      "text/plain": [
       "y_mean         1.996739\n",
       "x_mean         0.006312\n",
       "yx_mean       -0.997919\n",
       "y_sqrd_mean    5.999877\n",
       "x_sqrd_mean    0.996197\n",
       "dtype: float64"
      ]
     },
     "execution_count": 35,
     "metadata": {},
     "output_type": "execute_result"
    }
   ],
   "source": [
    "simulate_moments(true_params)"
   ]
  },
  {
   "cell_type": "code",
   "execution_count": 37,
   "id": "00d90e1a",
   "metadata": {},
   "outputs": [
    {
     "data": {
      "text/plain": [
       "y_mean         1.996739\n",
       "x_mean         0.006312\n",
       "yx_mean       -0.997919\n",
       "y_sqrd_mean    5.999877\n",
       "x_sqrd_mean    0.996197\n",
       "dtype: float64"
      ]
     },
     "execution_count": 37,
     "metadata": {},
     "output_type": "execute_result"
    }
   ],
   "source": [
    "moms_data = simulate_moments(true_params)\n",
    "moms_data"
   ]
  },
  {
   "cell_type": "code",
   "execution_count": 12,
   "id": "87eaeeff",
   "metadata": {},
   "outputs": [],
   "source": [
    "# 5. Estimate the model parameters"
   ]
  },
  {
   "cell_type": "code",
   "execution_count": 13,
   "id": "d03b6b66",
   "metadata": {},
   "outputs": [],
   "source": [
    "true_params = pd.DataFrame(\n",
    "    data=[[2, -np.inf], [-1, -np.inf], [1, 1e-10]],\n",
    "    columns=[\"value\", \"lower_bound\"],\n",
    "    index=[\"intercept\", \"slope\", \"sd\"],\n",
    ")"
   ]
  },
  {
   "cell_type": "code",
   "execution_count": 14,
   "id": "ff472616",
   "metadata": {},
   "outputs": [
    {
     "data": {
      "text/html": [
       "<div>\n",
       "<style scoped>\n",
       "    .dataframe tbody tr th:only-of-type {\n",
       "        vertical-align: middle;\n",
       "    }\n",
       "\n",
       "    .dataframe tbody tr th {\n",
       "        vertical-align: top;\n",
       "    }\n",
       "\n",
       "    .dataframe thead th {\n",
       "        text-align: right;\n",
       "    }\n",
       "</style>\n",
       "<table border=\"1\" class=\"dataframe\">\n",
       "  <thead>\n",
       "    <tr style=\"text-align: right;\">\n",
       "      <th></th>\n",
       "      <th>value</th>\n",
       "      <th>lower_bound</th>\n",
       "    </tr>\n",
       "  </thead>\n",
       "  <tbody>\n",
       "    <tr>\n",
       "      <th>intercept</th>\n",
       "      <td>2</td>\n",
       "      <td>-inf</td>\n",
       "    </tr>\n",
       "    <tr>\n",
       "      <th>slope</th>\n",
       "      <td>-1</td>\n",
       "      <td>-inf</td>\n",
       "    </tr>\n",
       "    <tr>\n",
       "      <th>sd</th>\n",
       "      <td>1</td>\n",
       "      <td>1.000000e-10</td>\n",
       "    </tr>\n",
       "  </tbody>\n",
       "</table>\n",
       "</div>"
      ],
      "text/plain": [
       "           value   lower_bound\n",
       "intercept      2          -inf\n",
       "slope         -1          -inf\n",
       "sd             1  1.000000e-10"
      ]
     },
     "execution_count": 14,
     "metadata": {},
     "output_type": "execute_result"
    }
   ],
   "source": [
    "true_params"
   ]
  },
  {
   "cell_type": "code",
   "execution_count": 15,
   "id": "f165ecd7",
   "metadata": {},
   "outputs": [
    {
     "data": {
      "text/html": [
       "<div>\n",
       "<style scoped>\n",
       "    .dataframe tbody tr th:only-of-type {\n",
       "        vertical-align: middle;\n",
       "    }\n",
       "\n",
       "    .dataframe tbody tr th {\n",
       "        vertical-align: top;\n",
       "    }\n",
       "\n",
       "    .dataframe thead th {\n",
       "        text-align: right;\n",
       "    }\n",
       "</style>\n",
       "<table border=\"1\" class=\"dataframe\">\n",
       "  <thead>\n",
       "    <tr style=\"text-align: right;\">\n",
       "      <th></th>\n",
       "      <th>value</th>\n",
       "      <th>lower_bound</th>\n",
       "    </tr>\n",
       "  </thead>\n",
       "  <tbody>\n",
       "    <tr>\n",
       "      <th>intercept</th>\n",
       "      <td>100</td>\n",
       "      <td>-inf</td>\n",
       "    </tr>\n",
       "    <tr>\n",
       "      <th>slope</th>\n",
       "      <td>100</td>\n",
       "      <td>-inf</td>\n",
       "    </tr>\n",
       "    <tr>\n",
       "      <th>sd</th>\n",
       "      <td>100</td>\n",
       "      <td>1.000000e-10</td>\n",
       "    </tr>\n",
       "  </tbody>\n",
       "</table>\n",
       "</div>"
      ],
      "text/plain": [
       "           value   lower_bound\n",
       "intercept    100          -inf\n",
       "slope        100          -inf\n",
       "sd           100  1.000000e-10"
      ]
     },
     "execution_count": 15,
     "metadata": {},
     "output_type": "execute_result"
    }
   ],
   "source": [
    "true_params.assign(value=[100, 100, 100])"
   ]
  },
  {
   "cell_type": "code",
   "execution_count": 16,
   "id": "ae98f1b2",
   "metadata": {},
   "outputs": [],
   "source": [
    "start_params = true_params.assign(value=[100, 100, 100])"
   ]
  },
  {
   "cell_type": "code",
   "execution_count": 22,
   "id": "18b908c2",
   "metadata": {},
   "outputs": [
    {
     "data": {
      "text/html": [
       "<div>\n",
       "<style scoped>\n",
       "    .dataframe tbody tr th:only-of-type {\n",
       "        vertical-align: middle;\n",
       "    }\n",
       "\n",
       "    .dataframe tbody tr th {\n",
       "        vertical-align: top;\n",
       "    }\n",
       "\n",
       "    .dataframe thead th {\n",
       "        text-align: right;\n",
       "    }\n",
       "</style>\n",
       "<table border=\"1\" class=\"dataframe\">\n",
       "  <thead>\n",
       "    <tr style=\"text-align: right;\">\n",
       "      <th></th>\n",
       "      <th>y_mean</th>\n",
       "      <th>x_mean</th>\n",
       "      <th>yx_mean</th>\n",
       "      <th>y_sqrd_mean</th>\n",
       "      <th>x_sqrd_mean</th>\n",
       "    </tr>\n",
       "  </thead>\n",
       "  <tbody>\n",
       "    <tr>\n",
       "      <th>y_mean</th>\n",
       "      <td>0.016990</td>\n",
       "      <td>-0.008036</td>\n",
       "      <td>-0.012758</td>\n",
       "      <td>0.056742</td>\n",
       "      <td>-0.001232</td>\n",
       "    </tr>\n",
       "    <tr>\n",
       "      <th>x_mean</th>\n",
       "      <td>-0.008036</td>\n",
       "      <td>0.008401</td>\n",
       "      <td>0.015476</td>\n",
       "      <td>-0.029308</td>\n",
       "      <td>0.001385</td>\n",
       "    </tr>\n",
       "    <tr>\n",
       "      <th>yx_mean</th>\n",
       "      <td>-0.012758</td>\n",
       "      <td>0.015476</td>\n",
       "      <td>0.050458</td>\n",
       "      <td>-0.074388</td>\n",
       "      <td>-0.011105</td>\n",
       "    </tr>\n",
       "    <tr>\n",
       "      <th>y_sqrd_mean</th>\n",
       "      <td>0.056742</td>\n",
       "      <td>-0.029308</td>\n",
       "      <td>-0.074388</td>\n",
       "      <td>0.238695</td>\n",
       "      <td>0.009082</td>\n",
       "    </tr>\n",
       "    <tr>\n",
       "      <th>x_sqrd_mean</th>\n",
       "      <td>-0.001232</td>\n",
       "      <td>0.001385</td>\n",
       "      <td>-0.011105</td>\n",
       "      <td>0.009082</td>\n",
       "      <td>0.012331</td>\n",
       "    </tr>\n",
       "  </tbody>\n",
       "</table>\n",
       "</div>"
      ],
      "text/plain": [
       "               y_mean    x_mean   yx_mean  y_sqrd_mean  x_sqrd_mean\n",
       "y_mean       0.016990 -0.008036 -0.012758     0.056742    -0.001232\n",
       "x_mean      -0.008036  0.008401  0.015476    -0.029308     0.001385\n",
       "yx_mean     -0.012758  0.015476  0.050458    -0.074388    -0.011105\n",
       "y_sqrd_mean  0.056742 -0.029308 -0.074388     0.238695     0.009082\n",
       "x_sqrd_mean -0.001232  0.001385 -0.011105     0.009082     0.012331"
      ]
     },
     "execution_count": 22,
     "metadata": {},
     "output_type": "execute_result"
    }
   ],
   "source": [
    "moments_cov"
   ]
  },
  {
   "cell_type": "code",
   "execution_count": 72,
   "id": "fe59565d",
   "metadata": {},
   "outputs": [
    {
     "data": {
      "text/html": [
       "<div>\n",
       "<style scoped>\n",
       "    .dataframe tbody tr th:only-of-type {\n",
       "        vertical-align: middle;\n",
       "    }\n",
       "\n",
       "    .dataframe tbody tr th {\n",
       "        vertical-align: top;\n",
       "    }\n",
       "\n",
       "    .dataframe thead th {\n",
       "        text-align: right;\n",
       "    }\n",
       "</style>\n",
       "<table border=\"1\" class=\"dataframe\">\n",
       "  <thead>\n",
       "    <tr style=\"text-align: right;\">\n",
       "      <th></th>\n",
       "      <th>y_mean</th>\n",
       "      <th>x_mean</th>\n",
       "      <th>yx_mean</th>\n",
       "      <th>y_sqrd_mean</th>\n",
       "      <th>x_sqrd_mean</th>\n",
       "    </tr>\n",
       "  </thead>\n",
       "  <tbody>\n",
       "    <tr>\n",
       "      <th>y_mean</th>\n",
       "      <td>0.016990</td>\n",
       "      <td>-0.008036</td>\n",
       "      <td>-0.012758</td>\n",
       "      <td>0.056742</td>\n",
       "      <td>-0.001232</td>\n",
       "    </tr>\n",
       "    <tr>\n",
       "      <th>x_mean</th>\n",
       "      <td>-0.008036</td>\n",
       "      <td>0.008401</td>\n",
       "      <td>0.015476</td>\n",
       "      <td>-0.029308</td>\n",
       "      <td>0.001385</td>\n",
       "    </tr>\n",
       "    <tr>\n",
       "      <th>yx_mean</th>\n",
       "      <td>-0.012758</td>\n",
       "      <td>0.015476</td>\n",
       "      <td>0.050458</td>\n",
       "      <td>-0.074388</td>\n",
       "      <td>-0.011105</td>\n",
       "    </tr>\n",
       "    <tr>\n",
       "      <th>y_sqrd_mean</th>\n",
       "      <td>0.056742</td>\n",
       "      <td>-0.029308</td>\n",
       "      <td>-0.074388</td>\n",
       "      <td>0.238695</td>\n",
       "      <td>0.009082</td>\n",
       "    </tr>\n",
       "    <tr>\n",
       "      <th>x_sqrd_mean</th>\n",
       "      <td>-0.001232</td>\n",
       "      <td>0.001385</td>\n",
       "      <td>-0.011105</td>\n",
       "      <td>0.009082</td>\n",
       "      <td>0.012331</td>\n",
       "    </tr>\n",
       "  </tbody>\n",
       "</table>\n",
       "</div>"
      ],
      "text/plain": [
       "               y_mean    x_mean   yx_mean  y_sqrd_mean  x_sqrd_mean\n",
       "y_mean       0.016990 -0.008036 -0.012758     0.056742    -0.001232\n",
       "x_mean      -0.008036  0.008401  0.015476    -0.029308     0.001385\n",
       "yx_mean     -0.012758  0.015476  0.050458    -0.074388    -0.011105\n",
       "y_sqrd_mean  0.056742 -0.029308 -0.074388     0.238695     0.009082\n",
       "x_sqrd_mean -0.001232  0.001385 -0.011105     0.009082     0.012331"
      ]
     },
     "execution_count": 72,
     "metadata": {},
     "output_type": "execute_result"
    }
   ],
   "source": [
    "moments_cov"
   ]
  },
  {
   "cell_type": "code",
   "execution_count": 73,
   "id": "07a54b96",
   "metadata": {},
   "outputs": [],
   "source": [
    "res = em.estimate_msm(\n",
    "    simulate_moments,\n",
    "    empirical_moments,\n",
    "    np.eye(5),\n",
    "    start_params,\n",
    "    optimize_options=\"tranquilo\",\n",
    ")\n"
   ]
  },
  {
   "cell_type": "code",
   "execution_count": 21,
   "id": "fb7d10c2",
   "metadata": {},
   "outputs": [
    {
     "data": {
      "text/html": [
       "<div>\n",
       "<style scoped>\n",
       "    .dataframe tbody tr th:only-of-type {\n",
       "        vertical-align: middle;\n",
       "    }\n",
       "\n",
       "    .dataframe tbody tr th {\n",
       "        vertical-align: top;\n",
       "    }\n",
       "\n",
       "    .dataframe thead th {\n",
       "        text-align: right;\n",
       "    }\n",
       "</style>\n",
       "<table border=\"1\" class=\"dataframe\">\n",
       "  <thead>\n",
       "    <tr style=\"text-align: right;\">\n",
       "      <th></th>\n",
       "      <th>value</th>\n",
       "      <th>lower_bound</th>\n",
       "    </tr>\n",
       "  </thead>\n",
       "  <tbody>\n",
       "    <tr>\n",
       "      <th>intercept</th>\n",
       "      <td>2</td>\n",
       "      <td>-inf</td>\n",
       "    </tr>\n",
       "    <tr>\n",
       "      <th>slope</th>\n",
       "      <td>-1</td>\n",
       "      <td>-inf</td>\n",
       "    </tr>\n",
       "    <tr>\n",
       "      <th>sd</th>\n",
       "      <td>1</td>\n",
       "      <td>1.000000e-10</td>\n",
       "    </tr>\n",
       "  </tbody>\n",
       "</table>\n",
       "</div>"
      ],
      "text/plain": [
       "           value   lower_bound\n",
       "intercept      2          -inf\n",
       "slope         -1          -inf\n",
       "sd             1  1.000000e-10"
      ]
     },
     "execution_count": 21,
     "metadata": {},
     "output_type": "execute_result"
    }
   ],
   "source": [
    "true_params"
   ]
  },
  {
   "cell_type": "code",
   "execution_count": 74,
   "id": "3ebc2fdf",
   "metadata": {},
   "outputs": [
    {
     "data": {
      "text/html": [
       "<div>\n",
       "<style scoped>\n",
       "    .dataframe tbody tr th:only-of-type {\n",
       "        vertical-align: middle;\n",
       "    }\n",
       "\n",
       "    .dataframe tbody tr th {\n",
       "        vertical-align: top;\n",
       "    }\n",
       "\n",
       "    .dataframe thead th {\n",
       "        text-align: right;\n",
       "    }\n",
       "</style>\n",
       "<table border=\"1\" class=\"dataframe\">\n",
       "  <thead>\n",
       "    <tr style=\"text-align: right;\">\n",
       "      <th></th>\n",
       "      <th>value</th>\n",
       "      <th>standard_error</th>\n",
       "      <th>ci_lower</th>\n",
       "      <th>ci_upper</th>\n",
       "      <th>p_value</th>\n",
       "      <th>free</th>\n",
       "      <th>stars</th>\n",
       "    </tr>\n",
       "  </thead>\n",
       "  <tbody>\n",
       "    <tr>\n",
       "      <th>intercept</th>\n",
       "      <td>1.869538</td>\n",
       "      <td>1.005494</td>\n",
       "      <td>-0.101194</td>\n",
       "      <td>3.840270</td>\n",
       "      <td>0.062981</td>\n",
       "      <td>True</td>\n",
       "      <td>*</td>\n",
       "    </tr>\n",
       "    <tr>\n",
       "      <th>slope</th>\n",
       "      <td>-0.722006</td>\n",
       "      <td>1.014153</td>\n",
       "      <td>-2.709710</td>\n",
       "      <td>1.265698</td>\n",
       "      <td>0.476508</td>\n",
       "      <td>True</td>\n",
       "      <td></td>\n",
       "    </tr>\n",
       "    <tr>\n",
       "      <th>sd</th>\n",
       "      <td>1.099753</td>\n",
       "      <td>1.909376</td>\n",
       "      <td>-2.642556</td>\n",
       "      <td>4.842062</td>\n",
       "      <td>0.564632</td>\n",
       "      <td>True</td>\n",
       "      <td></td>\n",
       "    </tr>\n",
       "  </tbody>\n",
       "</table>\n",
       "</div>"
      ],
      "text/plain": [
       "              value  standard_error  ci_lower  ci_upper   p_value  free stars\n",
       "intercept  1.869538        1.005494 -0.101194  3.840270  0.062981  True     *\n",
       "slope     -0.722006        1.014153 -2.709710  1.265698  0.476508  True      \n",
       "sd         1.099753        1.909376 -2.642556  4.842062  0.564632  True      "
      ]
     },
     "execution_count": 74,
     "metadata": {},
     "output_type": "execute_result"
    }
   ],
   "source": [
    "res.summary()"
   ]
  },
  {
   "cell_type": "code",
   "execution_count": null,
   "id": "101e1d45",
   "metadata": {},
   "outputs": [],
   "source": []
  },
  {
   "cell_type": "code",
   "execution_count": 17,
   "id": "d0f73c2b",
   "metadata": {},
   "outputs": [
    {
     "data": {
      "text/html": [
       "<div>\n",
       "<style scoped>\n",
       "    .dataframe tbody tr th:only-of-type {\n",
       "        vertical-align: middle;\n",
       "    }\n",
       "\n",
       "    .dataframe tbody tr th {\n",
       "        vertical-align: top;\n",
       "    }\n",
       "\n",
       "    .dataframe thead th {\n",
       "        text-align: right;\n",
       "    }\n",
       "</style>\n",
       "<table border=\"1\" class=\"dataframe\">\n",
       "  <thead>\n",
       "    <tr style=\"text-align: right;\">\n",
       "      <th></th>\n",
       "      <th>value</th>\n",
       "      <th>standard_error</th>\n",
       "      <th>ci_lower</th>\n",
       "      <th>ci_upper</th>\n",
       "      <th>p_value</th>\n",
       "      <th>free</th>\n",
       "      <th>stars</th>\n",
       "    </tr>\n",
       "  </thead>\n",
       "  <tbody>\n",
       "    <tr>\n",
       "      <th>intercept</th>\n",
       "      <td>1.869534</td>\n",
       "      <td>0.130853</td>\n",
       "      <td>1.613067</td>\n",
       "      <td>2.126001</td>\n",
       "      <td>2.626213e-46</td>\n",
       "      <td>True</td>\n",
       "      <td>***</td>\n",
       "    </tr>\n",
       "    <tr>\n",
       "      <th>slope</th>\n",
       "      <td>-0.721958</td>\n",
       "      <td>0.231409</td>\n",
       "      <td>-1.175511</td>\n",
       "      <td>-0.268405</td>\n",
       "      <td>1.809494e-03</td>\n",
       "      <td>True</td>\n",
       "      <td>***</td>\n",
       "    </tr>\n",
       "    <tr>\n",
       "      <th>sd</th>\n",
       "      <td>1.099789</td>\n",
       "      <td>0.137995</td>\n",
       "      <td>0.829324</td>\n",
       "      <td>1.370254</td>\n",
       "      <td>1.589408e-15</td>\n",
       "      <td>True</td>\n",
       "      <td>***</td>\n",
       "    </tr>\n",
       "  </tbody>\n",
       "</table>\n",
       "</div>"
      ],
      "text/plain": [
       "              value  standard_error  ci_lower  ci_upper       p_value  free  \\\n",
       "intercept  1.869534        0.130853  1.613067  2.126001  2.626213e-46  True   \n",
       "slope     -0.721958        0.231409 -1.175511 -0.268405  1.809494e-03  True   \n",
       "sd         1.099789        0.137995  0.829324  1.370254  1.589408e-15  True   \n",
       "\n",
       "          stars  \n",
       "intercept   ***  \n",
       "slope       ***  \n",
       "sd          ***  "
      ]
     },
     "execution_count": 17,
     "metadata": {},
     "output_type": "execute_result"
    }
   ],
   "source": [
    "res.summary()"
   ]
  },
  {
   "cell_type": "code",
   "execution_count": null,
   "id": "d18cf38b",
   "metadata": {},
   "outputs": [],
   "source": [
    "def simulate_moments(params, n_draws=10_000, seed=0):\n",
    "    rng = np.random.default_rng(seed)\n",
    "    sim_data = simulate_data(params, n_draws, rng)\n",
    "    sim_moments = calculate_moments(sim_data)\n",
    "    return sim_moments"
   ]
  },
  {
   "cell_type": "code",
   "execution_count": 30,
   "id": "a35bef4d",
   "metadata": {},
   "outputs": [],
   "source": [
    "rng = np.random.default_rng(seed=0)\n",
    "sim_data = simulate_data(params=true_params, n_draws=10_000, rng=rng)\n",
    "sim_moments = calculate_moments(sim_data)"
   ]
  },
  {
   "cell_type": "code",
   "execution_count": 34,
   "id": "6e7a1adc",
   "metadata": {},
   "outputs": [
    {
     "data": {
      "text/plain": [
       "Array([ 1.9967391 ,  0.00631189, -0.99791896,  5.9998775 ,  0.9961973 ],      dtype=float32)"
      ]
     },
     "execution_count": 34,
     "metadata": {},
     "output_type": "execute_result"
    }
   ],
   "source": [
    "jnp.array(sim_moments)"
   ]
  },
  {
   "cell_type": "code",
   "execution_count": null,
   "id": "566ea99c",
   "metadata": {},
   "outputs": [],
   "source": []
  },
  {
   "cell_type": "code",
   "execution_count": 42,
   "id": "06f86553",
   "metadata": {},
   "outputs": [],
   "source": [
    "W_hat = np.eye(5)"
   ]
  },
  {
   "cell_type": "code",
   "execution_count": 113,
   "id": "12ac44a5",
   "metadata": {},
   "outputs": [],
   "source": [
    "def simulate_simple(params, n_draws=10_000, seed=0):\n",
    "    \n",
    "    rng = np.random.default_rng(seed)\n",
    "    sim_data = simulate_data(params, n_draws, rng)\n",
    "    sim_moments = calculate_moments(sim_data)\n",
    "    moms_model = np.array(sim_moments)\n",
    "    \n",
    "    #moms_data = \n",
    "    \n",
    "    err = moms_model - np.array(moms_data)\n",
    "    crit_val = np.dot(np.dot(err.T, W_hat), err)\n",
    "    \n",
    "    chol_weights = W_hat\n",
    "    deviations = moms_model - np.array(moms_data)\n",
    "    root_contribs = deviations @ chol_weights\n",
    "    \n",
    "    # return root_contribs\n",
    "    return {\"root_contributions\": root_contribs, \"value\": crit_val}"
   ]
  },
  {
   "cell_type": "code",
   "execution_count": 114,
   "id": "fa389ee8",
   "metadata": {},
   "outputs": [
    {
     "data": {
      "text/plain": [
       "{'root_contributions': array([   98.93954859,     0.        ,    99.81428543, 29736.64679207,\n",
       "            0.        ]),\n",
       " 'value': 884287914.3622243}"
      ]
     },
     "execution_count": 114,
     "metadata": {},
     "output_type": "execute_result"
    }
   ],
   "source": [
    "crit = simulate_simple(start_params)\n",
    "crit"
   ]
  },
  {
   "cell_type": "code",
   "execution_count": 157,
   "id": "0d155da7",
   "metadata": {},
   "outputs": [],
   "source": [
    "start_params_zero = start_params.assign(value=[10, 10, 100])"
   ]
  },
  {
   "cell_type": "code",
   "execution_count": 181,
   "id": "e51bdc4e",
   "metadata": {},
   "outputs": [],
   "source": [
    "start_params_zero_bound = start_params_zero.assign(lower_bound=[-100, -100, 0.1])\n",
    "start_params_zero_bound[\"upper_bound\"] = [100, 100, 1_000]"
   ]
  },
  {
   "cell_type": "code",
   "execution_count": 182,
   "id": "c5816797",
   "metadata": {},
   "outputs": [
    {
     "data": {
      "text/html": [
       "<div>\n",
       "<style scoped>\n",
       "    .dataframe tbody tr th:only-of-type {\n",
       "        vertical-align: middle;\n",
       "    }\n",
       "\n",
       "    .dataframe tbody tr th {\n",
       "        vertical-align: top;\n",
       "    }\n",
       "\n",
       "    .dataframe thead th {\n",
       "        text-align: right;\n",
       "    }\n",
       "</style>\n",
       "<table border=\"1\" class=\"dataframe\">\n",
       "  <thead>\n",
       "    <tr style=\"text-align: right;\">\n",
       "      <th></th>\n",
       "      <th>value</th>\n",
       "      <th>lower_bound</th>\n",
       "      <th>upper_bound</th>\n",
       "    </tr>\n",
       "  </thead>\n",
       "  <tbody>\n",
       "    <tr>\n",
       "      <th>intercept</th>\n",
       "      <td>10</td>\n",
       "      <td>-100.0</td>\n",
       "      <td>100</td>\n",
       "    </tr>\n",
       "    <tr>\n",
       "      <th>slope</th>\n",
       "      <td>10</td>\n",
       "      <td>-100.0</td>\n",
       "      <td>100</td>\n",
       "    </tr>\n",
       "    <tr>\n",
       "      <th>sd</th>\n",
       "      <td>100</td>\n",
       "      <td>0.1</td>\n",
       "      <td>1000</td>\n",
       "    </tr>\n",
       "  </tbody>\n",
       "</table>\n",
       "</div>"
      ],
      "text/plain": [
       "           value  lower_bound  upper_bound\n",
       "intercept     10       -100.0          100\n",
       "slope         10       -100.0          100\n",
       "sd           100          0.1         1000"
      ]
     },
     "execution_count": 182,
     "metadata": {},
     "output_type": "execute_result"
    }
   ],
   "source": [
    "start_params_zero_bound"
   ]
  },
  {
   "cell_type": "code",
   "execution_count": 203,
   "id": "ad1334b1",
   "metadata": {},
   "outputs": [],
   "source": [
    "algo_options = {\n",
    "    \"convergence.relative_criterion_tolerance\": 1e-12,\n",
    "    \"stopping.max_iterations\": 100,\n",
    "}"
   ]
  },
  {
   "cell_type": "code",
   "execution_count": 217,
   "id": "665e7d20",
   "metadata": {},
   "outputs": [],
   "source": [
    "out = em.minimize(\n",
    "    criterion=simulate_simple,\n",
    "    params=start_params_zero_bound,\n",
    "    #algorithm=\"scipy_lbfgsb\",\n",
    "    algorithm=\"tranquilo_ls\",\n",
    "    algo_options=algo_options,\n",
    "    multistart=True,\n",
    "    multistart_options=options\n",
    "    \n",
    ")"
   ]
  },
  {
   "cell_type": "code",
   "execution_count": 218,
   "id": "ec2e915c",
   "metadata": {},
   "outputs": [
    {
     "data": {
      "text/html": [
       "<div>\n",
       "<style scoped>\n",
       "    .dataframe tbody tr th:only-of-type {\n",
       "        vertical-align: middle;\n",
       "    }\n",
       "\n",
       "    .dataframe tbody tr th {\n",
       "        vertical-align: top;\n",
       "    }\n",
       "\n",
       "    .dataframe thead th {\n",
       "        text-align: right;\n",
       "    }\n",
       "</style>\n",
       "<table border=\"1\" class=\"dataframe\">\n",
       "  <thead>\n",
       "    <tr style=\"text-align: right;\">\n",
       "      <th></th>\n",
       "      <th>value</th>\n",
       "      <th>lower_bound</th>\n",
       "      <th>upper_bound</th>\n",
       "    </tr>\n",
       "  </thead>\n",
       "  <tbody>\n",
       "    <tr>\n",
       "      <th>intercept</th>\n",
       "      <td>2.0</td>\n",
       "      <td>-100.0</td>\n",
       "      <td>100</td>\n",
       "    </tr>\n",
       "    <tr>\n",
       "      <th>slope</th>\n",
       "      <td>-1.0</td>\n",
       "      <td>-100.0</td>\n",
       "      <td>100</td>\n",
       "    </tr>\n",
       "    <tr>\n",
       "      <th>sd</th>\n",
       "      <td>1.0</td>\n",
       "      <td>0.1</td>\n",
       "      <td>1000</td>\n",
       "    </tr>\n",
       "  </tbody>\n",
       "</table>\n",
       "</div>"
      ],
      "text/plain": [
       "           value  lower_bound  upper_bound\n",
       "intercept    2.0       -100.0          100\n",
       "slope       -1.0       -100.0          100\n",
       "sd           1.0          0.1         1000"
      ]
     },
     "execution_count": 218,
     "metadata": {},
     "output_type": "execute_result"
    }
   ],
   "source": [
    "out.params"
   ]
  },
  {
   "cell_type": "code",
   "execution_count": 190,
   "id": "445095ac",
   "metadata": {},
   "outputs": [
    {
     "name": "stderr",
     "output_type": "stream",
     "text": [
      "/home/sebastian/miniconda3/envs/elder_care/lib/python3.10/site-packages/estimagic/optimization/optimize_result.py:131: FutureWarning: DataFrame.applymap has been deprecated. Use DataFrame.map instead.\n",
      "  table = report[columns].applymap(_format_float).astype(str)\n"
     ]
    },
    {
     "data": {
      "text/plain": [
       "Minimize with 3 free parameters terminated.\n",
       "\n",
       "The value of criterion improved from 101055319.8559496 to 5.342975928336405e-19.\n",
       "\n",
       "The multistart_tranquilo_ls algorithm reported: Relative criterion change smaller than tolerance.\n",
       "\n",
       "Independent of the convergence criteria used by multistart_tranquilo_ls, the strength of convergence can be assessed by the following criteria:\n",
       "\n",
       "                             one_step     five_steps \n",
       "relative_criterion_change  9.428e-15***  9.428e-15***\n",
       "relative_params_change     1.592e-08*    1.592e-08*  \n",
       "absolute_criterion_change  9.428e-16***  9.428e-16***\n",
       "absolute_params_change     1.592e-08*    1.592e-08*  \n",
       "\n",
       "(***: change <= 1e-10, **: change <= 1e-8, *: change <= 1e-5. Change refers to a change between accepted steps. The first column only considers the last step. The second column considers the last five steps.)"
      ]
     },
     "execution_count": 190,
     "metadata": {},
     "output_type": "execute_result"
    }
   ],
   "source": [
    "out"
   ]
  },
  {
   "cell_type": "code",
   "execution_count": 230,
   "id": "5b9b20af",
   "metadata": {},
   "outputs": [],
   "source": [
    "res = em.estimate_msm(\n",
    "    simulate_moments,\n",
    "    empirical_moments,\n",
    "    np.eye(5),\n",
    "    params=start_params_zero_bound,\n",
    "    optimize_options={\n",
    "        \"algorithm\": \"tranquilo_ls\",\n",
    "        \"algo_options\": algo_options,\n",
    "        \"multistart\": True,\n",
    "        \"multistart_options\": options\n",
    "    },\n",
    ")"
   ]
  },
  {
   "cell_type": "code",
   "execution_count": 231,
   "id": "55e9bc17",
   "metadata": {},
   "outputs": [
    {
     "data": {
      "text/html": [
       "<div>\n",
       "<style scoped>\n",
       "    .dataframe tbody tr th:only-of-type {\n",
       "        vertical-align: middle;\n",
       "    }\n",
       "\n",
       "    .dataframe tbody tr th {\n",
       "        vertical-align: top;\n",
       "    }\n",
       "\n",
       "    .dataframe thead th {\n",
       "        text-align: right;\n",
       "    }\n",
       "</style>\n",
       "<table border=\"1\" class=\"dataframe\">\n",
       "  <thead>\n",
       "    <tr style=\"text-align: right;\">\n",
       "      <th></th>\n",
       "      <th>value</th>\n",
       "      <th>lower_bound</th>\n",
       "      <th>upper_bound</th>\n",
       "    </tr>\n",
       "  </thead>\n",
       "  <tbody>\n",
       "    <tr>\n",
       "      <th>intercept</th>\n",
       "      <td>1.713790</td>\n",
       "      <td>-100.0</td>\n",
       "      <td>100</td>\n",
       "    </tr>\n",
       "    <tr>\n",
       "      <th>slope</th>\n",
       "      <td>-0.935611</td>\n",
       "      <td>-100.0</td>\n",
       "      <td>100</td>\n",
       "    </tr>\n",
       "    <tr>\n",
       "      <th>sd</th>\n",
       "      <td>1.114875</td>\n",
       "      <td>0.1</td>\n",
       "      <td>1000</td>\n",
       "    </tr>\n",
       "  </tbody>\n",
       "</table>\n",
       "</div>"
      ],
      "text/plain": [
       "              value  lower_bound  upper_bound\n",
       "intercept  1.713790       -100.0          100\n",
       "slope     -0.935611       -100.0          100\n",
       "sd         1.114875          0.1         1000"
      ]
     },
     "execution_count": 231,
     "metadata": {},
     "output_type": "execute_result"
    }
   ],
   "source": [
    "res.params"
   ]
  },
  {
   "cell_type": "code",
   "execution_count": null,
   "id": "4bb33552",
   "metadata": {},
   "outputs": [],
   "source": []
  },
  {
   "cell_type": "code",
   "execution_count": null,
   "id": "bdb0185b",
   "metadata": {},
   "outputs": [],
   "source": []
  },
  {
   "cell_type": "code",
   "execution_count": 156,
   "id": "c05fa086",
   "metadata": {},
   "outputs": [
    {
     "data": {
      "text/html": [
       "<div>\n",
       "<style scoped>\n",
       "    .dataframe tbody tr th:only-of-type {\n",
       "        vertical-align: middle;\n",
       "    }\n",
       "\n",
       "    .dataframe tbody tr th {\n",
       "        vertical-align: top;\n",
       "    }\n",
       "\n",
       "    .dataframe thead th {\n",
       "        text-align: right;\n",
       "    }\n",
       "</style>\n",
       "<table border=\"1\" class=\"dataframe\">\n",
       "  <thead>\n",
       "    <tr style=\"text-align: right;\">\n",
       "      <th></th>\n",
       "      <th>value</th>\n",
       "      <th>lower_bound</th>\n",
       "    </tr>\n",
       "  </thead>\n",
       "  <tbody>\n",
       "    <tr>\n",
       "      <th>intercept</th>\n",
       "      <td>2</td>\n",
       "      <td>-inf</td>\n",
       "    </tr>\n",
       "    <tr>\n",
       "      <th>slope</th>\n",
       "      <td>-1</td>\n",
       "      <td>-inf</td>\n",
       "    </tr>\n",
       "    <tr>\n",
       "      <th>sd</th>\n",
       "      <td>1</td>\n",
       "      <td>1.000000e-10</td>\n",
       "    </tr>\n",
       "  </tbody>\n",
       "</table>\n",
       "</div>"
      ],
      "text/plain": [
       "           value   lower_bound\n",
       "intercept      2          -inf\n",
       "slope         -1          -inf\n",
       "sd             1  1.000000e-10"
      ]
     },
     "execution_count": 156,
     "metadata": {},
     "output_type": "execute_result"
    }
   ],
   "source": [
    "true_params"
   ]
  },
  {
   "cell_type": "code",
   "execution_count": null,
   "id": "2fadfad3",
   "metadata": {},
   "outputs": [],
   "source": []
  },
  {
   "cell_type": "code",
   "execution_count": null,
   "id": "3a1c172c",
   "metadata": {},
   "outputs": [],
   "source": []
  },
  {
   "cell_type": "code",
   "execution_count": null,
   "id": "d955f029",
   "metadata": {},
   "outputs": [],
   "source": []
  },
  {
   "cell_type": "code",
   "execution_count": 90,
   "id": "23113f9a",
   "metadata": {},
   "outputs": [],
   "source": [
    "start_params_arr = np.array(start_params)[:, 0]"
   ]
  },
  {
   "cell_type": "code",
   "execution_count": 101,
   "id": "03e8bf99",
   "metadata": {},
   "outputs": [],
   "source": [
    "start_params_bound = start_params.assign(lower_bound=[-100, -100, -100])\n",
    "start_params_bound[\"upper_bound\"] = [1_000, 1_000, 1_000]"
   ]
  },
  {
   "cell_type": "code",
   "execution_count": 102,
   "id": "64e5028d",
   "metadata": {},
   "outputs": [
    {
     "data": {
      "text/html": [
       "<div>\n",
       "<style scoped>\n",
       "    .dataframe tbody tr th:only-of-type {\n",
       "        vertical-align: middle;\n",
       "    }\n",
       "\n",
       "    .dataframe tbody tr th {\n",
       "        vertical-align: top;\n",
       "    }\n",
       "\n",
       "    .dataframe thead th {\n",
       "        text-align: right;\n",
       "    }\n",
       "</style>\n",
       "<table border=\"1\" class=\"dataframe\">\n",
       "  <thead>\n",
       "    <tr style=\"text-align: right;\">\n",
       "      <th></th>\n",
       "      <th>value</th>\n",
       "      <th>lower_bound</th>\n",
       "      <th>upper_bound</th>\n",
       "    </tr>\n",
       "  </thead>\n",
       "  <tbody>\n",
       "    <tr>\n",
       "      <th>intercept</th>\n",
       "      <td>100</td>\n",
       "      <td>-100</td>\n",
       "      <td>1000</td>\n",
       "    </tr>\n",
       "    <tr>\n",
       "      <th>slope</th>\n",
       "      <td>100</td>\n",
       "      <td>-100</td>\n",
       "      <td>1000</td>\n",
       "    </tr>\n",
       "    <tr>\n",
       "      <th>sd</th>\n",
       "      <td>100</td>\n",
       "      <td>-100</td>\n",
       "      <td>1000</td>\n",
       "    </tr>\n",
       "  </tbody>\n",
       "</table>\n",
       "</div>"
      ],
      "text/plain": [
       "           value  lower_bound  upper_bound\n",
       "intercept    100         -100         1000\n",
       "slope        100         -100         1000\n",
       "sd           100         -100         1000"
      ]
     },
     "execution_count": 102,
     "metadata": {},
     "output_type": "execute_result"
    }
   ],
   "source": [
    "start_params_bound"
   ]
  },
  {
   "cell_type": "code",
   "execution_count": 107,
   "id": "4f5c0d22",
   "metadata": {},
   "outputs": [],
   "source": []
  },
  {
   "cell_type": "markdown",
   "id": "52e903a7",
   "metadata": {},
   "source": [
    "#### def simulate_moments(params, n_draws=10_000, seed=0)\n",
    "\n",
    "endog, value, policy_left, policy_right = solve_partial()\n",
    "\n",
    "dict = simulate()\n",
    "\n",
    "df = custom_create_simulation_df()\n",
    "\n",
    "moments = custom_create_simulated_moments(df) # or turned into jnp.array before"
   ]
  },
  {
   "cell_type": "code",
   "execution_count": null,
   "id": "31f94e10",
   "metadata": {},
   "outputs": [],
   "source": []
  }
 ],
 "metadata": {
  "kernelspec": {
   "display_name": "Python 3 (ipykernel)",
   "language": "python",
   "name": "python3"
  },
  "language_info": {
   "codemirror_mode": {
    "name": "ipython",
    "version": 3
   },
   "file_extension": ".py",
   "mimetype": "text/x-python",
   "name": "python",
   "nbconvert_exporter": "python",
   "pygments_lexer": "ipython3",
   "version": "3.10.13"
  }
 },
 "nbformat": 4,
 "nbformat_minor": 5
}
