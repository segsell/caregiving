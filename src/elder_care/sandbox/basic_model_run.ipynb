{
 "cells": [
  {
   "cell_type": "code",
   "execution_count": 1,
   "id": "ee74e098",
   "metadata": {},
   "outputs": [],
   "source": [
    "import sys\n",
    "sys.path.insert(0, \"../../../submodules/dcegm/src/\")"
   ]
  },
  {
   "cell_type": "code",
   "execution_count": 2,
   "id": "5c0fabf0",
   "metadata": {},
   "outputs": [],
   "source": [
    "import numpy as np\n",
    "import jax.numpy as jnp\n",
    "import jax\n",
    "from itertools import product\n",
    "\n",
    "\n",
    "import seaborn as sns\n",
    "import matplotlib.pyplot as plt\n",
    "\n",
    "from typing import Dict\n",
    "from typing import Tuple\n",
    "\n",
    "from elder_care.model import (\n",
    "    prob_part_time_offer,\n",
    "    prob_full_time_offer,\n",
    "    prob_exog_care_demand,\n",
    "    prob_survival_mother,\n",
    "    prob_survival_father,\n",
    "    exog_health_transition_mother,\n",
    "    exog_health_transition_father,\n",
    ")\n",
    "\n",
    "from elder_care.model import budget_constraint, calc_stochastic_wage\n",
    "from elder_care.model import utility_func, marginal_utility, inverse_marginal_utility\n",
    "\n",
    "from elder_care.model import get_state_specific_feasible_choice_set, update_endog_state\n",
    "\n",
    "from elder_care.model import (\n",
    "    utility_final_consume_all,\n",
    "    marginal_utility_final_consume_all,\n",
    ")\n",
    "\n",
    "\n",
    "from dcegm.pre_processing.model_functions import process_model_functions\n",
    "from dcegm.pre_processing.params import process_params\n",
    "from dcegm.pre_processing.state_space import create_state_space_and_choice_objects\n",
    "from dcegm.pre_processing.state_space import create_state_space\n",
    "from dcegm.pre_processing.state_space import process_endog_state_specifications\n",
    "from dcegm.pre_processing.state_space import process_exog_model_specifications\n",
    "from dcegm.solve import get_solve_function\n",
    "from dcegm.pre_processing.state_space import inspect_state_space   "
   ]
  },
  {
   "cell_type": "code",
   "execution_count": 3,
   "id": "18d303a4",
   "metadata": {},
   "outputs": [],
   "source": [
    "def _plot_dist(sample):\n",
    "    sns.histplot(sample, bins=40, kde=True, color=\"purple\")\n",
    "    # plt.xlabel(\"Age\")\n",
    "    plt.ylabel(\"Frequency\")\n",
    "    plt.title(\"Distribution\")\n",
    "    plt.show()"
   ]
  },
  {
   "cell_type": "code",
   "execution_count": 4,
   "id": "274e0f76",
   "metadata": {},
   "outputs": [],
   "source": [
    "MIN_AGE = 51\n",
    "MAX_AGE = 80\n",
    "\n",
    "PARENT_MIN_AGE = 68\n",
    "PARENT_MAX_AGE = 98\n",
    "\n",
    "RETIREMENT_AGE = 62\n",
    "\n",
    "GOOD_HEALTH = 0\n",
    "MEDIUM_HEALTH = 1\n",
    "BAD_HEALTH = 2"
   ]
  },
  {
   "cell_type": "code",
   "execution_count": 5,
   "id": "b6851a19",
   "metadata": {},
   "outputs": [],
   "source": [
    "NO_WORK = [0, 1, 2, 3]\n",
    "PART_TIME = [4, 5, 6, 7]\n",
    "FULL_TIME = [8, 9, 10, 11]\n",
    "WORK = PART_TIME + FULL_TIME\n",
    "\n",
    "NO_CARE = [0, 4, 8]\n",
    "FORMAL_CARE = [1, 3, 5, 7, 9, 11]  # % 2 == 1\n",
    "INFORMAL_CARE = [2, 3, 6, 7, 10, 11]\n",
    "CARE = FORMAL_CARE + INFORMAL_CARE\n",
    "\n",
    "TOTAL_WEEKLY_HOURS = 80\n",
    "WEEKLY_HOURS_PART_TIME = 20\n",
    "WEEKLY_HOURS_FULL_TIME = 40\n",
    "WEEKLY_INTENSIVE_INFORMAL_HOURS = 14  # (21 + 7) / 2"
   ]
  },
  {
   "cell_type": "code",
   "execution_count": 6,
   "id": "f210b4f4",
   "metadata": {},
   "outputs": [],
   "source": [
    "def is_not_working(lagged_choice):\n",
    "    return lagged_choice in NO_WORK\n",
    "\n",
    "\n",
    "def is_part_time(lagged_choice):\n",
    "    return lagged_choice in PART_TIME\n",
    "\n",
    "\n",
    "def is_full_time(lagged_choice):\n",
    "    return lagged_choice in FULL_TIME\n",
    "\n",
    "\n",
    "def is_formal_care(lagged_choice):\n",
    "    return lagged_choice in FORMAL_CARE\n",
    "\n",
    "\n",
    "def is_informal_care(lagged_choice):\n",
    "    # intensive only here\n",
    "    return lagged_choice in INFORMAL_CARE"
   ]
  },
  {
   "cell_type": "code",
   "execution_count": null,
   "id": "eb133eb1",
   "metadata": {},
   "outputs": [],
   "source": []
  },
  {
   "cell_type": "markdown",
   "id": "0a160d86",
   "metadata": {},
   "source": [
    "# 1. State Space"
   ]
  },
  {
   "cell_type": "code",
   "execution_count": 7,
   "id": "d43b2b23",
   "metadata": {},
   "outputs": [],
   "source": [
    "model_params = {\n",
    "    \"quadrature_points_stochastic\": 5,\n",
    "    \"min_age\": MIN_AGE,\n",
    "    \"max_age\": MAX_AGE,\n",
    "    \"parent_min_age\": PARENT_MIN_AGE,\n",
    "    # annual\n",
    "    \"consumption_floor\": 400 * 12,\n",
    "    \"unemployment_benefits\": 500 * 12,\n",
    "    \"informal_care_benefits\": 444.0466 * 12,  # 0.4239 * 316 + 0.2793 * 545 + 728 *0.1405 + 901 * 0.0617\n",
    "    \"formal_care_costs\": 118.10658099999999 * 12,  # >>> 79.31 * 0.0944 + 0.4239 * 70.77 + 0.2793 * 176.16 + 224.26 *0.1401\n",
    "    \"interest_rate\": 0.04,  # Adda et al (2017)\n",
    "    # ===================\n",
    "    # EXOGENOUS PROCESSES\n",
    "    # ===================\n",
    "    # survival probability\n",
    "    \"survival_probability_mother_constant\": 17.01934835131644,\n",
    "    \"survival_probability_mother_age\": -0.21245937682111807,\n",
    "    \"survival_probability_mother_age_squared\": 0.00047537366767865137,\n",
    "    \"survival_probability_father_constant\": 11.561515476144223,\n",
    "    \"survival_probability_father_age\": -0.11058331994203506,\n",
    "    \"survival_probability_father_age_squared\": -1.0998977981246952e-05,\n",
    "    # health\n",
    "    \"mother_medium_health\": {\n",
    "        \"medium_health_age\": 0.0304,\n",
    "        \"medium_health_age_squared\": -1.31e-05,\n",
    "        \"medium_health_lagged_good_health\": -1.155,\n",
    "        \"medium_health_lagged_medium_health\": 0.736,\n",
    "        \"medium_health_lagged_bad_health\": 1.434,\n",
    "        \"medium_health_constant\": -1.550,\n",
    "    },\n",
    "    \"mother_bad_health\": {\n",
    "        \"bad_health_age\": 0.196,\n",
    "        \"bad_health_age_squared\": -0.000885,\n",
    "        \"bad_health_lagged_good_health\": -2.558,\n",
    "        \"bad_health_lagged_medium_health\": -0.109,\n",
    "        \"bad_health_lagged_bad_health\": 2.663,\n",
    "        \"bad_health_constant\": -9.220,\n",
    "    },\n",
    "    \"father_medium_health\": {\n",
    "        \"medium_health_age\": 0.176,\n",
    "        \"medium_health_age_squared\": -0.000968,\n",
    "        \"medium_health_lagged_good_health\": -1.047,\n",
    "        \"medium_health_lagged_medium_health\": 1.016,\n",
    "        \"medium_health_lagged_bad_health\": 1.743,\n",
    "        \"medium_health_constant\": -7.374,\n",
    "    },\n",
    "    \"father_bad_health\": {\n",
    "        \"bad_health_age\": 0.260,\n",
    "        \"bad_health_age_squared\": -0.00134,\n",
    "        \"bad_health_lagged_good_health\": -2.472,\n",
    "        \"bad_health_lagged_medium_health\": 0.115,\n",
    "        \"bad_health_lagged_bad_health\": 3.067,\n",
    "        \"bad_health_constant\": -11.89,\n",
    "    },\n",
    "    # TODO: care demand\n",
    "    \"exog_care_single_mother_constant\": 27.894895,\n",
    "    \"exog_care_single_mother_age\": -0.815882,\n",
    "    \"exog_care_single_mother_age_squared\": 0.005773,\n",
    "    \"exog_care_single_mother_medium_health\": 0.652438,\n",
    "    \"exog_care_single_mother_bad_health\": 0.924265,\n",
    "    #\n",
    "    \"exog_care_single_father_constant\": 17.833432,\n",
    "    \"exog_care_single_father_age\": -0.580729,\n",
    "    \"exog_care_single_father_age_squared\": 0.004380,\n",
    "    \"exog_care_single_father_medium_health\": 0.594160,\n",
    "    \"exog_care_single_father_bad_health\": 0.967142,\n",
    "    \"exog_care_couple_constant\": 32.519891,\n",
    "    \"exog_care_couple_mother_age\": -0.916759,\n",
    "    \"exog_care_couple_mother_age_squared\": 0.006190,\n",
    "    \"exog_care_couple_father_age\": -0.046230,\n",
    "    \"exog_care_couple_father_age_squared\": 0.000583,\n",
    "    \"exog_care_couple_mother_medium_health\": 0.449386,\n",
    "    \"exog_care_couple_mother_bad_health\": 0.719621,\n",
    "    \"exog_care_couple_father_medium_health\": 0.360010,\n",
    "    \"exog_care_couple_father_bad_health\": 0.800824,\n",
    "    #\n",
    "}"
   ]
  },
  {
   "cell_type": "code",
   "execution_count": 8,
   "id": "2f1c875c",
   "metadata": {},
   "outputs": [],
   "source": [
    "options = {\n",
    "    \"state_space\": {\n",
    "        \"n_periods\": 20,\n",
    "        \"choices\": np.arange(12),\n",
    "        \"endogenous_states\": {\n",
    "            \"married\": np.arange(2),\n",
    "            \"has_sibling\": np.arange(2),\n",
    "            \"mother_age\": np.arange(start=PARENT_MIN_AGE, stop=PARENT_MAX_AGE)\n",
    "            - PARENT_MIN_AGE,\n",
    "            \"father_age\": np.arange(start=PARENT_MIN_AGE, stop=PARENT_MAX_AGE)\n",
    "            - PARENT_MIN_AGE,\n",
    "        },\n",
    "        \"exogenous_processes\": {\n",
    "            \"part_time_offer\": {\n",
    "                \"states\": np.arange(2),\n",
    "                \"transition\": prob_part_time_offer,\n",
    "            },\n",
    "            \"full_time_offer\": {\n",
    "                \"states\": np.arange(2),\n",
    "                \"transition\": prob_full_time_offer,\n",
    "            },\n",
    "            \"care_demand\": {\n",
    "                \"states\": np.arange(2),\n",
    "                \"transition\": prob_exog_care_demand,\n",
    "            },\n",
    "            \"mother_alive\": {\n",
    "                \"states\": np.arange(2),\n",
    "                \"transition\": prob_survival_mother,\n",
    "            },\n",
    "            \"father_alive\": {\n",
    "                \"states\": np.arange(2),\n",
    "                \"transition\": prob_survival_father,\n",
    "            },\n",
    "            \"mother_health\": {\n",
    "                \"states\": np.arange(3),\n",
    "                \"transition\": exog_health_transition_mother,\n",
    "            },\n",
    "            \"father_health\": {\n",
    "                \"states\": np.arange(3),\n",
    "                \"transition\": exog_health_transition_father,\n",
    "            },\n",
    "        },\n",
    "    },\n",
    "}"
   ]
  },
  {
   "cell_type": "code",
   "execution_count": 9,
   "id": "63461ed3",
   "metadata": {},
   "outputs": [],
   "source": [
    "params_test = {\n",
    "    # job offer\n",
    "    \"part_time_constant\": -0.8,\n",
    "    \"part_time_not_working_last_period\": -1.576,\n",
    "    \"part_time_working_full_time_last_period\": 0.3,\n",
    "    \"part_time_above_retirement_age\": 0.6,\n",
    "    \"full_time_constant\": -0.3,\n",
    "    \"full_time_not_working_last_period\": -2,\n",
    "    \"full_time_working_part_time_last_period\": 0.5,\n",
    "    \"full_time_above_retirement_age\": -1.75,\n",
    "    # wage\n",
    "    \"wage_constant\": 0.32,\n",
    "    \"wage_age\": 0.05,\n",
    "    \"wage_age_squared\": -0.0006,\n",
    "    \"wage_part_time\": -0.1,\n",
    "    \"wage_not_working\": -0.3,\n",
    "    # utility\n",
    "    \"rho\": 0.5,  # risk aversion\n",
    "    \"utility_leisure_constant\": 3,\n",
    "    \"utility_leisure_age\": 0.36,\n",
    "    \"disutility_part_time\": -0.5,\n",
    "    \"disutility_full_time\": -1,\n",
    "    \"utility_informal_care\": 2,\n",
    "    \"utility_formal_care\": 2,\n",
    "    \"utility_informal_and_formal_care\": -1,\n",
    "    ### fixed\n",
    "    \"beta\": 0.95,  # 0.98\n",
    "    \"lambda\": 1e-16,  # Taste shock scale/variance. Almost equal zero = no taste shocks\n",
    "    \"sigma\": 1,  # Income shock scale/variance.\n",
    "}"
   ]
  },
  {
   "cell_type": "code",
   "execution_count": 10,
   "id": "acd4d11d",
   "metadata": {},
   "outputs": [],
   "source": [
    "options[\"model_params\"] = model_params"
   ]
  },
  {
   "cell_type": "code",
   "execution_count": 11,
   "id": "b1f942ad",
   "metadata": {},
   "outputs": [],
   "source": [
    "utility_functions = {\n",
    "    \"utility\": utility_func,\n",
    "    \"marginal_utility\": marginal_utility,\n",
    "    \"inverse_marginal_utility\": inverse_marginal_utility,\n",
    "    \n",
    "}\n",
    "\n",
    "utility_functions_final_period = {\n",
    "        \"utility\": utility_final_consume_all,\n",
    "        \"marginal_utility\": marginal_utility_final_consume_all,\n",
    "    }\n",
    "\n",
    "state_space_functions = {\n",
    "    \"update_endog_state_by_state_and_choice\": update_endog_state,\n",
    "    \"get_state_specific_choice_set\": get_state_specific_feasible_choice_set,\n",
    "}"
   ]
  },
  {
   "cell_type": "code",
   "execution_count": 12,
   "id": "4334c5fa",
   "metadata": {},
   "outputs": [],
   "source": [
    "def logspace(start, stop, n_points):\n",
    "    start_lin = jnp.log(start)\n",
    "    stop_lin = jnp.log(stop)\n",
    "    return jnp.logspace(start_lin, stop_lin, n_points, base=2.718281828459045)\n",
    "\n",
    "start_lin = 0\n",
    "stop_lin = 1_000_000\n",
    "n_points = 1_000\n",
    "exog_savings_grid_one = jnp.arange(start=0,stop=100_000,step=200)\n",
    "exog_savings_grid_two = jnp.arange(start=100_000,stop=1_000_000,step=10_000)\n",
    "exog_savings_grid_three = jnp.arange(start=1_000_000,stop=11_000_000,step=1_000_000)"
   ]
  },
  {
   "cell_type": "code",
   "execution_count": 13,
   "id": "7ad7254a",
   "metadata": {},
   "outputs": [
    {
     "data": {
      "text/plain": [
       "(10,)"
      ]
     },
     "execution_count": 13,
     "metadata": {},
     "output_type": "execute_result"
    }
   ],
   "source": [
    "exog_savings_grid_three.shape"
   ]
  },
  {
   "cell_type": "code",
   "execution_count": 14,
   "id": "1a4a6639",
   "metadata": {},
   "outputs": [
    {
     "data": {
      "text/plain": [
       "(90,)"
      ]
     },
     "execution_count": 14,
     "metadata": {},
     "output_type": "execute_result"
    }
   ],
   "source": [
    "exog_savings_grid_two.shape"
   ]
  },
  {
   "cell_type": "code",
   "execution_count": 15,
   "id": "3f0fcec5",
   "metadata": {},
   "outputs": [
    {
     "data": {
      "text/plain": [
       "(500,)"
      ]
     },
     "execution_count": 15,
     "metadata": {},
     "output_type": "execute_result"
    }
   ],
   "source": [
    "exog_savings_grid_one.shape"
   ]
  },
  {
   "cell_type": "code",
   "execution_count": null,
   "id": "e5e11c0b",
   "metadata": {},
   "outputs": [],
   "source": []
  },
  {
   "cell_type": "code",
   "execution_count": 16,
   "id": "0d23b867",
   "metadata": {},
   "outputs": [],
   "source": [
    "exog_savings_grid = jnp.concatenate([exog_savings_grid_one, exog_savings_grid_two, exog_savings_grid_three])"
   ]
  },
  {
   "cell_type": "code",
   "execution_count": 17,
   "id": "5010a6df",
   "metadata": {},
   "outputs": [
    {
     "data": {
      "image/png": "[encoded data removed]",
      "text/plain": [
       "<Figure size 640x480 with 1 Axes>"
      ]
     },
     "metadata": {},
     "output_type": "display_data"
    }
   ],
   "source": [
    "_plot_dist(exog_savings_grid)"
   ]
  },
  {
   "cell_type": "markdown",
   "id": "47a45c17",
   "metadata": {},
   "source": [
    "# Call DCEGM"
   ]
  },
  {
   "cell_type": "code",
   "execution_count": 18,
   "id": "3c6ac898",
   "metadata": {},
   "outputs": [],
   "source": []
  },
  {
   "cell_type": "code",
   "execution_count": null,
   "id": "4d947496",
   "metadata": {},
   "outputs": [],
   "source": [
    "(\n",
    "    state_space,\n",
    "    map_state_to_state_space_index,\n",
    "    states_names_without_exog,\n",
    "    exog_state_names,\n",
    "    n_exog_states,\n",
    "    exog_state_space,\n",
    ") = create_state_space(options)"
   ]
  },
  {
   "cell_type": "markdown",
   "id": "ea7d5aed",
   "metadata": {},
   "source": [
    "solve_func = get_solve_function(\n",
    "    options=options,\n",
    "    exog_savings_grid=exog_savings_grid,\n",
    "    utility_functions=utility_functions,\n",
    "    final_period_functions=utility_functions_final_period,\n",
    "    budget_constraint=budget_constraint,\n",
    "    state_space_functions=state_space_functions,\n",
    ")"
   ]
  },
  {
   "cell_type": "code",
   "execution_count": null,
   "id": "6f7fd804",
   "metadata": {},
   "outputs": [],
   "source": []
  }
 ],
 "metadata": {
  "kernelspec": {
   "display_name": "Python 3 (ipykernel)",
   "language": "python",
   "name": "python3"
  },
  "language_info": {
   "codemirror_mode": {
    "name": "ipython",
    "version": 3
   },
   "file_extension": ".py",
   "mimetype": "text/x-python",
   "name": "python",
   "nbconvert_exporter": "python",
   "pygments_lexer": "ipython3",
   "version": "3.10.13"
  }
 },
 "nbformat": 4,
 "nbformat_minor": 5
}
