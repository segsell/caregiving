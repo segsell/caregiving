{
 "cells": [
  {
   "cell_type": "code",
   "execution_count": 8,
   "id": "c6fb6edc",
   "metadata": {},
   "outputs": [],
   "source": [
    "import numpy as np\n",
    "import jax.numpy as jnp\n",
    "import jax\n",
    "\n",
    "import pandas as pd"
   ]
  },
  {
   "cell_type": "code",
   "execution_count": null,
   "id": "fb5f9cfa",
   "metadata": {},
   "outputs": [],
   "source": []
  },
  {
   "cell_type": "code",
   "execution_count": 12,
   "id": "c0eaad0e",
   "metadata": {},
   "outputs": [],
   "source": [
    "# len versus shape speed comparison\n",
    "\n",
    "df = pd.DataFrame(np.arange(1_000_000).reshape(10_000, 100))"
   ]
  },
  {
   "cell_type": "code",
   "execution_count": 13,
   "id": "dc7d5ce1",
   "metadata": {},
   "outputs": [
    {
     "name": "stdout",
     "output_type": "stream",
     "text": [
      "472 ns ± 6.28 ns per loop (mean ± std. dev. of 7 runs, 1,000,000 loops each)\n"
     ]
    }
   ],
   "source": [
    "%timeit df.shape[0]"
   ]
  },
  {
   "cell_type": "code",
   "execution_count": 14,
   "id": "0e8a138c",
   "metadata": {},
   "outputs": [
    {
     "name": "stdout",
     "output_type": "stream",
     "text": [
      "330 ns ± 2.97 ns per loop (mean ± std. dev. of 7 runs, 1,000,000 loops each)\n"
     ]
    }
   ],
   "source": [
    "%timeit len(df)"
   ]
  },
  {
   "cell_type": "code",
   "execution_count": null,
   "id": "17daae7a",
   "metadata": {},
   "outputs": [],
   "source": []
  },
  {
   "cell_type": "code",
   "execution_count": null,
   "id": "f3ace74a",
   "metadata": {},
   "outputs": [],
   "source": []
  },
  {
   "cell_type": "code",
   "execution_count": 2,
   "id": "947c7868",
   "metadata": {},
   "outputs": [],
   "source": [
    "MIN_AGE = 50\n",
    "MAX_AGE = 65\n",
    "\n",
    "AGE_50 = 50\n",
    "AGE_53 = 53\n",
    "AGE_56 = 56\n",
    "AGE_59 = 59\n",
    "AGE_62 = 62\n",
    "\n",
    "AGE_55 = 55\n",
    "AGE_60 = 60\n",
    "AGE_65 = 65\n",
    "\n",
    "GOOD_HEALTH = 0\n",
    "MEDIUM_HEALTH = 1\n",
    "BAD_HEALTH = 2"
   ]
  },
  {
   "cell_type": "code",
   "execution_count": 3,
   "id": "1f75cc99",
   "metadata": {},
   "outputs": [],
   "source": [
    "AGE_BINS = [(AGE_50, AGE_55), (AGE_55, AGE_60), (AGE_60, AGE_65)]\n",
    "AGE_BINS_FINE = [\n",
    "    (AGE_50, AGE_53),\n",
    "    (AGE_53, AGE_56),\n",
    "    (AGE_56, AGE_59),\n",
    "    (AGE_59, AGE_62),\n",
    "    (AGE_62, AGE_65),\n",
    "]"
   ]
  },
  {
   "cell_type": "code",
   "execution_count": null,
   "id": "126544f2",
   "metadata": {},
   "outputs": [],
   "source": []
  },
  {
   "cell_type": "code",
   "execution_count": 15,
   "id": "d0e162fa",
   "metadata": {},
   "outputs": [],
   "source": [
    "NO_WORK = [0, 1, 2, 3]\n",
    "PART_TIME = [4, 5, 6, 7]\n",
    "FULL_TIME = [8, 9, 10, 11]\n",
    "WORK = PART_TIME + FULL_TIME\n",
    "\n",
    "NO_CARE = [0, 4, 8]\n",
    "FORMAL_CARE = [1, 3, 5, 7, 9, 11] # % 2 == 1\n",
    "INFORMAL_CARE = [2, 3, 6, 7, 10, 11]\n",
    "ANY_CARE = FORMAL_CARE + INFORMAL_CARE"
   ]
  },
  {
   "cell_type": "code",
   "execution_count": 5,
   "id": "36e52eb7",
   "metadata": {},
   "outputs": [],
   "source": [
    "def is_not_working(lagged_choice):\n",
    "    return lagged_choice in NO_WORK\n",
    "\n",
    "\n",
    "def is_part_time(lagged_choice):\n",
    "    return lagged_choice in PART_TIME\n",
    "\n",
    "\n",
    "def is_full_time(lagged_choice):\n",
    "    return lagged_choice in FULL_TIME\n",
    "\n",
    "\n",
    "def is_formal_care(lagged_choice):\n",
    "    return lagged_choice in FORMAL_CARE\n",
    "\n",
    "\n",
    "def is_informal_care(lagged_choice):\n",
    "    # intensive only here\n",
    "    return lagged_choice in INFORMAL_CARE"
   ]
  },
  {
   "cell_type": "code",
   "execution_count": null,
   "id": "2b5f9e8f",
   "metadata": {},
   "outputs": [],
   "source": []
  },
  {
   "cell_type": "code",
   "execution_count": 6,
   "id": "faa4be49",
   "metadata": {},
   "outputs": [],
   "source": [
    "def simulate_moments(df):\n",
    "    \"\"\"\n",
    "\n",
    "    df has multiindex [\"period\", \"agent\"]\n",
    "    necessary?\n",
    "\n",
    "    or \"agent\", \"period\" as columns.\n",
    "    \"age\" is also a column\n",
    "\n",
    "    \"\"\"\n",
    "\n",
    "    no_work_by_age_bin = [\n",
    "        len(\n",
    "            df.loc[\n",
    "                (df[\"age\"] > age_bin[0])\n",
    "                & (df[\"age\"] <= age_bin[1])\n",
    "                & (df[\"lagged_choice\"] in NO_WORK)\n",
    "            ]\n",
    "        )\n",
    "        / len(df.loc[(df[\"age\"] > age_bin[0]) & (df[\"age\"] <= age_bin[1])])\n",
    "        for age_bin in AGE_BINS\n",
    "    ]\n",
    "    no_work_by_age = [\n",
    "        len(df.loc[(df[\"age\"] == age) & (df[\"lagged_choice\"] in NO_WORK)])\n",
    "        / len(df.loc[(df[\"age\"] == age)])\n",
    "        for age_bin in range(MIN_AGE + 1, MAX_AGE + 1)\n",
    "    ]"
   ]
  },
  {
   "cell_type": "code",
   "execution_count": null,
   "id": "0d0f543d",
   "metadata": {},
   "outputs": [],
   "source": []
  }
 ],
 "metadata": {
  "kernelspec": {
   "display_name": "Python 3 (ipykernel)",
   "language": "python",
   "name": "python3"
  },
  "language_info": {
   "codemirror_mode": {
    "name": "ipython",
    "version": 3
   },
   "file_extension": ".py",
   "mimetype": "text/x-python",
   "name": "python",
   "nbconvert_exporter": "python",
   "pygments_lexer": "ipython3",
   "version": "3.10.13"
  }
 },
 "nbformat": 4,
 "nbformat_minor": 5
}
