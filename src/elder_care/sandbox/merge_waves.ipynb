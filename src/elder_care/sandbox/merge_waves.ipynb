{
 "cells": [
  {
   "cell_type": "code",
   "execution_count": 6,
   "id": "85c75298-38ec-47ca-a6a7-ab3773b6466f",
   "metadata": {},
   "outputs": [],
   "source": [
    "import pandas as pd\n",
    "\n",
    "from parental_care.config import BLD\n",
    "from parental_care.config import SRC"
   ]
  },
  {
   "cell_type": "code",
   "execution_count": 13,
   "id": "80636b96-d164-4c86-aa9f-f22533926e2b",
   "metadata": {},
   "outputs": [
    {
     "data": {
      "text/plain": [
       "PosixPath('/home/sebastian/Projects/parental_care/src/parental_care/sharew1/sharew1_rel8-0-0_ep.dta')"
      ]
     },
     "execution_count": 13,
     "metadata": {},
     "output_type": "execute_result"
    }
   ],
   "source": [
    "wave_number = 1\n",
    "module = \"ep\"\n",
    "SRC / f\"sharew{wave_number}/sharew{wave_number}_rel8-0-0_{module}.dta\""
   ]
  },
  {
   "cell_type": "code",
   "execution_count": 29,
   "id": "cdbf4a29-b292-4387-ba27-15b751fe0d9b",
   "metadata": {},
   "outputs": [],
   "source": [
    "def process_wave(wave_number, country_code, data_modules):\n",
    "    wave_data = {}\n",
    "    print(f\"\\nWave {wave_number}\\n\")\n",
    "\n",
    "    for module in data_modules.keys():\n",
    "        module_file = SRC / f\"data/sharew{wave_number}/sharew{wave_number}_rel8-0-0_{module}.dta\"\n",
    "\n",
    "        # Read and filter data\n",
    "        wave_module = pd.read_stata(module_file)\n",
    "        wave_module = wave_module[wave_module['country'] == country_code]\n",
    "        module_vars = ['mergeid'] + data_modules[module]\n",
    "\n",
    "        # Rename variables if they exist\n",
    "        lookup = {\n",
    "            'sp009_1': 'sp009_1sp',\n",
    "            'sp009_2': 'sp009_2sp',\n",
    "            'sp009_3': 'sp009_3sp',\n",
    "            'sp019d2': 'sp019d2sp',\n",
    "            'sp019d3': 'sp019d3sp',\n",
    "            'sp019d4': 'sp019d4sp',\n",
    "            'sp019d5': 'sp019d5sp',\n",
    "            'sp019d6': 'sp019d6sp',\n",
    "            'sp019d7': 'sp019d7sp'\n",
    "        }\n",
    "        # wave_module.rename(columns=lookup, inplace=True)\n",
    "        # wave_module.rename(columns=lambda x: x.replace(\"^re011\", \"sl_re011\"), inplace=True, subset=wave_module.columns.str.startswith(\"re011\"))\n",
    "        # wave_module.rename(columns=lambda x: x.replace(\"^re016\", \"sl_re016\"), inplace=True, subset=wave_module.columns.str.startswith(\"re016\"))\n",
    "        # wave_module.rename(columns=lambda x: x.replace(\"^re026\", \"sl_re026\"), inplace=True, subset=wave_module.columns.str.startswith(\"re026\"))\n",
    "\n",
    "        # Create dictionaries for renaming\n",
    "        column_replacements = {\n",
    "            **lookup,\n",
    "            **{col: col.replace(\"^re011\", \"sl_re011\") for col in wave_module.columns if col.startswith(\"re011\")},\n",
    "            **{col: col.replace(\"^re016\", \"sl_re016\") for col in wave_module.columns if col.startswith(\"re016\")},\n",
    "            **{col: col.replace(\"^re026\", \"sl_re026\") for col in wave_module.columns if col.startswith(\"re026\")}\n",
    "        }\n",
    "\n",
    "        # Rename columns using the dictionary\n",
    "        wave_module.rename(columns=column_replacements, inplace=True)\n",
    "\n",
    "        \n",
    "        # Select columns\n",
    "        wave_module = wave_module[module_vars]\n",
    "\n",
    "        wave_data[module] = wave_module\n",
    "\n",
    "        # Print columns which are not used in specific waves\n",
    "        list1 = wave_module.columns\n",
    "        list2 = module_vars\n",
    "\n",
    "        if not list1.equals(list2):\n",
    "            print(module)\n",
    "            print(list(set(list2) - set(list1)))\n",
    "\n",
    "    # Join all data modules\n",
    "    merged_data = wave_data[list(data_modules.keys())[0]]\n",
    "    for i in range(1, len(data_modules)):\n",
    "        merged_data = merged_data.merge(wave_data[list(data_modules.keys())[i]], on=\"mergeid\", how=\"outer\")\n",
    "\n",
    "    merged_data['wave'] = wave_number\n",
    "    return merged_data"
   ]
  },
  {
   "cell_type": "code",
   "execution_count": null,
   "id": "45bbc705-3574-41f7-a33f-e483302f4d7c",
   "metadata": {},
   "outputs": [],
   "source": []
  },
  {
   "cell_type": "code",
   "execution_count": 30,
   "id": "e78bdf86-9da6-4af3-9665-91b2e993d39f",
   "metadata": {},
   "outputs": [],
   "source": [
    "# Example usage for wave 1 and country code 12\n",
    "data_modules = {\n",
    "    'cv_r': [\"int_year\", \"int_month\", \"gender\", \"mobirth\", \"yrbirth\", \"age_int\", \"hhsize\"],\n",
    "    'dn': ['dn002_', 'dn003_', 'dn010_', 'dn041_', 'dn009_', 'dn014_', 'dn015_', 'dn016_',\n",
    "           'dn026_1', 'dn026_2', 'dn033_1', 'dn033_2', 'dn028_1', 'dn028_2', 'dn030_1', 'dn030_2',\n",
    "           'dn127_1', 'dn127_2', 'dn032_1', 'dn032_2',\n",
    "           'dn012d1', 'dn012d2', 'dn012d3', 'dn012d4', 'dn012d5',\n",
    "           'dn012d6', 'dn012d7', 'dn012d8', 'dn012d9', 'dn012d10',\n",
    "           'dn012d11', 'dn012d12', 'dn012d13', 'dn012d14', 'dn012d15',\n",
    "           'dn012d16', 'dn012d17', 'dn012d18', 'dn012d19', 'dn012d20',\n",
    "           'dn012d95', 'dn012dno', 'dn012dot'],\n",
    "    'ep': ['ep005_', 'ep002_', 'ep328_', 'ep329_'],\n",
    "    'sp': ['sp008_', 'sp018_', 'sp009_1', 'sp009_2', 'sp009_3', 'sp010d1_1', 'sp010d1_2', 'sp010d1_3',\n",
    "           'sp011_1', 'sp011_2', 'sp011_3',\n",
    "           'sp019d2', 'sp019d3', 'sp019d4', 'sp019d5', 'sp019d6', 'sp019d7'],\n",
    "    'gv_isced': ['isced1997_r'],\n",
    "    'ch': ['ch001_']\n",
    "}\n",
    "\n",
    "# Add wave number to ep module\n",
    "wave_number = 1\n",
    "ep_module = ['ep213_' + str(i) for i in range(1, 17)]\n",
    "data_modules['ep'] += ep_module"
   ]
  },
  {
   "cell_type": "code",
   "execution_count": 31,
   "id": "35dff7c5-beb4-4cf1-9c29-03b524078326",
   "metadata": {},
   "outputs": [
    {
     "data": {
      "text/plain": [
       "{'cv_r': ['int_year',\n",
       "  'int_month',\n",
       "  'gender',\n",
       "  'mobirth',\n",
       "  'yrbirth',\n",
       "  'age_int',\n",
       "  'hhsize'],\n",
       " 'dn': ['dn002_',\n",
       "  'dn003_',\n",
       "  'dn010_',\n",
       "  'dn041_',\n",
       "  'dn009_',\n",
       "  'dn014_',\n",
       "  'dn015_',\n",
       "  'dn016_',\n",
       "  'dn026_1',\n",
       "  'dn026_2',\n",
       "  'dn033_1',\n",
       "  'dn033_2',\n",
       "  'dn028_1',\n",
       "  'dn028_2',\n",
       "  'dn030_1',\n",
       "  'dn030_2',\n",
       "  'dn127_1',\n",
       "  'dn127_2',\n",
       "  'dn032_1',\n",
       "  'dn032_2',\n",
       "  'dn012d1',\n",
       "  'dn012d2',\n",
       "  'dn012d3',\n",
       "  'dn012d4',\n",
       "  'dn012d5',\n",
       "  'dn012d6',\n",
       "  'dn012d7',\n",
       "  'dn012d8',\n",
       "  'dn012d9',\n",
       "  'dn012d10',\n",
       "  'dn012d11',\n",
       "  'dn012d12',\n",
       "  'dn012d13',\n",
       "  'dn012d14',\n",
       "  'dn012d15',\n",
       "  'dn012d16',\n",
       "  'dn012d17',\n",
       "  'dn012d18',\n",
       "  'dn012d19',\n",
       "  'dn012d20',\n",
       "  'dn012d95',\n",
       "  'dn012dno',\n",
       "  'dn012dot'],\n",
       " 'ep': ['ep005_',\n",
       "  'ep002_',\n",
       "  'ep328_',\n",
       "  'ep329_',\n",
       "  'ep213_1',\n",
       "  'ep213_2',\n",
       "  'ep213_3',\n",
       "  'ep213_4',\n",
       "  'ep213_5',\n",
       "  'ep213_6',\n",
       "  'ep213_7',\n",
       "  'ep213_8',\n",
       "  'ep213_9',\n",
       "  'ep213_10',\n",
       "  'ep213_11',\n",
       "  'ep213_12',\n",
       "  'ep213_13',\n",
       "  'ep213_14',\n",
       "  'ep213_15',\n",
       "  'ep213_16'],\n",
       " 'sp': ['sp008_',\n",
       "  'sp018_',\n",
       "  'sp009_1',\n",
       "  'sp009_2',\n",
       "  'sp009_3',\n",
       "  'sp010d1_1',\n",
       "  'sp010d1_2',\n",
       "  'sp010d1_3',\n",
       "  'sp011_1',\n",
       "  'sp011_2',\n",
       "  'sp011_3',\n",
       "  'sp019d2',\n",
       "  'sp019d3',\n",
       "  'sp019d4',\n",
       "  'sp019d5',\n",
       "  'sp019d6',\n",
       "  'sp019d7'],\n",
       " 'gv_isced': ['isced1997_r'],\n",
       " 'ch': ['ch001_']}"
      ]
     },
     "execution_count": 31,
     "metadata": {},
     "output_type": "execute_result"
    }
   ],
   "source": [
    "data_modules"
   ]
  },
  {
   "cell_type": "code",
   "execution_count": 32,
   "id": "9606b67f-77ac-4efd-a23b-e6775f1c84d9",
   "metadata": {},
   "outputs": [],
   "source": [
    "# Retrospective wave 3 variables\n",
    "re_vars = [\n",
    "    f\"sl_re011_{i}\" for i in range(1, 21)] + [\n",
    "    f\"sl_re016_{i}\" for i in range(1, 21)] + [\n",
    "    f\"sl_re026_{i}\" for i in range(1, 21)] + [\n",
    "    f\"sl_re018_{i}\" for i in range(1, 8)] + [\n",
    "    f\"sl_re020_{i}\" for i in range(1, 8)]\n",
    "\n",
    "# Data modules for wave 3\n",
    "data_modules_wave3 = {\n",
    "    'cv_r': [\"int_year\", \"int_month\", \"gender\", \"mobirth\", \"yrbirth\", \"age_int\", \"hhsize\"],\n",
    "    're': re_vars\n",
    "}\n",
    "\n",
    "# Separate modules for partly retrospective wave 7\n",
    "data_modules_wave7 = data_modules.copy()\n",
    "data_modules_wave7['re'] = re_vars"
   ]
  },
  {
   "cell_type": "code",
   "execution_count": 33,
   "id": "9e519860-668d-46bc-b0b2-e997e8dfea76",
   "metadata": {},
   "outputs": [
    {
     "name": "stdout",
     "output_type": "stream",
     "text": [
      "\n",
      "Wave 1\n",
      "\n",
      "cv_r\n",
      "[]\n"
     ]
    },
    {
     "ename": "KeyError",
     "evalue": "\"['dn041_', 'dn127_1', 'dn127_2', 'dn012d15', 'dn012d16', 'dn012d17', 'dn012d18', 'dn012d19', 'dn012d20'] not in index\"",
     "output_type": "error",
     "traceback": [
      "\u001b[0;31m---------------------------------------------------------------------------\u001b[0m",
      "\u001b[0;31mKeyError\u001b[0m                                  Traceback (most recent call last)",
      "Cell \u001b[0;32mIn[33], line 1\u001b[0m\n\u001b[0;32m----> 1\u001b[0m wave1_data \u001b[38;5;241m=\u001b[39m \u001b[43mprocess_wave\u001b[49m\u001b[43m(\u001b[49m\u001b[43mwave_number\u001b[49m\u001b[38;5;241;43m=\u001b[39;49m\u001b[38;5;241;43m1\u001b[39;49m\u001b[43m,\u001b[49m\u001b[43m \u001b[49m\u001b[43mcountry_code\u001b[49m\u001b[38;5;241;43m=\u001b[39;49m\u001b[38;5;241;43m12\u001b[39;49m\u001b[43m,\u001b[49m\u001b[43m \u001b[49m\u001b[43mdata_modules\u001b[49m\u001b[38;5;241;43m=\u001b[39;49m\u001b[43mdata_modules\u001b[49m\u001b[43m)\u001b[49m\n",
      "Cell \u001b[0;32mIn[29], line 43\u001b[0m, in \u001b[0;36mprocess_wave\u001b[0;34m(wave_number, country_code, data_modules)\u001b[0m\n\u001b[1;32m     39\u001b[0m wave_module\u001b[38;5;241m.\u001b[39mrename(columns\u001b[38;5;241m=\u001b[39mcolumn_replacements, inplace\u001b[38;5;241m=\u001b[39m\u001b[38;5;28;01mTrue\u001b[39;00m)\n\u001b[1;32m     42\u001b[0m \u001b[38;5;66;03m# Select columns\u001b[39;00m\n\u001b[0;32m---> 43\u001b[0m wave_module \u001b[38;5;241m=\u001b[39m \u001b[43mwave_module\u001b[49m\u001b[43m[\u001b[49m\u001b[43mmodule_vars\u001b[49m\u001b[43m]\u001b[49m\n\u001b[1;32m     45\u001b[0m wave_data[module] \u001b[38;5;241m=\u001b[39m wave_module\n\u001b[1;32m     47\u001b[0m \u001b[38;5;66;03m# Print columns which are not used in specific waves\u001b[39;00m\n",
      "File \u001b[0;32m~/miniconda3/envs/parental_care/lib/python3.11/site-packages/pandas/core/frame.py:3902\u001b[0m, in \u001b[0;36mDataFrame.__getitem__\u001b[0;34m(self, key)\u001b[0m\n\u001b[1;32m   3900\u001b[0m     \u001b[38;5;28;01mif\u001b[39;00m is_iterator(key):\n\u001b[1;32m   3901\u001b[0m         key \u001b[38;5;241m=\u001b[39m \u001b[38;5;28mlist\u001b[39m(key)\n\u001b[0;32m-> 3902\u001b[0m     indexer \u001b[38;5;241m=\u001b[39m \u001b[38;5;28;43mself\u001b[39;49m\u001b[38;5;241;43m.\u001b[39;49m\u001b[43mcolumns\u001b[49m\u001b[38;5;241;43m.\u001b[39;49m\u001b[43m_get_indexer_strict\u001b[49m\u001b[43m(\u001b[49m\u001b[43mkey\u001b[49m\u001b[43m,\u001b[49m\u001b[43m \u001b[49m\u001b[38;5;124;43m\"\u001b[39;49m\u001b[38;5;124;43mcolumns\u001b[39;49m\u001b[38;5;124;43m\"\u001b[39;49m\u001b[43m)\u001b[49m[\u001b[38;5;241m1\u001b[39m]\n\u001b[1;32m   3904\u001b[0m \u001b[38;5;66;03m# take() does not accept boolean indexers\u001b[39;00m\n\u001b[1;32m   3905\u001b[0m \u001b[38;5;28;01mif\u001b[39;00m \u001b[38;5;28mgetattr\u001b[39m(indexer, \u001b[38;5;124m\"\u001b[39m\u001b[38;5;124mdtype\u001b[39m\u001b[38;5;124m\"\u001b[39m, \u001b[38;5;28;01mNone\u001b[39;00m) \u001b[38;5;241m==\u001b[39m \u001b[38;5;28mbool\u001b[39m:\n",
      "File \u001b[0;32m~/miniconda3/envs/parental_care/lib/python3.11/site-packages/pandas/core/indexes/base.py:6114\u001b[0m, in \u001b[0;36mIndex._get_indexer_strict\u001b[0;34m(self, key, axis_name)\u001b[0m\n\u001b[1;32m   6111\u001b[0m \u001b[38;5;28;01melse\u001b[39;00m:\n\u001b[1;32m   6112\u001b[0m     keyarr, indexer, new_indexer \u001b[38;5;241m=\u001b[39m \u001b[38;5;28mself\u001b[39m\u001b[38;5;241m.\u001b[39m_reindex_non_unique(keyarr)\n\u001b[0;32m-> 6114\u001b[0m \u001b[38;5;28;43mself\u001b[39;49m\u001b[38;5;241;43m.\u001b[39;49m\u001b[43m_raise_if_missing\u001b[49m\u001b[43m(\u001b[49m\u001b[43mkeyarr\u001b[49m\u001b[43m,\u001b[49m\u001b[43m \u001b[49m\u001b[43mindexer\u001b[49m\u001b[43m,\u001b[49m\u001b[43m \u001b[49m\u001b[43maxis_name\u001b[49m\u001b[43m)\u001b[49m\n\u001b[1;32m   6116\u001b[0m keyarr \u001b[38;5;241m=\u001b[39m \u001b[38;5;28mself\u001b[39m\u001b[38;5;241m.\u001b[39mtake(indexer)\n\u001b[1;32m   6117\u001b[0m \u001b[38;5;28;01mif\u001b[39;00m \u001b[38;5;28misinstance\u001b[39m(key, Index):\n\u001b[1;32m   6118\u001b[0m     \u001b[38;5;66;03m# GH 42790 - Preserve name from an Index\u001b[39;00m\n",
      "File \u001b[0;32m~/miniconda3/envs/parental_care/lib/python3.11/site-packages/pandas/core/indexes/base.py:6178\u001b[0m, in \u001b[0;36mIndex._raise_if_missing\u001b[0;34m(self, key, indexer, axis_name)\u001b[0m\n\u001b[1;32m   6175\u001b[0m     \u001b[38;5;28;01mraise\u001b[39;00m \u001b[38;5;167;01mKeyError\u001b[39;00m(\u001b[38;5;124mf\u001b[39m\u001b[38;5;124m\"\u001b[39m\u001b[38;5;124mNone of [\u001b[39m\u001b[38;5;132;01m{\u001b[39;00mkey\u001b[38;5;132;01m}\u001b[39;00m\u001b[38;5;124m] are in the [\u001b[39m\u001b[38;5;132;01m{\u001b[39;00maxis_name\u001b[38;5;132;01m}\u001b[39;00m\u001b[38;5;124m]\u001b[39m\u001b[38;5;124m\"\u001b[39m)\n\u001b[1;32m   6177\u001b[0m not_found \u001b[38;5;241m=\u001b[39m \u001b[38;5;28mlist\u001b[39m(ensure_index(key)[missing_mask\u001b[38;5;241m.\u001b[39mnonzero()[\u001b[38;5;241m0\u001b[39m]]\u001b[38;5;241m.\u001b[39munique())\n\u001b[0;32m-> 6178\u001b[0m \u001b[38;5;28;01mraise\u001b[39;00m \u001b[38;5;167;01mKeyError\u001b[39;00m(\u001b[38;5;124mf\u001b[39m\u001b[38;5;124m\"\u001b[39m\u001b[38;5;132;01m{\u001b[39;00mnot_found\u001b[38;5;132;01m}\u001b[39;00m\u001b[38;5;124m not in index\u001b[39m\u001b[38;5;124m\"\u001b[39m)\n",
      "\u001b[0;31mKeyError\u001b[0m: \"['dn041_', 'dn127_1', 'dn127_2', 'dn012d15', 'dn012d16', 'dn012d17', 'dn012d18', 'dn012d19', 'dn012d20'] not in index\""
     ]
    }
   ],
   "source": [
    "wave1_data = process_wave(wave_number=1, country_code=12, data_modules=data_modules)"
   ]
  },
  {
   "cell_type": "code",
   "execution_count": null,
   "id": "4c167f05-3e34-46f6-a9be-2890bb1374ab",
   "metadata": {},
   "outputs": [],
   "source": []
  },
  {
   "cell_type": "code",
   "execution_count": null,
   "id": "c0903c11-4f22-4634-b6c5-bd0d7485815a",
   "metadata": {},
   "outputs": [],
   "source": []
  }
 ],
 "metadata": {
  "kernelspec": {
   "display_name": "Python 3 (ipykernel)",
   "language": "python",
   "name": "python3"
  },
  "language_info": {
   "codemirror_mode": {
    "name": "ipython",
    "version": 3
   },
   "file_extension": ".py",
   "mimetype": "text/x-python",
   "name": "python",
   "nbconvert_exporter": "python",
   "pygments_lexer": "ipython3",
   "version": "3.10.12"
  }
 },
 "nbformat": 4,
 "nbformat_minor": 5
}
