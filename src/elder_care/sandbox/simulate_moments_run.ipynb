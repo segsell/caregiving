{
 "cells": [
  {
   "cell_type": "code",
   "execution_count": 1,
   "id": "6871803e",
   "metadata": {},
   "outputs": [],
   "source": [
    "import numpy as np\n",
    "import jax.numpy as jnp\n",
    "import jax\n",
    "\n",
    "import pandas as pd\n",
    "\n",
    "import seaborn as sns\n",
    "import matplotlib.pyplot as plt"
   ]
  },
  {
   "cell_type": "code",
   "execution_count": 2,
   "id": "f212b72c",
   "metadata": {},
   "outputs": [],
   "source": [
    "BLD = \"../../../bld\"\n",
    "\n",
    "seed = 2024\n",
    "\n",
    "n_choices = 12\n",
    "n_agents = 10_000"
   ]
  },
  {
   "cell_type": "code",
   "execution_count": 3,
   "id": "6fb335f6",
   "metadata": {},
   "outputs": [],
   "source": [
    "MIN_AGE = 50\n",
    "MAX_AGE = 65\n",
    "\n",
    "AGE_50 = 50\n",
    "AGE_53 = 53\n",
    "AGE_56 = 56\n",
    "AGE_59 = 59\n",
    "AGE_62 = 62\n",
    "\n",
    "AGE_55 = 55\n",
    "AGE_60 = 60\n",
    "AGE_65 = 65\n",
    "\n",
    "GOOD_HEALTH = 0\n",
    "MEDIUM_HEALTH = 1\n",
    "BAD_HEALTH = 2"
   ]
  },
  {
   "cell_type": "code",
   "execution_count": 4,
   "id": "691e922f",
   "metadata": {},
   "outputs": [],
   "source": [
    "AGE_BINS = [(AGE_50, AGE_55), (AGE_55, AGE_60), (AGE_60, AGE_65)]\n",
    "AGE_BINS_FINE = [\n",
    "    (AGE_50, AGE_53),\n",
    "    (AGE_53, AGE_56),\n",
    "    (AGE_56, AGE_59),\n",
    "    (AGE_59, AGE_62),\n",
    "    (AGE_62, AGE_65),\n",
    "]"
   ]
  },
  {
   "cell_type": "code",
   "execution_count": 5,
   "id": "05aec87a",
   "metadata": {},
   "outputs": [],
   "source": [
    "ALL = [0, 1, 2, 3, 4, 5, 6, 7, 8, 9, 10, 11]\n",
    "\n",
    "NO_WORK = [0, 1, 2, 3]\n",
    "PART_TIME = [4, 5, 6, 7]\n",
    "FULL_TIME = [8, 9, 10, 11]\n",
    "WORK = PART_TIME + FULL_TIME\n",
    "\n",
    "\n",
    "NO_CARE = [0, 4, 8]\n",
    "FORMAL_CARE = [1, 3, 5, 7, 9, 11]  # % 2 == 1\n",
    "INFORMAL_CARE = [2, 3, 6, 7, 10, 11]\n",
    "ANY_CARE = FORMAL_CARE + INFORMAL_CARE\n",
    "COMBINATION_CARE = [3, 7, 11]\n",
    "\n",
    "# NO_INFORMAL_CARE = [0, 1, 4, 5, 8, 9] # check!\n",
    "# NO_FORMAL_CARE = [0, 2, 4, 6, 8, 10]\n",
    "NO_INFORMAL_CARE = list(set(ANY_CARE) - (set(INFORMAL_CARE)))\n",
    "NO_FORMAL_CARE =list(set(ALL) - (set(FORMAL_CARE)))"
   ]
  },
  {
   "cell_type": "code",
   "execution_count": 6,
   "id": "ca4a73e2",
   "metadata": {},
   "outputs": [],
   "source": [
    "def is_not_working(lagged_choice):\n",
    "    return lagged_choice in NO_WORK\n",
    "\n",
    "\n",
    "def is_part_time(lagged_choice):\n",
    "    return lagged_choice in PART_TIME\n",
    "\n",
    "\n",
    "def is_full_time(lagged_choice):\n",
    "    return lagged_choice in FULL_TIME\n",
    "\n",
    "\n",
    "def is_informal_care(lagged_choice):\n",
    "    # intensive only here\n",
    "    return lagged_choice in INFORMAL_CARE\n",
    "\n",
    "\n",
    "def is_no_informal_care(lagged_choice):\n",
    "    # intensive only here\n",
    "    return lagged_choice not in INFORMAL_CARE\n",
    "\n",
    "\n",
    "def is_formal_care(lagged_choice):\n",
    "    return lagged_choice in FORMAL_CARE\n",
    "\n",
    "\n",
    "def is_no_formal_care(lagged_choice):\n",
    "    return lagged_choice not in FORMAL_CARE"
   ]
  },
  {
   "cell_type": "code",
   "execution_count": 7,
   "id": "50031fc0",
   "metadata": {},
   "outputs": [
    {
     "data": {
      "text/plain": [
       "True"
      ]
     },
     "execution_count": 7,
     "metadata": {},
     "output_type": "execute_result"
    }
   ],
   "source": [
    "is_no_formal_care(0)"
   ]
  },
  {
   "cell_type": "code",
   "execution_count": null,
   "id": "8289f429",
   "metadata": {},
   "outputs": [],
   "source": []
  },
  {
   "cell_type": "markdown",
   "id": "e80fc5ad",
   "metadata": {},
   "source": [
    "# 0. Draw Initial conditions"
   ]
  },
  {
   "cell_type": "code",
   "execution_count": 8,
   "id": "1e8b7153",
   "metadata": {},
   "outputs": [],
   "source": [
    "def _plot_dist(sample):\n",
    "    sns.histplot(sample, bins=40, kde=True, color=\"purple\")\n",
    "    # plt.xlabel(\"Age\")\n",
    "    plt.ylabel(\"Frequency\")\n",
    "    plt.title(\"Distribution\")\n",
    "    plt.show()"
   ]
  },
  {
   "cell_type": "code",
   "execution_count": 9,
   "id": "ad42c86e",
   "metadata": {},
   "outputs": [],
   "source": [
    "path = f\"{BLD}/moments/initial_wealth_at_age_50.csv\"\n",
    "initial_wealth_empirical = jnp.asarray(pd.read_csv(path)).ravel()"
   ]
  },
  {
   "cell_type": "code",
   "execution_count": 10,
   "id": "66bed99f",
   "metadata": {},
   "outputs": [],
   "source": [
    "path = f\"{BLD}/moments/initial_discrete_conditions_at_age_50.csv\"\n",
    "initial_conditions = pd.read_csv(path, index_col=0)"
   ]
  },
  {
   "cell_type": "code",
   "execution_count": 11,
   "id": "579b4b5c",
   "metadata": {},
   "outputs": [
    {
     "data": {
      "text/html": [
       "<div>\n",
       "<style scoped>\n",
       "    .dataframe tbody tr th:only-of-type {\n",
       "        vertical-align: middle;\n",
       "    }\n",
       "\n",
       "    .dataframe tbody tr th {\n",
       "        vertical-align: top;\n",
       "    }\n",
       "\n",
       "    .dataframe thead th {\n",
       "        text-align: right;\n",
       "    }\n",
       "</style>\n",
       "<table border=\"1\" class=\"dataframe\">\n",
       "  <thead>\n",
       "    <tr style=\"text-align: right;\">\n",
       "      <th></th>\n",
       "      <th>moment</th>\n",
       "    </tr>\n",
       "  </thead>\n",
       "  <tbody>\n",
       "    <tr>\n",
       "      <th>share_has_sister</th>\n",
       "      <td>0.537708</td>\n",
       "    </tr>\n",
       "    <tr>\n",
       "      <th>share_has_sibling</th>\n",
       "      <td>0.744326</td>\n",
       "    </tr>\n",
       "    <tr>\n",
       "      <th>share_married</th>\n",
       "      <td>0.719753</td>\n",
       "    </tr>\n",
       "    <tr>\n",
       "      <th>share_not_working</th>\n",
       "      <td>0.278238</td>\n",
       "    </tr>\n",
       "    <tr>\n",
       "      <th>share_part_time</th>\n",
       "      <td>0.350928</td>\n",
       "    </tr>\n",
       "    <tr>\n",
       "      <th>share_full_time</th>\n",
       "      <td>0.370834</td>\n",
       "    </tr>\n",
       "    <tr>\n",
       "      <th>share_informal_care</th>\n",
       "      <td>0.040574</td>\n",
       "    </tr>\n",
       "    <tr>\n",
       "      <th>mother_age_mean</th>\n",
       "      <td>76.367568</td>\n",
       "    </tr>\n",
       "    <tr>\n",
       "      <th>mother_age_std</th>\n",
       "      <td>4.199512</td>\n",
       "    </tr>\n",
       "    <tr>\n",
       "      <th>father_age_mean</th>\n",
       "      <td>77.471698</td>\n",
       "    </tr>\n",
       "    <tr>\n",
       "      <th>father_age_std</th>\n",
       "      <td>4.110863</td>\n",
       "    </tr>\n",
       "    <tr>\n",
       "      <th>share_mother_alive</th>\n",
       "      <td>0.652668</td>\n",
       "    </tr>\n",
       "    <tr>\n",
       "      <th>share_father_alive</th>\n",
       "      <td>0.308920</td>\n",
       "    </tr>\n",
       "    <tr>\n",
       "      <th>mother_good_health</th>\n",
       "      <td>0.209031</td>\n",
       "    </tr>\n",
       "    <tr>\n",
       "      <th>mother_medium_health</th>\n",
       "      <td>0.634474</td>\n",
       "    </tr>\n",
       "    <tr>\n",
       "      <th>mother_bad_health</th>\n",
       "      <td>0.156494</td>\n",
       "    </tr>\n",
       "    <tr>\n",
       "      <th>father_good_health</th>\n",
       "      <td>0.201967</td>\n",
       "    </tr>\n",
       "    <tr>\n",
       "      <th>father_medium_health</th>\n",
       "      <td>0.691185</td>\n",
       "    </tr>\n",
       "    <tr>\n",
       "      <th>father_bad_health</th>\n",
       "      <td>0.106848</td>\n",
       "    </tr>\n",
       "  </tbody>\n",
       "</table>\n",
       "</div>"
      ],
      "text/plain": [
       "                         moment\n",
       "share_has_sister       0.537708\n",
       "share_has_sibling      0.744326\n",
       "share_married          0.719753\n",
       "share_not_working      0.278238\n",
       "share_part_time        0.350928\n",
       "share_full_time        0.370834\n",
       "share_informal_care    0.040574\n",
       "mother_age_mean       76.367568\n",
       "mother_age_std         4.199512\n",
       "father_age_mean       77.471698\n",
       "father_age_std         4.110863\n",
       "share_mother_alive     0.652668\n",
       "share_father_alive     0.308920\n",
       "mother_good_health     0.209031\n",
       "mother_medium_health   0.634474\n",
       "mother_bad_health      0.156494\n",
       "father_good_health     0.201967\n",
       "father_medium_health   0.691185\n",
       "father_bad_health      0.106848"
      ]
     },
     "execution_count": 11,
     "metadata": {},
     "output_type": "execute_result"
    }
   ],
   "source": [
    "initial_conditions"
   ]
  },
  {
   "cell_type": "code",
   "execution_count": 12,
   "id": "8e4cdd86",
   "metadata": {},
   "outputs": [],
   "source": [
    "# choices\n",
    "employment = get_initial_share_three(\n",
    "    initial_conditions, [\"share_not_working\", \"share_part_time\", \"share_full_time\"]\n",
    ")\n",
    "# informal_care = get_initial_share_two(initial_conditions, \"share_informal_care\")\n",
    "informal_care = jnp.array([1, 0]) # agents start with no informal care provided\n",
    "formal_care = jnp.array([1, 0]) # agents start with no formal care provided\n",
    "\n",
    "informal_formal = jnp.outer(informal_care, formal_care)\n",
    "lagged_choice_probs = jnp.outer(employment, informal_formal).flatten()"
   ]
  },
  {
   "cell_type": "code",
   "execution_count": 18,
   "id": "8d18eb4b",
   "metadata": {},
   "outputs": [],
   "source": [
    "# endogenous states\n",
    "married = get_initial_share_two(initial_conditions, \"share_married\")\n",
    "has_sibling = get_initial_share_two(initial_conditions, \"share_has_sibling\")\n",
    "\n",
    "# exogenous states\n",
    "mother_alive = get_initial_share_two(initial_conditions, \"share_mother_alive\")\n",
    "father_alive = get_initial_share_two(initial_conditions, \"share_father_alive\")\n",
    "\n",
    "mother_health = get_initial_share_three(\n",
    "    initial_conditions,\n",
    "    [\"mother_good_health\", \"mother_medium_health\", \"mother_bad_health\"],\n",
    ")\n",
    "father_health = get_initial_share_three(\n",
    "    initial_conditions,\n",
    "    [\"father_good_health\", \"father_medium_health\", \"father_bad_health\"],\n",
    ")"
   ]
  },
  {
   "cell_type": "markdown",
   "id": "80515329",
   "metadata": {},
   "source": [
    "### Draw random"
   ]
  },
  {
   "cell_type": "code",
   "execution_count": 19,
   "id": "f61bfb33",
   "metadata": {},
   "outputs": [],
   "source": [
    "initial_resources = draw_random_sequence_from_array(\n",
    "    seed, initial_wealth_empirical, n_agents=n_agents\n",
    ")"
   ]
  },
  {
   "cell_type": "code",
   "execution_count": 20,
   "id": "188f41bc",
   "metadata": {},
   "outputs": [],
   "source": [
    "initial_states = {\n",
    "    \"period\": np.zeros(n_agents, dtype=np.int16),\n",
    "    \"lagged_choice\": draw_random_array(\n",
    "        seed=seed + 1,\n",
    "        n_agents=n_agents,\n",
    "        values=jnp.arange(n_choices),\n",
    "        probabilities=lagged_choice_probs,\n",
    "    ),\n",
    "    \"married\": draw_random_array(\n",
    "        seed=seed + 2,\n",
    "        n_agents=n_agents,\n",
    "        values=jnp.array([0, 1]),\n",
    "        probabilities=married,\n",
    "    ),\n",
    "    \"has_sibling\": draw_random_array(\n",
    "        seed=seed + 3,\n",
    "        n_agents=n_agents,\n",
    "        values=jnp.array([0, 1]),\n",
    "        probabilities=has_sibling,\n",
    "    ),\n",
    "    \"mother_age\": draw_parental_age(\n",
    "        seed=seed + 4,\n",
    "        n_agents=n_agents,\n",
    "        mean=jnp.asarray(initial_conditions.loc[\"mother_age_mean\"]),\n",
    "        std_dev=jnp.asarray(initial_conditions.loc[\"mother_age_std\"]),\n",
    "    ),\n",
    "    \"father_age\": draw_parental_age(\n",
    "        seed=seed + 5,\n",
    "        n_agents=n_agents,\n",
    "        mean=jnp.asarray(initial_conditions.loc[\"father_age_mean\"]),\n",
    "        std_dev=jnp.asarray(initial_conditions.loc[\"father_age_std\"]),\n",
    "    ),\n",
    "    # exogenous states\n",
    "    \"mother_alive\": draw_random_array(\n",
    "        seed=seed + 6,\n",
    "        n_agents=n_agents,\n",
    "        values=jnp.array([0, 1]),\n",
    "        probabilities=mother_alive,\n",
    "    ),\n",
    "    \"father_alive\": draw_random_array(\n",
    "        seed=seed + 7,\n",
    "        n_agents=n_agents,\n",
    "        values=jnp.array([0, 1]),\n",
    "        probabilities=father_alive,\n",
    "    ),\n",
    "    \"mother_health\": draw_random_array(\n",
    "        seed=seed + 8,\n",
    "        n_agents=n_agents,\n",
    "        values=jnp.array([0, 1, 2]),\n",
    "        probabilities=mother_health,\n",
    "    ),\n",
    "    \"father_health\": draw_random_array(\n",
    "        seed=seed + 9,\n",
    "        n_agents=n_agents,\n",
    "        values=jnp.array([0, 1, 2]),\n",
    "        probabilities=father_health,\n",
    "    ),\n",
    "    \"care_demand\": np.zeros(n_agents, dtype=np.int16),\n",
    "}"
   ]
  },
  {
   "cell_type": "code",
   "execution_count": 21,
   "id": "7c890223",
   "metadata": {},
   "outputs": [
    {
     "data": {
      "image/png": "[encoded data removed]",
      "text/plain": [
       "<Figure size 640x480 with 1 Axes>"
      ]
     },
     "metadata": {},
     "output_type": "display_data"
    }
   ],
   "source": [
    "_plot_dist(initial_resources)"
   ]
  },
  {
   "cell_type": "code",
   "execution_count": 22,
   "id": "26c55923",
   "metadata": {},
   "outputs": [
    {
     "data": {
      "text/plain": [
       "{'period': array([0, 0, 0, ..., 0, 0, 0], dtype=int16),\n",
       " 'lagged_choice': Array([0, 0, 8, ..., 4, 0, 8], dtype=int32),\n",
       " 'married': Array([1, 0, 0, ..., 1, 1, 1], dtype=int32),\n",
       " 'has_sibling': Array([1, 1, 1, ..., 1, 1, 1], dtype=int32),\n",
       " 'mother_age': Array([73, 86, 74, ..., 79, 78, 72], dtype=int32),\n",
       " 'father_age': Array([76, 73, 78, ..., 96, 69, 78], dtype=int32),\n",
       " 'mother_alive': Array([1, 1, 0, ..., 1, 1, 1], dtype=int32),\n",
       " 'father_alive': Array([0, 1, 1, ..., 0, 0, 0], dtype=int32),\n",
       " 'mother_health': Array([1, 0, 2, ..., 1, 1, 1], dtype=int32),\n",
       " 'father_health': Array([0, 1, 0, ..., 0, 1, 1], dtype=int32),\n",
       " 'care_demand': array([0, 0, 0, ..., 0, 0, 0], dtype=int16)}"
      ]
     },
     "execution_count": 22,
     "metadata": {},
     "output_type": "execute_result"
    }
   ],
   "source": [
    "initial_states"
   ]
  },
  {
   "cell_type": "code",
   "execution_count": 23,
   "id": "b737794f",
   "metadata": {},
   "outputs": [
    {
     "data": {
      "text/plain": [
       "(Array(76.3378, dtype=float32), Array(4.183526, dtype=float32))"
      ]
     },
     "execution_count": 23,
     "metadata": {},
     "output_type": "execute_result"
    }
   ],
   "source": [
    "initial_states[\"mother_age\"].mean(), initial_states[\"mother_age\"].std()"
   ]
  },
  {
   "cell_type": "code",
   "execution_count": 24,
   "id": "0ed6a0ba",
   "metadata": {},
   "outputs": [
    {
     "data": {
      "text/plain": [
       "(Array(77.4143, dtype=float32), Array(4.114809, dtype=float32))"
      ]
     },
     "execution_count": 24,
     "metadata": {},
     "output_type": "execute_result"
    }
   ],
   "source": [
    "initial_states[\"father_age\"].mean(), initial_states[\"father_age\"].std()"
   ]
  },
  {
   "cell_type": "code",
   "execution_count": 25,
   "id": "ceab8508",
   "metadata": {},
   "outputs": [
    {
     "data": {
      "text/plain": [
       "(moment    76.367568\n",
       " Name: mother_age_mean, dtype: float64,\n",
       " moment    4.199512\n",
       " Name: mother_age_std, dtype: float64)"
      ]
     },
     "execution_count": 25,
     "metadata": {},
     "output_type": "execute_result"
    }
   ],
   "source": [
    "initial_conditions.loc[\"mother_age_mean\"], initial_conditions.loc[\"mother_age_std\"]"
   ]
  },
  {
   "cell_type": "code",
   "execution_count": 26,
   "id": "97c60fc3",
   "metadata": {},
   "outputs": [
    {
     "data": {
      "text/plain": [
       "(moment    77.471698\n",
       " Name: father_age_mean, dtype: float64,\n",
       " moment    4.110863\n",
       " Name: father_age_std, dtype: float64)"
      ]
     },
     "execution_count": 26,
     "metadata": {},
     "output_type": "execute_result"
    }
   ],
   "source": [
    "initial_conditions.loc[\"father_age_mean\"], initial_conditions.loc[\"father_age_std\"]"
   ]
  },
  {
   "cell_type": "code",
   "execution_count": null,
   "id": "c5b5d117",
   "metadata": {},
   "outputs": [],
   "source": []
  },
  {
   "cell_type": "code",
   "execution_count": null,
   "id": "0e12f198",
   "metadata": {},
   "outputs": [],
   "source": []
  },
  {
   "cell_type": "markdown",
   "id": "f49442f3",
   "metadata": {},
   "source": [
    "# 1. Simulation"
   ]
  }
 ],
 "metadata": {
  "kernelspec": {
   "display_name": "Python 3 (ipykernel)",
   "language": "python",
   "name": "python3"
  },
  "language_info": {
   "codemirror_mode": {
    "name": "ipython",
    "version": 3
   },
   "file_extension": ".py",
   "mimetype": "text/x-python",
   "name": "python",
   "nbconvert_exporter": "python",
   "pygments_lexer": "ipython3",
   "version": "3.10.13"
  }
 },
 "nbformat": 4,
 "nbformat_minor": 5
}
