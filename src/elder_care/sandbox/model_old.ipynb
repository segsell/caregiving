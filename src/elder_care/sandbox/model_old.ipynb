{
 "cells": [
  {
   "cell_type": "code",
   "execution_count": 1,
   "id": "560c2136-91cc-4ac1-bcd5-d045d9b90f92",
   "metadata": {},
   "outputs": [],
   "source": [
    "import numpy as np\n",
    "import jax.numpy as jnp\n",
    "from itertools import product\n",
    "\n",
    "\n",
    "from typing import Dict\n",
    "from typing import Tuple"
   ]
  },
  {
   "cell_type": "markdown",
   "id": "3a14a492-253d-48d1-8dd4-cbff50120322",
   "metadata": {},
   "source": [
    "# 1. State Space"
   ]
  },
  {
   "cell_type": "code",
   "execution_count": 2,
   "id": "66f2ae62-9af8-48cf-a992-a5db8f08f179",
   "metadata": {},
   "outputs": [],
   "source": [
    "def create_state_space(options: Dict[str, int]) -> Tuple[np.ndarray, np.ndarray]:\n",
    "    \"\"\"Create state space object and indexer.\n",
    "\n",
    "    We need to add the convention for the state space objects.\n",
    "\n",
    "    Args:\n",
    "        options (dict): Options dictionary.\n",
    "\n",
    "    Returns:\n",
    "        tuple:\n",
    "\n",
    "        - state_space (np.ndarray): 2d array of shape (n_states, n_state_variables + 1)\n",
    "            which serves as a collection of all possible states. By convention,\n",
    "            the first column must contain the period and the last column the\n",
    "            exogenous processes. Any other state variables are in between.\n",
    "            E.g. if the two state variables are period and lagged choice and all choices\n",
    "            are admissible in each period, the shape of the state space array is\n",
    "            (n_periods * n_choices, 3).\n",
    "        - map_state_to_index (np.ndarray): Indexer array that maps states to indexes.\n",
    "            The shape of this object is quite complicated. For each state variable it\n",
    "            has the number of possible states as rows, i.e.\n",
    "            (n_poss_states_state_var_1, n_poss_states_state_var_2, ....).\n",
    "\n",
    "    \"\"\"\n",
    "    n_periods = options[\"n_periods\"]\n",
    "    n_lagged_choices = options[\n",
    "        \"n_discrete_choices\"\n",
    "    ]  # lagged_choice is a state variable\n",
    "    n_exog_states = options[\"n_exog_states\"]\n",
    "\n",
    "    full_time_wage_offer = [\"n_discrete_choices\"]\n",
    "    part_time_wage_offer = [\"n_discrete_choices\"]\n",
    "    care_demand_probability = [\"n_discrete_choices\"]\n",
    "    n_work_experience = [\"n_discrete_choices\"]\n",
    "    n_years_since_retirement = [\"n_discrete_choices\"]\n",
    "    n_caregiving_years = [\"n_discrete_choices\"]\n",
    "    n_married = [\"n_discrete_choices\"]\n",
    "    n_education_levels = [\"n_discrete_choices\"]\n",
    "    n_mother_alive = [\"n_discrete_choices\"]\n",
    "    n_father_alive = [\"n_discrete_choices\"]\n",
    "    n_mother_age = [\"n_discrete_choices\"]\n",
    "    n_father_age = [\"n_discrete_choices\"]\n",
    "    n_mother_health = [\"n_discrete_choices\"]\n",
    "    n_father_health = [\"n_discrete_choices\"]\n",
    "    n_dist_to_parents = [\"n_discrete_choices\"]\n",
    "    n_sibling_present = [\"n_discrete_choices\"]  # or sister only\n",
    "\n",
    "    shape = (\n",
    "        n_periods,\n",
    "        n_work_experience,\n",
    "        n_years_since_retirement,\n",
    "        n_caregiving_years,\n",
    "        n_married,\n",
    "        n_education_levels,\n",
    "        n_married,\n",
    "        n_mother_alive,\n",
    "        n_mother_age,\n",
    "        n_mother_health,\n",
    "        n_father_alive,\n",
    "        n_father_age,\n",
    "        n_father_health,\n",
    "        n_dist_to_parents,\n",
    "        n_sibling_present,\n",
    "        #\n",
    "        n_lagged_choices,\n",
    "        n_exog_states,\n",
    "    )  # 15\n",
    "\n",
    "    map_state_to_index = np.full(shape, -9999, dtype=np.int64)\n",
    "    _state_space = []\n",
    "\n",
    "    i = 0\n",
    "    for period in range(n_periods):\n",
    "        for lagged_choice in range(n_lagged_choices):\n",
    "            for work_experience in range(n_work_experience):\n",
    "                for years_since_retirement in range(n_years_since_retirement):\n",
    "                    for caregiving_years in range(n_caregiving_years):\n",
    "                        for education_level in range(n_education_levels):\n",
    "                            for married in [0, 1]:\n",
    "                                for mother_alive in [0, 1]:\n",
    "                                    for father_alive in [0, 1]:\n",
    "                                        for mother_age in range(n_mother_age):\n",
    "                                            for father_age in range(n_father_age):\n",
    "                                                for mother_health in range(\n",
    "                                                    mother_health\n",
    "                                                ):\n",
    "                                                    for father_health in range(\n",
    "                                                        father_health\n",
    "                                                    ):\n",
    "                                                        for dist_to_parents in range(\n",
    "                                                            n_dist_to_parents\n",
    "                                                        ):\n",
    "                                                            for sibling_present in [\n",
    "                                                                0,\n",
    "                                                                1,\n",
    "                                                            ]:\n",
    "                                                                #\n",
    "                                                                for (\n",
    "                                                                    exog_process\n",
    "                                                                ) in range(\n",
    "                                                                    n_exog_states\n",
    "                                                                ):\n",
    "                                                                    map_state_to_index[\n",
    "                                                                        period,\n",
    "                                                                        work_experience,\n",
    "                                                                        years_since_retirement,\n",
    "                                                                        caregiving_years,\n",
    "                                                                        education_level,\n",
    "                                                                        married,\n",
    "                                                                        mother_alive,\n",
    "                                                                        mother_age,\n",
    "                                                                        mother_health,\n",
    "                                                                        father_alive,\n",
    "                                                                        father_age,\n",
    "                                                                        father_health,\n",
    "                                                                        dist_to_parents,\n",
    "                                                                        sibling_present,\n",
    "                                                                        #                                                                        lagged_choice,\n",
    "                                                                        lagged_choice,\n",
    "                                                                        exog_process,\n",
    "                                                                    ] = i\n",
    "\n",
    "                                                                    row = [\n",
    "                                                                        period,\n",
    "                                                                        work_experience,\n",
    "                                                                        years_since_retirement,\n",
    "                                                                        caregiving_years,\n",
    "                                                                        education_level,\n",
    "                                                                        married,\n",
    "                                                                        mother_alive,\n",
    "                                                                        mother_age,\n",
    "                                                                        mother_health,\n",
    "                                                                        father_alive,\n",
    "                                                                        father_age,\n",
    "                                                                        father_health,\n",
    "                                                                        dist_to_parents,\n",
    "                                                                        sibling_present,\n",
    "                                                                        #                                                                        lagged_choice,\n",
    "                                                                        lagged_choice,\n",
    "                                                                        exog_process,\n",
    "                                                                    ]\n",
    "                                                                    _state_space.append(\n",
    "                                                                        row\n",
    "                                                                    )\n",
    "\n",
    "                                                                    i += 1\n",
    "\n",
    "    state_space = np.array(_state_space, dtype=np.int64)\n",
    "\n",
    "    return state_space, map_state_to_index\n",
    "\n",
    "\n",
    "def get_state_specific_feasible_choice_set(\n",
    "    state: np.ndarray,\n",
    "    map_state_to_index: np.ndarray,  # noqa: U100\n",
    "    indexer: np.ndarray,\n",
    ") -> np.ndarray:\n",
    "    \"\"\"Select state-specific feasible choice set.\n",
    "\n",
    "    Will be a user defined function later.\n",
    "\n",
    "    This is very basic in Ishkakov et al (2017).\n",
    "\n",
    "    Args:\n",
    "        state (np.ndarray): Array of shape (n_state_variables,) defining the agent's\n",
    "            state. In Ishkakov, an agent's state is defined by her (i) age (i.e. the\n",
    "            current period) and (ii) her lagged labor market choice.\n",
    "            Hence n_state_variables = 2.\n",
    "        state_space (np.ndarray): 2d array of shape (n_states, n_state_variables + 1)\n",
    "            which serves as a collection of all possible states. By convention,\n",
    "            the first column must contain the period and the last column the\n",
    "            exogenous processes. Any other state variables are in between.\n",
    "            E.g. if the two state variables are period and lagged choice and all choices\n",
    "            are admissible in each period, the shape of the state space array is\n",
    "            (n_periods * n_choices, 3).\n",
    "        map_state_to_index (np.ndarray): Indexer array that maps states to indexes.\n",
    "            The shape of this object is quite complicated. For each state variable it\n",
    "            has the number of possible states as rows, i.e.\n",
    "            (n_poss_states_state_var_1, n_poss_states_state_var_2, ....).\n",
    "\n",
    "    Returns:\n",
    "        choice_set (np.ndarray): 1d array of length (n_feasible_choices,) with the\n",
    "            agent's (restricted) feasible choice set in the given state.\n",
    "\n",
    "    \"\"\"\n",
    "    n_choices = indexer.shape[1]  # lagged_choice is a state variable\n",
    "\n",
    "    # Once the agent choses retirement, she can only choose retirement thereafter.\n",
    "    # Hence, retirement is an absorbing state.\n",
    "    if state[1] == 1:\n",
    "        feasible_choice_set = np.array([1])\n",
    "    else:\n",
    "        feasible_choice_set = np.arange(n_choices)\n",
    "\n",
    "    return feasible_choice_set"
   ]
  },
  {
   "cell_type": "code",
   "execution_count": null,
   "id": "fe00c7d6",
   "metadata": {},
   "outputs": [],
   "source": [
    "\n"
   ]
  },
  {
   "cell_type": "code",
   "execution_count": null,
   "id": "3acf76db",
   "metadata": {},
   "outputs": [],
   "source": []
  },
  {
   "cell_type": "code",
   "execution_count": 3,
   "id": "b16c923e",
   "metadata": {},
   "outputs": [],
   "source": [
    "def _create_state_space(options):\n",
    "\n",
    "    shape = (\n",
    "        n_periods,\n",
    "        n_work_experience,\n",
    "        n_years_since_retirement,\n",
    "        n_caregiving_years,\n",
    "        n_married,\n",
    "        n_education_levels,\n",
    "        n_married,\n",
    "        n_mother_alive,\n",
    "        n_mother_age,\n",
    "        n_mother_health,\n",
    "        n_father_alive,\n",
    "        n_father_age,\n",
    "        n_father_health,\n",
    "        n_dist_to_parents,\n",
    "        n_sibling_present,\n",
    "        n_lagged_choices,\n",
    "        n_exog_states,\n",
    "    )  # 15\n",
    "\n",
    "    map_state_to_index = np.full(shape, -9999, dtype=np.int64)\n",
    "    _state_space = []\n",
    "\n",
    "    for i, (\n",
    "        period,\n",
    "        work_experience,\n",
    "        years_since_retirement,\n",
    "        caregiving_years,\n",
    "        education_level,\n",
    "        married,\n",
    "        mother_alive,\n",
    "        mother_age,\n",
    "        mother_health,\n",
    "        father_alive,\n",
    "        father_age,\n",
    "        father_health,\n",
    "        dist_to_parents,\n",
    "        sibling_present,\n",
    "        lagged_choice,\n",
    "        exog_process,\n",
    "    ) in enumerate(\n",
    "        product(\n",
    "            range(n_periods),\n",
    "            range(n_work_experience),\n",
    "            range(n_years_since_retirement),\n",
    "            range(n_caregiving_years),\n",
    "            range(n_education_levels),\n",
    "            [0, 1],\n",
    "            [0, 1],\n",
    "            [0, 1],\n",
    "            range(n_mother_age),\n",
    "            range(n_mother_health),\n",
    "            [0, 1],\n",
    "            range(n_father_age),\n",
    "            range(n_father_health),\n",
    "            range(n_dist_to_parents),\n",
    "            [0, 1],\n",
    "            range(n_lagged_choices),\n",
    "            range(n_exog_states),\n",
    "        )\n",
    "    ):\n",
    "        map_state_to_index[\n",
    "            period,\n",
    "            work_experience,\n",
    "            years_since_retirement,\n",
    "            caregiving_years,\n",
    "            education_level,\n",
    "            married,\n",
    "            mother_alive,\n",
    "            mother_age,\n",
    "            mother_health,\n",
    "            father_alive,\n",
    "            father_age,\n",
    "            father_health,\n",
    "            dist_to_parents,\n",
    "            sibling_present,\n",
    "            #\n",
    "            lagged_choice,\n",
    "            exog_process,\n",
    "        ] = i\n",
    "\n",
    "        row = [\n",
    "            period,\n",
    "            work_experience,\n",
    "            years_since_retirement,\n",
    "            caregiving_years,\n",
    "            education_level,\n",
    "            married,\n",
    "            mother_alive,\n",
    "            mother_age,\n",
    "            mother_health,\n",
    "            father_alive,\n",
    "            father_age,\n",
    "            father_health,\n",
    "            dist_to_parents,\n",
    "            sibling_present,\n",
    "            lagged_choice,\n",
    "            exog_process,\n",
    "        ]\n",
    "        _state_space.append(row)"
   ]
  },
  {
   "cell_type": "code",
   "execution_count": null,
   "id": "0553bb68",
   "metadata": {},
   "outputs": [],
   "source": []
  },
  {
   "cell_type": "code",
   "execution_count": null,
   "id": "7d549fb8",
   "metadata": {},
   "outputs": [],
   "source": []
  },
  {
   "cell_type": "markdown",
   "id": "8da9411c",
   "metadata": {},
   "source": [
    "## Choice structure"
   ]
  },
  {
   "cell_type": "markdown",
   "id": "fb21b533",
   "metadata": {},
   "source": [
    "### Labor choices (4)\n",
    "\n",
    "- no work\n",
    "- part-time\n",
    "- full-time\n",
    "- retirement (absorbing)"
   ]
  },
  {
   "cell_type": "markdown",
   "id": "da49f2c3",
   "metadata": {},
   "source": [
    "### Caregiving choices (6)\n",
    "\n",
    "- light informal + no formal\n",
    "- light informal + formal\n",
    "- intensive informal + no_formal\n",
    "- intensive informal + formal\n",
    "- no informal + formal\n",
    "- no informal + no formal (no care)"
   ]
  },
  {
   "cell_type": "markdown",
   "id": "f4e954eb",
   "metadata": {},
   "source": [
    "The outside care option (neither organize\n",
    "formal care nor organize formal care once care demand arises) captures that siblings, the more healthy\n",
    "parent or others organize or provide care to the parent. BFischer, p. 13"
   ]
  },
  {
   "cell_type": "code",
   "execution_count": null,
   "id": "d68fe4f9",
   "metadata": {},
   "outputs": [],
   "source": []
  },
  {
   "cell_type": "code",
   "execution_count": 4,
   "id": "6668c85d",
   "metadata": {},
   "outputs": [
    {
     "data": {
      "text/plain": [
       "{0: ['retirement', 'no_informal_no_formal'],\n",
       " 1: ['retirement', 'no_informal_formal'],\n",
       " 2: ['retirement', 'light_informal_no_formal'],\n",
       " 3: ['retirement', 'light_informal_formal'],\n",
       " 4: ['retirement', 'intensive_informal_no_formal'],\n",
       " 5: ['retirement', 'intensive_informal_formal'],\n",
       " 6: ['no_work', 'no_informal_no_formal'],\n",
       " 7: ['no_work', 'no_informal_formal'],\n",
       " 8: ['no_work', 'light_informal_no_formal'],\n",
       " 9: ['no_work', 'light_informal_formal'],\n",
       " 10: ['no_work', 'intensive_informal_no_formal'],\n",
       " 11: ['no_work', 'intensive_informal_formal'],\n",
       " 12: ['part_time', 'no_informal_no_formal'],\n",
       " 13: ['part_time', 'no_informal_formal'],\n",
       " 14: ['part_time', 'light_informal_no_formal'],\n",
       " 15: ['part_time', 'light_informal_formal'],\n",
       " 16: ['part_time', 'intensive_informal_no_formal'],\n",
       " 17: ['part_time', 'intensive_informal_formal'],\n",
       " 18: ['full_time', 'no_informal_no_formal'],\n",
       " 19: ['full_time', 'no_informal_formal'],\n",
       " 20: ['full_time', 'light_informal_no_formal'],\n",
       " 21: ['full_time', 'light_informal_formal'],\n",
       " 22: ['full_time', 'intensive_informal_no_formal'],\n",
       " 23: ['full_time', 'intensive_informal_formal']}"
      ]
     },
     "execution_count": 4,
     "metadata": {},
     "output_type": "execute_result"
    }
   ],
   "source": [
    "labor = [\"retirement\", \"no_work\", \"part_time\", \"full_time\"]\n",
    "caregiving = [\n",
    "    \"no_informal_no_formal\",\n",
    "    \"no_informal_formal\",\n",
    "    \"light_informal_no_formal\",\n",
    "    \"light_informal_formal\",\n",
    "    \"intensive_informal_no_formal\",\n",
    "    \"intensive_informal_formal\",\n",
    "]\n",
    "\n",
    "combinations_dict = {}\n",
    "\n",
    "for i, labor_element in enumerate(labor):\n",
    "    for j, caregiving_element in enumerate(caregiving):\n",
    "        key = i * len(caregiving) + j  # Generating unique keys\n",
    "        value = [labor_element, caregiving_element]\n",
    "        combinations_dict[key] = value\n",
    "        \n",
    "combinations_dict"
   ]
  },
  {
   "cell_type": "markdown",
   "id": "66807756",
   "metadata": {},
   "source": [
    "### 24 choices in total"
   ]
  },
  {
   "cell_type": "markdown",
   "id": "85176ee3",
   "metadata": {},
   "source": [
    "### ==> structure !!! keep numbers/mapping in mind !!!"
   ]
  },
  {
   "cell_type": "code",
   "execution_count": 5,
   "id": "3dacd3b6",
   "metadata": {},
   "outputs": [],
   "source": [
    "formal = [\n",
    "    combinations_dict[1],\n",
    "    combinations_dict[3],\n",
    "    combinations_dict[5],\n",
    "    combinations_dict[7],\n",
    "    combinations_dict[9],\n",
    "    combinations_dict[11],\n",
    "    combinations_dict[13],\n",
    "    combinations_dict[15],\n",
    "    combinations_dict[17],\n",
    "    combinations_dict[19],\n",
    "    combinations_dict[21],\n",
    "    combinations_dict[23],\n",
    "]\n",
    "\n",
    "light_informal = [\n",
    "    combinations_dict[2],\n",
    "    combinations_dict[3],\n",
    "    combinations_dict[8],\n",
    "    combinations_dict[9],\n",
    "    combinations_dict[14],\n",
    "    combinations_dict[15],\n",
    "    combinations_dict[20],\n",
    "    combinations_dict[21],\n",
    "]\n",
    "\n",
    "intensive_informal = [\n",
    "    combinations_dict[4],\n",
    "    combinations_dict[5],\n",
    "    combinations_dict[10],\n",
    "    combinations_dict[11],\n",
    "    combinations_dict[16],\n",
    "    combinations_dict[17],\n",
    "    combinations_dict[22],\n",
    "    combinations_dict[23],    \n",
    "]"
   ]
  },
  {
   "cell_type": "code",
   "execution_count": 6,
   "id": "e333943f",
   "metadata": {},
   "outputs": [
    {
     "data": {
      "text/plain": [
       "[['retirement', 'light_informal_no_formal'],\n",
       " ['retirement', 'light_informal_formal'],\n",
       " ['no_work', 'light_informal_no_formal'],\n",
       " ['no_work', 'light_informal_formal'],\n",
       " ['part_time', 'light_informal_no_formal'],\n",
       " ['part_time', 'light_informal_formal'],\n",
       " ['full_time', 'light_informal_no_formal'],\n",
       " ['full_time', 'light_informal_formal']]"
      ]
     },
     "execution_count": 6,
     "metadata": {},
     "output_type": "execute_result"
    }
   ],
   "source": [
    "light_informal"
   ]
  },
  {
   "cell_type": "code",
   "execution_count": 7,
   "id": "c97deb87",
   "metadata": {},
   "outputs": [
    {
     "data": {
      "text/plain": [
       "[['retirement', 'intensive_informal_no_formal'],\n",
       " ['retirement', 'intensive_informal_formal'],\n",
       " ['no_work', 'intensive_informal_no_formal'],\n",
       " ['no_work', 'intensive_informal_formal'],\n",
       " ['part_time', 'intensive_informal_no_formal'],\n",
       " ['part_time', 'intensive_informal_formal'],\n",
       " ['full_time', 'intensive_informal_no_formal'],\n",
       " ['full_time', 'intensive_informal_formal']]"
      ]
     },
     "execution_count": 7,
     "metadata": {},
     "output_type": "execute_result"
    }
   ],
   "source": [
    "intensive_informal"
   ]
  },
  {
   "cell_type": "code",
   "execution_count": 8,
   "id": "79babd41",
   "metadata": {},
   "outputs": [
    {
     "data": {
      "text/plain": [
       "[['retirement', 'no_informal_formal'],\n",
       " ['retirement', 'light_informal_formal'],\n",
       " ['retirement', 'intensive_informal_formal'],\n",
       " ['no_work', 'no_informal_formal'],\n",
       " ['no_work', 'light_informal_formal'],\n",
       " ['no_work', 'intensive_informal_formal'],\n",
       " ['part_time', 'no_informal_formal'],\n",
       " ['part_time', 'light_informal_formal'],\n",
       " ['part_time', 'intensive_informal_formal'],\n",
       " ['full_time', 'no_informal_formal'],\n",
       " ['full_time', 'light_informal_formal'],\n",
       " ['full_time', 'intensive_informal_formal']]"
      ]
     },
     "execution_count": 8,
     "metadata": {},
     "output_type": "execute_result"
    }
   ],
   "source": [
    "formal"
   ]
  },
  {
   "cell_type": "markdown",
   "id": "7ef0a46d",
   "metadata": {},
   "source": [
    "## 2. Utility"
   ]
  },
  {
   "cell_type": "code",
   "execution_count": 9,
   "id": "0542c01b",
   "metadata": {},
   "outputs": [],
   "source": [
    "def utility_func_crra(consumption: jnp.array, choice: int, params: dict) -> jnp.array:\n",
    "    \"\"\"Computes the agent's current utility based on a CRRA utility function.\n",
    "\n",
    "    Args:\n",
    "        consumption (jnp.array): Level of the agent's consumption.\n",
    "            Array of shape (i) (n_quad_stochastic * n_grid_wealth,)\n",
    "            when called by :func:`~dcgm.call_egm_step.map_exog_to_endog_grid`\n",
    "            and :func:`~dcgm.call_egm_step.get_next_period_value`, or\n",
    "            (ii) of shape (n_grid_wealth,) when called by\n",
    "            :func:`~dcgm.call_egm_step.get_current_period_value`.\n",
    "        choice (int): Choice of the agent, e.g. 0 = \"retirement\", 1 = \"working\".\n",
    "        params (dict): Dictionary containing model parameters.\n",
    "            Relevant here is the CRRA coefficient theta.\n",
    "\n",
    "    Returns:\n",
    "        utility (jnp.array): Agent's utility . Array of shape\n",
    "            (n_quad_stochastic * n_grid_wealth,) or (n_grid_wealth,).\n",
    "\n",
    "    \"\"\"\n",
    "    theta = params[\"theta\"]\n",
    "\n",
    "    working_hours = 8\n",
    "    informal_caregiving_hours = 0\n",
    "    leisure_hours = 24 - working_hours - informal_caregiving_hours\n",
    "\n",
    "    age = period  # + 50 # 55\n",
    "\n",
    "    care_demand = 0\n",
    "    unobserved_type = 0\n",
    "    \n",
    "    formal_care = (choice % 2 == 1) # uneven numbers mark formal care\n",
    "    light_informal_care = (choice in [2, 3, 8, 9, 14, 15, 20, 21])\n",
    "    intensive_informal_care = (choice in [4, 5, 10, 11, 16, 17, 22, 23])\n",
    "\n",
    "    utility_consumption = (consumption ** (1 - theta) - 1) / (1 - theta)\n",
    "\n",
    "    utility = (\n",
    "        utility_consumption\n",
    "        - (choice >= 12) * params[\"theta\"]  # choice: part-time or full-time\n",
    "        ## utility from leisure\n",
    "        # type A\n",
    "        + (unobserved_type == 0)\n",
    "        * (params[\"utility_type_A\"] + params[\"utility_age\"] * age)  #\n",
    "        * np.log(leisure_hours)\n",
    "        + (unobserved_type == 1)\n",
    "        # type B\n",
    "        * (params[\"utility_type_B\"] + params[\"utility_age\"] * age)\n",
    "        * np.log(leisure_hours)\n",
    "        + care_demand * ()\n",
    "        ## utility from caregiving\n",
    "        # type A\n",
    "        + (unobserved_type == 0)\n",
    "        * (\n",
    "            params[\"utility_light_informal_type_A\"] * (choice == 0)\n",
    "            + params[\"utility_intensive_informal_type_A\"] * (choice == 0)\n",
    "            + params[\"utility_formal_type_A\"] * (choice == 0)\n",
    "            + params[\"utility_informal_and_formal_type_A\"] * (choice == 0)\n",
    "        )\n",
    "        # type B\n",
    "        + (unobserved_type == 1)\n",
    "        * (\n",
    "            params[\"utility_light_informal_type_B\"] * (choice == 0)\n",
    "            + params[\"utility_intensive_informal_type_B\"] * (choice == 0)\n",
    "            + params[\"utility_formal_type_B\"] * (choice == 0)\n",
    "            + params[\"utility_informal_and_formal_type_B\"] * (choice == 0)\n",
    "        )\n",
    "    )\n",
    "\n",
    "    return utility"
   ]
  },
  {
   "cell_type": "markdown",
   "id": "81aca67b",
   "metadata": {},
   "source": [
    "- Age is a proxy for health impacting the taste for free-time\n",
    "- Formal care, retirement and unemployment do not reduce leisure time."
   ]
  },
  {
   "cell_type": "code",
   "execution_count": null,
   "id": "2d8a5801",
   "metadata": {},
   "outputs": [],
   "source": []
  },
  {
   "cell_type": "markdown",
   "id": "ef2bf252",
   "metadata": {},
   "source": [
    "## Write tests on this!!"
   ]
  },
  {
   "cell_type": "code",
   "execution_count": 10,
   "id": "ea2c8169",
   "metadata": {},
   "outputs": [],
   "source": [
    "def test_choice(choice):\n",
    "    formal_care = (choice % 2 == 1) # uneven numbers mark formal care\n",
    "    light_informal_care = (choice in [2, 3, 8, 9, 14, 15, 20, 21])\n",
    "    intensive_informal_care = (choice in [4, 5, 10, 11, 16, 17, 22, 23])\n",
    "    \n",
    "    # light and intensive can never be true at the same time: axis (1, 2)\n",
    "    \n",
    "    return formal_care, light_informal_care, intensive_informal_care"
   ]
  },
  {
   "cell_type": "code",
   "execution_count": 11,
   "id": "df09bb40",
   "metadata": {},
   "outputs": [
    {
     "name": "stdout",
     "output_type": "stream",
     "text": [
      "(False, False, False)\n",
      "(True, False, False)\n",
      "(False, True, False)\n",
      "(True, True, False)\n",
      "(False, False, True)\n",
      "(True, False, True)\n",
      "(False, False, False)\n",
      "(True, False, False)\n",
      "(False, True, False)\n",
      "(True, True, False)\n",
      "(False, False, True)\n",
      "(True, False, True)\n",
      "(False, False, False)\n",
      "(True, False, False)\n",
      "(False, True, False)\n",
      "(True, True, False)\n",
      "(False, False, True)\n",
      "(True, False, True)\n",
      "(False, False, False)\n",
      "(True, False, False)\n",
      "(False, True, False)\n",
      "(True, True, False)\n",
      "(False, False, True)\n",
      "(True, False, True)\n"
     ]
    }
   ],
   "source": [
    "for choice in range(24):\n",
    "    print(test_choice(choice))"
   ]
  },
  {
   "cell_type": "code",
   "execution_count": 12,
   "id": "7522fa2f",
   "metadata": {},
   "outputs": [
    {
     "data": {
      "text/plain": [
       "{0: ['retirement', 'no_informal_no_formal'],\n",
       " 1: ['retirement', 'no_informal_formal'],\n",
       " 2: ['retirement', 'light_informal_no_formal'],\n",
       " 3: ['retirement', 'light_informal_formal'],\n",
       " 4: ['retirement', 'intensive_informal_no_formal'],\n",
       " 5: ['retirement', 'intensive_informal_formal'],\n",
       " 6: ['no_work', 'no_informal_no_formal'],\n",
       " 7: ['no_work', 'no_informal_formal'],\n",
       " 8: ['no_work', 'light_informal_no_formal'],\n",
       " 9: ['no_work', 'light_informal_formal'],\n",
       " 10: ['no_work', 'intensive_informal_no_formal'],\n",
       " 11: ['no_work', 'intensive_informal_formal'],\n",
       " 12: ['part_time', 'no_informal_no_formal'],\n",
       " 13: ['part_time', 'no_informal_formal'],\n",
       " 14: ['part_time', 'light_informal_no_formal'],\n",
       " 15: ['part_time', 'light_informal_formal'],\n",
       " 16: ['part_time', 'intensive_informal_no_formal'],\n",
       " 17: ['part_time', 'intensive_informal_formal'],\n",
       " 18: ['full_time', 'no_informal_no_formal'],\n",
       " 19: ['full_time', 'no_informal_formal'],\n",
       " 20: ['full_time', 'light_informal_no_formal'],\n",
       " 21: ['full_time', 'light_informal_formal'],\n",
       " 22: ['full_time', 'intensive_informal_no_formal'],\n",
       " 23: ['full_time', 'intensive_informal_formal']}"
      ]
     },
     "execution_count": 12,
     "metadata": {},
     "output_type": "execute_result"
    }
   ],
   "source": [
    "combinations_dict"
   ]
  },
  {
   "cell_type": "markdown",
   "id": "0e1bf648",
   "metadata": {},
   "source": [
    "## 3. Budget Constraint"
   ]
  },
  {
   "cell_type": "code",
   "execution_count": 13,
   "id": "6d75942b",
   "metadata": {},
   "outputs": [],
   "source": [
    "def budget(lagged_resources, lagged_consumption, lagged_choice, wage, health, params):\n",
    "    interest_factor = 1 + params[\"interest_rate\"]\n",
    "\n",
    "    light_informal_care = [2, 3, 8, 9, 14, 15, 20, 21]\n",
    "    intensive_informal_care = [4, 5, 10, 11, 16, 17, 22, 23]\n",
    "\n",
    "    health_costs = params[\"ltc_cost\"]\n",
    "\n",
    "    resources = (\n",
    "        interest_factor * (lagged_resources - lagged_consumption)  # = savings (:\n",
    "        + wage * (lagged_choice >= 12) * working_hours\n",
    "        #\n",
    "        + spousal_income * lagged_married\n",
    "        + retirement_benefits * (lagged_choice <= 5)\n",
    "        + unemployment_benefits * (6 <= lagged_choice < 12)\n",
    "        + cash_benefits_informal_caregiving\n",
    "        + inheritance # depends on caregiving? See maybe Korfhage\n",
    "        * (lagged_choice in [light_informal_care + intensive_informal_care])\n",
    "        # costs in current period\n",
    "        - (choice >= 12) * (social_security_contributions + taxes) # only if working?\n",
    "        - (choice % 2 == 1) * formal_care_costs\n",
    "    ).clip(\n",
    "        min=0.5\n",
    "    )  # why clip?\n",
    "\n",
    "    return resources"
   ]
  },
  {
   "cell_type": "code",
   "execution_count": 14,
   "id": "b9258e77",
   "metadata": {},
   "outputs": [],
   "source": [
    "light_informal_care = [2, 3, 8, 9, 14, 15, 20, 21]\n",
    "intensive_informal_care = [4, 5, 10, 11, 16, 17, 22, 23]"
   ]
  },
  {
   "cell_type": "code",
   "execution_count": 15,
   "id": "34eb2caa",
   "metadata": {},
   "outputs": [
    {
     "data": {
      "text/plain": [
       "[2, 3, 8, 9, 14, 15, 20, 21, 4, 5, 10, 11, 16, 17, 22, 23]"
      ]
     },
     "execution_count": 15,
     "metadata": {},
     "output_type": "execute_result"
    }
   ],
   "source": [
    "light_informal_care + intensive_informal_care"
   ]
  },
  {
   "cell_type": "code",
   "execution_count": null,
   "id": "c2fc6821",
   "metadata": {},
   "outputs": [],
   "source": []
  },
  {
   "cell_type": "code",
   "execution_count": 16,
   "id": "b8e8b1f8",
   "metadata": {},
   "outputs": [],
   "source": [
    "lagged_choice = 7"
   ]
  },
  {
   "cell_type": "code",
   "execution_count": 17,
   "id": "a28ac941",
   "metadata": {},
   "outputs": [
    {
     "data": {
      "text/plain": [
       "True"
      ]
     },
     "execution_count": 17,
     "metadata": {},
     "output_type": "execute_result"
    }
   ],
   "source": [
    "5 <= lagged_choice < 12"
   ]
  },
  {
   "cell_type": "code",
   "execution_count": 18,
   "id": "a640df3e",
   "metadata": {},
   "outputs": [],
   "source": [
    "# non-labor income Skira\n",
    "# capture inheritances!!\n",
    "# Skira: job dynamics, part-time penalty\n",
    "# --> wage offer"
   ]
  },
  {
   "cell_type": "code",
   "execution_count": 19,
   "id": "134c00fe",
   "metadata": {},
   "outputs": [],
   "source": [
    "def wage(state, param):\n",
    "    \n",
    "    wage = 0\n",
    "    \n",
    "    return wage"
   ]
  },
  {
   "cell_type": "markdown",
   "id": "a89fc293",
   "metadata": {},
   "source": [
    "In the model, caregiving decisions are not motivated by inheritances or inter-vivos transfers. Most recent studies\n",
    "do not support the bequest motive (Checkovich and Stern, 2002; Norton and Van Houtven, 2006; Brown, 2007). The\n",
    "evidence on inter-vivos transfers is mixed. McGarry and Schoeni (1997) and Brown (2006) find parents do not transfer\n",
    "significantly more to their caregiving children than their noncaregiving children on average, whereas Norton and Van\n",
    "Houtven (2006) find caregiving children are 11–16 percentage points more likely to receive an inter-vivos transfer. (Skira, p 68)"
   ]
  },
  {
   "cell_type": "code",
   "execution_count": 20,
   "id": "7b6a6d0f",
   "metadata": {},
   "outputs": [],
   "source": [
    "# see korfhage for expected value of caregiving reimbursment, inheritance etc."
   ]
  },
  {
   "cell_type": "code",
   "execution_count": 21,
   "id": "7990115b",
   "metadata": {},
   "outputs": [],
   "source": [
    "def inheritance(state):\n",
    "    inheritance = 0\n",
    "    return inheritance\n",
    "    "
   ]
  },
  {
   "cell_type": "markdown",
   "id": "fdef0e7d",
   "metadata": {},
   "source": [
    "## Transition probabilities"
   ]
  },
  {
   "cell_type": "code",
   "execution_count": null,
   "id": "59b19095",
   "metadata": {},
   "outputs": [],
   "source": []
  },
  {
   "cell_type": "code",
   "execution_count": null,
   "id": "80aca171",
   "metadata": {},
   "outputs": [],
   "source": []
  },
  {
   "cell_type": "markdown",
   "id": "58b156f6",
   "metadata": {},
   "source": [
    "# 2. Simulation"
   ]
  },
  {
   "cell_type": "markdown",
   "id": "32ed27d7",
   "metadata": {},
   "source": [
    "## 2.1. Choice probabilities"
   ]
  },
  {
   "cell_type": "code",
   "execution_count": null,
   "id": "211de533",
   "metadata": {},
   "outputs": [],
   "source": []
  },
  {
   "cell_type": "markdown",
   "id": "1e7a12f4",
   "metadata": {},
   "source": [
    "## 2.2"
   ]
  }
 ],
 "metadata": {
  "kernelspec": {
   "display_name": "Python 3 (ipykernel)",
   "language": "python",
   "name": "python3"
  },
  "language_info": {
   "codemirror_mode": {
    "name": "ipython",
    "version": 3
   },
   "file_extension": ".py",
   "mimetype": "text/x-python",
   "name": "python",
   "nbconvert_exporter": "python",
   "pygments_lexer": "ipython3",
   "version": "3.10.13"
  }
 },
 "nbformat": 4,
 "nbformat_minor": 5
}
