{
 "cells": [
  {
   "cell_type": "code",
   "execution_count": 2,
   "id": "90dc705e",
   "metadata": {},
   "outputs": [],
   "source": [
    "import numpy as np\n",
    "import jax.numpy as jnp\n",
    "from itertools import product\n",
    "\n",
    "\n",
    "from typing import Dict\n",
    "from typing import Tuple"
   ]
  },
  {
   "cell_type": "markdown",
   "id": "22272c07",
   "metadata": {},
   "source": [
    "# 1. State Space"
   ]
  },
  {
   "cell_type": "code",
   "execution_count": null,
   "id": "f589f2e5",
   "metadata": {},
   "outputs": [],
   "source": [
    "def create_state_space(options: Dict[str, int]) -> Tuple[np.ndarray, np.ndarray]:\n",
    "    n_periods = options[\"n_periods\"]\n",
    "    n_lagged_choices = options[\n",
    "        \"n_discrete_choices\"\n",
    "    ]  # lagged_choice is a state variable\n",
    "    n_exog_states = options[\"n_exog_states\"]\n",
    "\n",
    "    full_time_wage_offer = [\"n_discrete_choices\"]\n",
    "    part_time_wage_offer = [\"n_discrete_choices\"]\n",
    "    care_demand_probability = [\"n_discrete_choices\"]\n",
    "\n",
    "    n_married = [\"n_discrete_choices\"]\n",
    "    n_mother_alive = [\"n_discrete_choices\"]\n",
    "    n_father_alive = [\"n_discrete_choices\"]\n",
    "    n_mother_age = [\"n_discrete_choices\"]\n",
    "    n_father_age = [\"n_discrete_choices\"]\n",
    "    n_mother_health = [\"n_discrete_choices\"]\n",
    "    n_father_health = [\"n_discrete_choices\"]\n",
    "    n_dist_to_parents = [\"n_discrete_choices\"]\n",
    "    n_sibling_present = [\"n_discrete_choices\"]  # or sister only\n",
    "\n",
    "    shape = (\n",
    "        n_periods,\n",
    "        n_married,\n",
    "        n_mother_alive,\n",
    "        n_mother_age,\n",
    "        n_mother_health,\n",
    "        n_father_alive,\n",
    "        n_father_age,\n",
    "        n_father_health,\n",
    "        n_dist_to_parents,\n",
    "        n_sibling_present,\n",
    "        #\n",
    "        n_lagged_choices,\n",
    "        n_exog_states,\n",
    "    )  # 15\n",
    "\n",
    "    map_state_to_index = np.full(shape, -9999, dtype=np.int64)\n",
    "    _state_space = []\n",
    "\n",
    "    i = 0\n",
    "    for period in range(n_periods):\n",
    "        for lagged_choice in range(n_lagged_choices):\n",
    "                for married in [0, 1]:\n",
    "                    for mother_alive in [0, 1]:\n",
    "                        for father_alive in [0, 1]:\n",
    "                            for mother_age in range(n_mother_age):\n",
    "                                for father_age in range(n_father_age):\n",
    "                                    for mother_health in range(\n",
    "                                        mother_health\n",
    "                                    ):\n",
    "                                        for father_health in range(\n",
    "                                            father_health\n",
    "                                        ):\n",
    "                                            for dist_to_parents in range(\n",
    "                                                n_dist_to_parents\n",
    "                                            ):\n",
    "                                                for sibling_present in [\n",
    "                                                    0,\n",
    "                                                    1,\n",
    "                                                ]:\n",
    "                                                    #\n",
    "                                                    for (\n",
    "                                                        exog_process\n",
    "                                                    ) in range(\n",
    "                                                        n_exog_states\n",
    "                                                    ):\n",
    "                                                        map_state_to_index[\n",
    "                                                            period,\n",
    "                                                            work_experience,\n",
    "                                                            years_since_retirement,\n",
    "                                                            caregiving_years,\n",
    "                                                            education_level,\n",
    "                                                            married,\n",
    "                                                            mother_alive,\n",
    "                                                            mother_age,\n",
    "                                                            mother_health,\n",
    "                                                            father_alive,\n",
    "                                                            father_age,\n",
    "                                                            father_health,\n",
    "                                                            dist_to_parents,\n",
    "                                                            sibling_present,\n",
    "                                                            #                                                                        lagged_choice,\n",
    "                                                            lagged_choice,\n",
    "                                                            exog_process,\n",
    "                                                        ] =\n",
    "                                                        row = [\n",
    "                                                            period,\n",
    "                                                            work_experience,\n",
    "                                                            years_since_retirement,\n",
    "                                                            caregiving_years,\n",
    "                                                            education_level,\n",
    "                                                            married,\n",
    "                                                            mother_alive,\n",
    "                                                            mother_age,\n",
    "                                                            mother_health,\n",
    "                                                            father_alive,\n",
    "                                                            father_age,\n",
    "                                                            father_health,\n",
    "                                                            dist_to_parents,\n",
    "                                                            sibling_present,\n",
    "                                                            #                                                                        lagged_choice,\n",
    "                                                            lagged_choice,\n",
    "                                                            exog_process,\n",
    "                                                        ]\n",
    "                                                        _state_space.append(\n",
    "                                                            row\n",
    "                                                    \n",
    "                                                        i += 1\n",
    "\n",
    "    state_space = np.array(_state_space, dtype=np.int64)\n",
    "\n",
    "    return state_space, map_state_to_index"
   ]
  },
  {
   "cell_type": "code",
   "execution_count": 3,
   "id": "82aad226",
   "metadata": {},
   "outputs": [],
   "source": [
    "def sparsity_condtion():\n",
    "    return"
   ]
  },
  {
   "cell_type": "code",
   "execution_count": null,
   "id": "58ff6d0f",
   "metadata": {},
   "outputs": [],
   "source": [
    "def update_endog_state():"
   ]
  },
  {
   "cell_type": "code",
   "execution_count": null,
   "id": "c4a3d270",
   "metadata": {},
   "outputs": [],
   "source": []
  },
  {
   "cell_type": "markdown",
   "id": "6ad0bf0e",
   "metadata": {},
   "source": [
    "# 2. Choices"
   ]
  },
  {
   "cell_type": "markdown",
   "id": "95809520",
   "metadata": {},
   "source": [
    "### Labor choices (3)\n",
    "\n",
    "- no work\n",
    "- part-time\n",
    "- full-time\n",
    "\n",
    "\n",
    "### Caregiving choices (6)\n",
    "\n",
    "- light informal + no formal\n",
    "- light informal + formal\n",
    "- intensive informal + no_formal\n",
    "- intensive informal + formal\n",
    "- no informal + formal\n",
    "- no informal + no formal (no care)"
   ]
  },
  {
   "cell_type": "markdown",
   "id": "3d3e3198",
   "metadata": {},
   "source": [
    "The outside care option (neither organize\n",
    "formal care nor organize formal care once care demand arises) captures that siblings, the more healthy\n",
    "parent or others organize or provide care to the parent. BFischer, p. 13"
   ]
  },
  {
   "cell_type": "code",
   "execution_count": 4,
   "id": "ea04ae0b",
   "metadata": {},
   "outputs": [
    {
     "data": {
      "text/plain": [
       "{0: ['no_work', 'no_informal_no_formal'],\n",
       " 1: ['no_work', 'no_informal_formal'],\n",
       " 2: ['no_work', 'light_informal_no_formal'],\n",
       " 3: ['no_work', 'light_informal_formal'],\n",
       " 4: ['no_work', 'intensive_informal_no_formal'],\n",
       " 5: ['no_work', 'intensive_informal_formal'],\n",
       " 6: ['part_time', 'no_informal_no_formal'],\n",
       " 7: ['part_time', 'no_informal_formal'],\n",
       " 8: ['part_time', 'light_informal_no_formal'],\n",
       " 9: ['part_time', 'light_informal_formal'],\n",
       " 10: ['part_time', 'intensive_informal_no_formal'],\n",
       " 11: ['part_time', 'intensive_informal_formal'],\n",
       " 12: ['full_time', 'no_informal_no_formal'],\n",
       " 13: ['full_time', 'no_informal_formal'],\n",
       " 14: ['full_time', 'light_informal_no_formal'],\n",
       " 15: ['full_time', 'light_informal_formal'],\n",
       " 16: ['full_time', 'intensive_informal_no_formal'],\n",
       " 17: ['full_time', 'intensive_informal_formal']}"
      ]
     },
     "execution_count": 4,
     "metadata": {},
     "output_type": "execute_result"
    }
   ],
   "source": [
    "labor = [\"no_work\", \"part_time\", \"full_time\"]\n",
    "caregiving = [\n",
    "    \"no_informal_no_formal\",\n",
    "    \"no_informal_formal\",\n",
    "    \"light_informal_no_formal\",\n",
    "    \"light_informal_formal\",\n",
    "    \"intensive_informal_no_formal\",\n",
    "    \"intensive_informal_formal\",\n",
    "]\n",
    "\n",
    "combinations_dict = {}\n",
    "\n",
    "for i, labor_element in enumerate(labor):\n",
    "    for j, caregiving_element in enumerate(caregiving):\n",
    "        key = i * len(caregiving) + j  # Generating unique keys\n",
    "        value = [labor_element, caregiving_element]\n",
    "        combinations_dict[key] = value\n",
    "        \n",
    "combinations_dict"
   ]
  },
  {
   "cell_type": "code",
   "execution_count": 5,
   "id": "e9ea8726",
   "metadata": {},
   "outputs": [],
   "source": [
    "formal = [\n",
    "    combinations_dict[1],\n",
    "    combinations_dict[3],\n",
    "    combinations_dict[5],\n",
    "    combinations_dict[7],\n",
    "    combinations_dict[9],\n",
    "    combinations_dict[11],\n",
    "    combinations_dict[13],\n",
    "    combinations_dict[15],\n",
    "    combinations_dict[17],\n",
    "    #combinations_dict[19],\n",
    "    #combinations_dict[21],\n",
    "    #combinations_dict[23],\n",
    "]\n",
    "\n",
    "light_informal = [\n",
    "    combinations_dict[2],\n",
    "    combinations_dict[3],\n",
    "    combinations_dict[8],\n",
    "    combinations_dict[9],\n",
    "    combinations_dict[14],\n",
    "    combinations_dict[15],\n",
    "    #combinations_dict[20],\n",
    "    #combinations_dict[21],\n",
    "]\n",
    "\n",
    "intensive_informal = [\n",
    "    combinations_dict[4],\n",
    "    combinations_dict[5],\n",
    "    combinations_dict[10],\n",
    "    combinations_dict[11],\n",
    "    combinations_dict[16],\n",
    "    combinations_dict[17],\n",
    "    #combinations_dict[22],\n",
    "    #combinations_dict[23],    \n",
    "]"
   ]
  },
  {
   "cell_type": "code",
   "execution_count": 6,
   "id": "5de03f0b",
   "metadata": {},
   "outputs": [
    {
     "data": {
      "text/plain": [
       "[['no_work', 'no_informal_formal'],\n",
       " ['no_work', 'light_informal_formal'],\n",
       " ['no_work', 'intensive_informal_formal'],\n",
       " ['part_time', 'no_informal_formal'],\n",
       " ['part_time', 'light_informal_formal'],\n",
       " ['part_time', 'intensive_informal_formal'],\n",
       " ['full_time', 'no_informal_formal'],\n",
       " ['full_time', 'light_informal_formal'],\n",
       " ['full_time', 'intensive_informal_formal']]"
      ]
     },
     "execution_count": 6,
     "metadata": {},
     "output_type": "execute_result"
    }
   ],
   "source": [
    "formal"
   ]
  },
  {
   "cell_type": "code",
   "execution_count": 7,
   "id": "8d67103c",
   "metadata": {},
   "outputs": [
    {
     "data": {
      "text/plain": [
       "[['no_work', 'light_informal_no_formal'],\n",
       " ['no_work', 'light_informal_formal'],\n",
       " ['part_time', 'light_informal_no_formal'],\n",
       " ['part_time', 'light_informal_formal'],\n",
       " ['full_time', 'light_informal_no_formal'],\n",
       " ['full_time', 'light_informal_formal']]"
      ]
     },
     "execution_count": 7,
     "metadata": {},
     "output_type": "execute_result"
    }
   ],
   "source": [
    "light_informal"
   ]
  },
  {
   "cell_type": "code",
   "execution_count": 8,
   "id": "68058ddf",
   "metadata": {},
   "outputs": [
    {
     "data": {
      "text/plain": [
       "[['no_work', 'intensive_informal_no_formal'],\n",
       " ['no_work', 'intensive_informal_formal'],\n",
       " ['part_time', 'intensive_informal_no_formal'],\n",
       " ['part_time', 'intensive_informal_formal'],\n",
       " ['full_time', 'intensive_informal_no_formal'],\n",
       " ['full_time', 'intensive_informal_formal']]"
      ]
     },
     "execution_count": 8,
     "metadata": {},
     "output_type": "execute_result"
    }
   ],
   "source": [
    "intensive_informal"
   ]
  },
  {
   "cell_type": "code",
   "execution_count": null,
   "id": "f06a450a",
   "metadata": {},
   "outputs": [],
   "source": []
  },
  {
   "cell_type": "code",
   "execution_count": null,
   "id": "7a359e07",
   "metadata": {},
   "outputs": [],
   "source": []
  },
  {
   "cell_type": "code",
   "execution_count": null,
   "id": "6a72c003",
   "metadata": {},
   "outputs": [],
   "source": []
  },
  {
   "cell_type": "code",
   "execution_count": null,
   "id": "303cada4",
   "metadata": {},
   "outputs": [],
   "source": []
  },
  {
   "cell_type": "code",
   "execution_count": 15,
   "id": "15d830f1",
   "metadata": {},
   "outputs": [],
   "source": [
    "formal_care = (choice % 2 == 1) # uneven numbers mark formal care\n",
    "light_informal_care = (choice in [2, 3, 8, 9, 14, 15])\n",
    "intensive_informal_care = (choice in [4, 5, 10, 11, 16, 17])\n",
    "\n",
    "no_work = (choice in [0, 1, 2, 3, 4, 5])\n",
    "part_time = (choice in [6, 7, 8, 9, 10, 11])\n",
    "full_time = (choice in [12, 13, 14, 15, 16, 17])"
   ]
  },
  {
   "cell_type": "code",
   "execution_count": null,
   "id": "a27f3b53",
   "metadata": {},
   "outputs": [],
   "source": []
  },
  {
   "cell_type": "code",
   "execution_count": 13,
   "id": "30470893",
   "metadata": {},
   "outputs": [],
   "source": [
    "def test_choice(choice):\n",
    "    formal_care = (choice % 2 == 1) # uneven numbers mark formal care\n",
    "    light_informal_care = (choice in [2, 3, 8, 9, 14, 15])\n",
    "    intensive_informal_care = (choice in [4, 5, 10, 11, 16, 17])\n",
    "    \n",
    "    # light and intensive can never be true at the same time: axis (1, 2)\n",
    "    \n",
    "    return light_informal_care, intensive_informal_care, formal_care"
   ]
  },
  {
   "cell_type": "code",
   "execution_count": 14,
   "id": "7c87d006",
   "metadata": {},
   "outputs": [
    {
     "name": "stdout",
     "output_type": "stream",
     "text": [
      "(False, False, False)\n",
      "(False, False, True)\n",
      "(True, False, False)\n",
      "(True, False, True)\n",
      "(False, True, False)\n",
      "(False, True, True)\n",
      "(False, False, False)\n",
      "(False, False, True)\n",
      "(True, False, False)\n",
      "(True, False, True)\n",
      "(False, True, False)\n",
      "(False, True, True)\n",
      "(False, False, False)\n",
      "(False, False, True)\n",
      "(True, False, False)\n",
      "(True, False, True)\n",
      "(False, True, False)\n",
      "(False, True, True)\n"
     ]
    }
   ],
   "source": [
    "n_choices = 18\n",
    "\n",
    "for choice in range(n_choices):\n",
    "    print(test_choice(choice))"
   ]
  },
  {
   "cell_type": "code",
   "execution_count": 12,
   "id": "ea98f8fa",
   "metadata": {},
   "outputs": [
    {
     "data": {
      "text/plain": [
       "{0: ['no_work', 'no_informal_no_formal'],\n",
       " 1: ['no_work', 'no_informal_formal'],\n",
       " 2: ['no_work', 'light_informal_no_formal'],\n",
       " 3: ['no_work', 'light_informal_formal'],\n",
       " 4: ['no_work', 'intensive_informal_no_formal'],\n",
       " 5: ['no_work', 'intensive_informal_formal'],\n",
       " 6: ['part_time', 'no_informal_no_formal'],\n",
       " 7: ['part_time', 'no_informal_formal'],\n",
       " 8: ['part_time', 'light_informal_no_formal'],\n",
       " 9: ['part_time', 'light_informal_formal'],\n",
       " 10: ['part_time', 'intensive_informal_no_formal'],\n",
       " 11: ['part_time', 'intensive_informal_formal'],\n",
       " 12: ['full_time', 'no_informal_no_formal'],\n",
       " 13: ['full_time', 'no_informal_formal'],\n",
       " 14: ['full_time', 'light_informal_no_formal'],\n",
       " 15: ['full_time', 'light_informal_formal'],\n",
       " 16: ['full_time', 'intensive_informal_no_formal'],\n",
       " 17: ['full_time', 'intensive_informal_formal']}"
      ]
     },
     "execution_count": 12,
     "metadata": {},
     "output_type": "execute_result"
    }
   ],
   "source": [
    "combinations_dict"
   ]
  },
  {
   "cell_type": "code",
   "execution_count": null,
   "id": "8db96837",
   "metadata": {},
   "outputs": [],
   "source": []
  },
  {
   "cell_type": "code",
   "execution_count": null,
   "id": "0b341e5f",
   "metadata": {},
   "outputs": [],
   "source": []
  },
  {
   "cell_type": "code",
   "execution_count": null,
   "id": "e1ce9cd4",
   "metadata": {},
   "outputs": [],
   "source": []
  },
  {
   "cell_type": "code",
   "execution_count": null,
   "id": "9482d214",
   "metadata": {},
   "outputs": [],
   "source": []
  },
  {
   "cell_type": "code",
   "execution_count": null,
   "id": "c830e50a",
   "metadata": {},
   "outputs": [],
   "source": []
  },
  {
   "cell_type": "code",
   "execution_count": null,
   "id": "1b0e97fe",
   "metadata": {},
   "outputs": [],
   "source": [
    "def utility_func_crra(consumption: jnp.array, choice: int, params: dict) -> jnp.array:\n",
    "    \"\"\"Computes the agent's current utility based on a CRRA utility function.\n",
    "\n",
    "    Args:\n",
    "        consumption (jnp.array): Level of the agent's consumption.\n",
    "            Array of shape (i) (n_quad_stochastic * n_grid_wealth,)\n",
    "            when called by :func:`~dcgm.call_egm_step.map_exog_to_endog_grid`\n",
    "            and :func:`~dcgm.call_egm_step.get_next_period_value`, or\n",
    "            (ii) of shape (n_grid_wealth,) when called by\n",
    "            :func:`~dcgm.call_egm_step.get_current_period_value`.\n",
    "        choice (int): Choice of the agent, e.g. 0 = \"retirement\", 1 = \"working\".\n",
    "        params (dict): Dictionary containing model parameters.\n",
    "            Relevant here is the CRRA coefficient theta.\n",
    "\n",
    "    Returns:\n",
    "        utility (jnp.array): Agent's utility . Array of shape\n",
    "            (n_quad_stochastic * n_grid_wealth,) or (n_grid_wealth,).\n",
    "\n",
    "    \"\"\"\n",
    "    theta = params[\"theta\"]\n",
    "\n",
    "    age = period  # + 50 # 55\n",
    "\n",
    "    care_demand = 0\n",
    "    unobserved_type = 0\n",
    "\n",
    "    formal_care = choice % 2 == 1  # uneven numbers mark formal care\n",
    "    light_informal_care = choice in [2, 3, 8, 9, 14, 15, 20, 21]\n",
    "    intensive_informal_care = choice in [4, 5, 10, 11, 16, 17, 22, 23]\n",
    "    any_informal_care = light_informal_care | intensive_informal_care\n",
    "\n",
    "    working_hours = part_time * 20 + full_time * 40\n",
    "    informal_caregiving_hours = light_informal_care * 10 + intensive_informal_care * 15\n",
    "    leisure_hours = 24 * 7 - working_hours - informal_caregiving_hours\n",
    "    # multiply to monthly level\n",
    "\n",
    "    utility_consumption = (consumption ** (1 - theta) - 1) / (1 - theta)\n",
    "\n",
    "    utility = (\n",
    "        utility_consumption\n",
    "        - (choice >= 6) * params[\"theta\"]  # choice: part-time or full-time\n",
    "        ## utility from leisure\n",
    "        * (params[\"utility_constant\"] + params[\"utility_age\"] * age)  #\n",
    "        * np.log(leisure_hours)\n",
    "        + care_demand * ()\n",
    "        ## utility from caregiving\n",
    "        + (\n",
    "            params[\"utility_light_informal\"] * light_informal_care\n",
    "            + params[\"utility_intensive_informal\"] * intensive_informal_care\n",
    "            + params[\"utility_formal\"] * formal_care\n",
    "            + params[\"utility_informal_and_formal\"]\n",
    "            * (formal_care & (light_informal_care | intensive_informal_care))\n",
    "        )\n",
    "    )\n",
    "\n",
    "    return utility"
   ]
  },
  {
   "cell_type": "code",
   "execution_count": 18,
   "id": "19e7dd75",
   "metadata": {},
   "outputs": [],
   "source": [
    "l = True\n",
    "i = False\n",
    "l = False\n",
    "\n",
    "a = l | i\n",
    "a"
   ]
  },
  {
   "cell_type": "code",
   "execution_count": null,
   "id": "c40a270a",
   "metadata": {},
   "outputs": [],
   "source": []
  },
  {
   "cell_type": "code",
   "execution_count": null,
   "id": "c65f2959",
   "metadata": {},
   "outputs": [],
   "source": []
  },
  {
   "cell_type": "code",
   "execution_count": null,
   "id": "34ac9d6c",
   "metadata": {},
   "outputs": [],
   "source": []
  },
  {
   "cell_type": "code",
   "execution_count": null,
   "id": "f67f1844",
   "metadata": {},
   "outputs": [],
   "source": [
    "def get_state_specific_feasible_choice_set(state_vec):\n",
    "    # state_vec including exog?\n",
    "    n_choices = indexer.shape[1]  # lagged_choice is a state variable\n",
    "\n",
    "    # no caregiving possible\n",
    "    if state[\"mother_alive\"] == 0 and state[\"father_alive\"] == 0:\n",
    "        feasible_choice_set = \n",
    "    else:\n",
    "        feasible_choice_set = np.arange(n_choices)\n",
    "\n",
    "    return feasible_choice_set"
   ]
  }
 ],
 "metadata": {
  "kernelspec": {
   "display_name": "Python 3 (ipykernel)",
   "language": "python",
   "name": "python3"
  },
  "language_info": {
   "codemirror_mode": {
    "name": "ipython",
    "version": 3
   },
   "file_extension": ".py",
   "mimetype": "text/x-python",
   "name": "python",
   "nbconvert_exporter": "python",
   "pygments_lexer": "ipython3",
   "version": "3.10.13"
  }
 },
 "nbformat": 4,
 "nbformat_minor": 5
}
