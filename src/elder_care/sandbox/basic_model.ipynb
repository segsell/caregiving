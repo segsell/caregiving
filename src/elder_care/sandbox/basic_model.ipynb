{
 "cells": [
  {
   "cell_type": "code",
   "execution_count": 3,
   "id": "5c0fabf0",
   "metadata": {},
   "outputs": [],
   "source": [
    "import numpy as np\n",
    "import jax.numpy as jnp\n",
    "import jax\n",
    "from itertools import product\n",
    "\n",
    "\n",
    "from typing import Dict\n",
    "from typing import Tuple"
   ]
  },
  {
   "cell_type": "code",
   "execution_count": 33,
   "id": "750ff352",
   "metadata": {},
   "outputs": [],
   "source": [
    "PARENT_MIN_AGE = 68\n",
    "PARENT_MAX_AGE = 98\n",
    "\n",
    "RETIREMENT_AGE = 62\n",
    "\n",
    "GOOD_HEALTH = 0\n",
    "MEDIUM_HEALTH = 0\n",
    "BAD_HEALTH = 0"
   ]
  },
  {
   "cell_type": "code",
   "execution_count": 35,
   "id": "52af6b22",
   "metadata": {},
   "outputs": [],
   "source": [
    "NO_WORK = [0, 1, 2, 3]\n",
    "PART_TIME = [4, 5, 6, 7]\n",
    "FULL_TIME = [8, 9, 10, 11]\n",
    "WORK = PART_TIME + FULL_TIME\n",
    "\n",
    "NO_CARE = [0, 4, 8]\n",
    "FORMAL_CARE = [1, 3, 5, 7, 9, 11]  # % 2 == 1\n",
    "INFORMAL_CARE = [2, 3, 6, 7, 10, 11]\n",
    "\n",
    "TOTAL_WEEKLY_HOURS = 80\n",
    "WEEKLY_INTENSIVE_INFORMAL_HOURS = 14  # (21 + 7) / 2"
   ]
  },
  {
   "cell_type": "code",
   "execution_count": 32,
   "id": "c214bea4",
   "metadata": {},
   "outputs": [],
   "source": [
    "def is_not_working(lagged_choice):\n",
    "    return lagged_choice in NO_WORK\n",
    "\n",
    "\n",
    "def is_part_time(lagged_choice):\n",
    "    return lagged_choice in PART_TIME\n",
    "\n",
    "\n",
    "def is_full_time(lagged_choice):\n",
    "    return lagged_choice in FULL_TIME\n",
    "\n",
    "\n",
    "def is_formal_care(lagged_choice):\n",
    "    return lagged_choice in FORMAL_CARE\n",
    "\n",
    "\n",
    "def is_informal_care(lagged_choice):\n",
    "    # intensive only here\n",
    "    return lagged_choice in INFORMAL_CARE"
   ]
  },
  {
   "cell_type": "code",
   "execution_count": null,
   "id": "42f46386",
   "metadata": {},
   "outputs": [],
   "source": []
  },
  {
   "cell_type": "markdown",
   "id": "2366f3ae",
   "metadata": {},
   "source": [
    "# 0. Exogenous Processes"
   ]
  },
  {
   "cell_type": "code",
   "execution_count": null,
   "id": "973bd723",
   "metadata": {},
   "outputs": [],
   "source": [
    "def probability_full_time_offer(period, lagged_choice, options, params):\n",
    "    \"\"\"Compute logit probability of full time offer.\"\"\"\n",
    "\n",
    "    logit = (\n",
    "        params[\"full_time_constant\"]\n",
    "        + params[\"full_time_not_working_last_period\"] * is_not_working(lagged_choice)\n",
    "        + params[\"full_time_working_part_time_last_period\"]\n",
    "        * is_part_time(lagged_choice)\n",
    "        + params[\"full_time_above_retirement_age\"]\n",
    "        * (period + options[\"min_age\"] >= RETIREMENT_AGE)\n",
    "        # + params[\"full_time_high_education\"] * high_educ\n",
    "    )\n",
    "\n",
    "    # _prob = jnp.exp(logit) / (1 + jnp.exp(logit))\n",
    "    prob_logit = 1 / (1 + jnp.exp(-logit))\n",
    "\n",
    "    return (\n",
    "        is_full_time(lagged_choice) * 1 + (1 - is_full_time(lagged_choice)) * prob_logit\n",
    "    )\n",
    "\n",
    "\n",
    "def probability_part_time_offer(period, lagged_choice, options, params):\n",
    "    \"\"\"Compute logit probability of part time offer.\"\"\"\n",
    "    logit = (\n",
    "        params[\"part_time_constant\"]\n",
    "        + params[\"part_time_not_working_last_period\"] * is_not_working(lagged_choice)\n",
    "        + params[\"part_time_working_part_time_last_period\"]\n",
    "        * is_part_time(lagged_choice)\n",
    "        + params[\"part_time_above_retirement_age\"]\n",
    "        * (period + options[\"min_age\"] >= RETIREMENT_AGE)\n",
    "        # + params[\"part_time_high_education\"] * high_educ\n",
    "    )\n",
    "    \n",
    "    prob_logit = 1 / (1 + jnp.exp(-logit))\n",
    "\n",
    "    return (\n",
    "        is_part_time(lagged_choice) * 1 + (1 - is_part_time(lagged_choice)) * prob_logit\n",
    "    )"
   ]
  },
  {
   "cell_type": "code",
   "execution_count": null,
   "id": "39d66cfc",
   "metadata": {},
   "outputs": [],
   "source": []
  },
  {
   "cell_type": "code",
   "execution_count": null,
   "id": "e25ccc6c",
   "metadata": {},
   "outputs": [],
   "source": [
    "def prob_survival_mother(mother_age, params):\n",
    "    \"\"\"Predicts the survival probability based on logit parameters.\n",
    "\n",
    "    coefs_male = np.array(\n",
    "        [11.561515476144223, -0.11058331994203506, -1.0998977981246952e-05],\n",
    "    )\n",
    "    coefs_female = np.array(\n",
    "        [17.01934835131644, -0.21245937682111807, 0.00047537366767865137],\n",
    "    )\n",
    "\n",
    "    if sex.lower() == \"male\":\n",
    "        coefs = coefs_male\n",
    "    elif sex.lower() == \"female\":\n",
    "        coefs = coefs_female\n",
    "\n",
    "    logit = coefs[0] + coefs[1] * age + coefs[2] * (age**2)\n",
    "\n",
    "    Parameters:\n",
    "        age (int): The age of the individual. Age >= 65.\n",
    "        sex (str): The gender of the individual ('male' or 'female').\n",
    "\n",
    "    Returns:\n",
    "        float: Predicted binary survival probability.\n",
    "\n",
    "    \"\"\"\n",
    "\n",
    "    logit = (\n",
    "        params[\"survival_probability_mother_constant\"]\n",
    "        + params[\"survival_probability_mother_age\"] * mother_age\n",
    "        + params[\"survival_probability_mother_age_squared\"] * (mother_age**2)\n",
    "    )\n",
    "\n",
    "    return 1 / (1 + jnp.exp(-logit))"
   ]
  },
  {
   "cell_type": "code",
   "execution_count": null,
   "id": "fd0d8a54",
   "metadata": {},
   "outputs": [],
   "source": [
    "def prob_survival_father(father_age, params):\n",
    "    \"\"\"Predicts the survival probability based on logit parameters.\n",
    "\n",
    "    coefs_male = np.array(\n",
    "        [11.561515476144223, -0.11058331994203506, -1.0998977981246952e-05],\n",
    "    )\n",
    "    coefs_female = np.array(\n",
    "        [17.01934835131644, -0.21245937682111807, 0.00047537366767865137],\n",
    "    )\n",
    "\n",
    "    if sex.lower() == \"male\":\n",
    "        coefs = coefs_male\n",
    "    elif sex.lower() == \"female\":\n",
    "        coefs = coefs_female\n",
    "\n",
    "    logit = coefs[0] + coefs[1] * age + coefs[2] * (age**2)\n",
    "\n",
    "    Parameters:\n",
    "        age (int): The age of the individual. Age >= 65.\n",
    "        sex (str): The gender of the individual ('male' or 'female').\n",
    "\n",
    "    Returns:\n",
    "        float: Predicted binary survival probability.\n",
    "\n",
    "    \"\"\"\n",
    "\n",
    "    logit = (\n",
    "        params[\"survival_probability_father_constant\"]\n",
    "        + params[\"survival_probability_father_age\"] * father_age\n",
    "        + params[\"survival_probability_father_age_squared\"] * (father_age**2)\n",
    "    )\n",
    "\n",
    "    return 1 / (1 + jnp.exp(-logit))"
   ]
  },
  {
   "cell_type": "code",
   "execution_count": 27,
   "id": "8b2b2853",
   "metadata": {},
   "outputs": [],
   "source": []
  },
  {
   "cell_type": "code",
   "execution_count": null,
   "id": "b89bf24e",
   "metadata": {},
   "outputs": [],
   "source": []
  },
  {
   "cell_type": "code",
   "execution_count": 34,
   "id": "73bb7711",
   "metadata": {},
   "outputs": [],
   "source": [
    "def exog_health_transition_mother(mother_age, mother_health, params):\n",
    "    \"\"\"Compute exogenous health transition probabilities.\n",
    "\n",
    "    Multinomial logit model with three health states: good, medium, bad.\n",
    "\n",
    "    This function computes the transition probabilities for an individual's health\n",
    "    state based on their current age, squared age, and lagged health states.\n",
    "    It uses a set of predefined parameters for medium and bad health states to\n",
    "    calculate linear combinations, and then applies the softmax function to these\n",
    "    linear combinations to get the transition probabilities.\n",
    "\n",
    "\n",
    "    Returns:\n",
    "        jnp.ndarray: Array of shape (3,) representing the probabilities of\n",
    "            transitioning to good, medium, and bad health states, respectively.\n",
    "\n",
    "    \"\"\"\n",
    "    # mother_age = period + options[\"min_age\"]\n",
    "    mother_age_squared = mother_age**2\n",
    "\n",
    "    good_health = mother_health == GOOD_HEALTH\n",
    "    medium_health = mother_health == MEDIUM_HEALTH\n",
    "    bad_health = mother_health == BAD_HEALTH\n",
    "\n",
    "    # Linear combination for medium health\n",
    "    lc_medium_health = (\n",
    "        params[\"mother_medium_health\"][\"medium_health_age\"] * mother_age\n",
    "        + params[\"mother_medium_health\"][\"medium_health_age_squared\"]\n",
    "        * mother_age_squared\n",
    "        + params[\"mother_medium_health\"][\"medium_health_lagged_good_health\"]\n",
    "        * good_health\n",
    "        + params[\"mother_medium_health\"][\"medium_health_lagged_medium_health\"]\n",
    "        * medium_health\n",
    "        + params[\"mother_medium_health\"][\"medium_health_lagged_bad_health\"] * bad_health\n",
    "        + params[\"mother_medium_health\"][\"medium_health_constant\"]\n",
    "    )\n",
    "\n",
    "    # Linear combination for bad health\n",
    "    lc_bad_health = (\n",
    "        params[\"mother_bad_health\"][\"bad_health_age\"] * mother_age\n",
    "        + params[\"mother_bad_health\"][\"bad_health_age_squared\"] * mother_age_squared\n",
    "        + params[\"mother_bad_health\"][\"bad_health_lagged_good_health\"] * good_health\n",
    "        + params[\"mother_bad_health\"][\"bad_health_lagged_medium_health\"] * medium_health\n",
    "        + params[\"mother_bad_health\"][\"bad_health_lagged_bad_health\"] * bad_health\n",
    "        + params[\"mother_bad_health\"][\"bad_health_constant\"]\n",
    "    )\n",
    "\n",
    "    linear_comb = np.array([0, lc_medium_health, lc_bad_health])\n",
    "    transition_probs = _softmax(linear_comb)\n",
    "\n",
    "    return jnp.array([transition_probs[0], transition_probs[1], transition_probs[2]])\n",
    "\n",
    "\n",
    "def exog_health_transition_father(father_age, father_health, params):\n",
    "    \"\"\"Compute exogenous health transition probabilities.\n",
    "\n",
    "    Multinomial logit model with three health states: good, medium, bad.\n",
    "\n",
    "    This function computes the transition probabilities for an individual's health\n",
    "    state based on their current age, squared age, and lagged health states.\n",
    "    It uses a set of predefined parameters for medium and bad health states to\n",
    "    calculate linear combinations, and then applies the softmax function to these\n",
    "    linear combinations to get the transition probabilities.\n",
    "\n",
    "\n",
    "    Returns:\n",
    "        jnp.ndarray: Array of shape (3,) representing the probabilities of\n",
    "            transitioning to good, medium, and bad health states, respectively.\n",
    "\n",
    "    \"\"\"\n",
    "    # father_age = period + options[\"min_age\"]\n",
    "    father_age_squared = father_age**2\n",
    "\n",
    "    good_health = father_health == GOOD_HEALTH\n",
    "    medium_health = father_health == MEDIUM_HEALTH\n",
    "    bad_health = father_health == BAD_HEALTH\n",
    "\n",
    "    # Linear combination for medium health\n",
    "    lc_medium_health = (\n",
    "        params[\"father_medium_health\"][\"medium_health_age\"] * father_age\n",
    "        + params[\"father_medium_health\"][\"medium_health_age_squared\"] * father_age_squared\n",
    "        + params[\"father_medium_health\"][\"medium_health_lagged_good_health\"] * good_health\n",
    "        + params[\"father_medium_health\"][\"medium_health_lagged_medium_health\"] * medium_health\n",
    "        + params[\"father_medium_health\"][\"medium_health_lagged_bad_health\"] * bad_health\n",
    "        + params[\"father_medium_health\"][\"medium_health_constant\"]\n",
    "    )\n",
    "\n",
    "    # Linear combination for bad health\n",
    "    lc_bad_health = (\n",
    "        params[\"father_bad_health\"][\"bad_health_age\"] * father_age\n",
    "        + params[\"father_bad_health\"][\"bad_health_age_squared\"] * father_age_squared\n",
    "        + params[\"father_bad_health\"][\"bad_health_lagged_good_health\"] * good_health\n",
    "        + params[\"father_bad_health\"][\"bad_health_lagged_medium_health\"] * medium_health\n",
    "        + params[\"father_bad_health\"][\"bad_health_lagged_bad_health\"] * bad_health\n",
    "        + params[\"father_bad_health\"][\"bad_health_constant\"]\n",
    "    )\n",
    "\n",
    "    linear_comb = np.array([0, lc_medium_health, lc_bad_health])\n",
    "    transition_probs = _softmax(linear_comb)\n",
    "\n",
    "    return jnp.array([transition_probs[0], transition_probs[1], transition_probs[2]])\n",
    "\n",
    "\n",
    "def _softmax(lc):\n",
    "    \"\"\"Compute the softmax of each element in an array of linear combinations.\n",
    "\n",
    "    The softmax function is applied to an array of linear combination values (lc)\n",
    "    to calculate the probabilities of each class in a multinomial logistic\n",
    "    regression model.\n",
    "    This function is typically used for multi-class classification problems.\n",
    "\n",
    "    Args:\n",
    "        lc (np.ndarray): An array of linear combination values. This can be a 1D array\n",
    "            representing linear combinations for each class in a single data point,\n",
    "            or a 2D array representing multiple data points.\n",
    "\n",
    "    Returns:\n",
    "        np.ndarray: An array of the same shape as `lc` where each value is transformed\n",
    "            into the probability of the corresponding class, ensuring that the sum of\n",
    "            probabilities across classes (for each data point if 2D) equals 1.\n",
    "\n",
    "    Example:\n",
    "    >>> lc = np.array([0, 1, 2])\n",
    "    >>> softmax(lc)\n",
    "    array([0.09003057, 0.24472847, 0.66524096])\n",
    "\n",
    "    Note:\n",
    "    - The function applies np.exp to each element in `lc` and then normalizes so that\n",
    "      the sum of these exponentials is 1.\n",
    "    - For numerical stability, the maximum value in each set of linear combinations\n",
    "      is subtracted from each linear combination before exponentiation.\n",
    "\n",
    "    \"\"\"\n",
    "    e_lc = np.exp(lc - np.max(lc))  # Subtract max for numerical stability\n",
    "    return e_lc / e_lc.sum(axis=0)"
   ]
  },
  {
   "cell_type": "code",
   "execution_count": null,
   "id": "6753aba8",
   "metadata": {},
   "outputs": [],
   "source": []
  },
  {
   "cell_type": "code",
   "execution_count": null,
   "id": "618913d4",
   "metadata": {},
   "outputs": [],
   "source": [
    "def prob_care_demand_mother(\n",
    "    mother_age,\n",
    "    mother_alive,\n",
    "    mother_health,\n",
    "    options,\n",
    "    params,\n",
    "):\n",
    "    \"\"\"Create nested exogenous care demand probabilities.\n",
    "\n",
    "    Compute based on parent alive. Otherwise zero.\n",
    "    Done outside?!\n",
    "\n",
    "    Nested exogenous transitions:\n",
    "    - First, a parent's health state is determined by their age and lagged health state.\n",
    "\n",
    "    Args:\n",
    "        parental_age (int): Age of parent.\n",
    "        parent_alive (int): Binary indicator of whether parent is alive.\n",
    "        good_health (int): Binary indicator of good health.\n",
    "        medium_health (int): Binary indicator of medium health.\n",
    "        bad_health (int): Binary indicator of bad health.\n",
    "        params (dict): Dictionary of parameters.\n",
    "\n",
    "    Returns:\n",
    "        jnp.ndarray: Array of shape (2,) representing the probabilities of\n",
    "            no care demand and care demand, respectively.\n",
    "\n",
    "    \"\"\"\n",
    "\n",
    "    good_health = mother_health == GOOD_HEALTH\n",
    "    medium_health = mother_health == MEDIUM_HEALTH\n",
    "    bad_health = mother_health == BAD_HEALTH\n",
    "\n",
    "    survival_prob = prob_survival_mother(mother_age, options)  # mother\n",
    "\n",
    "    trans_probs_health = exog_health_transition_mother(\n",
    "        mother_age,\n",
    "        mother_health,\n",
    "        options,\n",
    "        params,\n",
    "    )\n",
    "    # parent alive?\n",
    "\n",
    "    prob_care_good = _exog_care_demand_mother(\n",
    "        mother_age=mother_age, mother_health=0, options=options, params=params\n",
    "    )\n",
    "    prob_care_medium = _exog_care_demand_mother(\n",
    "        mother_age=mother_age, parental_health=1, options=options, params=params\n",
    "    )\n",
    "    prob_care_bad = _exog_care_demand_mother(\n",
    "        mother_age=mother_age, mother_health=2, options=options, params=params\n",
    "    )\n",
    "\n",
    "    _trans_probs_care_demand = jnp.array(\n",
    "        [prob_care_bad, prob_care_medium, prob_care_good],\n",
    "    )\n",
    "\n",
    "    # Non-zero probability of care demand only if parent is alive,\n",
    "    # weighted by the parent's survival probability\n",
    "    prob_care_demand = (survival_prob * mother_alive) * (\n",
    "        trans_probs_health @ _trans_probs_care_demand\n",
    "    )\n",
    "\n",
    "    return jnp.array([1 - prob_care_demand, prob_care_demand])\n",
    "\n",
    "\n",
    "def _exog_care_demand_mother(mother_age, mother_health, params):\n",
    "    \"\"\"Compute scalar care demand probability.\n",
    "\n",
    "    Returns:\n",
    "        float: Probability of needing care given health state.\n",
    "\n",
    "    \"\"\"\n",
    "    logit = (\n",
    "        params[\"exog_care_mother_constant\"]\n",
    "        + params[\"exog_care_mother_age\"] * mother_age\n",
    "        + params[\"exog_care_mother_age_squared\"] * (mother_age**2)\n",
    "        + params[\"exog_care_mother_medium_health\"] * (mother_health == MEDIUM_HEALTH)\n",
    "        + params[\"exog_care_mother_bad_health\"] * (mother_health == BAD_HEALTH)\n",
    "    )\n",
    "    return 1 / (1 + np.exp(-logit))"
   ]
  },
  {
   "cell_type": "code",
   "execution_count": null,
   "id": "bc45affe",
   "metadata": {},
   "outputs": [],
   "source": [
    "def prob_care_demand_father(\n",
    "    father_age,\n",
    "    father_alive,\n",
    "    father_health,\n",
    "    options,\n",
    "    params,\n",
    "):\n",
    "    \"\"\"Create nested exogenous care demand probabilities.\n",
    "\n",
    "    Compute based on parent alive. Otherwise zero.\n",
    "    Done outside?!\n",
    "\n",
    "    Nested exogenous transitions:\n",
    "    - First, a parent's health state is determined by their age and lagged health state.\n",
    "\n",
    "    Args:\n",
    "        parental_age (int): Age of parent.\n",
    "        parent_alive (int): Binary indicator of whether parent is alive.\n",
    "        good_health (int): Binary indicator of good health.\n",
    "        medium_health (int): Binary indicator of medium health.\n",
    "        bad_health (int): Binary indicator of bad health.\n",
    "        params (dict): Dictionary of parameters.\n",
    "\n",
    "    Returns:\n",
    "        jnp.ndarray: Array of shape (2,) representing the probabilities of\n",
    "            no care demand and care demand, respectively.\n",
    "\n",
    "    \"\"\"\n",
    "\n",
    "    good_health = mother_health == GOOD_HEALTH\n",
    "    medium_health = mother_health == MEDIUM_HEALTH\n",
    "    bad_health = mother_health == BAD_HEALTH\n",
    "\n",
    "    survival_prob = prob_survival_mother(father_age, options)  # mother\n",
    "\n",
    "    trans_probs_health = exog_health_transition_father(\n",
    "        father_age,\n",
    "        father_health,\n",
    "        options,\n",
    "        params,\n",
    "    )\n",
    "    # parent alive?\n",
    "\n",
    "    prob_care_good = _exog_care_demand_father(\n",
    "        father_age=father_age, father_health=0, options=options, params=params\n",
    "    )\n",
    "    prob_care_medium = _exog_care_demand_mother(\n",
    "        father_age=father_age, father_health=1, options=options, params=params\n",
    "    )\n",
    "    prob_care_bad = _exog_care_demand_mother(\n",
    "        father_age=father_age, fathermother_health=2, options=options, params=params\n",
    "    )\n",
    "\n",
    "    _trans_probs_care_demand = jnp.array(\n",
    "        [prob_care_bad, prob_care_medium, prob_care_good],\n",
    "    )\n",
    "\n",
    "    # Non-zero probability of care demand only if parent is alive,\n",
    "    # weighted by the parent's survival probability\n",
    "    prob_care_demand = (survival_prob * father_alive) * (\n",
    "        trans_probs_health @ _trans_probs_care_demand\n",
    "    )\n",
    "\n",
    "    return jnp.array([1 - prob_care_demand, prob_care_demand])\n",
    "\n",
    "\n",
    "def _exog_care_demand_mother(father_age, father_health, params):\n",
    "    \"\"\"Compute scalar care demand probability.\n",
    "\n",
    "    Returns:\n",
    "        float: Probability of needing care given health state.\n",
    "\n",
    "    \"\"\"\n",
    "    logit = (\n",
    "        params[\"exog_care_father_constant\"]\n",
    "        + params[\"exog_care_father_age\"] * father_age\n",
    "        + params[\"exog_care_father_age_squared\"] * (father_age**2)\n",
    "        + params[\"exog_care_father_medium_health\"] * (mother_health == MEDIUM_HEALTH)\n",
    "        + params[\"exog_care_father_bad_health\"] * (mother_health == BAD_HEALTH)\n",
    "    )\n",
    "    return 1 / (1 + np.exp(-logit))"
   ]
  },
  {
   "cell_type": "code",
   "execution_count": null,
   "id": "ad224ecf",
   "metadata": {},
   "outputs": [],
   "source": []
  },
  {
   "cell_type": "markdown",
   "id": "0a160d86",
   "metadata": {},
   "source": [
    "# 1. State Space"
   ]
  },
  {
   "cell_type": "code",
   "execution_count": 24,
   "id": "60fc7f8e",
   "metadata": {},
   "outputs": [],
   "source": [
    "model_params = {\n",
    "    \"quadrature_points_stochastic\": 5,\n",
    "    \"min_age\": 50,\n",
    "    \"max_age\": 65,\n",
    "    \"consumption_floor\": 400,\n",
    "    \"unemployment_benefits\": 500,\n",
    "    \"informal_care_benefits\": 444.0466,  # 0.4239 * 316 + 0.2793 * 545 + 728 *0.1405 + 901 * 0.0617\n",
    "    \"formal_care_costs\": 118.10658099999999,  # >>> 79.31 * 0.0944 + 0.4239 * 70.77 + 0.2793 * 176.16 + 224.26 *0.1401\n",
    "    \"interest_rate\": 0.04,  # Adda et al (2017)\n",
    "    \"choices\": np.arange(12),\n",
    "    # ===================\n",
    "    # EXOGENOUS PROCESSES\n",
    "    # ===================\n",
    "    # survival probability\n",
    "    \"survival_probability_mother_constant\": 17.01934835131644,\n",
    "    \"survival_probability_mother_age\": -0.21245937682111807,\n",
    "    \"survival_probability_mother_age_squared\": 0.00047537366767865137,\n",
    "    \"survival_probability_father_constant\": 11.561515476144223,\n",
    "    \"survival_probability_father_age\": -0.11058331994203506,\n",
    "    \"survival_probability_father_age_squared\": -1.0998977981246952e-05,\n",
    "    # health\n",
    "    \"medium_health_mother\": {\n",
    "        \"medium_health_age\": 0.0304,\n",
    "        \"medium_health_age_squared\": -1.31e-05,\n",
    "        \"medium_health_lagged_good_health\": -1.155,\n",
    "        \"medium_health_lagged_medium_health\": 0.736,\n",
    "        \"medium_health_lagged_bad_health\": 1.434,\n",
    "        \"medium_health_constant\": -1.550,\n",
    "    },\n",
    "    \"bad_health_mother\": {\n",
    "        \"bad_health_age\": 0.196,\n",
    "        \"bad_health_age_squared\": -0.000885,\n",
    "        \"bad_health_lagged_good_health\": -2.558,\n",
    "        \"bad_health_lagged_medium_health\": -0.109,\n",
    "        \"bad_health_lagged_bad_health\": 2.663,\n",
    "        \"bad_health_constant\": -9.220,\n",
    "    },\n",
    "    \"medium_health_father\": {\n",
    "        \"medium_health_age\": 0.176,\n",
    "        \"medium_health_age_squared\": -0.000968,\n",
    "        \"medium_health_lagged_good_health\": -1.047,\n",
    "        \"medium_health_lagged_medium_health\": 1.016,\n",
    "        \"medium_health_lagged_bad_health\": 1.743,\n",
    "        \"medium_health_constant\": -7.374,\n",
    "    },\n",
    "    \"bad_health_father\": {\n",
    "        \"bad_health_age\": 0.260,\n",
    "        \"bad_health_age_squared\": -0.00134,\n",
    "        \"bad_health_lagged_good_health\": -2.472,\n",
    "        \"bad_health_lagged_medium_health\": 0.115,\n",
    "        \"bad_health_lagged_bad_health\": 3.067,\n",
    "        \"bad_health_constant\": -11.89,\n",
    "    },\n",
    "    # TODO: care demand\n",
    "    \"exog_care_mother_constant\": 0,\n",
    "    \"exog_care_mother_age\": 0,\n",
    "    \"exog_care_mother_age_squared\": 0,\n",
    "    \"exog_care_mother_medium_health\": 0,\n",
    "    \"exog_care_mother_bad_health\": 0,\n",
    "    #\n",
    "    \"exog_care_mother_constant\": 0,\n",
    "    \"exog_care_father_age\": 0,\n",
    "    \"exog_care_father_age_squared\": 0,\n",
    "    \"exog_care_father_medium_health\": 0,\n",
    "    \"exog_care_father_bad_health\": 0,\n",
    "}"
   ]
  },
  {
   "cell_type": "code",
   "execution_count": 26,
   "id": "278400ca",
   "metadata": {},
   "outputs": [],
   "source": [
    "options = {\n",
    "    \"state_space\": {\n",
    "        \"n_periods\": 30,\n",
    "        \"choices\": np.arange(12),\n",
    "        \"endogenous_states\": {\n",
    "            \"married\": np.arange(2),\n",
    "            \"has_sibling\": np.arange(2),\n",
    "            \"mother_age\": np.arange(start=PARENT_MIN_AGE, stop=PARENT_MAX_AGE),\n",
    "            \"father_age\": np.arange(start=PARENT_MIN_AGE, stop=PARENT_MAX_AGE),\n",
    "            # \"mother_alive\": np.arange(2),\n",
    "            # \"father_alive\": np.arange(2),\n",
    "            # \"mother_health\": np.arange(3),\n",
    "            # \"father_health\": np.arange(3),\n",
    "        },\n",
    "        \"exogenous_processes\": {\n",
    "            \"prob_part_time_offer\": {\n",
    "                \"states\": np.arange(2),\n",
    "                \"transition\": jnp.array([0]),\n",
    "            },\n",
    "            \"prob_full_time_offer\": {\n",
    "                \"states\": np.arange(2),\n",
    "                \"transition\": jnp.array([0]),\n",
    "            },\n",
    "            \"prob_care_demand\": {\"states\": np.arange(2), \"transition\": jnp.array([0])},\n",
    "            \"prob_mother_alive\": {\"states\": np.arange(2), \"transition\": jnp.array([0])},\n",
    "            \"prob_father_alive\": {\n",
    "                \"states\": np.arange(2),\n",
    "                \"transition\": jnp.array([0]),\n",
    "            },\n",
    "            \"health_transition_mother\": {\n",
    "                \"states\": np.arange(3),\n",
    "                \"transition\": jnp.array([0]),\n",
    "            },\n",
    "            \"health_transition_father\": {\n",
    "                \"states\": np.arange(3),\n",
    "                \"transition\": jnp.array([0]),\n",
    "            },\n",
    "        },\n",
    "    },\n",
    "}"
   ]
  },
  {
   "cell_type": "markdown",
   "id": "aaaa0519",
   "metadata": {},
   "source": [
    "def sparsity_condtion(\n",
    "    mother_age, father_age, mother_alive, father_alive, mother_health, father_health\n",
    "):\n",
    "    if (mother_alive == 0) & (mother_age >= 0):\n",
    "        return False\n",
    "    elif (father_alive == 0) & (father_age >= 0):\n",
    "        return False\n",
    "    # set mother and father health to -1 if not alive\n",
    "    elif (mother_alive == 0) & (mother_health >= 0):\n",
    "        return False\n",
    "    elif (father_alive == 0) & (father_health >= 0):\n",
    "        return False\n",
    "    else:\n",
    "        return True"
   ]
  },
  {
   "cell_type": "code",
   "execution_count": null,
   "id": "b221ffdb",
   "metadata": {},
   "outputs": [],
   "source": [
    "def update_endog_state(\n",
    "    period,\n",
    "    married,\n",
    "    has_sister,\n",
    "    mother_age,\n",
    "    father_age,\n",
    "    choice,\n",
    "):\n",
    "    next_state = {}\n",
    "    \n",
    "    next_state[\"period\"] = period + 1\n",
    "    next_state[\"lagged_choice\"] = choice\n",
    "    \n",
    "    next_state[\"mother_age\"] = mother_age + 1\n",
    "    next_state[\"father_age\"] = father_age + 1\n",
    "    \n",
    "    # alive based on exog state\n",
    "    \n",
    "    # health based on exog state\n",
    "    \n",
    "    return next_state"
   ]
  },
  {
   "cell_type": "code",
   "execution_count": 11,
   "id": "b5669ef2",
   "metadata": {},
   "outputs": [
    {
     "data": {
      "text/plain": [
       "array([68, 69, 70, 71, 72, 73, 74, 75, 76, 77, 78, 79, 80, 81, 82, 83, 84,\n",
       "       85, 86, 87, 88, 89, 90, 91, 92, 93, 94, 95, 96, 97])"
      ]
     },
     "execution_count": 11,
     "metadata": {},
     "output_type": "execute_result"
    }
   ],
   "source": [
    "np.arange(start=68, stop=98)"
   ]
  },
  {
   "cell_type": "code",
   "execution_count": null,
   "id": "22791b9f",
   "metadata": {},
   "outputs": [],
   "source": []
  },
  {
   "cell_type": "code",
   "execution_count": null,
   "id": "6d6800c6",
   "metadata": {},
   "outputs": [],
   "source": []
  },
  {
   "cell_type": "code",
   "execution_count": null,
   "id": "7c5f5a88",
   "metadata": {},
   "outputs": [],
   "source": []
  },
  {
   "cell_type": "markdown",
   "id": "9aeef95d",
   "metadata": {},
   "source": [
    "# 2. Choices"
   ]
  },
  {
   "cell_type": "markdown",
   "id": "473a4b8c",
   "metadata": {},
   "source": [
    "### Labor choices (3)\n",
    "\n",
    "- no work\n",
    "- part-time\n",
    "- full-time\n",
    "\n",
    "\n",
    "### Caregiving choices (4)\n",
    "\n",
    "- no informal + formal\n",
    "- no informal + no formal (no care)\n",
    "- intensive informal + no_formal\n",
    "- intensive informal + formal"
   ]
  },
  {
   "cell_type": "markdown",
   "id": "e0fb1687",
   "metadata": {},
   "source": [
    "The outside care option (neither organize\n",
    "formal care nor organize formal care once care demand arises) captures that siblings, the more healthy\n",
    "parent or others organize or provide care to the parent. BFischer, p. 13"
   ]
  },
  {
   "cell_type": "code",
   "execution_count": 85,
   "id": "73fb225d",
   "metadata": {},
   "outputs": [],
   "source": []
  },
  {
   "cell_type": "code",
   "execution_count": 68,
   "id": "04994947",
   "metadata": {},
   "outputs": [
    {
     "data": {
      "text/plain": [
       "{0: ['no_work', 'no_informal_no_formal'],\n",
       " 1: ['no_work', 'no_informal_formal'],\n",
       " 2: ['no_work', 'intensive_informal_no_formal'],\n",
       " 3: ['no_work', 'intensive_informal_formal'],\n",
       " 4: ['part_time', 'no_informal_no_formal'],\n",
       " 5: ['part_time', 'no_informal_formal'],\n",
       " 6: ['part_time', 'intensive_informal_no_formal'],\n",
       " 7: ['part_time', 'intensive_informal_formal'],\n",
       " 8: ['full_time', 'no_informal_no_formal'],\n",
       " 9: ['full_time', 'no_informal_formal'],\n",
       " 10: ['full_time', 'intensive_informal_no_formal'],\n",
       " 11: ['full_time', 'intensive_informal_formal']}"
      ]
     },
     "execution_count": 68,
     "metadata": {},
     "output_type": "execute_result"
    }
   ],
   "source": [
    "labor = [\"no_work\", \"part_time\", \"full_time\"]\n",
    "caregiving = [\n",
    "    \"no_informal_no_formal\",\n",
    "    \"no_informal_formal\",\n",
    "    \"intensive_informal_no_formal\",\n",
    "    \"intensive_informal_formal\",\n",
    "]\n",
    "\n",
    "combinations_dict = {}\n",
    "\n",
    "for i, labor_element in enumerate(labor):\n",
    "    for j, caregiving_element in enumerate(caregiving):\n",
    "        key = i * len(caregiving) + j  # Generating unique keys\n",
    "        value = [labor_element, caregiving_element]\n",
    "        combinations_dict[key] = value\n",
    "\n",
    "combinations_dict"
   ]
  },
  {
   "cell_type": "code",
   "execution_count": 69,
   "id": "e6862aed",
   "metadata": {},
   "outputs": [],
   "source": [
    "formal = [\n",
    "    combinations_dict[1],\n",
    "    combinations_dict[3],\n",
    "    combinations_dict[5],\n",
    "    combinations_dict[7],\n",
    "    combinations_dict[9],\n",
    "    combinations_dict[11],\n",
    "]\n",
    "\n",
    "intensive_informal = [\n",
    "    combinations_dict[2],\n",
    "    combinations_dict[3],\n",
    "    combinations_dict[6],\n",
    "    combinations_dict[7],\n",
    "    combinations_dict[10],\n",
    "    combinations_dict[11],\n",
    "]"
   ]
  },
  {
   "cell_type": "code",
   "execution_count": 70,
   "id": "e757e4b5",
   "metadata": {},
   "outputs": [
    {
     "data": {
      "text/plain": [
       "[['no_work', 'no_informal_formal'],\n",
       " ['no_work', 'intensive_informal_formal'],\n",
       " ['part_time', 'no_informal_formal'],\n",
       " ['part_time', 'intensive_informal_formal'],\n",
       " ['full_time', 'no_informal_formal'],\n",
       " ['full_time', 'intensive_informal_formal']]"
      ]
     },
     "execution_count": 70,
     "metadata": {},
     "output_type": "execute_result"
    }
   ],
   "source": [
    "formal"
   ]
  },
  {
   "cell_type": "code",
   "execution_count": 71,
   "id": "e5b3be2f",
   "metadata": {},
   "outputs": [
    {
     "data": {
      "text/plain": [
       "[['no_work', 'intensive_informal_no_formal'],\n",
       " ['no_work', 'intensive_informal_formal'],\n",
       " ['part_time', 'intensive_informal_no_formal'],\n",
       " ['part_time', 'intensive_informal_formal'],\n",
       " ['full_time', 'intensive_informal_no_formal'],\n",
       " ['full_time', 'intensive_informal_formal']]"
      ]
     },
     "execution_count": 71,
     "metadata": {},
     "output_type": "execute_result"
    }
   ],
   "source": [
    "intensive_informal"
   ]
  },
  {
   "cell_type": "code",
   "execution_count": null,
   "id": "56bdf18b",
   "metadata": {},
   "outputs": [],
   "source": []
  },
  {
   "cell_type": "code",
   "execution_count": 72,
   "id": "5b2e86bd",
   "metadata": {},
   "outputs": [],
   "source": [
    "formal_care = choice % 2 == 1  # uneven numbers mark formal care\n",
    "intensive_informal_care = choice in INFORMAL_CARE\n",
    "\n",
    "no_work = choice in NO_WORK\n",
    "part_time = choice in PART_TIME\n",
    "full_time = choice in FULL_TIME"
   ]
  },
  {
   "cell_type": "code",
   "execution_count": 73,
   "id": "01538788",
   "metadata": {},
   "outputs": [],
   "source": [
    "def test_choice(choice):\n",
    "    formal_care = choice % 2 == 1  # uneven numbers mark formal care\n",
    "    intensive_informal_care = choice in INFORMAL_CARE\n",
    "\n",
    "    return intensive_informal_care, formal_care"
   ]
  },
  {
   "cell_type": "code",
   "execution_count": 74,
   "id": "24028576",
   "metadata": {},
   "outputs": [
    {
     "name": "stdout",
     "output_type": "stream",
     "text": [
      "(False, False)\n",
      "(False, True)\n",
      "(True, False)\n",
      "(True, True)\n",
      "(False, False)\n",
      "(False, True)\n",
      "(True, False)\n",
      "(True, True)\n",
      "(False, False)\n",
      "(False, True)\n",
      "(True, False)\n",
      "(True, True)\n"
     ]
    }
   ],
   "source": [
    "n_choices = 12\n",
    "\n",
    "for choice in range(n_choices):\n",
    "    print(test_choice(choice))"
   ]
  },
  {
   "cell_type": "code",
   "execution_count": 75,
   "id": "50decccf",
   "metadata": {},
   "outputs": [
    {
     "data": {
      "text/plain": [
       "{0: ['no_work', 'no_informal_no_formal'],\n",
       " 1: ['no_work', 'no_informal_formal'],\n",
       " 2: ['no_work', 'intensive_informal_no_formal'],\n",
       " 3: ['no_work', 'intensive_informal_formal'],\n",
       " 4: ['part_time', 'no_informal_no_formal'],\n",
       " 5: ['part_time', 'no_informal_formal'],\n",
       " 6: ['part_time', 'intensive_informal_no_formal'],\n",
       " 7: ['part_time', 'intensive_informal_formal'],\n",
       " 8: ['full_time', 'no_informal_no_formal'],\n",
       " 9: ['full_time', 'no_informal_formal'],\n",
       " 10: ['full_time', 'intensive_informal_no_formal'],\n",
       " 11: ['full_time', 'intensive_informal_formal']}"
      ]
     },
     "execution_count": 75,
     "metadata": {},
     "output_type": "execute_result"
    }
   ],
   "source": [
    "combinations_dict"
   ]
  },
  {
   "cell_type": "code",
   "execution_count": null,
   "id": "7d773069",
   "metadata": {},
   "outputs": [],
   "source": []
  },
  {
   "cell_type": "code",
   "execution_count": null,
   "id": "6256e651",
   "metadata": {},
   "outputs": [],
   "source": []
  },
  {
   "cell_type": "code",
   "execution_count": 76,
   "id": "ca6f0c05",
   "metadata": {},
   "outputs": [],
   "source": [
    "MIN_AGE = 50"
   ]
  },
  {
   "cell_type": "code",
   "execution_count": 77,
   "id": "b2016946",
   "metadata": {},
   "outputs": [],
   "source": [
    "def utility_func(\n",
    "    consumption: jnp.array, period, choice: int, options: dict, params: dict\n",
    ") -> jnp.array:\n",
    "    \"\"\"Computes the agent's current utility based on a CRRA utility function.\n",
    "\n",
    "    Args:\n",
    "        consumption (jnp.array): Level of the agent's consumption.\n",
    "            Array of shape (i) (n_quad_stochastic * n_grid_wealth,)\n",
    "            when called by :func:`~dcgm.call_egm_step.map_exog_to_endog_grid`\n",
    "            and :func:`~dcgm.call_egm_step.get_next_period_value`, or\n",
    "            (ii) of shape (n_grid_wealth,) when called by\n",
    "            :func:`~dcgm.call_egm_step.get_current_period_value`.\n",
    "        choice (int): Choice of the agent, e.g. 0 = \"retirement\", 1 = \"working\".\n",
    "        params (dict): Dictionary containing model parameters.\n",
    "            Relevant here is the CRRA coefficient theta.\n",
    "\n",
    "    Returns:\n",
    "        utility (jnp.array): Agent's utility . Array of shape\n",
    "            (n_quad_stochastic * n_grid_wealth,) or (n_grid_wealth,).\n",
    "\n",
    "    \"\"\"\n",
    "    theta = params[\"theta\"]\n",
    "    age = period + options[\"min_age\"]\n",
    "\n",
    "    intensive_informal_care = is_informal_care(choice)\n",
    "    formal_care = is_formal_care(choice)\n",
    "    part_time = is_part_time(choice)\n",
    "    full_time = is_full_time(choice)\n",
    "\n",
    "    working_hours = (\n",
    "        part_time * WEEKLY_HOURS_PART_TIME + full_time * WEEKLY_HOURS_FULL_TIME\n",
    "    )\n",
    "    # From SOEP data we know that the 25% and 75% percentile in the care hours\n",
    "    # distribution are 7 and 21 hours per week in a comparative sample.\n",
    "    # We use these discrete mass-points as discrete choices of non-intensive and\n",
    "    # intensive informal care.\n",
    "    # In SHARE, respondents inform about the frequency with which they provide\n",
    "    # informal care. We use this information to proxy the care provision in the data.\n",
    "    caregiving_hours = intensive_informal_care * WEEKLY_INTENSIVE_INFORMAL_HOURS\n",
    "    leisure_hours = (TOTAL_WEEKLY_HOURS - working_hours - caregiving_hours) * 4.33\n",
    "\n",
    "    utility_consumption = (consumption ** (1 - theta) - 1) / (1 - theta)\n",
    "\n",
    "    # age is a proxy for health impacting the taste for free-time.\n",
    "    utility_leisure = (\n",
    "        params[\"utility_leisure_constant\"]\n",
    "        + params[\"utility_leisure_age\"] * (age - MIN_AGE)\n",
    "    ) * np.log(leisure_hours)\n",
    "\n",
    "    return (\n",
    "        utility_consumption\n",
    "        - params[\"disutility_part_time\"] * part_time\n",
    "        - params[\"disutility_full_time\"] * full_time\n",
    "        + utility_leisure\n",
    "        ## utility from caregiving\n",
    "        + options[\"utility_informal_care\"] * intensive_informal_care\n",
    "        + options[\"utility_formal_care\"] * formal_care\n",
    "        + options[\"utility_informal_and_formal_care\"]\n",
    "        * (formal_care & intensive_informal_care)\n",
    "    )"
   ]
  },
  {
   "cell_type": "code",
   "execution_count": null,
   "id": "046657f3",
   "metadata": {},
   "outputs": [],
   "source": [
    "def marginal_utility(consumption, params):\n",
    "    return consumption ** -params[\"theta\"]\n",
    "\n",
    "\n",
    "def inverse_marginal_utility(marginal_utility, params):\n",
    "    return marginal_utility ** (-1 / params[\"theta\"])\n",
    "\n",
    "\n",
    "utility_functions = {\n",
    "    \"utility\": utility_func,\n",
    "    \"inverse_marginal_utility\": inverse_marginal_utility,\n",
    "    \"marginal_utility\": marginal_utility,\n",
    "}"
   ]
  },
  {
   "cell_type": "code",
   "execution_count": 78,
   "id": "340d3d40",
   "metadata": {},
   "outputs": [
    {
     "data": {
      "text/plain": [
       "False"
      ]
     },
     "execution_count": 78,
     "metadata": {},
     "output_type": "execute_result"
    }
   ],
   "source": [
    "l = True\n",
    "i = False\n",
    "l = False\n",
    "\n",
    "a = l | i\n",
    "a"
   ]
  },
  {
   "cell_type": "code",
   "execution_count": null,
   "id": "4aa99f08",
   "metadata": {},
   "outputs": [],
   "source": []
  },
  {
   "cell_type": "code",
   "execution_count": 79,
   "id": "104e2361",
   "metadata": {},
   "outputs": [
    {
     "data": {
      "text/plain": [
       "{0: ['no_work', 'no_informal_no_formal'],\n",
       " 1: ['no_work', 'no_informal_formal'],\n",
       " 2: ['no_work', 'intensive_informal_no_formal'],\n",
       " 3: ['no_work', 'intensive_informal_formal'],\n",
       " 4: ['part_time', 'no_informal_no_formal'],\n",
       " 5: ['part_time', 'no_informal_formal'],\n",
       " 6: ['part_time', 'intensive_informal_no_formal'],\n",
       " 7: ['part_time', 'intensive_informal_formal'],\n",
       " 8: ['full_time', 'no_informal_no_formal'],\n",
       " 9: ['full_time', 'no_informal_formal'],\n",
       " 10: ['full_time', 'intensive_informal_no_formal'],\n",
       " 11: ['full_time', 'intensive_informal_formal']}"
      ]
     },
     "execution_count": 79,
     "metadata": {},
     "output_type": "execute_result"
    }
   ],
   "source": [
    "combinations_dict"
   ]
  },
  {
   "cell_type": "code",
   "execution_count": 80,
   "id": "b1cfc315",
   "metadata": {},
   "outputs": [
    {
     "data": {
      "text/plain": [
       "['no_work', 'no_informal_no_formal']"
      ]
     },
     "execution_count": 80,
     "metadata": {},
     "output_type": "execute_result"
    }
   ],
   "source": [
    "combinations_dict[0]"
   ]
  },
  {
   "cell_type": "code",
   "execution_count": 81,
   "id": "0f78b561",
   "metadata": {},
   "outputs": [
    {
     "data": {
      "text/plain": [
       "['part_time', 'no_informal_no_formal']"
      ]
     },
     "execution_count": 81,
     "metadata": {},
     "output_type": "execute_result"
    }
   ],
   "source": [
    "combinations_dict[4]"
   ]
  },
  {
   "cell_type": "code",
   "execution_count": 82,
   "id": "616f16e3",
   "metadata": {},
   "outputs": [
    {
     "data": {
      "text/plain": [
       "['full_time', 'no_informal_no_formal']"
      ]
     },
     "execution_count": 82,
     "metadata": {},
     "output_type": "execute_result"
    }
   ],
   "source": [
    "combinations_dict[8]"
   ]
  },
  {
   "cell_type": "code",
   "execution_count": 83,
   "id": "0202f2ab",
   "metadata": {},
   "outputs": [],
   "source": [
    "no_care = [0, 4, 8]\n",
    "all_choices = list(np.arange(12))\n",
    "care = [choice for choice in all_choices if choice not in no_care]"
   ]
  },
  {
   "cell_type": "code",
   "execution_count": 84,
   "id": "3dd51d95",
   "metadata": {},
   "outputs": [
    {
     "data": {
      "text/plain": [
       "[1, 2, 3, 5, 6, 7, 9, 10, 11]"
      ]
     },
     "execution_count": 84,
     "metadata": {},
     "output_type": "execute_result"
    }
   ],
   "source": [
    "care"
   ]
  },
  {
   "cell_type": "code",
   "execution_count": null,
   "id": "2505ee0d",
   "metadata": {},
   "outputs": [],
   "source": []
  },
  {
   "cell_type": "code",
   "execution_count": null,
   "id": "fd4a6f24",
   "metadata": {},
   "outputs": [],
   "source": []
  },
  {
   "cell_type": "code",
   "execution_count": 87,
   "id": "12b046ae",
   "metadata": {},
   "outputs": [],
   "source": [
    "def get_state_specific_feasible_choice_set(\n",
    "    lagged_choice, mother_age, father_age, part_time_offer, full_time_offer, options\n",
    "):\n",
    "    # formal_care = choice % 2 == 1  # uneven numbers mark formal care\n",
    "    # light_informal_care = [2, 3, 8, 9, 14, 15]\n",
    "    # intensive_informal_care =[4, 5, 10, 11, 16, 17]\n",
    "    no_care = NO_CARE\n",
    "    care = [choice for choice in all_choices if choice not in no_care]\n",
    "\n",
    "    no_work = NO_WORK\n",
    "    work = WORK\n",
    "    part_time = PART_TIME\n",
    "    full_time = FULL_TIME\n",
    "\n",
    "    # state_vec including exog?\n",
    "    feasible_choice_set = list(np.arange(options[\"n_discrete_choices\"]))\n",
    "\n",
    "    # care demand\n",
    "    if mother_alive or father_alive:\n",
    "        feasible_choice_set = [i for i in feasible_choice_set if i in care]\n",
    "    else:\n",
    "        feasible_choice_set = [i for i in feasible_choice_set if i in no_care]\n",
    "\n",
    "    # job offer\n",
    "    if (full_time_offer == True) | (part_time_offer == True):\n",
    "        feasible_choice_set = [i for i in feasible_choice_set if i in work]\n",
    "    elif (full_time_offer == False) & (part_time_offer == True):\n",
    "        feasible_choice_set = [i for i in feasible_choice_set if i in part_time]\n",
    "    elif (full_time_offer == False) & (part_time_offer == False):\n",
    "        feasible_choice_set = [i for i in feasible_choice_set if i in full_time]\n",
    "    else:\n",
    "        # (full_time_offer == False) & (part_time_offer == False)\n",
    "        feasible_choice_set = [i for i in feasible_choice_set if i in no_work]\n",
    "\n",
    "    return np.array(feasible_choice_set)"
   ]
  },
  {
   "cell_type": "code",
   "execution_count": 88,
   "id": "92822559",
   "metadata": {},
   "outputs": [
    {
     "data": {
      "text/plain": [
       "[0, 1, 2, 3, 4, 5, 6, 7, 8, 9, 10, 11]"
      ]
     },
     "execution_count": 88,
     "metadata": {},
     "output_type": "execute_result"
    }
   ],
   "source": [
    "feasible_choice_set = list(np.arange(12))\n",
    "feasible_choice_set"
   ]
  },
  {
   "cell_type": "code",
   "execution_count": 19,
   "id": "886b0774",
   "metadata": {},
   "outputs": [],
   "source": [
    "var = False\n",
    "bar = True"
   ]
  },
  {
   "cell_type": "code",
   "execution_count": 20,
   "id": "be49e98b",
   "metadata": {},
   "outputs": [
    {
     "name": "stdout",
     "output_type": "stream",
     "text": [
      "success\n"
     ]
    }
   ],
   "source": [
    "if bar and not var:\n",
    "    print(\"success\")"
   ]
  },
  {
   "cell_type": "code",
   "execution_count": 22,
   "id": "e39fd89c",
   "metadata": {},
   "outputs": [
    {
     "name": "stdout",
     "output_type": "stream",
     "text": [
      "corr\n"
     ]
    }
   ],
   "source": [
    "if not var:\n",
    "    print(\"corr\")"
   ]
  },
  {
   "cell_type": "code",
   "execution_count": 23,
   "id": "1052bd6f",
   "metadata": {},
   "outputs": [
    {
     "data": {
      "text/plain": [
       "True"
      ]
     },
     "execution_count": 23,
     "metadata": {},
     "output_type": "execute_result"
    }
   ],
   "source": [
    "0 == False"
   ]
  },
  {
   "cell_type": "code",
   "execution_count": null,
   "id": "6222a93e",
   "metadata": {},
   "outputs": [],
   "source": []
  },
  {
   "cell_type": "code",
   "execution_count": null,
   "id": "2796bdea",
   "metadata": {},
   "outputs": [],
   "source": []
  },
  {
   "cell_type": "code",
   "execution_count": 89,
   "id": "034c50fa",
   "metadata": {},
   "outputs": [],
   "source": [
    "RETIREMENT_AGE = 65"
   ]
  },
  {
   "cell_type": "code",
   "execution_count": 90,
   "id": "1fef06e1",
   "metadata": {},
   "outputs": [],
   "source": [
    "formal_care = choice % 2 == 1  # uneven numbers mark formal care\n",
    "intensive_informal_care = choice in [2, 3, 6, 7, 10, 11]\n",
    "\n",
    "no_work = choice in [0, 1, 2, 3]\n",
    "part_time = choice in [4, 5, 6, 7]\n",
    "full_time = choice in [8, 9, 10, 11]"
   ]
  },
  {
   "cell_type": "code",
   "execution_count": 91,
   "id": "9078811e",
   "metadata": {},
   "outputs": [
    {
     "data": {
      "text/plain": [
       "[2, 3, 4, 5, 8, 9, 10, 11, 14, 15, 16, 17, 20, 21, 22, 23]"
      ]
     },
     "execution_count": 91,
     "metadata": {},
     "output_type": "execute_result"
    }
   ],
   "source": [
    "l = [2, 3, 8, 9, 14, 15, 20, 21] + [4, 5, 10, 11, 16, 17, 22, 23]\n",
    "l.sort()\n",
    "l"
   ]
  },
  {
   "cell_type": "code",
   "execution_count": 92,
   "id": "f426066b",
   "metadata": {},
   "outputs": [],
   "source": [
    "def is_not_working(lagged_choice):\n",
    "    return lagged_choice in NO_WORK\n",
    "\n",
    "\n",
    "def is_part_time(lagged_choice):\n",
    "    return lagged_choice in PART_TIME\n",
    "\n",
    "\n",
    "def is_full_time(lagged_choice):\n",
    "    return lagged_choice in FULL_TIME\n",
    "\n",
    "\n",
    "def is_formal_care(lagged_choice):\n",
    "    return lagged_choice in FORMAL_CARE\n",
    "\n",
    "\n",
    "def is_informal_care(lagged_choice):\n",
    "    # intensive only here\n",
    "    return lagged_choice in INFORMAL_CARE"
   ]
  },
  {
   "cell_type": "code",
   "execution_count": 93,
   "id": "6d53b1f6",
   "metadata": {},
   "outputs": [
    {
     "data": {
      "text/plain": [
       "{0: ['no_work', 'no_informal_no_formal'],\n",
       " 1: ['no_work', 'no_informal_formal'],\n",
       " 2: ['no_work', 'intensive_informal_no_formal'],\n",
       " 3: ['no_work', 'intensive_informal_formal'],\n",
       " 4: ['part_time', 'no_informal_no_formal'],\n",
       " 5: ['part_time', 'no_informal_formal'],\n",
       " 6: ['part_time', 'intensive_informal_no_formal'],\n",
       " 7: ['part_time', 'intensive_informal_formal'],\n",
       " 8: ['full_time', 'no_informal_no_formal'],\n",
       " 9: ['full_time', 'no_informal_formal'],\n",
       " 10: ['full_time', 'intensive_informal_no_formal'],\n",
       " 11: ['full_time', 'intensive_informal_formal']}"
      ]
     },
     "execution_count": 93,
     "metadata": {},
     "output_type": "execute_result"
    }
   ],
   "source": [
    "combinations_dict"
   ]
  },
  {
   "cell_type": "code",
   "execution_count": 94,
   "id": "9a23c142",
   "metadata": {},
   "outputs": [
    {
     "data": {
      "text/plain": [
       "False"
      ]
     },
     "execution_count": 94,
     "metadata": {},
     "output_type": "execute_result"
    }
   ],
   "source": [
    "is_full_time(0)"
   ]
  },
  {
   "cell_type": "markdown",
   "id": "2840a4b8",
   "metadata": {},
   "source": [
    "## Budget constraint"
   ]
  },
  {
   "cell_type": "code",
   "execution_count": null,
   "id": "8aeacdef",
   "metadata": {},
   "outputs": [],
   "source": [
    "non_working_benefits = 500 # 400?"
   ]
  },
  {
   "cell_type": "code",
   "execution_count": null,
   "id": "ca896207",
   "metadata": {},
   "outputs": [],
   "source": [
    "def budget_constraint(\n",
    "    period: int,\n",
    "    married: int,\n",
    "    high_educ: int,\n",
    "    lagged_choice: int,\n",
    "    savings_end_of_previous_period: float,\n",
    "    income_shock_previous_period: float,\n",
    "    options: Dict[str, Any],\n",
    "    params: Dict[str, float],\n",
    ") -> float:\n",
    "    # already done in preprocessing\n",
    "    # model_params = options[\"model_params\"]\n",
    "\n",
    "    # monthly\n",
    "    working_hours = (\n",
    "        is_part_time(lagged_choice) * 20 * 4.33\n",
    "        + is_full_time(lagged_choice) * 40 * 4.33\n",
    "    )\n",
    "\n",
    "    wage_from_previous_period = _calc_stochastic_wage(\n",
    "        period=period,\n",
    "        lagged_choice=lagged_choice,\n",
    "        wage_shock=income_shock_previous_period,\n",
    "        min_age=options[\"min_age\"],\n",
    "        constant=params[\"constant\"],\n",
    "    )\n",
    "\n",
    "    wealth_beginning_of_period = (\n",
    "        wage_from_previous_period * working_hours\n",
    "        # + non_labor_income(age, high_educ, options)\n",
    "        # + spousal_income(period, high_educ, options) * married\n",
    "        + options[\"unemployment_benefits\"] * is_not_working(lagged_choice)\n",
    "        + options[\"informal_care_benefits\"] * is_informal_care(lagged_choice)\n",
    "        - options[\"formal_care_costs\"] * is_formal_care(lagged_choice)\n",
    "        + (1 + options[\"interest_rate\"]) * savings_end_of_previous_period\n",
    "    )\n",
    "\n",
    "    # needed at all?\n",
    "    wealth_beginning_of_period = jnp.maximum(\n",
    "        wealth_beginning_of_period, options[\"consumption_floor\"]\n",
    "    )\n",
    "\n",
    "    return wealth_beginning_of_period"
   ]
  },
  {
   "cell_type": "code",
   "execution_count": null,
   "id": "9a919b99",
   "metadata": {},
   "outputs": [],
   "source": [
    "@jax.jit\n",
    "def _calc_stochastic_wage(\n",
    "    period: int,\n",
    "    lagged_choice: int,\n",
    "    wage_shock: float,\n",
    "    min_age: int,\n",
    "    params: Dict[str, float],\n",
    ") -> float:\n",
    "    \"\"\"Computes the current level of deterministic and stochastic income.\n",
    "\n",
    "    Note that income is paid at the end of the current period, i.e. after\n",
    "    the (potential) labor supply choice has been made. This is equivalent to\n",
    "    allowing income to be dependent on a lagged choice of labor supply.\n",
    "    The agent starts working in period t = 0.\n",
    "    Relevant for the wage equation (deterministic income) are age-dependent\n",
    "    coefficients of work experience:\n",
    "    labor_income = constant + alpha_1 * age + alpha_2 * age**2\n",
    "    They include a constant as well as two coefficients on age and age squared,\n",
    "    respectively. Note that the last one (alpha_2) typically has a negative sign.\n",
    "\n",
    "    Args:\n",
    "        state (jnp.ndarray): 1d array of shape (n_state_variables,) denoting\n",
    "            the current child state.\n",
    "        wage_shock (float): Stochastic shock on labor income;\n",
    "            may or may not be normally distributed. This float represents one\n",
    "            particular realization of the income_shock_draws carried over from\n",
    "            the previous period.\n",
    "        params (dict): Dictionary containing model parameters.\n",
    "            Relevant here are the coefficients of the wage equation.\n",
    "        options (dict): Options dictionary.\n",
    "\n",
    "    Returns:\n",
    "        stochastic_income (float): The potential end of period income. It consists of a\n",
    "            deterministic component, i.e. age-dependent labor income,\n",
    "            and a stochastic shock.\n",
    "\n",
    "    \"\"\"\n",
    "    # For simplicity, assume current_age - min_age = experience\n",
    "    age = period + min_age\n",
    "\n",
    "    # Determinisctic component of income depending on experience:\n",
    "    # constant + alpha_1 * age + alpha_2 * age**2\n",
    "    # exp_coeffs = jnp.array([constant, exp, exp_squared])\n",
    "    # labor_income = exp_coeffs @ (age ** jnp.arange(len(exp_coeffs)))\n",
    "    # working_income = jnp.exp(labor_income + wage_shock)\n",
    "\n",
    "    log_wage = (\n",
    "        params[\"wage_constant\"]\n",
    "        + params[\"wage_age\"] * age\n",
    "        + params[\"wage_age_squared\"] * age**2\n",
    "        #+ params[\"wage_high_educ\"] * high_educ\n",
    "        + params[\"wage_part_time\"] * is_part_time(lagged_choice)\n",
    "        + params[\"wage_not_working\"] * is_not_working(lagged_choice)\n",
    "    )\n",
    "\n",
    "    return jnp.exp(log_wage + wage_shock)"
   ]
  },
  {
   "cell_type": "code",
   "execution_count": null,
   "id": "9f350ac5",
   "metadata": {},
   "outputs": [],
   "source": []
  },
  {
   "cell_type": "markdown",
   "id": "fac9861f",
   "metadata": {},
   "source": [
    "### Non-labor income"
   ]
  },
  {
   "cell_type": "code",
   "execution_count": 67,
   "id": "8860603c",
   "metadata": {},
   "outputs": [],
   "source": [
    "def non_labor_income(period, age, high_educ, params, options):\n",
    "    log_income = (\n",
    "        options[\"non_labor_inc_constant\"]\n",
    "        + options[\"non_labor_inc_above_retirement_age\"] * (age >= RETIREMENT_AGE)\n",
    "        + options[\"non_labor_inc_high_educ\"] * high_educ\n",
    "        + options[\"non_labor_inc_age\"] * age\n",
    "        + options[\"non_labor_inc_age_squared\"] * age**2\n",
    "        # + options[\"non_labor_year_fixed_effect\"] * (period + 2004)\n",
    "    )\n",
    "\n",
    "    return log_income"
   ]
  },
  {
   "cell_type": "code",
   "execution_count": 68,
   "id": "a88af987",
   "metadata": {},
   "outputs": [],
   "source": [
    "options_non_labor = {\n",
    "    \"non_labor_inc_constant\": 7.883,\n",
    "    \"non_labor_inc_high_educ\": 0.752,\n",
    "    \"non_labor_inc_age\": -0.147,\n",
    "    \"non_labor_inc_age_squared\": 0.00184,\n",
    "    \"non_labor_inc_above_retirement_age\": 0.00264,\n",
    "    \"non_labor_married\": 0.497,\n",
    "    # \"non_labor_year_fixed_effect\": 0.0210\n",
    "}"
   ]
  },
  {
   "cell_type": "markdown",
   "id": "81ce792b",
   "metadata": {},
   "source": [
    "### Spousal income"
   ]
  },
  {
   "cell_type": "code",
   "execution_count": 73,
   "id": "f46ec716",
   "metadata": {},
   "outputs": [],
   "source": [
    "def spousal_income(period, age, high_educ, params, options):\n",
    "    log_income = (\n",
    "        options[\"spousal_inc_constant\"]\n",
    "        + options[\"spousal_inc_above_retirement_age\"] * (age >= RETIREMENT_AGE)\n",
    "        + options[\"spousal_inc_high_educ\"] * high_educ\n",
    "        + options[\"spousal_inc_age\"] * age\n",
    "        + options[\"spousal_inc_age_squared\"] * age**2\n",
    "        + options[\"spousal_labor_year_fixed_effect\"] * (period + 2004)\n",
    "    )\n",
    "\n",
    "    return log_income"
   ]
  },
  {
   "cell_type": "code",
   "execution_count": 74,
   "id": "c9f9410d",
   "metadata": {},
   "outputs": [],
   "source": [
    "options_spousal = {\n",
    "    \"spousal_inc_constant\": -35.27,\n",
    "    \"spousal_inc_high_educ\": 0.358,\n",
    "    \"spousal_inc_age\": 0.117,\n",
    "    \"spousal_inc_age_squared\": -0.00129,\n",
    "    \"spousal_inc_above_retirement_age\": -0.00548,\n",
    "    \"spousal_labor_year_fixed_effect\": 0.0210,\n",
    "}"
   ]
  },
  {
   "cell_type": "code",
   "execution_count": 78,
   "id": "e2cdb757",
   "metadata": {},
   "outputs": [
    {
     "data": {
      "text/plain": [
       "9.714999999999996"
      ]
     },
     "execution_count": 78,
     "metadata": {},
     "output_type": "execute_result"
    }
   ],
   "source": [
    "spousal_income(period=25, age=60, high_educ=0, params={}, options=options_spousal)"
   ]
  },
  {
   "cell_type": "code",
   "execution_count": 72,
   "id": "47aa77e3",
   "metadata": {},
   "outputs": [
    {
     "data": {
      "text/plain": [
       "49.552640000000004"
      ]
     },
     "execution_count": 72,
     "metadata": {},
     "output_type": "execute_result"
    }
   ],
   "source": [
    "non_labor_income(period=5, age=70, high_educ=1, params={}, options=options_non_labor)"
   ]
  },
  {
   "cell_type": "code",
   "execution_count": 79,
   "id": "a2b01045",
   "metadata": {},
   "outputs": [
    {
     "data": {
      "text/plain": [
       "413.7931034482759"
      ]
     },
     "execution_count": 79,
     "metadata": {},
     "output_type": "execute_result"
    }
   ],
   "source": [
    "1800 / 4.35"
   ]
  },
  {
   "cell_type": "code",
   "execution_count": null,
   "id": "fe5cb066",
   "metadata": {},
   "outputs": [],
   "source": []
  }
 ],
 "metadata": {
  "kernelspec": {
   "display_name": "Python 3 (ipykernel)",
   "language": "python",
   "name": "python3"
  },
  "language_info": {
   "codemirror_mode": {
    "name": "ipython",
    "version": 3
   },
   "file_extension": ".py",
   "mimetype": "text/x-python",
   "name": "python",
   "nbconvert_exporter": "python",
   "pygments_lexer": "ipython3",
   "version": "3.10.13"
  }
 },
 "nbformat": 4,
 "nbformat_minor": 5
}
